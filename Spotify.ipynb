{
 "cells": [
  {
   "cell_type": "code",
   "execution_count": 0,
   "metadata": {
    "application/vnd.databricks.v1+cell": {
     "cellMetadata": {
      "byteLimit": 2048000,
      "rowLimit": 10000
     },
     "inputWidgets": {},
     "nuid": "6f307a30-a8c5-4b77-b868-8ec77dad6d12",
     "showTitle": true,
     "title": "import lib"
    }
   },
   "outputs": [],
   "source": [
    "import pyspark\n",
    "from pyspark.sql import SparkSession\n",
    "from pyspark.sql.types import StructType,StructField,StringType,IntegerType\n",
    "from pyspark.sql.functions import *"
   ]
  },
  {
   "cell_type": "code",
   "execution_count": 0,
   "metadata": {
    "application/vnd.databricks.v1+cell": {
     "cellMetadata": {
      "byteLimit": 2048000,
      "rowLimit": 10000
     },
     "inputWidgets": {},
     "nuid": "6814a5ef-f79d-4cba-ac43-950954d80c9a",
     "showTitle": true,
     "title": "create dataframe"
    }
   },
   "outputs": [],
   "source": [
    "df = spark.read.load('/FileStore/tables/spotify_2023-2.csv',format='csv',sep=',',header='true',escape='\"',inferschema='true')"
   ]
  },
  {
   "cell_type": "code",
   "execution_count": 0,
   "metadata": {
    "application/vnd.databricks.v1+cell": {
     "cellMetadata": {
      "byteLimit": 2048000,
      "rowLimit": 10000
     },
     "inputWidgets": {},
     "nuid": "e55df7ce-02f5-4039-b34e-6f834d93d025",
     "showTitle": false,
     "title": ""
    }
   },
   "outputs": [
    {
     "output_type": "execute_result",
     "data": {
      "text/plain": [
       "953"
      ]
     },
     "execution_count": 2,
     "metadata": {},
     "output_type": "execute_result"
    }
   ],
   "source": [
    "df.count()"
   ]
  },
  {
   "cell_type": "code",
   "execution_count": 0,
   "metadata": {
    "application/vnd.databricks.v1+cell": {
     "cellMetadata": {
      "byteLimit": 2048000,
      "rowLimit": 10000
     },
     "inputWidgets": {},
     "nuid": "f444ce7c-995f-4ced-8728-c1313cb6841c",
     "showTitle": false,
     "title": ""
    }
   },
   "outputs": [
    {
     "output_type": "stream",
     "name": "stdout",
     "output_type": "stream",
     "text": [
      "+--------------------+----------------+------------+-------------+--------------+------------+--------------------+-----------------+---------+------------------+---------------+-------------------+----------------+----------------+---+---+-----+--------------+---------+--------+--------------+------------------+----------+-------------+\n|          track_name|  artist(s)_name|artist_count|released_year|released_month|released_day|in_spotify_playlists|in_spotify_charts|  streams|in_apple_playlists|in_apple_charts|in_deezer_playlists|in_deezer_charts|in_shazam_charts|bpm|key| mode|danceability_%|valence_%|energy_%|acousticness_%|instrumentalness_%|liveness_%|speechiness_%|\n+--------------------+----------------+------------+-------------+--------------+------------+--------------------+-----------------+---------+------------------+---------------+-------------------+----------------+----------------+---+---+-----+--------------+---------+--------+--------------+------------------+----------+-------------+\n|Seven (feat. Latt...|Latto, Jung Kook|           2|         2023|             7|          14|                 553|              147|141381703|                43|            263|                 45|              10|             826|125|  B|Major|            80|       89|      83|            31|                 0|         8|            4|\n+--------------------+----------------+------------+-------------+--------------+------------+--------------------+-----------------+---------+------------------+---------------+-------------------+----------------+----------------+---+---+-----+--------------+---------+--------+--------------+------------------+----------+-------------+\nonly showing top 1 row\n\n"
     ]
    }
   ],
   "source": [
    "df.show(1)"
   ]
  },
  {
   "cell_type": "code",
   "execution_count": 0,
   "metadata": {
    "application/vnd.databricks.v1+cell": {
     "cellMetadata": {
      "byteLimit": 2048000,
      "rowLimit": 10000
     },
     "inputWidgets": {},
     "nuid": "ed0592d9-c284-45e3-b9ff-55e181dbbd9d",
     "showTitle": true,
     "title": "check schema"
    }
   },
   "outputs": [
    {
     "output_type": "stream",
     "name": "stdout",
     "output_type": "stream",
     "text": [
      "root\n |-- track_name: string (nullable = true)\n |-- artist(s)_name: string (nullable = true)\n |-- artist_count: integer (nullable = true)\n |-- released_year: integer (nullable = true)\n |-- released_month: integer (nullable = true)\n |-- released_day: integer (nullable = true)\n |-- in_spotify_playlists: integer (nullable = true)\n |-- in_spotify_charts: integer (nullable = true)\n |-- streams: string (nullable = true)\n |-- in_apple_playlists: integer (nullable = true)\n |-- in_apple_charts: integer (nullable = true)\n |-- in_deezer_playlists: string (nullable = true)\n |-- in_deezer_charts: integer (nullable = true)\n |-- in_shazam_charts: string (nullable = true)\n\n"
     ]
    }
   ],
   "source": [
    "df.printSchema()"
   ]
  },
  {
   "cell_type": "code",
   "execution_count": 0,
   "metadata": {
    "application/vnd.databricks.v1+cell": {
     "cellMetadata": {
      "byteLimit": 2048000,
      "rowLimit": 10000
     },
     "inputWidgets": {},
     "nuid": "3ae21d1d-9f76-4ece-be04-5d31f02e2355",
     "showTitle": true,
     "title": "data cleaning"
    }
   },
   "outputs": [],
   "source": [
    "df=df.drop(\"speechiness_%\",\"liveness_%\",\"instrumentalness_%\",\"acousticness_%\",\"energy_%\",\"valence_%\",\"danceability_%\",\"mode\",\"key\",\"bpm\")"
   ]
  },
  {
   "cell_type": "code",
   "execution_count": 0,
   "metadata": {
    "application/vnd.databricks.v1+cell": {
     "cellMetadata": {
      "byteLimit": 2048000,
      "rowLimit": 10000
     },
     "inputWidgets": {},
     "nuid": "6c98db49-30ef-490f-bbbc-c8c8aec7efbb",
     "showTitle": false,
     "title": ""
    }
   },
   "outputs": [
    {
     "output_type": "stream",
     "name": "stdout",
     "output_type": "stream",
     "text": [
      "+--------------------+----------------+------------+-------------+--------------+------------+--------------------+-----------------+---------+------------------+---------------+-------------------+----------------+----------------+\n|          track_name|  artist(s)_name|artist_count|released_year|released_month|released_day|in_spotify_playlists|in_spotify_charts|  streams|in_apple_playlists|in_apple_charts|in_deezer_playlists|in_deezer_charts|in_shazam_charts|\n+--------------------+----------------+------------+-------------+--------------+------------+--------------------+-----------------+---------+------------------+---------------+-------------------+----------------+----------------+\n|Seven (feat. Latt...|Latto, Jung Kook|           2|         2023|             7|          14|                 553|              147|141381703|                43|            263|                 45|              10|             826|\n|                LALA|     Myke Towers|           1|         2023|             3|          23|                1474|               48|133716286|                48|            126|                 58|              14|             382|\n+--------------------+----------------+------------+-------------+--------------+------------+--------------------+-----------------+---------+------------------+---------------+-------------------+----------------+----------------+\nonly showing top 2 rows\n\n"
     ]
    }
   ],
   "source": [
    "df.show(2)"
   ]
  },
  {
   "cell_type": "code",
   "execution_count": 0,
   "metadata": {
    "application/vnd.databricks.v1+cell": {
     "cellMetadata": {
      "byteLimit": 2048000,
      "rowLimit": 10000
     },
     "inputWidgets": {},
     "nuid": "d32de4f4-17df-47f5-8dad-0c1ff7f59b23",
     "showTitle": false,
     "title": ""
    }
   },
   "outputs": [
    {
     "output_type": "stream",
     "name": "stdout",
     "output_type": "stream",
     "text": [
      "root\n |-- track_name: string (nullable = true)\n |-- artist(s)_name: string (nullable = true)\n |-- artist_count: integer (nullable = true)\n |-- released_year: integer (nullable = true)\n |-- released_month: integer (nullable = true)\n |-- released_day: integer (nullable = true)\n |-- in_spotify_playlists: integer (nullable = true)\n |-- in_spotify_charts: integer (nullable = true)\n |-- streams: string (nullable = true)\n |-- in_apple_playlists: integer (nullable = true)\n |-- in_apple_charts: integer (nullable = true)\n |-- in_deezer_playlists: string (nullable = true)\n |-- in_deezer_charts: integer (nullable = true)\n |-- in_shazam_charts: string (nullable = true)\n\n"
     ]
    }
   ],
   "source": [
    "df.printSchema()"
   ]
  },
  {
   "cell_type": "code",
   "execution_count": 0,
   "metadata": {
    "application/vnd.databricks.v1+cell": {
     "cellMetadata": {
      "byteLimit": 2048000,
      "rowLimit": 10000
     },
     "inputWidgets": {},
     "nuid": "53c9e8e5-79ba-462b-8bbb-f872e61b00f9",
     "showTitle": false,
     "title": ""
    }
   },
   "outputs": [],
   "source": [
    "from pyspark.sql.functions import regexp_replace, col\n",
    "`\n",
    "df=df.withColumn(\"streams\",col(\"streams\").cast(IntegerType()))\\\n",
    "    .withColumn(\"in_deezer_playlists\",col(\"in_deezer_playlists\").cast(IntegerType()))\\\n",
    "        .withColumn(\"in_shazam_charts\",col(\"in_shazam_charts\").cast(IntegerType()))"
   ]
  },
  {
   "cell_type": "code",
   "execution_count": 0,
   "metadata": {
    "application/vnd.databricks.v1+cell": {
     "cellMetadata": {
      "byteLimit": 2048000,
      "rowLimit": 10000
     },
     "inputWidgets": {},
     "nuid": "343a8d6c-3ef4-403a-83d9-806ab06399c6",
     "showTitle": false,
     "title": ""
    }
   },
   "outputs": [
    {
     "output_type": "stream",
     "name": "stdout",
     "output_type": "stream",
     "text": [
      "+--------------------+----------------+------------+-------------+--------------+------------+--------------------+-----------------+---------+------------------+---------------+-------------------+----------------+----------------+\n|          track_name|  artist(s)_name|artist_count|released_year|released_month|released_day|in_spotify_playlists|in_spotify_charts|  streams|in_apple_playlists|in_apple_charts|in_deezer_playlists|in_deezer_charts|in_shazam_charts|\n+--------------------+----------------+------------+-------------+--------------+------------+--------------------+-----------------+---------+------------------+---------------+-------------------+----------------+----------------+\n|Seven (feat. Latt...|Latto, Jung Kook|           2|         2023|             7|          14|                 553|              147|141381703|                43|            263|                 45|              10|             826|\n|                LALA|     Myke Towers|           1|         2023|             3|          23|                1474|               48|133716286|                48|            126|                 58|              14|             382|\n|             vampire|  Olivia Rodrigo|           1|         2023|             6|          30|                1397|              113|140003974|                94|            207|                 91|              14|             949|\n|        Cruel Summer|    Taylor Swift|           1|         2019|             8|          23|                7858|              100|800840817|               116|            207|                125|              12|             548|\n|      WHERE SHE GOES|       Bad Bunny|           1|         2023|             5|          18|                3133|               50|303236322|                84|            133|                 87|              15|             425|\n+--------------------+----------------+------------+-------------+--------------+------------+--------------------+-----------------+---------+------------------+---------------+-------------------+----------------+----------------+\nonly showing top 5 rows\n\n"
     ]
    }
   ],
   "source": [
    "df.show(5)"
   ]
  },
  {
   "cell_type": "code",
   "execution_count": 0,
   "metadata": {
    "application/vnd.databricks.v1+cell": {
     "cellMetadata": {
      "byteLimit": 2048000,
      "rowLimit": 10000
     },
     "inputWidgets": {},
     "nuid": "ac10bbf9-d448-4f9b-ab7c-c5f4fe174782",
     "showTitle": false,
     "title": ""
    }
   },
   "outputs": [],
   "source": [
    "df.createOrReplaceTempView(\"track_names\")"
   ]
  },
  {
   "cell_type": "code",
   "execution_count": 0,
   "metadata": {
    "application/vnd.databricks.v1+cell": {
     "cellMetadata": {
      "byteLimit": 2048000,
      "implicitDf": true,
      "rowLimit": 10000
     },
     "inputWidgets": {},
     "nuid": "f5036a4b-a589-4837-be8e-ce2ac2b4c8f5",
     "showTitle": false,
     "title": ""
    }
   },
   "outputs": [
    {
     "output_type": "display_data",
     "data": {
      "text/html": [
       "<style scoped>\n",
       "  .table-result-container {\n",
       "    max-height: 300px;\n",
       "    overflow: auto;\n",
       "  }\n",
       "  table, th, td {\n",
       "    border: 1px solid black;\n",
       "    border-collapse: collapse;\n",
       "  }\n",
       "  th, td {\n",
       "    padding: 5px;\n",
       "  }\n",
       "  th {\n",
       "    text-align: left;\n",
       "  }\n",
       "</style><div class='table-result-container'><table class='table-result'><thead style='background-color: white'><tr><th>track_name</th><th>artist(s)_name</th><th>artist_count</th><th>released_year</th><th>released_month</th><th>released_day</th><th>in_spotify_playlists</th><th>in_spotify_charts</th><th>streams</th><th>in_apple_playlists</th><th>in_apple_charts</th><th>in_deezer_playlists</th><th>in_deezer_charts</th><th>in_shazam_charts</th></tr></thead><tbody><tr><td>Seven (feat. Latto) (Explicit Ver.)</td><td>Latto, Jung Kook</td><td>2</td><td>2023</td><td>7</td><td>14</td><td>553</td><td>147</td><td>141381703</td><td>43</td><td>263</td><td>45</td><td>10</td><td>826</td></tr><tr><td>LALA</td><td>Myke Towers</td><td>1</td><td>2023</td><td>3</td><td>23</td><td>1474</td><td>48</td><td>133716286</td><td>48</td><td>126</td><td>58</td><td>14</td><td>382</td></tr><tr><td>vampire</td><td>Olivia Rodrigo</td><td>1</td><td>2023</td><td>6</td><td>30</td><td>1397</td><td>113</td><td>140003974</td><td>94</td><td>207</td><td>91</td><td>14</td><td>949</td></tr><tr><td>Cruel Summer</td><td>Taylor Swift</td><td>1</td><td>2019</td><td>8</td><td>23</td><td>7858</td><td>100</td><td>800840817</td><td>116</td><td>207</td><td>125</td><td>12</td><td>548</td></tr><tr><td>WHERE SHE GOES</td><td>Bad Bunny</td><td>1</td><td>2023</td><td>5</td><td>18</td><td>3133</td><td>50</td><td>303236322</td><td>84</td><td>133</td><td>87</td><td>15</td><td>425</td></tr><tr><td>Sprinter</td><td>Dave, Central Cee</td><td>2</td><td>2023</td><td>6</td><td>1</td><td>2186</td><td>91</td><td>183706234</td><td>67</td><td>213</td><td>88</td><td>17</td><td>946</td></tr><tr><td>Ella Baila Sola</td><td>Eslabon Armado, Peso Pluma</td><td>2</td><td>2023</td><td>3</td><td>16</td><td>3090</td><td>50</td><td>725980112</td><td>34</td><td>222</td><td>43</td><td>13</td><td>418</td></tr><tr><td>Columbia</td><td>Quevedo</td><td>1</td><td>2023</td><td>7</td><td>7</td><td>714</td><td>43</td><td>58149378</td><td>25</td><td>89</td><td>30</td><td>13</td><td>194</td></tr><tr><td>fukumean</td><td>Gunna</td><td>1</td><td>2023</td><td>5</td><td>15</td><td>1096</td><td>83</td><td>95217315</td><td>60</td><td>210</td><td>48</td><td>11</td><td>953</td></tr><tr><td>La Bebe - Remix</td><td>Peso Pluma, Yng Lvcas</td><td>2</td><td>2023</td><td>3</td><td>17</td><td>2953</td><td>44</td><td>553634067</td><td>49</td><td>110</td><td>66</td><td>13</td><td>339</td></tr><tr><td>un x100to</td><td>Bad Bunny, Grupo Frontera</td><td>2</td><td>2023</td><td>4</td><td>17</td><td>2876</td><td>40</td><td>505671438</td><td>41</td><td>205</td><td>54</td><td>12</td><td>251</td></tr><tr><td>Super Shy</td><td>NewJeans</td><td>1</td><td>2023</td><td>7</td><td>7</td><td>422</td><td>55</td><td>58255150</td><td>37</td><td>202</td><td>21</td><td>5</td><td>168</td></tr><tr><td>Flowers</td><td>Miley Cyrus</td><td>1</td><td>2023</td><td>1</td><td>12</td><td>12211</td><td>115</td><td>1316855716</td><td>300</td><td>215</td><td>745</td><td>58</td><td>null</td></tr><tr><td>Daylight</td><td>David Kushner</td><td>1</td><td>2023</td><td>4</td><td>14</td><td>3528</td><td>98</td><td>387570742</td><td>80</td><td>156</td><td>182</td><td>24</td><td>null</td></tr><tr><td>As It Was</td><td>Harry Styles</td><td>1</td><td>2022</td><td>3</td><td>31</td><td>23575</td><td>130</td><td>null</td><td>403</td><td>198</td><td>863</td><td>46</td><td>null</td></tr><tr><td>Kill Bill</td><td>SZA</td><td>1</td><td>2022</td><td>12</td><td>8</td><td>8109</td><td>77</td><td>1163093654</td><td>183</td><td>162</td><td>161</td><td>12</td><td>187</td></tr><tr><td>Cupid - Twin Ver.</td><td>Fifty Fifty</td><td>1</td><td>2023</td><td>2</td><td>24</td><td>2942</td><td>77</td><td>496795686</td><td>91</td><td>212</td><td>78</td><td>6</td><td>0</td></tr><tr><td>What Was I Made For? [From The Motion Picture \"Barbie\"]</td><td>Billie Eilish</td><td>1</td><td>2023</td><td>7</td><td>13</td><td>873</td><td>104</td><td>30546883</td><td>80</td><td>227</td><td>95</td><td>24</td><td>null</td></tr><tr><td>Classy 101</td><td>Feid, Young Miko</td><td>2</td><td>2023</td><td>3</td><td>31</td><td>2610</td><td>40</td><td>335222234</td><td>43</td><td>100</td><td>54</td><td>14</td><td>187</td></tr><tr><td>Like Crazy</td><td>Jimin</td><td>1</td><td>2023</td><td>3</td><td>24</td><td>596</td><td>68</td><td>363369738</td><td>8</td><td>104</td><td>23</td><td>2</td><td>29</td></tr><tr><td>LADY GAGA</td><td>Gabito Ballesteros, Junior H, Peso Pluma</td><td>3</td><td>2023</td><td>6</td><td>22</td><td>332</td><td>26</td><td>86444842</td><td>11</td><td>163</td><td>10</td><td>4</td><td>0</td></tr><tr><td>I Can See You (Taylor���s Version) (From The </td><td>Taylor Swift</td><td>1</td><td>2023</td><td>7</td><td>7</td><td>516</td><td>38</td><td>52135248</td><td>73</td><td>119</td><td>42</td><td>1</td><td>150</td></tr><tr><td>I Wanna Be Yours</td><td>Arctic Monkeys</td><td>1</td><td>2013</td><td>1</td><td>1</td><td>12859</td><td>110</td><td>1297026226</td><td>24</td><td>98</td><td>582</td><td>2</td><td>73</td></tr><tr><td>Peso Pluma: Bzrp Music Sessions, Vol. 55</td><td>Bizarrap, Peso Pluma</td><td>2</td><td>2023</td><td>5</td><td>31</td><td>1313</td><td>40</td><td>200647221</td><td>17</td><td>152</td><td>32</td><td>11</td><td>139</td></tr><tr><td>Popular (with Playboi Carti & Madonna) - The Idol Vol. 1 (Music from the HBO Original Series)</td><td>The Weeknd, Madonna, Playboi Carti</td><td>3</td><td>2023</td><td>6</td><td>2</td><td>1945</td><td>87</td><td>115364561</td><td>74</td><td>182</td><td>87</td><td>14</td><td>null</td></tr><tr><td>SABOR FRESA</td><td>Fuerza Regida</td><td>1</td><td>2023</td><td>6</td><td>22</td><td>250</td><td>26</td><td>78300654</td><td>16</td><td>149</td><td>10</td><td>5</td><td>168</td></tr><tr><td>Calm Down (with Selena Gomez)</td><td>R��ma, Selena G</td><td>2</td><td>2022</td><td>3</td><td>25</td><td>7112</td><td>77</td><td>899183384</td><td>202</td><td>119</td><td>318</td><td>38</td><td>96</td></tr><tr><td>MOJABI GHOST</td><td>Tainy, Bad Bunny</td><td>2</td><td>2023</td><td>6</td><td>29</td><td>859</td><td>40</td><td>61245289</td><td>35</td><td>109</td><td>41</td><td>14</td><td>211</td></tr><tr><td>Last Night</td><td>Morgan Wallen</td><td>1</td><td>2023</td><td>1</td><td>31</td><td>2420</td><td>19</td><td>429829812</td><td>52</td><td>107</td><td>15</td><td>1</td><td>325</td></tr><tr><td>Dance The Night (From Barbie The Album)</td><td>Dua Lipa</td><td>1</td><td>2023</td><td>5</td><td>25</td><td>2988</td><td>101</td><td>127408954</td><td>0</td><td>0</td><td>143</td><td>38</td><td>0</td></tr><tr><td>Rush</td><td>Troye Sivan</td><td>1</td><td>2023</td><td>7</td><td>13</td><td>864</td><td>78</td><td>22581161</td><td>71</td><td>135</td><td>50</td><td>1</td><td>294</td></tr><tr><td>TULUM</td><td>Peso Pluma, Grupo Frontera</td><td>2</td><td>2023</td><td>6</td><td>28</td><td>266</td><td>34</td><td>52294266</td><td>20</td><td>185</td><td>13</td><td>8</td><td>197</td></tr><tr><td>Creepin'</td><td>The Weeknd, 21 Savage, Metro Boomin</td><td>3</td><td>2022</td><td>12</td><td>2</td><td>6036</td><td>88</td><td>843957510</td><td>113</td><td>149</td><td>245</td><td>23</td><td>27</td></tr><tr><td>Anti-Hero</td><td>Taylor Swift</td><td>1</td><td>2022</td><td>10</td><td>21</td><td>9082</td><td>56</td><td>999748277</td><td>242</td><td>142</td><td>165</td><td>9</td><td>310</td></tr><tr><td>TQG</td><td>Karol G, Shakira</td><td>2</td><td>2023</td><td>2</td><td>23</td><td>4284</td><td>49</td><td>618990393</td><td>115</td><td>123</td><td>184</td><td>18</td><td>354</td></tr><tr><td>Los del Espacio</td><td>Big One, Duki, Lit Killah, Maria Becerra, FMK, Rusherking, Emilia, Tiago pzk</td><td>8</td><td>2023</td><td>6</td><td>1</td><td>1150</td><td>31</td><td>123122413</td><td>22</td><td>33</td><td>34</td><td>7</td><td>184</td></tr><tr><td>Fr��gil (feat. Grupo Front</td><td>Yahritza Y Su Esencia, Grupo Frontera</td><td>2</td><td>2023</td><td>4</td><td>7</td><td>672</td><td>34</td><td>188933502</td><td>19</td><td>108</td><td>24</td><td>9</td><td>212</td></tr><tr><td>Blank Space</td><td>Taylor Swift</td><td>1</td><td>2014</td><td>1</td><td>1</td><td>11434</td><td>53</td><td>1355959075</td><td>154</td><td>123</td><td>410</td><td>2</td><td>81</td></tr><tr><td>Style</td><td>Taylor Swift</td><td>1</td><td>2014</td><td>1</td><td>1</td><td>7830</td><td>42</td><td>786181836</td><td>94</td><td>111</td><td>151</td><td>4</td><td>82</td></tr><tr><td>TQM</td><td>Fuerza Regida</td><td>1</td><td>2023</td><td>5</td><td>19</td><td>584</td><td>28</td><td>176553476</td><td>16</td><td>159</td><td>15</td><td>6</td><td>100</td></tr><tr><td>El Azul</td><td>Junior H, Peso Pluma</td><td>2</td><td>2023</td><td>2</td><td>10</td><td>692</td><td>25</td><td>354495408</td><td>10</td><td>107</td><td>6</td><td>3</td><td>62</td></tr><tr><td>Sunflower - Spider-Man: Into the Spider-Verse</td><td>Post Malone, Swae Lee</td><td>2</td><td>2018</td><td>10</td><td>9</td><td>24094</td><td>78</td><td>null</td><td>372</td><td>117</td><td>843</td><td>4</td><td>69</td></tr><tr><td>I'm Good (Blue)</td><td>Bebe Rexha, David Guetta</td><td>2</td><td>2022</td><td>8</td><td>26</td><td>12482</td><td>80</td><td>1109433169</td><td>291</td><td>184</td><td>537</td><td>45</td><td>727</td></tr><tr><td>See You Again</td><td>Tyler, The Creator, Kali Uchis</td><td>3</td><td>2017</td><td>7</td><td>21</td><td>13387</td><td>64</td><td>1047101291</td><td>77</td><td>58</td><td>247</td><td>1</td><td>311</td></tr><tr><td>Barbie World (with Aqua) [From Barbie The Album]</td><td>Nicki Minaj, Aqua, Ice Spice</td><td>3</td><td>2023</td><td>6</td><td>23</td><td>1117</td><td>80</td><td>65156199</td><td>82</td><td>145</td><td>65</td><td>16</td><td>null</td></tr><tr><td>Angels Like You</td><td>Miley Cyrus</td><td>1</td><td>2020</td><td>11</td><td>27</td><td>3372</td><td>19</td><td>570515054</td><td>65</td><td>48</td><td>138</td><td>1</td><td>102</td></tr><tr><td>I Ain't Worried</td><td>OneRepublic</td><td>1</td><td>2022</td><td>5</td><td>13</td><td>8431</td><td>76</td><td>1085685420</td><td>241</td><td>127</td><td>458</td><td>37</td><td>332</td></tr><tr><td>Die For You</td><td>The Weeknd</td><td>1</td><td>2016</td><td>11</td><td>24</td><td>2483</td><td>59</td><td>1647990401</td><td>68</td><td>21</td><td>24</td><td>0</td><td>259</td></tr><tr><td>Starboy</td><td>The Weeknd, Daft Punk</td><td>2</td><td>2016</td><td>9</td><td>21</td><td>29536</td><td>79</td><td>null</td><td>281</td><td>137</td><td>null</td><td>1</td><td>140</td></tr><tr><td>Die For You - Remix</td><td>Ariana Grande, The Weeknd</td><td>2</td><td>2023</td><td>2</td><td>24</td><td>3408</td><td>47</td><td>518745108</td><td>87</td><td>86</td><td>74</td><td>1</td><td>16</td></tr><tr><td>El Cielo</td><td>Feid, Myke Towers, Sky Rompiendo</td><td>3</td><td>2023</td><td>6</td><td>2</td><td>1298</td><td>38</td><td>107753850</td><td>44</td><td>64</td><td>57</td><td>10</td><td>110</td></tr><tr><td>Baby Don't Hurt Me</td><td>David Guetta, Anne-Marie, Coi Leray</td><td>3</td><td>2023</td><td>4</td><td>6</td><td>4277</td><td>66</td><td>177740666</td><td>145</td><td>111</td><td>213</td><td>11</td><td>810</td></tr><tr><td>AMARGURA</td><td>Karol G</td><td>1</td><td>2023</td><td>2</td><td>24</td><td>1133</td><td>39</td><td>153372011</td><td>14</td><td>71</td><td>23</td><td>10</td><td>176</td></tr><tr><td>(It Goes Like) Nanana - Edit</td><td>Peggy Gou</td><td>1</td><td>2023</td><td>6</td><td>15</td><td>2259</td><td>59</td><td>57876440</td><td>0</td><td>0</td><td>109</td><td>17</td><td>0</td></tr><tr><td>Another Love</td><td>Tom Odell</td><td>1</td><td>2012</td><td>10</td><td>15</td><td>18371</td><td>83</td><td>1813673666</td><td>250</td><td>122</td><td>null</td><td>19</td><td>null</td></tr><tr><td>Blinding Lights</td><td>The Weeknd</td><td>1</td><td>2019</td><td>11</td><td>29</td><td>43899</td><td>69</td><td>null</td><td>672</td><td>199</td><td>null</td><td>20</td><td>null</td></tr><tr><td>Moonlight</td><td>Kali Uchis</td><td>1</td><td>2023</td><td>2</td><td>24</td><td>2649</td><td>42</td><td>256483385</td><td>67</td><td>79</td><td>57</td><td>1</td><td>615</td></tr><tr><td>La Bachata</td><td>Manuel Turizo</td><td>1</td><td>2022</td><td>5</td><td>26</td><td>6804</td><td>45</td><td>1214083358</td><td>139</td><td>111</td><td>161</td><td>15</td><td>210</td></tr><tr><td>S91</td><td>Karol G</td><td>1</td><td>2023</td><td>7</td><td>14</td><td>525</td><td>41</td><td>16011326</td><td>34</td><td>115</td><td>39</td><td>6</td><td>216</td></tr><tr><td>cardigan</td><td>Taylor Swift</td><td>1</td><td>2020</td><td>7</td><td>24</td><td>7923</td><td>29</td><td>812019557</td><td>106</td><td>112</td><td>142</td><td>4</td><td>215</td></tr><tr><td>T��</td><td>dennis, MC Kevin o Chris</td><td>2</td><td>2023</td><td>5</td><td>4</td><td>731</td><td>15</td><td>111947664</td><td>27</td><td>17</td><td>73</td><td>4</td><td>167</td></tr><tr><td>Boy's a liar Pt. 2</td><td>PinkPantheress, Ice Spice</td><td>2</td><td>2023</td><td>2</td><td>3</td><td>5184</td><td>41</td><td>156338624</td><td>154</td><td>84</td><td>102</td><td>14</td><td>37</td></tr><tr><td>Left and Right (Feat. Jung Kook of BTS)</td><td>Charlie Puth, BTS, Jung Kook</td><td>3</td><td>2022</td><td>6</td><td>24</td><td>3107</td><td>39</td><td>720434240</td><td>38</td><td>0</td><td>4</td><td>0</td><td>0</td></tr><tr><td>BESO</td><td>Rauw Alejandro, ROSAL�</td><td>2</td><td>2023</td><td>3</td><td>24</td><td>4053</td><td>50</td><td>357925728</td><td>82</td><td>121</td><td>182</td><td>12</td><td>171</td></tr><tr><td>Hey Mor</td><td>Ozuna, Feid</td><td>2</td><td>2022</td><td>10</td><td>6</td><td>4637</td><td>38</td><td>674072710</td><td>63</td><td>79</td><td>89</td><td>11</td><td>16</td></tr><tr><td>Yellow</td><td>Chris Molitor</td><td>1</td><td>1999</td><td>1</td><td>1</td><td>31358</td><td>43</td><td>1755214421</td><td>196</td><td>2</td><td>null</td><td>5</td><td>0</td></tr><tr><td>Karma</td><td>Taylor Swift</td><td>1</td><td>2022</td><td>10</td><td>21</td><td>3818</td><td>23</td><td>404562836</td><td>37</td><td>55</td><td>32</td><td>0</td><td>272</td></tr><tr><td>People</td><td>Libianca</td><td>1</td><td>2022</td><td>12</td><td>2</td><td>3506</td><td>56</td><td>373199958</td><td>105</td><td>64</td><td>169</td><td>8</td><td>529</td></tr><tr><td>Overdrive</td><td>Post Malone</td><td>1</td><td>2023</td><td>7</td><td>14</td><td>410</td><td>36</td><td>14780425</td><td>36</td><td>32</td><td>31</td><td>1</td><td>26</td></tr><tr><td>Enchanted (Taylor's Version)</td><td>Taylor Swift</td><td>1</td><td>2023</td><td>7</td><td>7</td><td>148</td><td>24</td><td>39578178</td><td>32</td><td>93</td><td>8</td><td>2</td><td>5</td></tr><tr><td>BABY HELLO</td><td>Rauw Alejandro, Bizarrap</td><td>2</td><td>2023</td><td>6</td><td>23</td><td>1004</td><td>35</td><td>54266102</td><td>42</td><td>80</td><td>58</td><td>3</td><td>169</td></tr><tr><td>Heat Waves</td><td>Glass Animals</td><td>1</td><td>2020</td><td>6</td><td>28</td><td>22543</td><td>63</td><td>null</td><td>386</td><td>144</td><td>707</td><td>28</td><td>null</td></tr><tr><td>golden hour</td><td>JVKE</td><td>1</td><td>2022</td><td>7</td><td>15</td><td>4511</td><td>36</td><td>751134527</td><td>70</td><td>58</td><td>109</td><td>18</td><td>230</td></tr><tr><td>Sweater Weather</td><td>The Neighbourhood</td><td>1</td><td>2012</td><td>5</td><td>14</td><td>16413</td><td>61</td><td>null</td><td>166</td><td>87</td><td>null</td><td>1</td><td>null</td></tr><tr><td>Quevedo: Bzrp Music Sessions, Vol. 52</td><td>Bizarrap, Quevedo</td><td>2</td><td>2022</td><td>7</td><td>6</td><td>8506</td><td>45</td><td>1356565093</td><td>94</td><td>65</td><td>164</td><td>14</td><td>176</td></tr><tr><td>Viva La Vida</td><td>Coldplay</td><td>1</td><td>2008</td><td>1</td><td>1</td><td>33898</td><td>62</td><td>1592909789</td><td>233</td><td>0</td><td>null</td><td>9</td><td>0</td></tr><tr><td>Here With Me</td><td>d4vd</td><td>1</td><td>2022</td><td>7</td><td>17</td><td>3246</td><td>23</td><td>635412045</td><td>94</td><td>85</td><td>68</td><td>1</td><td>84</td></tr><tr><td>Unholy (feat. Kim Petras)</td><td>Sam Smith, Kim Petras</td><td>2</td><td>2022</td><td>9</td><td>22</td><td>8576</td><td>42</td><td>1230675890</td><td>216</td><td>108</td><td>331</td><td>26</td><td>154</td></tr><tr><td>Yandel 150</td><td>Yandel, Feid</td><td>2</td><td>2022</td><td>12</td><td>20</td><td>3618</td><td>38</td><td>585695368</td><td>47</td><td>74</td><td>80</td><td>14</td><td>194</td></tr><tr><td>CORAZ��N VA</td><td>Maria Becerra</td><td>1</td><td>2023</td><td>6</td><td>22</td><td>370</td><td>20</td><td>43857627</td><td>12</td><td>16</td><td>18</td><td>4</td><td>93</td></tr><tr><td>Riptide</td><td>Vance Joy</td><td>1</td><td>1975</td><td>1</td><td>1</td><td>31123</td><td>55</td><td>2009094673</td><td>300</td><td>65</td><td>null</td><td>1</td><td>0</td></tr><tr><td>Until I Found You (with Em Beihold) - Em Beihold Version</td><td>Em Beihold, Stephen Sanchez</td><td>2</td><td>2022</td><td>4</td><td>22</td><td>2790</td><td>30</td><td>600976848</td><td>60</td><td>96</td><td>71</td><td>0</td><td>115</td></tr><tr><td>Novidade na ��</td><td>Mc Livinho, DJ Matt D</td><td>2</td><td>2023</td><td>6</td><td>23</td><td>267</td><td>9</td><td>39709092</td><td>9</td><td>6</td><td>25</td><td>2</td><td>72</td></tr><tr><td>Back To December (Taylor's Version)</td><td>Taylor Swift</td><td>1</td><td>2023</td><td>7</td><td>7</td><td>139</td><td>17</td><td>39228929</td><td>16</td><td>72</td><td>5</td><td>0</td><td>8</td></tr><tr><td>STAY (with Justin Bieber)</td><td>Justin Bieber, The Kid Laroi</td><td>2</td><td>2021</td><td>7</td><td>9</td><td>17050</td><td>36</td><td>null</td><td>492</td><td>99</td><td>798</td><td>31</td><td>0</td></tr><tr><td>El Merengue</td><td>Marshmello, Manuel Turizo</td><td>2</td><td>2023</td><td>3</td><td>3</td><td>2114</td><td>44</td><td>223633238</td><td>80</td><td>75</td><td>110</td><td>11</td><td>323</td></tr><tr><td>Someone You Loved</td><td>Lewis Capaldi</td><td>1</td><td>2018</td><td>11</td><td>8</td><td>17836</td><td>53</td><td>null</td><td>440</td><td>125</td><td>null</td><td>0</td><td>null</td></tr><tr><td>Me Porto Bonito</td><td>Chencho Corleone, Bad Bunny</td><td>2</td><td>2022</td><td>5</td><td>6</td><td>8870</td><td>43</td><td>1440757818</td><td>104</td><td>120</td><td>141</td><td>26</td><td>49</td></tr><tr><td>Makeba</td><td>Jain</td><td>1</td><td>2015</td><td>6</td><td>22</td><td>6060</td><td>53</td><td>165484133</td><td>150</td><td>148</td><td>null</td><td>22</td><td>null</td></tr><tr><td>MONTAGEM - FR PUNK</td><td>Ayparia, unxbected</td><td>2</td><td>2012</td><td>6</td><td>20</td><td>641</td><td>50</td><td>58054811</td><td>1</td><td>52</td><td>8</td><td>0</td><td>null</td></tr><tr><td>Fast Car</td><td>Luke Combs</td><td>1</td><td>2023</td><td>3</td><td>24</td><td>1446</td><td>12</td><td>157058870</td><td>57</td><td>97</td><td>35</td><td>0</td><td>429</td></tr><tr><td>What It Is (Solo Version)</td><td>Doechii</td><td>1</td><td>2023</td><td>3</td><td>17</td><td>804</td><td>25</td><td>95131998</td><td>29</td><td>76</td><td>24</td><td>0</td><td>162</td></tr><tr><td>Coco Chanel</td><td>Bad Bunny, Eladio Carrion</td><td>2</td><td>2023</td><td>3</td><td>17</td><td>1962</td><td>38</td><td>250305248</td><td>28</td><td>89</td><td>29</td><td>5</td><td>82</td></tr><tr><td>Don���t Bl</td><td>Taylor Swift</td><td>1</td><td>2017</td><td>11</td><td>8</td><td>4875</td><td>23</td><td>685032533</td><td>19</td><td>45</td><td>0</td><td>0</td><td>10</td></tr><tr><td>Still With You</td><td>Jung Kook</td><td>1</td><td>2020</td><td>6</td><td>5</td><td>31</td><td>39</td><td>38411956</td><td>2</td><td>107</td><td>8</td><td>0</td><td>0</td></tr><tr><td>All My Life (feat. J. Cole)</td><td>J. Cole, Lil Durk</td><td>2</td><td>2023</td><td>5</td><td>12</td><td>2175</td><td>23</td><td>144565150</td><td>69</td><td>145</td><td>69</td><td>2</td><td>478</td></tr><tr><td>Say Yes To Heaven</td><td>Lana Del Rey</td><td>1</td><td>2023</td><td>3</td><td>17</td><td>2000</td><td>46</td><td>127567540</td><td>49</td><td>105</td><td>63</td><td>1</td><td>0</td></tr><tr><td>Snooze</td><td>SZA</td><td>1</td><td>2022</td><td>12</td><td>9</td><td>2839</td><td>25</td><td>399686758</td><td>58</td><td>156</td><td>42</td><td>1</td><td>236</td></tr><tr><td>Summertime Sadness</td><td>Lana Del Rey</td><td>1</td><td>2011</td><td>1</td><td>1</td><td>20333</td><td>52</td><td>983637508</td><td>89</td><td>143</td><td>null</td><td>3</td><td>200</td></tr><tr><td>Take Two</td><td>BTS</td><td>1</td><td>2023</td><td>6</td><td>9</td><td>674</td><td>47</td><td>118482347</td><td>20</td><td>106</td><td>25</td><td>4</td><td>78</td></tr><tr><td>Lover</td><td>Taylor Swift</td><td>1</td><td>2012</td><td>1</td><td>1</td><td>8448</td><td>23</td><td>882831184</td><td>160</td><td>110</td><td>163</td><td>0</td><td>5</td></tr><tr><td>Too Many Nights (feat. Don Toliver & with Future)</td><td>Future, Metro Boomin, Don Toliver</td><td>3</td><td>2022</td><td>12</td><td>2</td><td>2110</td><td>58</td><td>286400165</td><td>17</td><td>119</td><td>19</td><td>2</td><td>266</td></tr><tr><td>Chemical</td><td>Post Malone</td><td>1</td><td>2023</td><td>4</td><td>14</td><td>2528</td><td>39</td><td>172825906</td><td>56</td><td>91</td><td>59</td><td>3</td><td>486</td></tr><tr><td>Mockingbird</td><td>Eminem</td><td>1</td><td>2004</td><td>1</td><td>1</td><td>12985</td><td>61</td><td>1241559043</td><td>49</td><td>98</td><td>null</td><td>5</td><td>204</td></tr><tr><td>New Jeans</td><td>NewJeans</td><td>1</td><td>2023</td><td>7</td><td>7</td><td>77</td><td>35</td><td>29562220</td><td>8</td><td>166</td><td>4</td><td>4</td><td>34</td></tr><tr><td>Primera Cita</td><td>Carin Leon</td><td>1</td><td>2022</td><td>4</td><td>20</td><td>266</td><td>27</td><td>77309611</td><td>6</td><td>40</td><td>6</td><td>6</td><td>202</td></tr><tr><td>Cold Heart - PNAU Remix</td><td>Dua Lipa, Elton John, Pnau</td><td>3</td><td>2017</td><td>11</td><td>10</td><td>21097</td><td>52</td><td>1605224506</td><td>384</td><td>135</td><td>null</td><td>37</td><td>312</td></tr><tr><td>Dandelions</td><td>Ruth B.</td><td>1</td><td>2017</td><td>4</td><td>28</td><td>3423</td><td>21</td><td>1116995633</td><td>41</td><td>100</td><td>59</td><td>1</td><td>32</td></tr><tr><td>Bones</td><td>Imagine Dragons</td><td>1</td><td>2021</td><td>3</td><td>11</td><td>4198</td><td>44</td><td>838079900</td><td>98</td><td>108</td><td>327</td><td>17</td><td>153</td></tr><tr><td>Set Fire to the Rain</td><td>Adele</td><td>1</td><td>2011</td><td>1</td><td>1</td><td>14739</td><td>43</td><td>1163620694</td><td>88</td><td>112</td><td>null</td><td>5</td><td>519</td></tr><tr><td>Money Trees</td><td>Kendrick Lamar, Jay Rock</td><td>2</td><td>2012</td><td>1</td><td>1</td><td>26792</td><td>32</td><td>1093605526</td><td>69</td><td>113</td><td>695</td><td>0</td><td>458</td></tr><tr><td>Tak Segampang Itu</td><td>Anggi Marito</td><td>1</td><td>2022</td><td>12</td><td>2</td><td>213</td><td>6</td><td>179659294</td><td>7</td><td>6</td><td>0</td><td>0</td><td>48</td></tr><tr><td>LAGUNAS</td><td>Jasiel Nu��ez, Peso P</td><td>2</td><td>2023</td><td>6</td><td>22</td><td>58</td><td>18</td><td>39058561</td><td>2</td><td>106</td><td>4</td><td>2</td><td>184</td></tr><tr><td>Mine (Taylor's Version)</td><td>Taylor Swift</td><td>1</td><td>2023</td><td>7</td><td>7</td><td>99</td><td>15</td><td>36912123</td><td>21</td><td>52</td><td>6</td><td>1</td><td>0</td></tr><tr><td>Everybody Wants To Rule The World</td><td>Tears For Fears</td><td>1</td><td>1985</td><td>2</td><td>17</td><td>41751</td><td>25</td><td>1205951614</td><td>101</td><td>32</td><td>null</td><td>0</td><td>666</td></tr><tr><td>No Role Modelz</td><td>J. Cole</td><td>1</td><td>2014</td><td>12</td><td>9</td><td>21164</td><td>36</td><td>1791000570</td><td>80</td><td>65</td><td>476</td><td>0</td><td>14</td></tr><tr><td>Tattoo</td><td>Loreen</td><td>1</td><td>2023</td><td>2</td><td>25</td><td>2988</td><td>59</td><td>201660859</td><td>74</td><td>102</td><td>145</td><td>18</td><td>925</td></tr><tr><td>Rara Vez</td><td>Taiu, Milo j</td><td>2</td><td>2023</td><td>2</td><td>8</td><td>893</td><td>38</td><td>248088961</td><td>19</td><td>23</td><td>24</td><td>3</td><td>88</td></tr><tr><td>VAGABUNDO</td><td>Sebastian Yatra, Manuel Turizo, Be��</td><td>3</td><td>2023</td><td>5</td><td>12</td><td>1094</td><td>34</td><td>90839753</td><td>40</td><td>58</td><td>47</td><td>8</td><td>203</td></tr><tr><td>august</td><td>Taylor Swift</td><td>1</td><td>2020</td><td>7</td><td>24</td><td>7324</td><td>22</td><td>607123776</td><td>25</td><td>81</td><td>61</td><td>1</td><td>44</td></tr><tr><td>LUNA</td><td>Junior H, Peso Pluma</td><td>2</td><td>2023</td><td>6</td><td>22</td><td>201</td><td>11</td><td>55842345</td><td>19</td><td>117</td><td>8</td><td>1</td><td>74</td></tr><tr><td>Miracle (with Ellie Goulding)</td><td>Calvin Harris, Ellie Goulding</td><td>2</td><td>2023</td><td>3</td><td>10</td><td>5120</td><td>48</td><td>211050784</td><td>161</td><td>115</td><td>246</td><td>9</td><td>638</td></tr><tr><td>Nonsense</td><td>Sabrina Carpenter</td><td>1</td><td>2022</td><td>7</td><td>15</td><td>2346</td><td>27</td><td>342897938</td><td>69</td><td>12</td><td>38</td><td>8</td><td>64</td></tr><tr><td>Que Vuelvas</td><td>Carin Leon, Grupo Frontera</td><td>2</td><td>2022</td><td>12</td><td>9</td><td>763</td><td>26</td><td>2762</td><td>21</td><td>110</td><td>21</td><td>9</td><td>71</td></tr><tr><td>Por las Noches</td><td>Peso Pluma</td><td>1</td><td>2021</td><td>6</td><td>11</td><td>457</td><td>24</td><td>330346424</td><td>8</td><td>116</td><td>4</td><td>3</td><td>2</td></tr><tr><td>Feliz Cumplea��os Fe</td><td>Feid</td><td>1</td><td>2022</td><td>8</td><td>19</td><td>3430</td><td>38</td><td>601863821</td><td>45</td><td>69</td><td>52</td><td>4</td><td>3</td></tr><tr><td>Can't Hold Us (feat. Ray Dalton)</td><td>Ray Dalton, Ryan Lewis, Macklemore</td><td>3</td><td>2011</td><td>8</td><td>16</td><td>6074</td><td>52</td><td>1953533826</td><td>201</td><td>44</td><td>null</td><td>2</td><td>0</td></tr><tr><td>Watermelon Sugar</td><td>Harry Styles</td><td>1</td><td>2019</td><td>11</td><td>17</td><td>21915</td><td>34</td><td>null</td><td>437</td><td>115</td><td>null</td><td>12</td><td>null</td></tr><tr><td>lovely - Bonus Track</td><td>Billie Eilish, Khalid</td><td>2</td><td>2017</td><td>8</td><td>11</td><td>15032</td><td>30</td><td>null</td><td>221</td><td>96</td><td>null</td><td>2</td><td>136</td></tr><tr><td>Rauw Alejandro: Bzrp Music Sessions, Vol. 56</td><td>Rauw Alejandro, Bizarrap</td><td>2</td><td>2023</td><td>6</td><td>21</td><td>871</td><td>32</td><td>66902503</td><td>25</td><td>59</td><td>32</td><td>5</td><td>88</td></tr><tr><td>Queencard</td><td>(G)I-DLE</td><td>1</td><td>2023</td><td>5</td><td>15</td><td>451</td><td>33</td><td>96273746</td><td>10</td><td>126</td><td>7</td><td>0</td><td>148</td></tr><tr><td>OMG</td><td>NewJeans</td><td>1</td><td>2023</td><td>1</td><td>2</td><td>1783</td><td>27</td><td>430977451</td><td>26</td><td>124</td><td>15</td><td>1</td><td>22</td></tr><tr><td>Radio</td><td>Lana Del Rey</td><td>1</td><td>2011</td><td>1</td><td>1</td><td>9389</td><td>46</td><td>284819874</td><td>24</td><td>122</td><td>282</td><td>3</td><td>368</td></tr><tr><td>Shakira: Bzrp Music Sessions, Vol. 53</td><td>Shakira, Bizarrap</td><td>2</td><td>2023</td><td>1</td><td>11</td><td>5724</td><td>44</td><td>721975598</td><td>119</td><td>108</td><td>254</td><td>29</td><td>22</td></tr><tr><td>505</td><td>Arctic Monkeys</td><td>1</td><td>2007</td><td>4</td><td>20</td><td>13985</td><td>25</td><td>1217120710</td><td>30</td><td>80</td><td>588</td><td>1</td><td>1</td></tr><tr><td>Calling (Spider-Man: Across the Spider-Verse) (Metro Boomin & Swae Lee, NAV, feat. A Boogie Wit da Hoodie)</td><td>Swae Lee, A Boogie Wit da Hoodie, Metro Boomin, NAV</td><td>4</td><td>2023</td><td>6</td><td>2</td><td>1051</td><td>16</td><td>109276132</td><td>31</td><td>37</td><td>31</td><td>0</td><td>189</td></tr><tr><td>Trance (with Travis Scott & Young Thug)</td><td>Travis Scott, Young Thug, Metro Boomin</td><td>3</td><td>2022</td><td>12</td><td>2</td><td>1682</td><td>46</td><td>276259178</td><td>24</td><td>90</td><td>30</td><td>1</td><td>176</td></tr><tr><td>Tere Vaaste (From \"Zara Hatke Zara Bachke\")</td><td>Sachin-Jigar, Shadab Faridi, Altamash Faridi, Amitabh Bhattacharya, Varun Jain</td><td>5</td><td>2023</td><td>5</td><td>22</td><td>182</td><td>8</td><td>54225632</td><td>3</td><td>88</td><td>1</td><td>0</td><td>52</td></tr><tr><td>Perfect</td><td>Ed Sheeran</td><td>1</td><td>2017</td><td>1</td><td>1</td><td>16596</td><td>13</td><td>null</td><td>7</td><td>0</td><td>null</td><td>0</td><td>0</td></tr><tr><td>Romantic Homicide</td><td>d4vd</td><td>1</td><td>2022</td><td>7</td><td>20</td><td>2335</td><td>23</td><td>681583126</td><td>82</td><td>55</td><td>50</td><td>0</td><td>9</td></tr><tr><td>Believer</td><td>Imagine Dragons</td><td>1</td><td>2017</td><td>1</td><td>31</td><td>18986</td><td>23</td><td>null</td><td>250</td><td>121</td><td>null</td><td>10</td><td>31</td></tr><tr><td>Novo Balan�</td><td>Veigh, Bvga Beatz, Supernova Ent, Prod Malax</td><td>4</td><td>2023</td><td>5</td><td>19</td><td>283</td><td>7</td><td>81102253</td><td>6</td><td>9</td><td>26</td><td>1</td><td>66</td></tr><tr><td>Gol Bolinha, Gol Quadrado 2</td><td>Mc Pedrinho, DJ 900</td><td>2</td><td>2023</td><td>6</td><td>1</td><td>293</td><td>8</td><td>11956641</td><td>5</td><td>2</td><td>30</td><td>2</td><td>66</td></tr><tr><td>Without Me</td><td>Eminem</td><td>1</td><td>2002</td><td>1</td><td>1</td><td>21081</td><td>43</td><td>1687664027</td><td>98</td><td>76</td><td>null</td><td>5</td><td>0</td></tr><tr><td>QUEMA</td><td>Sog, Ryan Castro, Peso Pluma</td><td>3</td><td>2023</td><td>7</td><td>13</td><td>437</td><td>31</td><td>11599388</td><td>17</td><td>29</td><td>26</td><td>3</td><td>208</td></tr><tr><td>Stargirl Interlude</td><td>The Weeknd, Lana Del Rey</td><td>2</td><td>2016</td><td>11</td><td>24</td><td>1275</td><td>32</td><td>611700552</td><td>13</td><td>8</td><td>5</td><td>0</td><td>1</td></tr><tr><td>Ojitos Lindos</td><td>Bomba Est��reo, Bad B</td><td>2</td><td>2022</td><td>5</td><td>6</td><td>6135</td><td>38</td><td>1133865788</td><td>71</td><td>113</td><td>99</td><td>13</td><td>28</td></tr><tr><td>Somewhere Only We Know</td><td>Keane</td><td>1</td><td>2004</td><td>1</td><td>1</td><td>20015</td><td>16</td><td>1089402494</td><td>107</td><td>69</td><td>null</td><td>0</td><td>558</td></tr><tr><td>Those Eyes</td><td>New West</td><td>1</td><td>2019</td><td>5</td><td>10</td><td>1507</td><td>14</td><td>411747614</td><td>24</td><td>71</td><td>44</td><td>1</td><td>195</td></tr><tr><td>El Gordo Trae El Mando</td><td>Chino Pacas</td><td>1</td><td>2023</td><td>1</td><td>27</td><td>539</td><td>21</td><td>255932395</td><td>7</td><td>71</td><td>4</td><td>2</td><td>13</td></tr><tr><td>Mi Bello Angel</td><td>Natanael Cano</td><td>1</td><td>2023</td><td>6</td><td>30</td><td>86</td><td>8</td><td>31873544</td><td>7</td><td>76</td><td>3</td><td>1</td><td>93</td></tr><tr><td>Bye</td><td>Peso Pluma</td><td>1</td><td>2023</td><td>5</td><td>26</td><td>324</td><td>14</td><td>95053634</td><td>13</td><td>110</td><td>8</td><td>2</td><td>60</td></tr><tr><td>Danza Kuduro</td><td>Don Omar, Lucenzo</td><td>2</td><td>2010</td><td>1</td><td>1</td><td>17138</td><td>37</td><td>1279434863</td><td>119</td><td>81</td><td>974</td><td>1</td><td>503</td></tr><tr><td>Nosso Quadro</td><td>Ana Castela, AgroPlay</td><td>2</td><td>2023</td><td>2</td><td>2</td><td>894</td><td>9</td><td>233801632</td><td>14</td><td>88</td><td>66</td><td>3</td><td>72</td></tr><tr><td>Locked Out Of Heaven</td><td>Bruno Mars</td><td>1</td><td>2012</td><td>12</td><td>5</td><td>1622</td><td>9</td><td>1481349984</td><td>0</td><td>0</td><td>356</td><td>0</td><td>0</td></tr><tr><td>Un Finde | CROSSOVER #2</td><td>Big One, FMK, Ke personajes</td><td>3</td><td>2023</td><td>4</td><td>4</td><td>561</td><td>14</td><td>142095275</td><td>4</td><td>14</td><td>12</td><td>5</td><td>56</td></tr><tr><td>Jimmy Cooks (feat. 21 Savage)</td><td>Drake, 21 Savage</td><td>2</td><td>2022</td><td>6</td><td>17</td><td>5871</td><td>27</td><td>618885532</td><td>81</td><td>121</td><td>58</td><td>1</td><td>34</td></tr><tr><td>Counting Stars</td><td>OneRepublic</td><td>1</td><td>2013</td><td>1</td><td>1</td><td>29215</td><td>43</td><td>2011464183</td><td>179</td><td>97</td><td>null</td><td>11</td><td>153</td></tr><tr><td>Ghost</td><td>Justin Bieber</td><td>1</td><td>2021</td><td>3</td><td>19</td><td>5866</td><td>24</td><td>1167330737</td><td>107</td><td>38</td><td>95</td><td>0</td><td>null</td></tr><tr><td>Under The Influence</td><td>Chris Brown</td><td>1</td><td>2019</td><td>10</td><td>4</td><td>3859</td><td>26</td><td>929964809</td><td>133</td><td>181</td><td>3</td><td>0</td><td>null</td></tr><tr><td>PRC</td><td>Natanael Cano, Peso Pluma</td><td>2</td><td>2023</td><td>1</td><td>23</td><td>961</td><td>26</td><td>436027885</td><td>19</td><td>143</td><td>10</td><td>6</td><td>15</td></tr><tr><td>Gasolina</td><td>Daddy Yankee</td><td>1</td><td>2004</td><td>7</td><td>13</td><td>6457</td><td>18</td><td>657723613</td><td>98</td><td>95</td><td>453</td><td>0</td><td>454</td></tr><tr><td>One Dance</td><td>Drake, WizKid, Kyla</td><td>3</td><td>2016</td><td>4</td><td>4</td><td>43257</td><td>24</td><td>null</td><td>433</td><td>107</td><td>null</td><td>0</td><td>26</td></tr><tr><td>Enchanted</td><td>Taylor Swift</td><td>1</td><td>2010</td><td>1</td><td>1</td><td>4564</td><td>16</td><td>621660989</td><td>24</td><td>101</td><td>113</td><td>0</td><td>40</td></tr><tr><td>Save Your Tears</td><td>The Weeknd</td><td>1</td><td>2020</td><td>3</td><td>20</td><td>12688</td><td>13</td><td>1591223784</td><td>197</td><td>115</td><td>112</td><td>0</td><td>200</td></tr><tr><td>Sure Thing</td><td>Miguel</td><td>1</td><td>2010</td><td>5</td><td>25</td><td>13801</td><td>19</td><td>950906471</td><td>137</td><td>125</td><td>435</td><td>6</td><td>285</td></tr><tr><td>Every Breath You Take - Remastered 2003</td><td>The Police</td><td>1</td><td>1983</td><td>1</td><td>6</td><td>22439</td><td>19</td><td>1593270737</td><td>211</td><td>74</td><td>929</td><td>0</td><td>129</td></tr><tr><td>The Night We Met</td><td>Lord Huron</td><td>1</td><td>2015</td><td>2</td><td>2</td><td>18515</td><td>35</td><td>1410088830</td><td>70</td><td>82</td><td>939</td><td>1</td><td>162</td></tr><tr><td>We Found Love</td><td>Rihanna, Calvin Harris</td><td>2</td><td>2011</td><td>1</td><td>1</td><td>36843</td><td>21</td><td>1235005533</td><td>321</td><td>91</td><td>null</td><td>1</td><td>58</td></tr><tr><td>When I Was Your Man</td><td>Bruno Mars</td><td>1</td><td>2012</td><td>12</td><td>5</td><td>2420</td><td>11</td><td>1661187319</td><td>0</td><td>0</td><td>806</td><td>0</td><td>0</td></tr><tr><td>Let Me Down Slowly</td><td>Alec Benjamin</td><td>1</td><td>2018</td><td>5</td><td>25</td><td>5897</td><td>19</td><td>1374581173</td><td>0</td><td>0</td><td>885</td><td>0</td><td>0</td></tr><tr><td>Am I Dreaming (Metro Boomin & A$AP Rocky, Roisee)</td><td>A$AP Rocky, Metro Boomin, Roisee</td><td>3</td><td>2023</td><td>6</td><td>2</td><td>727</td><td>16</td><td>94186466</td><td>17</td><td>60</td><td>28</td><td>1</td><td>44</td></tr><tr><td>Do I Wanna Know?</td><td>Arctic Monkeys</td><td>1</td><td>2013</td><td>1</td><td>1</td><td>33783</td><td>26</td><td>1788326445</td><td>133</td><td>92</td><td>null</td><td>1</td><td>26</td></tr><tr><td>Demons</td><td>Imagine Dragons</td><td>1</td><td>2012</td><td>1</td><td>1</td><td>26694</td><td>13</td><td>1840364617</td><td>65</td><td>82</td><td>null</td><td>4</td><td>13</td></tr><tr><td>������������</td><td>YOASOBI</td><td>1</td><td>2023</td><td>4</td><td>12</td><td>356</td><td>16</td><td>143573775</td><td>35</td><td>102</td><td>8</td><td>1</td><td>117</td></tr><tr><td>Reminder</td><td>The Weeknd</td><td>1</td><td>2016</td><td>11</td><td>25</td><td>6518</td><td>17</td><td>684675814</td><td>45</td><td>85</td><td>238</td><td>1</td><td>47</td></tr><tr><td>Shake It Off</td><td>Taylor Swift</td><td>1</td><td>2014</td><td>1</td><td>1</td><td>21335</td><td>13</td><td>1113838873</td><td>328</td><td>70</td><td>null</td><td>9</td><td>20</td></tr><tr><td>Why'd You Only Call Me When You're High?</td><td>Arctic Monkeys</td><td>1</td><td>2013</td><td>1</td><td>1</td><td>23389</td><td>29</td><td>1267333350</td><td>54</td><td>70</td><td>null</td><td>2</td><td>1</td></tr><tr><td>SNAP</td><td>Rosa Linn</td><td>1</td><td>2022</td><td>3</td><td>19</td><td>3202</td><td>18</td><td>726307468</td><td>148</td><td>80</td><td>226</td><td>24</td><td>0</td></tr><tr><td>Shape of You</td><td>Ed Sheeran</td><td>1</td><td>2017</td><td>1</td><td>6</td><td>32181</td><td>10</td><td>null</td><td>33</td><td>0</td><td>null</td><td>7</td><td>0</td></tr><tr><td>Night Changes</td><td>One Direction</td><td>1</td><td>2014</td><td>11</td><td>17</td><td>7124</td><td>18</td><td>1131090940</td><td>60</td><td>20</td><td>2</td><td>0</td><td>null</td></tr><tr><td>Fin de Semana</td><td>Oscar Maydon, Junior H</td><td>2</td><td>2023</td><td>1</td><td>13</td><td>592</td><td>14</td><td>307370144</td><td>11</td><td>84</td><td>6</td><td>1</td><td>30</td></tr><tr><td>Creep</td><td>Radiohead</td><td>1</td><td>1992</td><td>9</td><td>21</td><td>36724</td><td>7</td><td>1271293243</td><td>146</td><td>72</td><td>null</td><td>5</td><td>80</td></tr><tr><td>Car's Outside</td><td>James Arthur</td><td>1</td><td>2019</td><td>10</td><td>18</td><td>794</td><td>10</td><td>265882712</td><td>38</td><td>25</td><td>61</td><td>0</td><td>263</td></tr><tr><td>Apocalypse</td><td>Cigarettes After Sex</td><td>1</td><td>2017</td><td>3</td><td>21</td><td>13091</td><td>17</td><td>841749534</td><td>61</td><td>96</td><td>790</td><td>2</td><td>116</td></tr><tr><td>Cheques</td><td>Shubh</td><td>1</td><td>2023</td><td>5</td><td>19</td><td>67</td><td>8</td><td>47956378</td><td>7</td><td>10</td><td>0</td><td>0</td><td>57</td></tr><tr><td>Pink + White</td><td>Frank Ocean</td><td>1</td><td>2016</td><td>8</td><td>20</td><td>21574</td><td>30</td><td>806397070</td><td>112</td><td>68</td><td>266</td><td>1</td><td>39</td></tr><tr><td>Circles</td><td>Post Malone</td><td>1</td><td>2019</td><td>8</td><td>30</td><td>19664</td><td>16</td><td>2132335812</td><td>391</td><td>73</td><td>633</td><td>3</td><td>37</td></tr><tr><td>Just The Way You Are</td><td>Bruno Mars</td><td>1</td><td>2010</td><td>1</td><td>1</td><td>21106</td><td>13</td><td>1641426668</td><td>82</td><td>0</td><td>null</td><td>0</td><td>0</td></tr><tr><td>Take Me To Church</td><td>Hozier</td><td>1</td><td>2013</td><td>9</td><td>13</td><td>23804</td><td>31</td><td>2135158446</td><td>187</td><td>99</td><td>null</td><td>1</td><td>0</td></tr><tr><td>Bebe Dame</td><td>Fuerza Regida, Grupo Frontera</td><td>2</td><td>2022</td><td>12</td><td>16</td><td>849</td><td>22</td><td>367316268</td><td>27</td><td>129</td><td>21</td><td>7</td><td>111</td></tr><tr><td>You Belong With Me (Taylor���s Ve</td><td>Taylor Swift</td><td>1</td><td>2021</td><td>4</td><td>9</td><td>2619</td><td>12</td><td>350381515</td><td>47</td><td>90</td><td>1</td><td>0</td><td>7</td></tr><tr><td>Titi Me Pregunt�</td><td>Bad Bunny</td><td>1</td><td>2022</td><td>5</td><td>6</td><td>9037</td><td>42</td><td>1264310836</td><td>124</td><td>133</td><td>139</td><td>14</td><td>166</td></tr><tr><td>Better Than Revenge (Taylor's Version)</td><td>Taylor Swift</td><td>1</td><td>2023</td><td>7</td><td>7</td><td>86</td><td>11</td><td>30343206</td><td>3</td><td>33</td><td>3</td><td>0</td><td>1</td></tr><tr><td>Shut up My Moms Calling</td><td>Hotel Ugly</td><td>1</td><td>2020</td><td>2</td><td>10</td><td>1788</td><td>14</td><td>405136812</td><td>1</td><td>50</td><td>19</td><td>0</td><td>19</td></tr><tr><td>Have You Ever Seen The Rain?</td><td>Creedence Clearwater Revival</td><td>1</td><td>1968</td><td>7</td><td>1</td><td>15890</td><td>14</td><td>1145727611</td><td>71</td><td>37</td><td>653</td><td>0</td><td>167</td></tr><tr><td>Es un Secreto</td><td>Plan B</td><td>1</td><td>2010</td><td>7</td><td>20</td><td>492</td><td>36</td><td>540654286</td><td>4</td><td>3</td><td>19</td><td>0</td><td>0</td></tr><tr><td>POLARIS - Remix</td><td>Feid, Mora, Saiko, Quevedo</td><td>4</td><td>2023</td><td>6</td><td>8</td><td>773</td><td>33</td><td>57312735</td><td>20</td><td>46</td><td>21</td><td>8</td><td>99</td></tr><tr><td>Ditto</td><td>NewJeans</td><td>1</td><td>2022</td><td>12</td><td>19</td><td>1154</td><td>22</td><td>397582059</td><td>28</td><td>125</td><td>11</td><td>1</td><td>51</td></tr><tr><td>Take On Me</td><td>a-ha</td><td>1</td><td>1984</td><td>10</td><td>19</td><td>44927</td><td>17</td><td>1479115056</td><td>34</td><td>0</td><td>null</td><td>6</td><td>0</td></tr><tr><td>Annihilate (Spider-Man: Across the Spider-Verse) (Metro Boomin & Swae Lee, Lil Wayne, Offset)</td><td>Swae Lee, Lil Wayne, Offset, Metro Boomin</td><td>4</td><td>2023</td><td>6</td><td>2</td><td>551</td><td>4</td><td>86773632</td><td>13</td><td>46</td><td>20</td><td>1</td><td>10</td></tr><tr><td>Angel Pt 1 (feat. Jimin of BTS, JVKE & Muni Long)</td><td>Kodak Black, NLE Choppa, Muni Long, JVKE, Jimin</td><td>5</td><td>2023</td><td>5</td><td>1</td><td>577</td><td>14</td><td>133753727</td><td>22</td><td>18</td><td>15</td><td>1</td><td>0</td></tr><tr><td>Acr��s</td><td>Shakira</td><td>1</td><td>2023</td><td>5</td><td>11</td><td>955</td><td>29</td><td>123124076</td><td>37</td><td>50</td><td>79</td><td>11</td><td>31</td></tr><tr><td>AMG</td><td>Natanael Cano, Gabito Ballesteros, Peso Pluma</td><td>3</td><td>2022</td><td>11</td><td>24</td><td>995</td><td>19</td><td>463564958</td><td>12</td><td>117</td><td>9</td><td>5</td><td>3</td></tr><tr><td>Phir Aur Kya Chahiye (From \"Zara Hatke Zara Bachke\")</td><td>Arijit Singh, Sachin-Jigar, Amitabha Bhattacharya</td><td>3</td><td>2023</td><td>5</td><td>15</td><td>178</td><td>6</td><td>64533040</td><td>6</td><td>71</td><td>1</td><td>0</td><td>31</td></tr><tr><td>S-Class</td><td>Stray Kids</td><td>1</td><td>2023</td><td>6</td><td>2</td><td>290</td><td>19</td><td>65496046</td><td>9</td><td>101</td><td>5</td><td>0</td><td>73</td></tr><tr><td>Hits Different</td><td>Taylor Swift</td><td>1</td><td>2023</td><td>5</td><td>26</td><td>547</td><td>0</td><td>68616963</td><td>15</td><td>15</td><td>6</td><td>0</td><td>0</td></tr><tr><td>Chanel</td><td>Becky G, Peso Pluma</td><td>2</td><td>2023</td><td>3</td><td>30</td><td>681</td><td>10</td><td>161460990</td><td>15</td><td>92</td><td>21</td><td>2</td><td>26</td></tr><tr><td>Self Love (Spider-Man: Across the Spider-Verse) (Metro Boomin & Coi Leray)</td><td>Metro Boomin, Coi Leray</td><td>2</td><td>2023</td><td>6</td><td>2</td><td>332</td><td>5</td><td>70106975</td><td>18</td><td>41</td><td>5</td><td>0</td><td>19</td></tr><tr><td>Area Codes</td><td>Kaliii, Kaliii</td><td>2</td><td>2023</td><td>3</td><td>17</td><td>1197</td><td>13</td><td>113509496</td><td>44</td><td>34</td><td>25</td><td>1</td><td>171</td></tr><tr><td>Abcdario</td><td>Junior H, Eden Mu��</td><td>2</td><td>2023</td><td>5</td><td>13</td><td>262</td><td>5</td><td>89933133</td><td>8</td><td>60</td><td>4</td><td>1</td><td>109</td></tr><tr><td>Obsessed</td><td>Abhijay Sharma, Riar Saab</td><td>2</td><td>2022</td><td>9</td><td>29</td><td>161</td><td>6</td><td>71007139</td><td>10</td><td>79</td><td>2</td><td>0</td><td>42</td></tr><tr><td>Pi��man De�</td><td>Semicenk, Do��u </td><td>2</td><td>2023</td><td>6</td><td>2</td><td>185</td><td>3</td><td>43522589</td><td>5</td><td>6</td><td>4</td><td>1</td><td>33</td></tr><tr><td>FLOWER</td><td>JISOO</td><td>1</td><td>2023</td><td>3</td><td>31</td><td>839</td><td>18</td><td>232896922</td><td>20</td><td>110</td><td>20</td><td>0</td><td>69</td></tr><tr><td>All The Way Live (Spider-Man: Across the Spider-Verse) (Metro Boomin & Future, Lil Uzi Vert)</td><td>Future, Lil Uzi Vert, Metro Boomin</td><td>3</td><td>2023</td><td>6</td><td>2</td><td>259</td><td>0</td><td>37126685</td><td>5</td><td>17</td><td>5</td><td>0</td><td>0</td></tr><tr><td>Eyes Closed</td><td>Ed Sheeran</td><td>1</td><td>2023</td><td>3</td><td>23</td><td>2915</td><td>30</td><td>195576623</td><td>116</td><td>69</td><td>107</td><td>3</td><td>675</td></tr><tr><td>Escapism.</td><td>RAYE, 070 Shake</td><td>2</td><td>2022</td><td>10</td><td>12</td><td>5129</td><td>25</td><td>532336353</td><td>116</td><td>84</td><td>114</td><td>18</td><td>348</td></tr><tr><td>La Jumpa</td><td>Arcangel, Bad Bunny</td><td>2</td><td>2022</td><td>11</td><td>30</td><td>3794</td><td>34</td><td>538115192</td><td>47</td><td>77</td><td>53</td><td>10</td><td>8</td></tr><tr><td>Karma (feat. Ice Spice)</td><td>Taylor Swift, Ice Spice</td><td>2</td><td>2023</td><td>5</td><td>26</td><td>588</td><td>0</td><td>46142772</td><td>23</td><td>21</td><td>31</td><td>0</td><td>0</td></tr><tr><td>Superhero (Heroes & Villains) [with Future & Chris Brown]</td><td>Future, Chris Brown, Metro Boomin</td><td>3</td><td>2022</td><td>12</td><td>2</td><td>2959</td><td>16</td><td>401036314</td><td>41</td><td>69</td><td>38</td><td>0</td><td>36</td></tr><tr><td>Las Morras</td><td>BLESSD, Peso Pluma</td><td>2</td><td>2023</td><td>4</td><td>4</td><td>291</td><td>8</td><td>127026613</td><td>8</td><td>78</td><td>4</td><td>1</td><td>1</td></tr><tr><td>CHORRITO PA LAS ANIMAS</td><td>Feid</td><td>1</td><td>2022</td><td>12</td><td>2</td><td>2321</td><td>36</td><td>345031710</td><td>29</td><td>65</td><td>34</td><td>5</td><td>3</td></tr><tr><td>Ch y la Pizza</td><td>Fuerza Regida, Natanael Cano</td><td>2</td><td>2022</td><td>12</td><td>1</td><td>536</td><td>10</td><td>288101651</td><td>10</td><td>72</td><td>8</td><td>3</td><td>14</td></tr><tr><td>Snow On The Beach (feat. More Lana Del Rey)</td><td>Lana Del Rey, Taylor Swift</td><td>2</td><td>2023</td><td>5</td><td>26</td><td>359</td><td>2</td><td>60350538</td><td>1</td><td>0</td><td>9</td><td>0</td><td>0</td></tr><tr><td>Players</td><td>Coi Leray</td><td>1</td><td>2022</td><td>11</td><td>30</td><td>4096</td><td>6</td><td>335074782</td><td>118</td><td>48</td><td>143</td><td>0</td><td>240</td></tr><tr><td>Bite Me</td><td>ENHYPEN</td><td>1</td><td>2023</td><td>5</td><td>22</td><td>349</td><td>69</td><td>76767396</td><td>8</td><td>96</td><td>5</td><td>0</td><td>56</td></tr><tr><td>Stand By Me (feat. Morgan Wallen)</td><td>Lil Durk, Morgan Wallen</td><td>2</td><td>2023</td><td>5</td><td>26</td><td>381</td><td>5</td><td>46065667</td><td>23</td><td>82</td><td>6</td><td>0</td><td>113</td></tr><tr><td>Normal</td><td>Feid</td><td>1</td><td>2022</td><td>7</td><td>8</td><td>2461</td><td>36</td><td>459276435</td><td>47</td><td>66</td><td>45</td><td>5</td><td>6</td></tr><tr><td>Hummingbird (Metro Boomin & James Blake)</td><td>James Blake, Metro Boomin</td><td>2</td><td>2023</td><td>6</td><td>2</td><td>277</td><td>1</td><td>39666245</td><td>1</td><td>20</td><td>5</td><td>0</td><td>1</td></tr><tr><td>Seu Brilho Sumiu - Ao Vivo</td><td>Israel & Rodolffo, Mari Fernandez</td><td>2</td><td>2023</td><td>3</td><td>1</td><td>967</td><td>5</td><td>138517666</td><td>7</td><td>29</td><td>51</td><td>1</td><td>29</td></tr><tr><td>Bad Habit</td><td>Steve Lacy</td><td>1</td><td>2022</td><td>6</td><td>29</td><td>8186</td><td>12</td><td>822633917</td><td>155</td><td>72</td><td>131</td><td>16</td><td>29</td></tr><tr><td>CUFF IT</td><td>Beyonc�</td><td>1</td><td>2022</td><td>7</td><td>29</td><td>7842</td><td>10</td><td>595900742</td><td>215</td><td>88</td><td>330</td><td>26</td><td>23</td></tr><tr><td>Lilith (feat. SUGA of BTS) (Diablo IV Anthem)</td><td>Halsey, Suga</td><td>2</td><td>2023</td><td>6</td><td>5</td><td>215</td><td>6</td><td>51985779</td><td>6</td><td>14</td><td>8</td><td>2</td><td>4</td></tr><tr><td>69</td><td>Nicky Jam, Feid</td><td>2</td><td>2023</td><td>5</td><td>18</td><td>1134</td><td>22</td><td>57945987</td><td>39</td><td>14</td><td>48</td><td>2</td><td>3</td></tr><tr><td>Ni��a Bo</td><td>Sean Paul, Feid</td><td>2</td><td>2023</td><td>4</td><td>21</td><td>1305</td><td>34</td><td>115010040</td><td>29</td><td>26</td><td>43</td><td>5</td><td>44</td></tr><tr><td>Search & Rescue</td><td>Drake</td><td>1</td><td>2023</td><td>4</td><td>7</td><td>2066</td><td>6</td><td>175097833</td><td>58</td><td>70</td><td>43</td><td>0</td><td>182</td></tr><tr><td>AMERICA HAS A PROBLEM (feat. Kendrick Lamar)</td><td>Kendrick Lamar, Beyonc�</td><td>2</td><td>2023</td><td>5</td><td>19</td><td>896</td><td>0</td><td>57089066</td><td>34</td><td>2</td><td>33</td><td>0</td><td>1</td></tr><tr><td>Lavender Haze</td><td>Taylor Swift</td><td>1</td><td>2022</td><td>10</td><td>21</td><td>3763</td><td>8</td><td>488386797</td><td>51</td><td>43</td><td>38</td><td>10</td><td>1</td></tr><tr><td>Link Up (Metro Boomin & Don Toliver, Wizkid feat. BEAM & Toian) - Spider-Verse Remix (Spider-Man: Across the Spider-Verse )</td><td>WizKid, Toian, Metro Boomin, Don Toliver, Beam</td><td>5</td><td>2023</td><td>6</td><td>2</td><td>197</td><td>0</td><td>32761689</td><td>3</td><td>10</td><td>3</td><td>0</td><td>0</td></tr><tr><td>Efecto</td><td>Bad Bunny</td><td>1</td><td>2022</td><td>5</td><td>6</td><td>4004</td><td>33</td><td>1047480053</td><td>34</td><td>65</td><td>43</td><td>6</td><td>2</td></tr><tr><td>Erro Gostoso - Ao Vivo</td><td>Simone Mendes</td><td>1</td><td>2023</td><td>1</td><td>27</td><td>984</td><td>5</td><td>153454328</td><td>8</td><td>57</td><td>76</td><td>2</td><td>49</td></tr><tr><td>Cupido</td><td>Tini</td><td>1</td><td>2023</td><td>2</td><td>14</td><td>1240</td><td>24</td><td>217672943</td><td>51</td><td>29</td><td>63</td><td>4</td><td>54</td></tr><tr><td>Just Wanna Rock</td><td>Lil Uzi Vert</td><td>1</td><td>2022</td><td>10</td><td>17</td><td>3995</td><td>13</td><td>457184829</td><td>72</td><td>27</td><td>47</td><td>0</td><td>0</td></tr><tr><td>Unstoppable</td><td>Sia</td><td>1</td><td>2016</td><td>1</td><td>21</td><td>7681</td><td>13</td><td>939844851</td><td>119</td><td>66</td><td>null</td><td>2</td><td>null</td></tr><tr><td>Until I Found You</td><td>Stephen Sanchez</td><td>1</td><td>2021</td><td>9</td><td>1</td><td>4427</td><td>4</td><td>726434358</td><td>69</td><td>100</td><td>154</td><td>20</td><td>438</td></tr><tr><td>Rich Flex</td><td>Drake, 21 Savage</td><td>2</td><td>2022</td><td>11</td><td>4</td><td>4657</td><td>18</td><td>573633020</td><td>84</td><td>84</td><td>42</td><td>0</td><td>23</td></tr><tr><td>Easy On Me</td><td>Adele</td><td>1</td><td>2021</td><td>10</td><td>14</td><td>10195</td><td>20</td><td>1406111294</td><td>258</td><td>87</td><td>657</td><td>22</td><td>9</td></tr><tr><td>Cart��o B</td><td>MC Caverinha, KayBlack</td><td>2</td><td>2023</td><td>5</td><td>11</td><td>269</td><td>4</td><td>71573339</td><td>7</td><td>2</td><td>30</td><td>1</td><td>11</td></tr><tr><td>Danger (Spider) (Offset & JID)</td><td>Offset, JID</td><td>2</td><td>2023</td><td>6</td><td>2</td><td>214</td><td>0</td><td>24975653</td><td>3</td><td>3</td><td>6</td><td>0</td><td>0</td></tr><tr><td>Oi Balde - Ao Vivo</td><td>Z�� Neto & Crist</td><td>1</td><td>2023</td><td>2</td><td>14</td><td>845</td><td>2</td><td>145458418</td><td>12</td><td>57</td><td>47</td><td>1</td><td>33</td></tr><tr><td>The Real Slim Shady</td><td>Eminem</td><td>1</td><td>2000</td><td>1</td><td>1</td><td>20763</td><td>27</td><td>1424589568</td><td>81</td><td>53</td><td>null</td><td>1</td><td>17</td></tr><tr><td>MERCHO</td><td>Migrantes, LiL CaKe, Nico Valdi</td><td>3</td><td>2022</td><td>12</td><td>16</td><td>1267</td><td>20</td><td>231332117</td><td>41</td><td>22</td><td>56</td><td>4</td><td>84</td></tr><tr><td>The Color Violet</td><td>Tory Lanez</td><td>1</td><td>2021</td><td>12</td><td>10</td><td>2585</td><td>32</td><td>415932686</td><td>3</td><td>79</td><td>21</td><td>1</td><td>54</td></tr><tr><td>Glimpse of Us</td><td>Joji</td><td>1</td><td>2022</td><td>6</td><td>10</td><td>6330</td><td>6</td><td>988515741</td><td>109</td><td>42</td><td>158</td><td>3</td><td>31</td></tr><tr><td>Mejor Que Yo</td><td>Mambo Kingz, DJ Luian, Anuel Aa</td><td>3</td><td>2023</td><td>5</td><td>4</td><td>675</td><td>1</td><td>50847624</td><td>9</td><td>13</td><td>11</td><td>0</td><td>1</td></tr><tr><td>Curtains</td><td>Ed Sheeran</td><td>1</td><td>2023</td><td>5</td><td>5</td><td>715</td><td>0</td><td>39893489</td><td>37</td><td>3</td><td>27</td><td>0</td><td>50</td></tr><tr><td>UNFORGIVEN (feat. Nile Rodgers)</td><td>Nile Rodgers, LE SSERAFIM</td><td>2</td><td>2023</td><td>5</td><td>1</td><td>327</td><td>13</td><td>92035115</td><td>14</td><td>110</td><td>9</td><td>0</td><td>49</td></tr><tr><td>Haegeum</td><td>Agust D</td><td>1</td><td>2023</td><td>4</td><td>21</td><td>244</td><td>12</td><td>118810253</td><td>6</td><td>84</td><td>10</td><td>2</td><td>9</td></tr><tr><td>Conex��es de M��fia (feat. Rich </td><td>Rich The Kid, Matu�</td><td>2</td><td>2023</td><td>4</td><td>30</td><td>385</td><td>4</td><td>77233241</td><td>17</td><td>7</td><td>41</td><td>1</td><td>29</td></tr><tr><td>MIENTRAS ME CURO DEL CORA</td><td>Karol G</td><td>1</td><td>2023</td><td>2</td><td>24</td><td>1020</td><td>35</td><td>206399629</td><td>15</td><td>26</td><td>30</td><td>6</td><td>0</td></tr><tr><td>Never Felt So Alone</td><td>Labrinth</td><td>1</td><td>2023</td><td>4</td><td>7</td><td>1730</td><td>3</td><td>117747907</td><td>46</td><td>5</td><td>51</td><td>0</td><td>20</td></tr><tr><td>X SI VOLVEMOS</td><td>Karol G, Romeo Santos</td><td>2</td><td>2023</td><td>2</td><td>2</td><td>2127</td><td>33</td><td>266624541</td><td>45</td><td>80</td><td>53</td><td>8</td><td>4</td></tr><tr><td>ceilings</td><td>Lizzy McAlpine</td><td>1</td><td>2022</td><td>4</td><td>8</td><td>3242</td><td>9</td><td>293186992</td><td>67</td><td>55</td><td>48</td><td>0</td><td>6</td></tr><tr><td>Cupid</td><td>Fifty Fifty</td><td>1</td><td>2023</td><td>2</td><td>24</td><td>526</td><td>10</td><td>139681964</td><td>15</td><td>93</td><td>30</td><td>0</td><td>320</td></tr><tr><td>I AM</td><td>IVE</td><td>1</td><td>2023</td><td>4</td><td>10</td><td>366</td><td>15</td><td>123132751</td><td>16</td><td>102</td><td>7</td><td>0</td><td>55</td></tr><tr><td>Cupid ��� Twin Ver. (FIFTY FIFTY) ��� Spe</td><td>sped up 8282</td><td>1</td><td>1997</td><td>1</td><td>1</td><td>472</td><td>2</td><td>103762518</td><td>0</td><td>0</td><td>6</td><td>0</td><td>0</td></tr><tr><td>Shorty Party</td><td>Cartel De Santa, La Kelly</td><td>2</td><td>2023</td><td>3</td><td>4</td><td>432</td><td>12</td><td>162887075</td><td>8</td><td>14</td><td>12</td><td>2</td><td>33</td></tr><tr><td>Super</td><td>SEVENTEEN</td><td>1</td><td>2023</td><td>4</td><td>24</td><td>271</td><td>12</td><td>91221625</td><td>16</td><td>103</td><td>9</td><td>0</td><td>55</td></tr><tr><td>Slut Me Out</td><td>NLE Choppa</td><td>1</td><td>2022</td><td>4</td><td>22</td><td>816</td><td>4</td><td>190490915</td><td>21</td><td>4</td><td>13</td><td>0</td><td>4</td></tr><tr><td>Double Fantasy (with Future)</td><td>The Weeknd, Future</td><td>2</td><td>2023</td><td>4</td><td>21</td><td>1169</td><td>0</td><td>96180277</td><td>36</td><td>65</td><td>28</td><td>0</td><td>0</td></tr><tr><td>All Of The Girls You Loved Before</td><td>Taylor Swift</td><td>1</td><td>2019</td><td>8</td><td>23</td><td>1282</td><td>6</td><td>185240616</td><td>26</td><td>6</td><td>19</td><td>0</td><td>5</td></tr><tr><td>PROVENZA</td><td>Karol G</td><td>1</td><td>2022</td><td>4</td><td>21</td><td>6587</td><td>34</td><td>885093467</td><td>114</td><td>104</td><td>147</td><td>11</td><td>20</td></tr><tr><td>Princess Diana (with Nicki Minaj)</td><td>Nicki Minaj, Ice Spice</td><td>2</td><td>2023</td><td>4</td><td>14</td><td>1444</td><td>4</td><td>104992946</td><td>0</td><td>0</td><td>0</td><td>0</td><td>0</td></tr><tr><td>Di Que Si</td><td>Grupo Marca Registrada, Grupo Frontera</td><td>2</td><td>2023</td><td>2</td><td>3</td><td>356</td><td>10</td><td>147290338</td><td>4</td><td>64</td><td>4</td><td>2</td><td>37</td></tr><tr><td>Shivers</td><td>Ed Sheeran</td><td>1</td><td>2021</td><td>9</td><td>9</td><td>10147</td><td>30</td><td>1302184087</td><td>234</td><td>71</td><td>543</td><td>18</td><td>null</td></tr><tr><td>Igualito a Mi Ap�</td><td>Fuerza Regida, Peso Pluma</td><td>2</td><td>2022</td><td>12</td><td>30</td><td>265</td><td>6</td><td>158950978</td><td>8</td><td>84</td><td>5</td><td>1</td><td>4</td></tr><tr><td>Shoong! (feat. LISA of BLACKPINK)</td><td>TAEYANG, Lisa</td><td>2</td><td>2023</td><td>4</td><td>25</td><td>351</td><td>9</td><td>76910644</td><td>16</td><td>90</td><td>10</td><td>0</td><td>64</td></tr><tr><td>Komang</td><td>Raim Laode</td><td>1</td><td>2022</td><td>8</td><td>16</td><td>158</td><td>4</td><td>137123880</td><td>5</td><td>6</td><td>1</td><td>1</td><td>18</td></tr><tr><td>DESPECH�</td><td>ROSAL�</td><td>1</td><td>2022</td><td>7</td><td>28</td><td>7613</td><td>33</td><td>782369383</td><td>180</td><td>90</td><td>422</td><td>15</td><td>55</td></tr><tr><td>Made You Look</td><td>Meghan Trainor</td><td>1</td><td>2022</td><td>10</td><td>21</td><td>3956</td><td>6</td><td>502574952</td><td>142</td><td>23</td><td>127</td><td>3</td><td>16</td></tr><tr><td>Watch This - ARIZONATEARS Pluggnb Remix</td><td>sped up nightcore, ARIZONATEARS, Lil Uzi Vert</td><td>3</td><td>2023</td><td>2</td><td>5</td><td>1638</td><td>10</td><td>207033255</td><td>0</td><td>0</td><td>21</td><td>0</td><td>0</td></tr><tr><td>No Se Va</td><td>Grupo Frontera</td><td>1</td><td>2022</td><td>4</td><td>28</td><td>924</td><td>18</td><td>404887295</td><td>17</td><td>80</td><td>22</td><td>9</td><td>38</td></tr><tr><td>Punto G</td><td>Quevedo</td><td>1</td><td>2022</td><td>11</td><td>4</td><td>1985</td><td>35</td><td>381161027</td><td>34</td><td>26</td><td>37</td><td>5</td><td>1</td></tr><tr><td>Lovers Rock</td><td>TV Girl</td><td>1</td><td>2014</td><td>6</td><td>5</td><td>6339</td><td>13</td><td>466231982</td><td>3</td><td>1</td><td>36</td><td>1</td><td>37</td></tr><tr><td>METAMORPHOSIS</td><td>INTERWORLD</td><td>1</td><td>2021</td><td>11</td><td>25</td><td>1561</td><td>24</td><td>357580552</td><td>18</td><td>78</td><td>24</td><td>0</td><td>30</td></tr><tr><td>Mami Chula</td><td>Quevedo, Jhayco</td><td>2</td><td>2023</td><td>4</td><td>27</td><td>875</td><td>4</td><td>61105704</td><td>17</td><td>13</td><td>27</td><td>0</td><td>43</td></tr><tr><td>En Paris</td><td>El Chachito, Junior H</td><td>2</td><td>2022</td><td>12</td><td>24</td><td>406</td><td>5</td><td>198275403</td><td>3</td><td>31</td><td>2</td><td>1</td><td>0</td></tr><tr><td>Set Me Free Pt.2</td><td>Jimin</td><td>1</td><td>2023</td><td>3</td><td>17</td><td>340</td><td>13</td><td>168448603</td><td>4</td><td>71</td><td>16</td><td>1</td><td>9</td></tr><tr><td>I Was Never There</td><td>The Weeknd, Gesaffelstein</td><td>2</td><td>2018</td><td>3</td><td>29</td><td>4188</td><td>15</td><td>705469769</td><td>30</td><td>70</td><td>142</td><td>0</td><td>27</td></tr><tr><td>Don't ever say love me (feat. RM of BTS)</td><td>RM, Colde</td><td>2</td><td>2023</td><td>5</td><td>4</td><td>105</td><td>0</td><td>34502215</td><td>5</td><td>9</td><td>5</td><td>0</td><td>0</td></tr><tr><td>Shut Down</td><td>BLACKPINK</td><td>1</td><td>2022</td><td>9</td><td>16</td><td>1524</td><td>17</td><td>482175240</td><td>53</td><td>120</td><td>62</td><td>0</td><td>2</td></tr><tr><td>Gato de Noche</td><td>Nengo Flow, Bad Bunny</td><td>2</td><td>2022</td><td>12</td><td>22</td><td>2651</td><td>30</td><td>304118600</td><td>21</td><td>55</td><td>32</td><td>3</td><td>0</td></tr><tr><td>Call Out My Name</td><td>The Weeknd</td><td>1</td><td>2018</td><td>3</td><td>29</td><td>11087</td><td>6</td><td>1449799467</td><td>151</td><td>107</td><td>801</td><td>1</td><td>105</td></tr><tr><td>Like Crazy (English Version)</td><td>Jimin</td><td>1</td><td>2023</td><td>3</td><td>24</td><td>373</td><td>19</td><td>173627354</td><td>4</td><td>72</td><td>5</td><td>0</td><td>5</td></tr><tr><td>Rosa Pastel</td><td>Jasiel Nu��ez, Peso P</td><td>2</td><td>2023</td><td>2</td><td>2</td><td>200</td><td>4</td><td>90025258</td><td>8</td><td>77</td><td>2</td><td>1</td><td>1</td></tr><tr><td>Sunroof</td><td>Nicky Youre, Dazy</td><td>2</td><td>2021</td><td>12</td><td>3</td><td>3741</td><td>17</td><td>652704649</td><td>156</td><td>35</td><td>110</td><td>19</td><td>0</td></tr><tr><td>Lose Yourself - Soundtrack Version</td><td>Eminem</td><td>1</td><td>2002</td><td>1</td><td>1</td><td>32502</td><td>21</td><td>1829992958</td><td>247</td><td>54</td><td>null</td><td>1</td><td>51</td></tr><tr><td>Superman</td><td>Eminem, Dina Rae</td><td>2</td><td>2002</td><td>5</td><td>26</td><td>7615</td><td>14</td><td>655466831</td><td>18</td><td>51</td><td>null</td><td>0</td><td>0</td></tr><tr><td>Mas Rica Que Ayer</td><td>Mambo Kingz, DJ Luian, Anuel Aa</td><td>3</td><td>2023</td><td>3</td><td>2</td><td>1208</td><td>34</td><td>146409671</td><td>10</td><td>41</td><td>20</td><td>0</td><td>1</td></tr><tr><td>People Pt.2 (feat. IU)</td><td>IU, Agust D</td><td>2</td><td>2023</td><td>4</td><td>7</td><td>209</td><td>4</td><td>95816024</td><td>4</td><td>45</td><td>11</td><td>2</td><td>24</td></tr><tr><td>REMIX EXCLUSIVO</td><td>Feid</td><td>1</td><td>2023</td><td>3</td><td>17</td><td>1235</td><td>9</td><td>117206995</td><td>20</td><td>8</td><td>15</td><td>0</td><td>6</td></tr><tr><td>Arc��ngel: Bzrp Music Sessions, Vol</td><td>Arcangel, Bizarrap</td><td>2</td><td>2023</td><td>3</td><td>22</td><td>654</td><td>3</td><td>100409613</td><td>11</td><td>3</td><td>18</td><td>1</td><td>1</td></tr><tr><td>DOGTOOTH</td><td>Tyler, The Creator</td><td>2</td><td>2023</td><td>3</td><td>27</td><td>1479</td><td>0</td><td>80758350</td><td>23</td><td>0</td><td>18</td><td>0</td><td>33</td></tr><tr><td>10:35</td><td>Ti��sto, Tate M</td><td>2</td><td>2022</td><td>11</td><td>1</td><td>4942</td><td>26</td><td>325592432</td><td>190</td><td>104</td><td>147</td><td>18</td><td>63</td></tr><tr><td>SORRY NOT SORRY</td><td>Tyler, The Creator</td><td>2</td><td>2023</td><td>3</td><td>31</td><td>709</td><td>0</td><td>58473276</td><td>8</td><td>1</td><td>13</td><td>0</td><td>0</td></tr><tr><td>HAPPY</td><td>NF</td><td>1</td><td>2023</td><td>3</td><td>25</td><td>660</td><td>0</td><td>52722996</td><td>22</td><td>7</td><td>11</td><td>0</td><td>78</td></tr><tr><td>La Bebe</td><td>Yng Lvcas</td><td>1</td><td>2021</td><td>12</td><td>24</td><td>489</td><td>17</td><td>191945597</td><td>4</td><td>11</td><td>5</td><td>1</td><td>2</td></tr><tr><td>I Know - PR1SVX Edit</td><td>Kanii, PR1ISVX</td><td>2</td><td>2023</td><td>3</td><td>24</td><td>407</td><td>0</td><td>77377503</td><td>16</td><td>15</td><td>5</td><td>0</td><td>1</td></tr><tr><td>Late Night Talking</td><td>Harry Styles</td><td>1</td><td>2022</td><td>5</td><td>20</td><td>7461</td><td>8</td><td>743693613</td><td>166</td><td>42</td><td>199</td><td>16</td><td>58</td></tr><tr><td>Le�</td><td>Mar��lia Mendo</td><td>1</td><td>2022</td><td>12</td><td>9</td><td>993</td><td>4</td><td>267789608</td><td>30</td><td>84</td><td>88</td><td>1</td><td>28</td></tr><tr><td>Save Your Tears (with Ariana Grande) (Remix)</td><td>Ariana Grande, The Weeknd</td><td>2</td><td>2020</td><td>3</td><td>20</td><td>9161</td><td>5</td><td>1221813483</td><td>240</td><td>98</td><td>468</td><td>3</td><td>10</td></tr><tr><td>Something in the Orange</td><td>Zach Bryan</td><td>1</td><td>2022</td><td>4</td><td>22</td><td>3282</td><td>12</td><td>449701773</td><td>67</td><td>84</td><td>46</td><td>16</td><td>117</td></tr><tr><td>VOID</td><td>Melanie Martinez</td><td>1</td><td>2023</td><td>3</td><td>29</td><td>596</td><td>0</td><td>67070410</td><td>29</td><td>9</td><td>12</td><td>0</td><td>52</td></tr><tr><td>Dijeron Que No La Iba Lograr</td><td>Fuerza Regida, Chino Pacas</td><td>2</td><td>2023</td><td>3</td><td>14</td><td>320</td><td>6</td><td>116334601</td><td>5</td><td>48</td><td>2</td><td>1</td><td>9</td></tr><tr><td>Midnight Rain</td><td>Taylor Swift</td><td>1</td><td>2022</td><td>10</td><td>21</td><td>2612</td><td>4</td><td>433356509</td><td>19</td><td>29</td><td>21</td><td>0</td><td>0</td></tr><tr><td>If We Ever Broke Up</td><td>Mae Stephens</td><td>1</td><td>2023</td><td>2</td><td>10</td><td>2040</td><td>4</td><td>165584767</td><td>81</td><td>27</td><td>66</td><td>9</td><td>444</td></tr><tr><td>You Proof</td><td>Morgan Wallen</td><td>1</td><td>2022</td><td>5</td><td>13</td><td>2128</td><td>9</td><td>367814306</td><td>37</td><td>88</td><td>9</td><td>0</td><td>14</td></tr><tr><td>LA INOCENTE</td><td>Feid, Mora</td><td>2</td><td>2022</td><td>4</td><td>1</td><td>2598</td><td>37</td><td>477033549</td><td>28</td><td>57</td><td>43</td><td>8</td><td>85</td></tr><tr><td>Malas Decisiones</td><td>Kenia OS</td><td>1</td><td>2022</td><td>10</td><td>26</td><td>542</td><td>2</td><td>156214700</td><td>23</td><td>2</td><td>21</td><td>0</td><td>0</td></tr><tr><td>Murder In My Mind</td><td>Kordhell</td><td>1</td><td>2022</td><td>1</td><td>21</td><td>2459</td><td>20</td><td>448843705</td><td>20</td><td>68</td><td>50</td><td>0</td><td>22</td></tr><tr><td>Gangsta's Paradise</td><td>Coolio, L.V.</td><td>2</td><td>1995</td><td>7</td><td>11</td><td>10624</td><td>17</td><td>1357608774</td><td>21</td><td>0</td><td>386</td><td>0</td><td>null</td></tr><tr><td>CAIRO</td><td>Karol G, Ovy On The Drums</td><td>2</td><td>2022</td><td>11</td><td>13</td><td>2418</td><td>26</td><td>294352144</td><td>52</td><td>66</td><td>55</td><td>1</td><td>16</td></tr><tr><td>I Love You So</td><td>The Walters</td><td>1</td><td>2014</td><td>11</td><td>28</td><td>7536</td><td>7</td><td>972164968</td><td>44</td><td>19</td><td>135</td><td>0</td><td>6</td></tr><tr><td>Dark Red</td><td>Steve Lacy</td><td>1</td><td>2017</td><td>2</td><td>20</td><td>10431</td><td>7</td><td>920045682</td><td>71</td><td>53</td><td>181</td><td>0</td><td>10</td></tr><tr><td>Say You Won't Let Go</td><td>James Arthur</td><td>1</td><td>2016</td><td>9</td><td>9</td><td>15722</td><td>16</td><td>null</td><td>231</td><td>37</td><td>null</td><td>0</td><td>13</td></tr><tr><td>The Hills</td><td>The Weeknd</td><td>1</td><td>2015</td><td>5</td><td>27</td><td>25744</td><td>4</td><td>1947371785</td><td>122</td><td>94</td><td>null</td><td>0</td><td>18</td></tr><tr><td>Heart To Heart</td><td>Mac DeMarco</td><td>1</td><td>2019</td><td>5</td><td>10</td><td>1640</td><td>0</td><td>244658767</td><td>27</td><td>27</td><td>29</td><td>1</td><td>1</td></tr><tr><td>Peaches (from The Super Mario Bros. Movie)</td><td>Jack Black</td><td>1</td><td>2023</td><td>4</td><td>7</td><td>34</td><td>0</td><td>68216992</td><td>0</td><td>0</td><td>0</td><td>0</td><td>0</td></tr><tr><td>Marisola - Remix</td><td>Duki, NICKI NICOLE, Cris Mj, Standly, Stars Music Chile</td><td>5</td><td>2022</td><td>12</td><td>15</td><td>1845</td><td>16</td><td>223582566</td><td>20</td><td>8</td><td>30</td><td>2</td><td>0</td></tr><tr><td>LOKERA</td><td>Brray, Rauw Alejandro, Lyanno</td><td>3</td><td>2022</td><td>7</td><td>25</td><td>3301</td><td>30</td><td>471819764</td><td>72</td><td>64</td><td>64</td><td>6</td><td>3</td></tr><tr><td>Low</td><td>SZA</td><td>1</td><td>2022</td><td>12</td><td>9</td><td>1911</td><td>0</td><td>272377463</td><td>23</td><td>71</td><td>14</td><td>0</td><td>9</td></tr><tr><td>Numb</td><td>Linkin Park</td><td>1</td><td>2003</td><td>3</td><td>24</td><td>20111</td><td>5</td><td>1361425037</td><td>39</td><td>0</td><td>null</td><td>0</td><td>0</td></tr><tr><td>Tormenta (feat. Bad Bunny)</td><td>Gorillaz, Bad Bunny</td><td>2</td><td>2023</td><td>2</td><td>24</td><td>1529</td><td>0</td><td>149778242</td><td>32</td><td>18</td><td>39</td><td>2</td><td>0</td></tr><tr><td>on the street (with J. Cole)</td><td>j-hope, J. Cole</td><td>2</td><td>2023</td><td>3</td><td>3</td><td>615</td><td>2</td><td>116599790</td><td>22</td><td>82</td><td>8</td><td>0</td><td>9</td></tr><tr><td>One Thing At A Time</td><td>Morgan Wallen</td><td>1</td><td>2022</td><td>12</td><td>2</td><td>811</td><td>4</td><td>148469433</td><td>11</td><td>58</td><td>5</td><td>0</td><td>21</td></tr><tr><td>Miss You</td><td>Robin Schulz, Oliver Tree</td><td>2</td><td>2022</td><td>8</td><td>5</td><td>5730</td><td>10</td><td>497225336</td><td>108</td><td>16</td><td>197</td><td>3</td><td>165</td></tr><tr><td>Ain���t Tha</td><td>Morgan Wallen</td><td>1</td><td>2023</td><td>3</td><td>3</td><td>356</td><td>4</td><td>88791109</td><td>4</td><td>20</td><td>0</td><td>0</td><td>0</td></tr><tr><td>Thinkin��� B</td><td>Morgan Wallen</td><td>1</td><td>2023</td><td>3</td><td>3</td><td>604</td><td>6</td><td>125917280</td><td>22</td><td>101</td><td>0</td><td>0</td><td>66</td></tr><tr><td>Private Landing (feat. Justin Bieber & Future)</td><td>Don Toliver, Future, Justin Bieber</td><td>3</td><td>2023</td><td>2</td><td>23</td><td>1190</td><td>0</td><td>105062254</td><td>29</td><td>3</td><td>18</td><td>0</td><td>19</td></tr><tr><td>Everything I Love</td><td>Morgan Wallen</td><td>1</td><td>2023</td><td>1</td><td>31</td><td>579</td><td>0</td><td>95623148</td><td>11</td><td>54</td><td>0</td><td>0</td><td>103</td></tr><tr><td>Heaven</td><td>Niall Horan</td><td>1</td><td>2023</td><td>2</td><td>17</td><td>1553</td><td>2</td><td>144584800</td><td>61</td><td>6</td><td>48</td><td>0</td><td>150</td></tr><tr><td>LET GO</td><td>Central Cee</td><td>1</td><td>2022</td><td>12</td><td>15</td><td>2301</td><td>20</td><td>298063749</td><td>49</td><td>23</td><td>110</td><td>0</td><td>8</td></tr><tr><td>Sial</td><td>Mahalini</td><td>1</td><td>2023</td><td>1</td><td>23</td><td>134</td><td>4</td><td>166570053</td><td>4</td><td>6</td><td>0</td><td>0</td><td>23</td></tr><tr><td>I Wrote The Book</td><td>Morgan Wallen</td><td>1</td><td>2023</td><td>1</td><td>31</td><td>430</td><td>0</td><td>83021468</td><td>15</td><td>17</td><td>0</td><td>0</td><td>0</td></tr><tr><td>Apna Bana Le (From \"Bhediya\")</td><td>Arijit Singh, Sachin-Jigar</td><td>2</td><td>2022</td><td>11</td><td>5</td><td>86</td><td>0</td><td>139836056</td><td>11</td><td>101</td><td>0</td><td>0</td><td>48</td></tr><tr><td>SPIT IN MY FACE!</td><td>ThxSoMch</td><td>1</td><td>2022</td><td>10</td><td>31</td><td>629</td><td>14</td><td>303216294</td><td>32</td><td>3</td><td>9</td><td>0</td><td>0</td></tr><tr><td>PLAYA DEL INGL�</td><td>Myke Towers, Quevedo</td><td>2</td><td>2022</td><td>12</td><td>15</td><td>1701</td><td>15</td><td>221409663</td><td>30</td><td>15</td><td>34</td><td>2</td><td>47</td></tr><tr><td>Man Made A Bar (feat. Eric Church)</td><td>Morgan Wallen, Eric Church</td><td>2</td><td>2023</td><td>3</td><td>3</td><td>329</td><td>0</td><td>58890931</td><td>14</td><td>35</td><td>1</td><td>0</td><td>0</td></tr><tr><td>Red Ruby Da Sleeze</td><td>Nicki Minaj</td><td>1</td><td>2023</td><td>3</td><td>3</td><td>1168</td><td>0</td><td>81419389</td><td>45</td><td>11</td><td>20</td><td>0</td><td>21</td></tr><tr><td>Kahani Suno 2.0</td><td>Kaifi Khalil</td><td>1</td><td>2022</td><td>5</td><td>31</td><td>162</td><td>6</td><td>156777415</td><td>1</td><td>10</td><td>1</td><td>0</td><td>1</td></tr><tr><td>Nobody Gets Me</td><td>SZA</td><td>1</td><td>2022</td><td>12</td><td>9</td><td>2536</td><td>6</td><td>284908316</td><td>59</td><td>100</td><td>58</td><td>13</td><td>2</td></tr><tr><td>PERO T�</td><td>Karol G, Quevedo</td><td>2</td><td>2023</td><td>2</td><td>23</td><td>387</td><td>11</td><td>93438910</td><td>11</td><td>15</td><td>14</td><td>3</td><td>1</td></tr><tr><td>Hype Boy</td><td>NewJeans</td><td>1</td><td>2022</td><td>8</td><td>1</td><td>892</td><td>17</td><td>363472647</td><td>20</td><td>119</td><td>12</td><td>2</td><td>7</td></tr><tr><td>Bloody Mary</td><td>Lady Gaga</td><td>1</td><td>2011</td><td>1</td><td>1</td><td>3909</td><td>0</td><td>372476382</td><td>66</td><td>26</td><td>277</td><td>3</td><td>734</td></tr><tr><td>Monoton�</td><td>Ozuna, Shakira</td><td>2</td><td>2022</td><td>10</td><td>19</td><td>3645</td><td>15</td><td>380726517</td><td>118</td><td>34</td><td>150</td><td>4</td><td>19</td></tr><tr><td>���98 Braves</td><td>Morgan Wallen</td><td>1</td><td>2023</td><td>3</td><td>3</td><td>282</td><td>0</td><td>56533272</td><td>6</td><td>15</td><td>0</td><td>0</td><td>0</td></tr><tr><td>WANDA</td><td>Quevedo</td><td>1</td><td>2023</td><td>1</td><td>20</td><td>888</td><td>22</td><td>175399345</td><td>11</td><td>24</td><td>7</td><td>1</td><td>7</td></tr><tr><td>Thought You Should Know</td><td>Morgan Wallen</td><td>1</td><td>2022</td><td>5</td><td>6</td><td>968</td><td>4</td><td>203221468</td><td>16</td><td>53</td><td>1</td><td>0</td><td>61</td></tr><tr><td>In The End</td><td>Linkin Park</td><td>1</td><td>2000</td><td>10</td><td>24</td><td>25065</td><td>6</td><td>1624165576</td><td>63</td><td>0</td><td>null</td><td>2</td><td>0</td></tr><tr><td>Zona De Perigo</td><td>Leo Santana</td><td>1</td><td>2022</td><td>12</td><td>8</td><td>531</td><td>4</td><td>134294498</td><td>20</td><td>1</td><td>71</td><td>2</td><td>0</td></tr><tr><td>Lovezinho</td><td>Treyce</td><td>1</td><td>2022</td><td>7</td><td>28</td><td>242</td><td>0</td><td>70069745</td><td>12</td><td>2</td><td>13</td><td>0</td><td>4</td></tr><tr><td>I Like You (A Happier Song) (with Doja Cat)</td><td>Post Malone, Doja Cat</td><td>2</td><td>2022</td><td>6</td><td>3</td><td>5281</td><td>14</td><td>609293408</td><td>94</td><td>21</td><td>80</td><td>15</td><td>38</td></tr><tr><td>Neverita</td><td>Bad Bunny</td><td>1</td><td>2022</td><td>5</td><td>6</td><td>2590</td><td>30</td><td>671365962</td><td>20</td><td>64</td><td>35</td><td>6</td><td>0</td></tr><tr><td>Vista Al Mar</td><td>Quevedo</td><td>1</td><td>2022</td><td>9</td><td>8</td><td>1769</td><td>34</td><td>362361576</td><td>16</td><td>19</td><td>21</td><td>3</td><td>4</td></tr><tr><td>Sem Alian��a no </td><td>MC Xenon, Os Gemeos da Putaria</td><td>2</td><td>2022</td><td>12</td><td>23</td><td>454</td><td>4</td><td>93587665</td><td>6</td><td>1</td><td>21</td><td>0</td><td>1</td></tr><tr><td>Enemy (with JID) - from the series Arcane League of Legends</td><td>Imagine Dragons, League of Legends, JID, Arcane</td><td>4</td><td>2021</td><td>9</td><td>3</td><td>6180</td><td>7</td><td>1223481149</td><td>122</td><td>88</td><td>580</td><td>21</td><td>10</td></tr><tr><td>Revenge</td><td>XXXTENTACION</td><td>1</td><td>2017</td><td>8</td><td>25</td><td>3600</td><td>11</td><td>1022258230</td><td>7</td><td>0</td><td>203</td><td>0</td><td>2</td></tr><tr><td>Bombonzinho - Ao Vivo</td><td>Israel & Rodolffo, Ana Castela</td><td>2</td><td>2022</td><td>11</td><td>3</td><td>1254</td><td>6</td><td>263453310</td><td>26</td><td>69</td><td>73</td><td>2</td><td>6</td></tr><tr><td>LA CANCI�</td><td>J Balvin, Bad Bunny</td><td>2</td><td>2019</td><td>6</td><td>28</td><td>6398</td><td>31</td><td>1435127549</td><td>177</td><td>109</td><td>305</td><td>3</td><td>5</td></tr><tr><td>Qu�� Ago</td><td>Yuridia, Angela Aguilar</td><td>2</td><td>2022</td><td>10</td><td>20</td><td>660</td><td>15</td><td>236857112</td><td>19</td><td>59</td><td>18</td><td>5</td><td>52</td></tr><tr><td>Love Again</td><td>The Kid Laroi</td><td>1</td><td>2023</td><td>1</td><td>27</td><td>1283</td><td>0</td><td>147538971</td><td>57</td><td>4</td><td>48</td><td>0</td><td>0</td></tr><tr><td>After Hours</td><td>The Weeknd</td><td>1</td><td>2020</td><td>2</td><td>19</td><td>8084</td><td>6</td><td>698086140</td><td>45</td><td>115</td><td>218</td><td>1</td><td>221</td></tr><tr><td>About Damn Time</td><td>Lizzo</td><td>1</td><td>2022</td><td>7</td><td>15</td><td>2332</td><td>2</td><td>723894473</td><td>0</td><td>0</td><td>25</td><td>0</td><td>0</td></tr><tr><td>Born With A Beer In My Hand</td><td>Morgan Wallen</td><td>1</td><td>2023</td><td>3</td><td>3</td><td>203</td><td>0</td><td>34450974</td><td>5</td><td>9</td><td>0</td><td>0</td><td>0</td></tr><tr><td>���������������������</td><td>Fujii Kaze</td><td>1</td><td>2020</td><td>5</td><td>20</td><td>685</td><td>14</td><td>403097450</td><td>24</td><td>94</td><td>9</td><td>0</td><td>23</td></tr><tr><td>Besos Moja2</td><td>Wisin & Yandel, ROSAL�</td><td>2</td><td>2022</td><td>9</td><td>29</td><td>2460</td><td>13</td><td>309483971</td><td>53</td><td>7</td><td>56</td><td>3</td><td>1</td></tr><tr><td>Maan Meri Jaan</td><td>King</td><td>1</td><td>2022</td><td>10</td><td>12</td><td>288</td><td>6</td><td>319566866</td><td>11</td><td>80</td><td>1</td><td>0</td><td>8</td></tr><tr><td>Moscow Mule</td><td>Bad Bunny</td><td>1</td><td>2022</td><td>5</td><td>6</td><td>4572</td><td>33</td><td>909001996</td><td>74</td><td>113</td><td>85</td><td>9</td><td>2</td></tr><tr><td>My Universe</td><td>Coldplay, BTS</td><td>2</td><td>2021</td><td>9</td><td>24</td><td>6127</td><td>13</td><td>1061966512</td><td>0</td><td>0</td><td>0</td><td>0</td><td>0</td></tr><tr><td>Devil Don���</td><td>Morgan Wallen</td><td>1</td><td>2023</td><td>3</td><td>3</td><td>166</td><td>0</td><td>32526947</td><td>2</td><td>10</td><td>0</td><td>0</td><td>0</td></tr><tr><td>LLYLM</td><td>ROSAL�</td><td>1</td><td>2023</td><td>1</td><td>27</td><td>1838</td><td>0</td><td>124988687</td><td>105</td><td>41</td><td>114</td><td>1</td><td>59</td></tr><tr><td>I'm Not Here To Make Friends</td><td>Sam Smith, Calvin Harris, Jessie Reyez</td><td>3</td><td>2023</td><td>1</td><td>27</td><td>1890</td><td>0</td><td>103787664</td><td>86</td><td>1</td><td>49</td><td>0</td><td>9</td></tr><tr><td>TRUSTFALL</td><td>P!nk</td><td>1</td><td>2023</td><td>1</td><td>27</td><td>2098</td><td>16</td><td>134255790</td><td>88</td><td>24</td><td>101</td><td>7</td><td>451</td></tr><tr><td>ANTIFRAGILE</td><td>LE SSERAFIM</td><td>1</td><td>2022</td><td>10</td><td>17</td><td>761</td><td>12</td><td>301051721</td><td>23</td><td>95</td><td>11</td><td>0</td><td>3</td></tr><tr><td>Boy's a liar</td><td>PinkPantheress</td><td>1</td><td>2022</td><td>11</td><td>30</td><td>1225</td><td>0</td><td>156338624</td><td>27</td><td>0</td><td>28</td><td>13</td><td>0</td></tr><tr><td>VIBE (feat. Jimin of BTS)</td><td>TAEYANG, Jimin</td><td>2</td><td>2023</td><td>1</td><td>13</td><td>415</td><td>2</td><td>152850295</td><td>15</td><td>40</td><td>21</td><td>1</td><td>15</td></tr><tr><td>Shirt</td><td>SZA</td><td>1</td><td>2022</td><td>10</td><td>28</td><td>3469</td><td>0</td><td>309653982</td><td>71</td><td>95</td><td>31</td><td>0</td><td>2</td></tr><tr><td>Lift Me Up - From Black Panther: Wakanda Forever - Music From and Inspired By</td><td>Rihanna</td><td>1</td><td>2022</td><td>10</td><td>28</td><td>3311</td><td>0</td><td>297328960</td><td>129</td><td>31</td><td>212</td><td>1</td><td>41</td></tr><tr><td>STAR WALKIN' (League of Legends Worlds Anthem)</td><td>Lil Nas X</td><td>1</td><td>2022</td><td>9</td><td>22</td><td>2616</td><td>0</td><td>332506354</td><td>113</td><td>17</td><td>208</td><td>0</td><td>192</td></tr><tr><td>Sex, Drugs, Etc.</td><td>Beach Weather</td><td>1</td><td>2016</td><td>11</td><td>4</td><td>3006</td><td>16</td><td>480507035</td><td>47</td><td>60</td><td>87</td><td>12</td><td>124</td></tr><tr><td>Boy With Luv (feat. Halsey)</td><td>Halsey, BTS</td><td>2</td><td>2019</td><td>4</td><td>12</td><td>4260</td><td>0</td><td>1065580332</td><td>113</td><td>92</td><td>259</td><td>0</td><td>1</td></tr><tr><td>Hey, Mickey!</td><td>Baby Tate</td><td>1</td><td>2016</td><td>9</td><td>27</td><td>482</td><td>0</td><td>122763672</td><td>9</td><td>1</td><td>12</td><td>4</td><td>3</td></tr><tr><td>Calm Down</td><td>R��</td><td>1</td><td>2022</td><td>2</td><td>9</td><td>4013</td><td>10</td><td>445763624</td><td>107</td><td>44</td><td>750</td><td>22</td><td>null</td></tr><tr><td>Jhoome Jo Pathaan</td><td>Arijit Singh, Vishal Dadlani, Sukriti Kakar, Vishal-Shekhar, Shekhar Ravjiani, Kumaar</td><td>6</td><td>2022</td><td>12</td><td>22</td><td>138</td><td>4</td><td>1365184</td><td>13</td><td>78</td><td>2</td><td>0</td><td>0</td></tr><tr><td>Escapism. - Sped Up</td><td>RAYE, 070 Shake</td><td>2</td><td>2022</td><td>11</td><td>25</td><td>1368</td><td>0</td><td>184308753</td><td>12</td><td>1</td><td>11</td><td>0</td><td>8</td></tr><tr><td>Space Song</td><td>Beach House</td><td>1</td><td>2015</td><td>1</td><td>1</td><td>17852</td><td>4</td><td>789753877</td><td>69</td><td>76</td><td>335</td><td>0</td><td>null</td></tr><tr><td>Dreamers [Music from the FIFA World Cup Qatar 2022 Official Soundtrack]</td><td>BTS, Jung Kook, FIFA Sound</td><td>3</td><td>2022</td><td>11</td><td>20</td><td>889</td><td>20</td><td>323358833</td><td>11</td><td>78</td><td>35</td><td>0</td><td>21</td></tr><tr><td>Te Felicito</td><td>Shakira, Rauw Alejandro</td><td>2</td><td>2022</td><td>4</td><td>21</td><td>4796</td><td>9</td><td>606361689</td><td>124</td><td>66</td><td>212</td><td>13</td><td>1</td></tr><tr><td>Mu��</td><td>Steve Aoki, Tini, La Joaqui</td><td>3</td><td>2023</td><td>1</td><td>12</td><td>658</td><td>6</td><td>120972253</td><td>33</td><td>7</td><td>53</td><td>2</td><td>0</td></tr><tr><td>TV</td><td>Billie Eilish</td><td>1</td><td>2022</td><td>7</td><td>21</td><td>3009</td><td>2</td><td>338564981</td><td>68</td><td>89</td><td>65</td><td>0</td><td>25</td></tr><tr><td>I'm Not The Only One</td><td>Sam Smith</td><td>1</td><td>2014</td><td>1</td><td>1</td><td>17492</td><td>3</td><td>1606986953</td><td>136</td><td>24</td><td>null</td><td>0</td><td>30</td></tr><tr><td>Heather</td><td>Conan Gray</td><td>1</td><td>2020</td><td>3</td><td>20</td><td>6170</td><td>7</td><td>1301799902</td><td>82</td><td>1</td><td>231</td><td>0</td><td>2</td></tr><tr><td>Besharam Rang (From \"Pathaan\")</td><td>Vishal-Shekhar, Shilpa Rao, Caralisa Monteiro, Kumaar, Vishal Dadlani, Shekhar Ravjiani</td><td>6</td><td>2022</td><td>12</td><td>12</td><td>130</td><td>4</td><td>140187018</td><td>21</td><td>79</td><td>2</td><td>0</td><td>0</td></tr><tr><td>One Kiss (with Dua Lipa)</td><td>Calvin Harris, Dua Lipa</td><td>2</td><td>2017</td><td>6</td><td>2</td><td>27705</td><td>10</td><td>1897517891</td><td>537</td><td>122</td><td>null</td><td>6</td><td>null</td></tr><tr><td>Sugar Rush Ride</td><td>TOMORROW X TOGETHER</td><td>1</td><td>2023</td><td>1</td><td>27</td><td>359</td><td>0</td><td>107642809</td><td>12</td><td>56</td><td>13</td><td>0</td><td>13</td></tr><tr><td>Pink Venom</td><td>BLACKPINK</td><td>1</td><td>2022</td><td>8</td><td>19</td><td>1963</td><td>16</td><td>551305895</td><td>57</td><td>119</td><td>77</td><td>1</td><td>13</td></tr><tr><td>WAIT FOR U (feat. Drake & Tems)</td><td>Drake, Future, Tems</td><td>3</td><td>2022</td><td>4</td><td>27</td><td>5491</td><td>14</td><td>556585270</td><td>128</td><td>84</td><td>75</td><td>0</td><td>35</td></tr><tr><td>Don't Start Now</td><td>Dua Lipa</td><td>1</td><td>2019</td><td>10</td><td>31</td><td>27119</td><td>0</td><td>null</td><td>532</td><td>77</td><td>null</td><td>3</td><td>8</td></tr><tr><td>After Dark</td><td>Mr.Kitty</td><td>1</td><td>2014</td><td>8</td><td>8</td><td>1776</td><td>14</td><td>646886885</td><td>1</td><td>9</td><td>3</td><td>0</td><td>0</td></tr><tr><td>Eu Gosto Assim - Ao Vivo</td><td>Gustavo Mioto, Mari Fernandez</td><td>2</td><td>2022</td><td>9</td><td>16</td><td>1473</td><td>4</td><td>222612678</td><td>27</td><td>64</td><td>66</td><td>1</td><td>4</td></tr><tr><td>INDUSTRY BABY (feat. Jack Harlow)</td><td>Jack Harlow, Lil Nas X</td><td>2</td><td>2021</td><td>7</td><td>23</td><td>13315</td><td>0</td><td>1814349763</td><td>300</td><td>47</td><td>690</td><td>0</td><td>null</td></tr><tr><td>MIDDLE OF THE NIGHT</td><td>Elley Duh�</td><td>1</td><td>2020</td><td>1</td><td>10</td><td>4057</td><td>8</td><td>872137015</td><td>78</td><td>21</td><td>240</td><td>1</td><td>52</td></tr><tr><td>Atlantis</td><td>Seafret</td><td>1</td><td>2015</td><td>4</td><td>22</td><td>3045</td><td>6</td><td>571386359</td><td>43</td><td>53</td><td>134</td><td>1</td><td>32</td></tr><tr><td>PUNTO 40</td><td>Baby Rasta, Rauw Alejandro</td><td>2</td><td>2022</td><td>9</td><td>22</td><td>3006</td><td>12</td><td>304079786</td><td>54</td><td>32</td><td>66</td><td>2</td><td>0</td></tr><tr><td>Evoque Prata</td><td>DJ Escobar, MC MENOR SG, MC MENOR HR</td><td>3</td><td>2022</td><td>9</td><td>9</td><td>852</td><td>0</td><td>174006928</td><td>14</td><td>1</td><td>50</td><td>0</td><td>0</td></tr><tr><td>How Do I Say Goodbye</td><td>Dean Lewis</td><td>1</td><td>2022</td><td>8</td><td>5</td><td>2163</td><td>15</td><td>284785823</td><td>72</td><td>97</td><td>58</td><td>0</td><td>154</td></tr><tr><td>Blind</td><td>SZA</td><td>1</td><td>2022</td><td>12</td><td>9</td><td>1484</td><td>0</td><td>163284000</td><td>22</td><td>51</td><td>12</td><td>0</td><td>0</td></tr><tr><td>Die For You</td><td>Joji</td><td>1</td><td>2022</td><td>11</td><td>4</td><td>1703</td><td>0</td><td>246390068</td><td>38</td><td>45</td><td>36</td><td>16</td><td>0</td></tr><tr><td>Doja</td><td>Central Cee</td><td>1</td><td>2022</td><td>7</td><td>20</td><td>4169</td><td>44</td><td>482257456</td><td>57</td><td>44</td><td>183</td><td>1</td><td>11</td></tr><tr><td>Gatita</td><td>Bellakath</td><td>1</td><td>2022</td><td>10</td><td>3</td><td>1054</td><td>0</td><td>168684524</td><td>9</td><td>0</td><td>15</td><td>0</td><td>1</td></tr><tr><td>Rumble</td><td>Skrillex, Flowdan, Fred again..</td><td>3</td><td>2022</td><td>1</td><td>17</td><td>2849</td><td>0</td><td>78489819</td><td>39</td><td>45</td><td>27</td><td>0</td><td>1</td></tr><tr><td>Niagara Falls (Foot or 2) [with Travis Scott & 21 Savage]</td><td>Travis Scott, 21 Savage, Metro Boomin</td><td>3</td><td>2022</td><td>12</td><td>2</td><td>1602</td><td>0</td><td>195516622</td><td>12</td><td>22</td><td>12</td><td>0</td><td>2</td></tr><tr><td>Yonaguni</td><td>Bad Bunny</td><td>1</td><td>2021</td><td>6</td><td>4</td><td>9644</td><td>28</td><td>1260594497</td><td>120</td><td>86</td><td>164</td><td>4</td><td>0</td></tr><tr><td>Super Freaky Girl</td><td>Nicki Minaj</td><td>1</td><td>2022</td><td>8</td><td>12</td><td>4827</td><td>0</td><td>428685680</td><td>104</td><td>17</td><td>76</td><td>9</td><td>2</td></tr><tr><td>Running Up That Hill (A Deal With God)</td><td>Kate Bush</td><td>1</td><td>1985</td><td>9</td><td>16</td><td>21811</td><td>0</td><td>1024858327</td><td>117</td><td>1</td><td>676</td><td>3</td><td>0</td></tr><tr><td>Dream On</td><td>Aerosmith</td><td>1</td><td>1973</td><td>1</td><td>5</td><td>168</td><td>0</td><td>838586769</td><td>0</td><td>0</td><td>5</td><td>0</td><td>0</td></tr><tr><td>Limbo</td><td>Freddie Dredd</td><td>1</td><td>2022</td><td>8</td><td>11</td><td>688</td><td>0</td><td>199386237</td><td>14</td><td>1</td><td>17</td><td>0</td><td>2</td></tr><tr><td>Where Are You Now</td><td>Lost Frequencies, Calum Scott</td><td>2</td><td>2021</td><td>7</td><td>30</td><td>10565</td><td>44</td><td>972509632</td><td>238</td><td>122</td><td>557</td><td>17</td><td>58</td></tr><tr><td>WORTH NOTHING</td><td>Twisted, Oliver Tree</td><td>2</td><td>2022</td><td>9</td><td>28</td><td>1612</td><td>0</td><td>213438580</td><td>34</td><td>54</td><td>34</td><td>0</td><td>2</td></tr><tr><td>Bad Habits</td><td>Ed Sheeran</td><td>1</td><td>2020</td><td>9</td><td>3</td><td>12755</td><td>8</td><td>1555511105</td><td>344</td><td>97</td><td>945</td><td>15</td><td>null</td></tr><tr><td>KICK BACK</td><td>Kenshi Yonezu</td><td>1</td><td>2022</td><td>10</td><td>12</td><td>574</td><td>4</td><td>210038833</td><td>38</td><td>101</td><td>26</td><td>0</td><td>0</td></tr><tr><td>Evergreen (You Didn���t Deserve Me A</td><td>Omar Apollo</td><td>1</td><td>2022</td><td>4</td><td>8</td><td>2499</td><td>0</td><td>227918678</td><td>70</td><td>0</td><td>49</td><td>0</td><td>0</td></tr><tr><td>Good Days</td><td>SZA</td><td>1</td><td>2020</td><td>12</td><td>24</td><td>10426</td><td>2</td><td>826623384</td><td>133</td><td>109</td><td>182</td><td>1</td><td>10</td></tr><tr><td>Levitating (feat. DaBaby)</td><td>Dua Lipa, DaBaby</td><td>2</td><td>2020</td><td>3</td><td>27</td><td>15894</td><td>8</td><td>1802514301</td><td>198</td><td>13</td><td>544</td><td>0</td><td>60</td></tr><tr><td>Woman</td><td>Doja Cat</td><td>1</td><td>2021</td><td>6</td><td>25</td><td>9424</td><td>0</td><td>1329090101</td><td>202</td><td>50</td><td>463</td><td>4</td><td>null</td></tr><tr><td>Shut up My Moms Calling - (Sped Up)</td><td>Hotel Ugly</td><td>1</td><td>2022</td><td>9</td><td>14</td><td>713</td><td>7</td><td>181831132</td><td>2</td><td>4</td><td>6</td><td>0</td><td>0</td></tr><tr><td>Ferrari</td><td>James Hype, Miggy Dela Rosa</td><td>2</td><td>2022</td><td>3</td><td>14</td><td>7758</td><td>28</td><td>462791599</td><td>173</td><td>79</td><td>175</td><td>0</td><td>168</td></tr><tr><td>You're On Your Own, Kid</td><td>Taylor Swift</td><td>1</td><td>2022</td><td>10</td><td>21</td><td>2537</td><td>2</td><td>348647203</td><td>8</td><td>18</td><td>20</td><td>0</td><td>1</td></tr><tr><td>Kesariya (From \"Brahmastra\")</td><td>Pritam, Arijit Singh, Amitabh Bhattacharya</td><td>3</td><td>2022</td><td>7</td><td>17</td><td>292</td><td>6</td><td>366599607</td><td>26</td><td>98</td><td>4</td><td>0</td><td>0</td></tr><tr><td>Agudo M��gi</td><td>Styrx, utku INC, Thezth</td><td>3</td><td>1930</td><td>1</td><td>1</td><td>323</td><td>0</td><td>90598517</td><td>4</td><td>0</td><td>14</td><td>0</td><td>0</td></tr><tr><td>Payphone</td><td>Maroon 5, Wiz Khalifa</td><td>2</td><td>2012</td><td>1</td><td>1</td><td>14143</td><td>4</td><td>1479264469</td><td>56</td><td>38</td><td>null</td><td>1</td><td>null</td></tr><tr><td>All I Want for Christmas Is You</td><td>Mariah Carey</td><td>1</td><td>1994</td><td>10</td><td>28</td><td>25653</td><td>0</td><td>1449779435</td><td>387</td><td>132</td><td>null</td><td>0</td><td>null</td></tr><tr><td>Last Christmas</td><td>Wham!</td><td>1</td><td>1984</td><td>1</td><td>1</td><td>22153</td><td>0</td><td>1159176109</td><td>274</td><td>111</td><td>null</td><td>0</td><td>null</td></tr><tr><td>Rockin' Around The Christmas Tree</td><td>Brenda Lee</td><td>1</td><td>1958</td><td>1</td><td>1</td><td>14994</td><td>0</td><td>769213520</td><td>191</td><td>168</td><td>206</td><td>0</td><td>null</td></tr><tr><td>Jingle Bell Rock</td><td>Bobby Helms</td><td>1</td><td>1957</td><td>1</td><td>1</td><td>10326</td><td>0</td><td>741301563</td><td>165</td><td>99</td><td>104</td><td>0</td><td>null</td></tr><tr><td>It's Beginning To Look A Lot Like Christmas</td><td>Michael Bubl�</td><td>1</td><td>2011</td><td>10</td><td>14</td><td>12353</td><td>0</td><td>807561936</td><td>35</td><td>0</td><td>549</td><td>0</td><td>0</td></tr><tr><td>Santa Tell Me</td><td>Ariana Grande</td><td>1</td><td>2013</td><td>12</td><td>13</td><td>9408</td><td>0</td><td>834129063</td><td>231</td><td>106</td><td>439</td><td>0</td><td>null</td></tr><tr><td>It's the Most Wonderful Time of the Year</td><td>Andy Williams</td><td>1</td><td>1963</td><td>10</td><td>14</td><td>8879</td><td>0</td><td>663832097</td><td>182</td><td>107</td><td>160</td><td>0</td><td>1</td></tr><tr><td>Let It Snow! Let It Snow! Let It Snow!</td><td>Dean Martin</td><td>1</td><td>1959</td><td>11</td><td>16</td><td>6512</td><td>0</td><td>446390129</td><td>88</td><td>1</td><td>277</td><td>0</td><td>0</td></tr><tr><td>Snowman</td><td>Sia</td><td>1</td><td>2017</td><td>1</td><td>1</td><td>5140</td><td>0</td><td>690104769</td><td>85</td><td>110</td><td>500</td><td>0</td><td>null</td></tr><tr><td>Underneath the Tree</td><td>Kelly Clarkson</td><td>1</td><td>2013</td><td>10</td><td>25</td><td>6596</td><td>0</td><td>485285717</td><td>144</td><td>99</td><td>251</td><td>0</td><td>0</td></tr><tr><td>Feliz Navidad</td><td>Jos�� Felic</td><td>1</td><td>1970</td><td>11</td><td>1</td><td>3788</td><td>0</td><td>520034544</td><td>21</td><td>3</td><td>10</td><td>0</td><td>0</td></tr><tr><td>Holly Jolly Christmas</td><td>Michael Bubl�</td><td>1</td><td>2011</td><td>10</td><td>14</td><td>7655</td><td>0</td><td>476244795</td><td>5</td><td>0</td><td>291</td><td>0</td><td>0</td></tr><tr><td>Mistletoe</td><td>Justin Bieber</td><td>1</td><td>2011</td><td>1</td><td>1</td><td>9577</td><td>0</td><td>629173063</td><td>195</td><td>111</td><td>310</td><td>0</td><td>0</td></tr><tr><td>Sleigh Ride</td><td>The Ronettes</td><td>1</td><td>1963</td><td>11</td><td>22</td><td>10114</td><td>0</td><td>404664135</td><td>114</td><td>74</td><td>262</td><td>0</td><td>0</td></tr><tr><td>Seek & Destroy</td><td>SZA</td><td>1</td><td>2022</td><td>12</td><td>9</td><td>1007</td><td>0</td><td>98709329</td><td>5</td><td>31</td><td>1</td><td>0</td><td>0</td></tr><tr><td>Love Language</td><td>SZA</td><td>1</td><td>2022</td><td>12</td><td>9</td><td>1127</td><td>0</td><td>110849052</td><td>16</td><td>63</td><td>8</td><td>0</td><td>0</td></tr><tr><td>Happy Xmas (War Is Over)</td><td>John Lennon, The Harlem Community Choir, The Plastic Ono Band, Yoko Ono</td><td>4</td><td>1971</td><td>12</td><td>1</td><td>10829</td><td>0</td><td>460492795</td><td>130</td><td>1</td><td>390</td><td>0</td><td>0</td></tr><tr><td>Used (feat. Don Toliver)</td><td>SZA, Don Toliver</td><td>2</td><td>2022</td><td>12</td><td>8</td><td>1042</td><td>0</td><td>94005786</td><td>7</td><td>29</td><td>3</td><td>0</td><td>0</td></tr><tr><td>A Holly Jolly Christmas - Single Version</td><td>Burl Ives</td><td>1</td><td>1952</td><td>1</td><td>1</td><td>7930</td><td>0</td><td>395591396</td><td>108</td><td>120</td><td>73</td><td>0</td><td>0</td></tr><tr><td>The Christmas Song (Merry Christmas To You) - Remastered 1999</td><td>Nat King Cole</td><td>1</td><td>1946</td><td>11</td><td>1</td><td>11500</td><td>0</td><td>389771964</td><td>140</td><td>72</td><td>251</td><td>0</td><td>0</td></tr><tr><td>Wonderful Christmastime - Edited Version / Remastered 2011</td><td>Paul McCartney</td><td>1</td><td>1979</td><td>11</td><td>16</td><td>1685</td><td>0</td><td>403939487</td><td>1</td><td>0</td><td>29</td><td>0</td><td>0</td></tr><tr><td>Do They Know It's Christmas? - 1984 Version</td><td>Band Aid</td><td>1</td><td>1984</td><td>11</td><td>25</td><td>14169</td><td>0</td><td>481697415</td><td>209</td><td>30</td><td>449</td><td>0</td><td>0</td></tr><tr><td>Ghost in the Machine (feat. Phoebe Bridgers)</td><td>SZA, Phoebe Bridgers</td><td>2</td><td>2022</td><td>12</td><td>9</td><td>1634</td><td>0</td><td>110073250</td><td>16</td><td>20</td><td>4</td><td>0</td><td>0</td></tr><tr><td>Special</td><td>SZA</td><td>1</td><td>2022</td><td>12</td><td>9</td><td>906</td><td>0</td><td>88092256</td><td>6</td><td>21</td><td>3</td><td>0</td><td>0</td></tr><tr><td>Merry Christmas Everyone</td><td>Shakin' Stevens</td><td>1</td><td>1984</td><td>1</td><td>1</td><td>1087</td><td>0</td><td>351636786</td><td>90</td><td>35</td><td>5</td><td>0</td><td>0</td></tr><tr><td>Let It Snow! Let It Snow! Let It Snow!</td><td>Frank Sinatra, B. Swanson Quartet</td><td>2</td><td>1950</td><td>1</td><td>1</td><td>10585</td><td>0</td><td>473248298</td><td>126</td><td>108</td><td>406</td><td>0</td><td>0</td></tr><tr><td>SOS</td><td>SZA</td><td>1</td><td>2022</td><td>12</td><td>9</td><td>827</td><td>0</td><td>73981293</td><td>6</td><td>18</td><td>1</td><td>0</td><td>0</td></tr><tr><td>Open Arms (feat. Travis Scott)</td><td>SZA, Travis Scott</td><td>2</td><td>2022</td><td>12</td><td>8</td><td>1420</td><td>4</td><td>155653938</td><td>13</td><td>87</td><td>17</td><td>0</td><td>46</td></tr><tr><td>White Christmas</td><td>Bing Crosby, John Scott Trotter & His Orchestra, Ken Darby Singers</td><td>3</td><td>1942</td><td>1</td><td>1</td><td>11940</td><td>0</td><td>395591396</td><td>73</td><td>79</td><td>123</td><td>0</td><td>0</td></tr><tr><td>Driving Home for Christmas - 2019 Remaster</td><td>Chris Rea</td><td>1</td><td>1986</td><td>1</td><td>1</td><td>888</td><td>0</td><td>429504768</td><td>50</td><td>0</td><td>6</td><td>0</td><td>0</td></tr><tr><td>Christmas (Baby Please Come Home)</td><td>Darlene Love</td><td>1</td><td>1963</td><td>11</td><td>22</td><td>9122</td><td>0</td><td>242767149</td><td>121</td><td>58</td><td>212</td><td>0</td><td>0</td></tr><tr><td>Gone Girl</td><td>SZA</td><td>1</td><td>2022</td><td>12</td><td>9</td><td>892</td><td>0</td><td>65362788</td><td>3</td><td>17</td><td>2</td><td>0</td><td>0</td></tr><tr><td>F2F</td><td>SZA</td><td>1</td><td>2022</td><td>12</td><td>9</td><td>989</td><td>0</td><td>67540165</td><td>5</td><td>9</td><td>1</td><td>0</td><td>0</td></tr><tr><td>Notice Me</td><td>SZA</td><td>1</td><td>2022</td><td>12</td><td>9</td><td>819</td><td>0</td><td>62019074</td><td>14</td><td>22</td><td>0</td><td>0</td><td>0</td></tr><tr><td>Merry Christmas</td><td>Ed Sheeran, Elton John</td><td>2</td><td>2017</td><td>11</td><td>10</td><td>2209</td><td>0</td><td>135723538</td><td>72</td><td>90</td><td>141</td><td>0</td><td>0</td></tr><tr><td>It's Beginning to Look a Lot Like Christmas (with Mitchell Ayres & His Orchestra)</td><td>Perry Como, The Fontane Sisters, Mitchell Ayres & His Orchestra</td><td>3</td><td>1958</td><td>1</td><td>1</td><td>6290</td><td>0</td><td>295998468</td><td>89</td><td>39</td><td>158</td><td>0</td><td>0</td></tr><tr><td>My Only Wish (This Year)</td><td>Britney Spears</td><td>1</td><td>2000</td><td>11</td><td>7</td><td>6952</td><td>0</td><td>261116938</td><td>115</td><td>53</td><td>286</td><td>0</td><td>0</td></tr><tr><td>Antidepresan</td><td>Mabel Matiz, Mert Demir</td><td>2</td><td>2022</td><td>11</td><td>4</td><td>313</td><td>2</td><td>136689549</td><td>10</td><td>6</td><td>7</td><td>1</td><td>9</td></tr><tr><td>Wild Flower (with youjeen)</td><td>RM</td><td>1</td><td>2022</td><td>12</td><td>2</td><td>353</td><td>2</td><td>135611421</td><td>2</td><td>74</td><td>14</td><td>0</td><td>2</td></tr><tr><td>I Hate U</td><td>SZA</td><td>1</td><td>2021</td><td>12</td><td>3</td><td>4094</td><td>0</td><td>356709897</td><td>66</td><td>96</td><td>43</td><td>0</td><td>0</td></tr><tr><td>Raindrops (Insane) [with Travis Scott]</td><td>Travis Scott, Metro Boomin</td><td>2</td><td>2022</td><td>12</td><td>2</td><td>880</td><td>0</td><td>110649992</td><td>3</td><td>7</td><td>10</td><td>0</td><td>0</td></tr><tr><td>SPIT IN MY FACE!</td><td>ThxSoMch</td><td>1</td><td>2022</td><td>10</td><td>31</td><td>573</td><td>0</td><td>301869854</td><td>1</td><td>0</td><td>18</td><td>0</td><td>24</td></tr><tr><td>Deck The Hall - Remastered 1999</td><td>Nat King Cole</td><td>1</td><td>1959</td><td>1</td><td>1</td><td>3299</td><td>0</td><td>127027715</td><td>65</td><td>39</td><td>41</td><td>0</td><td>0</td></tr><tr><td>Smoking on my Ex Pack</td><td>SZA</td><td>1</td><td>2022</td><td>12</td><td>9</td><td>811</td><td>0</td><td>57144458</td><td>6</td><td>11</td><td>3</td><td>0</td><td>0</td></tr><tr><td>Conceited</td><td>SZA</td><td>1</td><td>2022</td><td>12</td><td>9</td><td>899</td><td>0</td><td>56870689</td><td>2</td><td>14</td><td>2</td><td>0</td><td>0</td></tr><tr><td>Snow On The Beach (feat. Lana Del Rey)</td><td>Taylor Swift, Lana Del Rey</td><td>2</td><td>2022</td><td>10</td><td>21</td><td>2415</td><td>0</td><td>323437194</td><td>33</td><td>57</td><td>30</td><td>0</td><td>11</td></tr><tr><td>Maroon</td><td>Taylor Swift</td><td>1</td><td>2022</td><td>10</td><td>21</td><td>2304</td><td>0</td><td>317726339</td><td>12</td><td>16</td><td>14</td><td>0</td><td>0</td></tr><tr><td>Tubar��o Te</td><td>Dj LK da Esc��cia, Tchakabum, mc jhenny, M</td><td>4</td><td>2022</td><td>9</td><td>28</td><td>1003</td><td>0</td><td>116144341</td><td>21</td><td>0</td><td>44</td><td>0</td><td>0</td></tr><tr><td>Bejeweled</td><td>Taylor Swift</td><td>1</td><td>2022</td><td>10</td><td>21</td><td>2699</td><td>0</td><td>328207708</td><td>39</td><td>35</td><td>22</td><td>2</td><td>0</td></tr><tr><td>Tarot</td><td>Bad Bunny, Jhay Cortez</td><td>2</td><td>2022</td><td>5</td><td>6</td><td>2482</td><td>20</td><td>608228647</td><td>27</td><td>77</td><td>22</td><td>2</td><td>0</td></tr><tr><td>You Make It Feel Like Christmas (feat. Blake Shelton)</td><td>Gwen Stefani, Blake Shelton</td><td>2</td><td>2005</td><td>9</td><td>20</td><td>2577</td><td>0</td><td>180577478</td><td>108</td><td>56</td><td>30</td><td>0</td><td>0</td></tr><tr><td>Desesperados</td><td>Chencho Corleone, Rauw Alejandro</td><td>2</td><td>2021</td><td>6</td><td>25</td><td>6821</td><td>34</td><td>809306935</td><td>83</td><td>58</td><td>128</td><td>7</td><td>0</td></tr><tr><td>Too Late</td><td>SZA</td><td>1</td><td>2022</td><td>12</td><td>8</td><td>714</td><td>0</td><td>49262961</td><td>0</td><td>9</td><td>2</td><td>0</td><td>0</td></tr><tr><td>Party</td><td>Bad Bunny, Rauw Alejandro</td><td>2</td><td>2022</td><td>5</td><td>6</td><td>3185</td><td>4</td><td>614555082</td><td>38</td><td>64</td><td>37</td><td>3</td><td>36</td></tr><tr><td>Run Rudolph Run - Single Version</td><td>Chuck Berry</td><td>1</td><td>1958</td><td>1</td><td>1</td><td>8612</td><td>0</td><td>245350949</td><td>120</td><td>30</td><td>52</td><td>0</td><td>1</td></tr><tr><td>Jingle Bells - Remastered 1999</td><td>Frank Sinatra</td><td>1</td><td>1957</td><td>1</td><td>1</td><td>4326</td><td>0</td><td>178660459</td><td>32</td><td>3</td><td>65</td><td>0</td><td>0</td></tr><tr><td>Far</td><td>SZA</td><td>1</td><td>2022</td><td>12</td><td>9</td><td>680</td><td>0</td><td>51641685</td><td>2</td><td>15</td><td>1</td><td>0</td><td>0</td></tr><tr><td>On Time (with John Legend)</td><td>John Legend, Metro Boomin</td><td>2</td><td>2022</td><td>12</td><td>2</td><td>398</td><td>0</td><td>78139948</td><td>2</td><td>2</td><td>6</td><td>0</td><td>2</td></tr><tr><td>GAT��</td><td>Maldy, Karol G</td><td>2</td><td>2022</td><td>8</td><td>25</td><td>3328</td><td>13</td><td>322336177</td><td>39</td><td>50</td><td>57</td><td>3</td><td>1</td></tr><tr><td>���abcdefu</td><td>Gayle</td><td>1</td><td>2021</td><td>8</td><td>13</td><td>7215</td><td>0</td><td>1007612429</td><td>170</td><td>12</td><td>575</td><td>18</td><td>null</td></tr><tr><td>Sacrifice</td><td>The Weeknd</td><td>1</td><td>2022</td><td>1</td><td>7</td><td>4440</td><td>0</td><td>326792833</td><td>81</td><td>77</td><td>133</td><td>0</td><td>null</td></tr><tr><td>Is There Someone Else?</td><td>The Weeknd</td><td>1</td><td>2022</td><td>1</td><td>7</td><td>2881</td><td>6</td><td>391251368</td><td>13</td><td>89</td><td>34</td><td>0</td><td>3</td></tr><tr><td>Fingers Crossed</td><td>Lauren Spencer Smith, Lauren Spencer Smith, Lauren Spencer Smith</td><td>3</td><td>2022</td><td>1</td><td>5</td><td>2235</td><td>0</td><td>349585590</td><td>65</td><td>7</td><td>70</td><td>16</td><td>6</td></tr><tr><td>Out of Time</td><td>The Weeknd</td><td>1</td><td>2022</td><td>1</td><td>7</td><td>3711</td><td>0</td><td>339659802</td><td>49</td><td>88</td><td>62</td><td>0</td><td>null</td></tr><tr><td>Do It To It</td><td>Cherish, ACRAZE</td><td>2</td><td>2021</td><td>8</td><td>20</td><td>12403</td><td>0</td><td>674772936</td><td>183</td><td>63</td><td>465</td><td>0</td><td>11</td></tr><tr><td>We Don't Talk About Bruno</td><td>Adassa, Mauro Castillo, Stephanie Beatriz, Encanto - Cast, Rhenzy Feliz, Diane Guerrero, Carolina Gaitan</td><td>7</td><td>2021</td><td>11</td><td>19</td><td>2785</td><td>0</td><td>432719968</td><td>95</td><td>89</td><td>44</td><td>0</td><td>null</td></tr><tr><td>Pepas</td><td>Farruko</td><td>1</td><td>2021</td><td>6</td><td>24</td><td>14114</td><td>17</td><td>1309887447</td><td>252</td><td>109</td><td>965</td><td>20</td><td>null</td></tr><tr><td>How Do I Make You Love Me?</td><td>The Weeknd</td><td>1</td><td>2022</td><td>1</td><td>7</td><td>1915</td><td>0</td><td>119238316</td><td>7</td><td>47</td><td>15</td><td>0</td><td>0</td></tr><tr><td>Gasoline</td><td>The Weeknd</td><td>1</td><td>2022</td><td>1</td><td>7</td><td>2297</td><td>0</td><td>116903579</td><td>11</td><td>29</td><td>14</td><td>0</td><td>0</td></tr><tr><td>Infinity</td><td>Jaymes Young</td><td>1</td><td>2017</td><td>6</td><td>23</td><td>4375</td><td>0</td><td>888046992</td><td>24</td><td>0</td><td>396</td><td>0</td><td>0</td></tr><tr><td>Less Than Zero</td><td>The Weeknd</td><td>1</td><td>2022</td><td>1</td><td>7</td><td>2800</td><td>0</td><td>200660871</td><td>18</td><td>77</td><td>61</td><td>0</td><td>1</td></tr><tr><td>Take My Breath</td><td>The Weeknd</td><td>1</td><td>2021</td><td>8</td><td>6</td><td>2597</td><td>0</td><td>130655803</td><td>17</td><td>80</td><td>38</td><td>0</td><td>0</td></tr><tr><td>good 4 u</td><td>Olivia Rodrigo</td><td>1</td><td>2021</td><td>5</td><td>14</td><td>15563</td><td>6</td><td>1887039593</td><td>259</td><td>55</td><td>461</td><td>1</td><td>null</td></tr><tr><td>Here We Go��� Again (feat. Tyler, the Cr</td><td>The Weeknd, Tyler, The Creator</td><td>3</td><td>2022</td><td>1</td><td>7</td><td>1420</td><td>0</td><td>88103848</td><td>7</td><td>18</td><td>7</td><td>0</td><td>0</td></tr><tr><td>Best Friends</td><td>The Weeknd</td><td>1</td><td>2022</td><td>1</td><td>7</td><td>1292</td><td>0</td><td>101114984</td><td>3</td><td>18</td><td>14</td><td>0</td><td>0</td></tr><tr><td>Kiss Me More (feat. SZA)</td><td>SZA, Doja Cat</td><td>2</td><td>2021</td><td>4</td><td>9</td><td>15867</td><td>0</td><td>1575467011</td><td>382</td><td>65</td><td>497</td><td>0</td><td>12</td></tr><tr><td>I Heard You're Married (feat. Lil Wayne)</td><td>The Weeknd, Lil Wayne</td><td>2</td><td>2022</td><td>1</td><td>7</td><td>1178</td><td>0</td><td>91656026</td><td>9</td><td>10</td><td>9</td><td>0</td><td>0</td></tr><tr><td>Need To Know</td><td>Doja Cat</td><td>1</td><td>2021</td><td>6</td><td>11</td><td>6672</td><td>0</td><td>1042568408</td><td>125</td><td>36</td><td>150</td><td>0</td><td>null</td></tr><tr><td>MONTERO (Call Me By Your Name)</td><td>Lil Nas X</td><td>1</td><td>2020</td><td>9</td><td>18</td><td>12329</td><td>0</td><td>1735441776</td><td>275</td><td>19</td><td>738</td><td>0</td><td>null</td></tr><tr><td>love nwantiti (ah ah ah)</td><td>Ckay</td><td>1</td><td>2019</td><td>7</td><td>26</td><td>5669</td><td>2</td><td>726837877</td><td>74</td><td>0</td><td>262</td><td>14</td><td>null</td></tr><tr><td>Dawn FM</td><td>The Weeknd</td><td>1</td><td>2022</td><td>1</td><td>7</td><td>811</td><td>0</td><td>53933526</td><td>1</td><td>8</td><td>6</td><td>0</td><td>0</td></tr><tr><td>Surface Pressure</td><td>Jessica Darrow</td><td>1</td><td>2021</td><td>11</td><td>19</td><td>1756</td><td>0</td><td>267758538</td><td>38</td><td>48</td><td>20</td><td>0</td><td>0</td></tr><tr><td>Starry Eyes</td><td>The Weeknd</td><td>1</td><td>2022</td><td>1</td><td>7</td><td>1014</td><td>0</td><td>74601456</td><td>1</td><td>17</td><td>11</td><td>0</td><td>0</td></tr><tr><td>THATS WHAT I WANT</td><td>Lil Nas X</td><td>1</td><td>2021</td><td>9</td><td>17</td><td>7963</td><td>0</td><td>920797189</td><td>173</td><td>7</td><td>298</td><td>0</td><td>4</td></tr><tr><td>One Right Now (with The Weeknd)</td><td>The Weeknd, Post Malone</td><td>2</td><td>2021</td><td>11</td><td>5</td><td>4771</td><td>0</td><td>539595276</td><td>68</td><td>18</td><td>75</td><td>0</td><td>1</td></tr><tr><td>Beggin</td><td>M��ne</td><td>1</td><td>2017</td><td>12</td><td>8</td><td>8559</td><td>0</td><td>1367810478</td><td>183</td><td>64</td><td>964</td><td>9</td><td>75</td></tr><tr><td>Mon Amour - Remix</td><td>Aitana, zzoilo</td><td>2</td><td>2020</td><td>9</td><td>21</td><td>3221</td><td>2</td><td>578207856</td><td>67</td><td>13</td><td>139</td><td>0</td><td>40</td></tr><tr><td>Lo Siento BB:/ (with Bad Bunny & Julieta Venegas)</td><td>Julieta Venegas, Bad Bunny, Tainy</td><td>3</td><td>2021</td><td>10</td><td>5</td><td>3423</td><td>26</td><td>775542072</td><td>61</td><td>65</td><td>53</td><td>6</td><td>0</td></tr><tr><td>MONEY</td><td>Lisa</td><td>1</td><td>2021</td><td>9</td><td>10</td><td>2566</td><td>13</td><td>863625566</td><td>44</td><td>109</td><td>131</td><td>0</td><td>null</td></tr><tr><td>The Motto</td><td>Ti��sto, Ava</td><td>2</td><td>2021</td><td>11</td><td>4</td><td>9151</td><td>6</td><td>656013912</td><td>240</td><td>107</td><td>268</td><td>0</td><td>5</td></tr><tr><td>Happier Than Ever</td><td>Billie Eilish</td><td>1</td><td>2021</td><td>7</td><td>30</td><td>8476</td><td>0</td><td>1056760045</td><td>138</td><td>133</td><td>283</td><td>0</td><td>null</td></tr><tr><td>Moth To A Flame (with The Weeknd)</td><td>The Weeknd, Swedish House Mafia</td><td>2</td><td>2021</td><td>10</td><td>22</td><td>7495</td><td>17</td><td>611994237</td><td>114</td><td>172</td><td>284</td><td>2</td><td>null</td></tr><tr><td>traitor</td><td>Juan Cruz Toledo, Huilen Toledo</td><td>2</td><td>2021</td><td>5</td><td>21</td><td>5257</td><td>6</td><td>1230855859</td><td>85</td><td>43</td><td>134</td><td>0</td><td>null</td></tr><tr><td>Toxic</td><td>BoyWithUke</td><td>1</td><td>2021</td><td>9</td><td>10</td><td>1795</td><td>0</td><td>582981380</td><td>34</td><td>23</td><td>118</td><td>0</td><td>null</td></tr><tr><td>drivers license</td><td>Olivia Rodrigo</td><td>1</td><td>2021</td><td>1</td><td>8</td><td>12685</td><td>3</td><td>1858144199</td><td>185</td><td>61</td><td>485</td><td>0</td><td>null</td></tr><tr><td>Malvad��</td><td>Xam��, Gustah, Neo B</td><td>3</td><td>2021</td><td>11</td><td>30</td><td>648</td><td>1</td><td>240684449</td><td>14</td><td>3</td><td>81</td><td>0</td><td>0</td></tr><tr><td>All Too Well (10 Minute Version) (Taylor's Version) (From The Vault)</td><td>Taylor Swift</td><td>1</td><td>2021</td><td>11</td><td>12</td><td>4635</td><td>5</td><td>583687007</td><td>50</td><td>49</td><td>30</td><td>1</td><td>2</td></tr><tr><td>Don���t Break My</td><td>The Weeknd</td><td>1</td><td>2022</td><td>1</td><td>7</td><td>1184</td><td>0</td><td>63803529</td><td>1</td><td>5</td><td>6</td><td>0</td><td>0</td></tr><tr><td>Oh My God</td><td>Adele</td><td>1</td><td>2021</td><td>11</td><td>19</td><td>4431</td><td>0</td><td>466214729</td><td>105</td><td>7</td><td>199</td><td>0</td><td>0</td></tr><tr><td>Entre Nosotros (Remix) [con Nicki Nicole]</td><td>Lit Killah, Maria Becerra, Tiago pzk, NICKI NICOLE</td><td>4</td><td>2022</td><td>1</td><td>5</td><td>759</td><td>3</td><td>236940480</td><td>32</td><td>0</td><td>12</td><td>0</td><td>0</td></tr><tr><td>A Tale By Quincy</td><td>The Weeknd</td><td>1</td><td>2022</td><td>1</td><td>7</td><td>733</td><td>0</td><td>41924466</td><td>0</td><td>2</td><td>2</td><td>0</td><td>0</td></tr><tr><td>I AM WOMAN</td><td>Emmy Meli</td><td>1</td><td>2021</td><td>11</td><td>18</td><td>2795</td><td>0</td><td>225259194</td><td>45</td><td>0</td><td>107</td><td>0</td><td>0</td></tr><tr><td>Medallo</td><td>Justin Quiles, Lenny Tav��rez, BL</td><td>3</td><td>2021</td><td>10</td><td>27</td><td>2780</td><td>2</td><td>393230256</td><td>54</td><td>21</td><td>57</td><td>1</td><td>0</td></tr><tr><td>It'll Be Okay</td><td>Shawn Mendes</td><td>1</td><td>2021</td><td>12</td><td>1</td><td>1950</td><td>0</td><td>287201015</td><td>56</td><td>8</td><td>104</td><td>0</td><td>10</td></tr><tr><td>Softcore</td><td>The Neighbourhood</td><td>1</td><td>2018</td><td>3</td><td>9</td><td>3947</td><td>12</td><td>599770206</td><td>33</td><td>102</td><td>93</td><td>0</td><td>30</td></tr><tr><td>Super Gremlin</td><td>Kodak Black</td><td>1</td><td>2021</td><td>10</td><td>30</td><td>2551</td><td>0</td><td>342779426</td><td>52</td><td>15</td><td>35</td><td>0</td><td>1</td></tr><tr><td>Volv�</td><td>Aventura, Bad Bunny</td><td>2</td><td>2021</td><td>8</td><td>3</td><td>5375</td><td>10</td><td>673801126</td><td>138</td><td>24</td><td>133</td><td>0</td><td>1</td></tr><tr><td>Todo De Ti</td><td>Rauw Alejandro</td><td>1</td><td>2020</td><td>11</td><td>2</td><td>11975</td><td>8</td><td>1168642797</td><td>188</td><td>75</td><td>268</td><td>6</td><td>16</td></tr><tr><td>Love Nwantiti - Remix</td><td>Ckay, AX'EL, Dj Yo!</td><td>3</td><td>2019</td><td>8</td><td>30</td><td>2696</td><td>0</td><td>540539717</td><td>42</td><td>2</td><td>57</td><td>0</td><td>null</td></tr><tr><td>Smokin Out The Window</td><td>Bruno Mars, Anderson .Paak, Silk Sonic</td><td>3</td><td>2021</td><td>11</td><td>5</td><td>4963</td><td>0</td><td>383550148</td><td>63</td><td>40</td><td>76</td><td>0</td><td>0</td></tr><tr><td>Meet Me At Our Spot</td><td>THE ANXIETY, Willow, Tyler Cole</td><td>3</td><td>2020</td><td>3</td><td>13</td><td>6734</td><td>0</td><td>530511203</td><td>47</td><td>14</td><td>90</td><td>0</td><td>1</td></tr><tr><td>Every Angel is Terrifying</td><td>The Weeknd</td><td>1</td><td>2022</td><td>1</td><td>7</td><td>715</td><td>0</td><td>37307967</td><td>0</td><td>1</td><td>2</td><td>0</td><td>0</td></tr><tr><td>Tacones Rojos</td><td>Sebastian Yatra</td><td>1</td><td>2021</td><td>10</td><td>22</td><td>3047</td><td>9</td><td>510876816</td><td>77</td><td>31</td><td>85</td><td>5</td><td>28</td></tr><tr><td>Peaches (feat. Daniel Caesar & Giveon)</td><td>Justin Bieber, Daniel Caesar, Giveon</td><td>3</td><td>2021</td><td>3</td><td>19</td><td>14140</td><td>0</td><td>1445941661</td><td>231</td><td>52</td><td>612</td><td>6</td><td>null</td></tr><tr><td>Dakiti</td><td>Bad Bunny, Jhay Cortez</td><td>2</td><td>2020</td><td>10</td><td>30</td><td>11215</td><td>21</td><td>1763363713</td><td>189</td><td>166</td><td>525</td><td>9</td><td>25</td></tr><tr><td>Tiago PZK: Bzrp Music Sessions, Vol. 48</td><td>Bizarrap, Tiago pzk</td><td>2</td><td>2021</td><td>12</td><td>29</td><td>1678</td><td>12</td><td>374191487</td><td>20</td><td>4</td><td>15</td><td>1</td><td>3</td></tr><tr><td>L���</td><td>Stromae</td><td>1</td><td>2022</td><td>1</td><td>9</td><td>2035</td><td>0</td><td>108809090</td><td>41</td><td>122</td><td>394</td><td>0</td><td>2</td></tr><tr><td>Nost��l</td><td>Chris Brown, Rvssian, Rauw Alejandro</td><td>3</td><td>2021</td><td>9</td><td>8</td><td>2780</td><td>2</td><td>436695353</td><td>86</td><td>76</td><td>59</td><td>0</td><td>16</td></tr><tr><td>Better Days (NEIKED x Mae Muller x Polo G)</td><td>NEIKED, Mae Muller, Polo G</td><td>3</td><td>2021</td><td>9</td><td>24</td><td>4091</td><td>0</td><td>421040617</td><td>105</td><td>2</td><td>73</td><td>13</td><td>1</td></tr><tr><td>Life Goes On</td><td>Oliver Tree</td><td>1</td><td>2020</td><td>7</td><td>17</td><td>2868</td><td>0</td><td>501541661</td><td>43</td><td>15</td><td>116</td><td>0</td><td>null</td></tr><tr><td>Sad Girlz Luv Money Remix (feat. Kali Uchis)</td><td>Kali Uchis, Amaarae, Moliy</td><td>3</td><td>2021</td><td>9</td><td>16</td><td>3643</td><td>0</td><td>354065229</td><td>69</td><td>3</td><td>70</td><td>0</td><td>3</td></tr><tr><td>Butter</td><td>BTS</td><td>1</td><td>2021</td><td>5</td><td>21</td><td>4779</td><td>6</td><td>1143647827</td><td>180</td><td>135</td><td>223</td><td>0</td><td>5</td></tr><tr><td>pushin P (feat. Young Thug)</td><td>Young Thug, Future, Gunna</td><td>3</td><td>2022</td><td>1</td><td>7</td><td>3517</td><td>0</td><td>311395144</td><td>54</td><td>28</td><td>43</td><td>0</td><td>0</td></tr><tr><td>You Right</td><td>Doja Cat, The Weeknd</td><td>2</td><td>2021</td><td>6</td><td>24</td><td>5073</td><td>0</td><td>672656250</td><td>83</td><td>9</td><td>100</td><td>0</td><td>4</td></tr><tr><td>deja vu</td><td>Olivia Rodrigo</td><td>1</td><td>2021</td><td>4</td><td>1</td><td>7545</td><td>4</td><td>1256880657</td><td>117</td><td>39</td><td>141</td><td>0</td><td>46</td></tr><tr><td>Dynamite</td><td>BTS</td><td>1</td><td>2020</td><td>8</td><td>21</td><td>8528</td><td>5</td><td>1692897992</td><td>239</td><td>163</td><td>583</td><td>0</td><td>null</td></tr><tr><td>TO THE MOON</td><td>Jnr Choi</td><td>1</td><td>2021</td><td>11</td><td>5</td><td>2979</td><td>0</td><td>245095641</td><td>44</td><td>0</td><td>159</td><td>0</td><td>0</td></tr><tr><td>Lost in the Fire</td><td>The Weeknd, Gesaffelstein</td><td>2</td><td>2019</td><td>1</td><td>11</td><td>7731</td><td>2</td><td>686734357</td><td>110</td><td>145</td><td>447</td><td>0</td><td>46</td></tr><tr><td>Salimo de Noche</td><td>Trueno, Tiago pzk</td><td>2</td><td>2021</td><td>10</td><td>21</td><td>1057</td><td>0</td><td>261414174</td><td>17</td><td>5</td><td>21</td><td>0</td><td>0</td></tr><tr><td>Volando - Remix</td><td>Sech, Bad Bunny, Mora</td><td>3</td><td>2021</td><td>7</td><td>8</td><td>3272</td><td>19</td><td>610045621</td><td>101</td><td>34</td><td>70</td><td>1</td><td>2</td></tr><tr><td>Leave The Door Open</td><td>Bruno Mars, Anderson .Paak, Silk Sonic</td><td>3</td><td>2021</td><td>3</td><td>5</td><td>14417</td><td>0</td><td>1115880852</td><td>237</td><td>123</td><td>569</td><td>0</td><td>10</td></tr><tr><td>Knife Talk (with 21 Savage ft. Project Pat)</td><td>Drake, Project Pat, 21 Savage</td><td>3</td><td>2021</td><td>9</td><td>3</td><td>5199</td><td>0</td><td>594482982</td><td>45</td><td>43</td><td>45</td><td>0</td><td>3</td></tr><tr><td>Don't Be Shy</td><td>Ti��sto, Kar</td><td>2</td><td>2021</td><td>8</td><td>1</td><td>6026</td><td>0</td><td>566954746</td><td>171</td><td>51</td><td>187</td><td>1</td><td>21</td></tr><tr><td>Love Grows (Where My Rosemary Goes)</td><td>Edison Lighthouse</td><td>1</td><td>1970</td><td>1</td><td>1</td><td>2877</td><td>0</td><td>null</td><td>16</td><td>0</td><td>54</td><td>0</td><td>0</td></tr><tr><td>LA FAMA (with The Weeknd)</td><td>The Weeknd, ROSAL�</td><td>2</td><td>2021</td><td>11</td><td>11</td><td>4640</td><td>3</td><td>374706940</td><td>81</td><td>93</td><td>507</td><td>6</td><td>4</td></tr><tr><td>The Family Madrigal</td><td>Olga Merediz, Stephanie Beatriz, Encanto - Cast</td><td>3</td><td>2021</td><td>11</td><td>19</td><td>1150</td><td>0</td><td>184937148</td><td>20</td><td>38</td><td>12</td><td>0</td><td>0</td></tr><tr><td>Phantom Regret by Jim</td><td>The Weeknd</td><td>1</td><td>2022</td><td>1</td><td>7</td><td>768</td><td>0</td><td>31959571</td><td>1</td><td>1</td><td>3</td><td>0</td><td>0</td></tr><tr><td>Dos Oruguitas</td><td>Sebastian Yatra</td><td>1</td><td>2021</td><td>11</td><td>19</td><td>925</td><td>0</td><td>167076418</td><td>24</td><td>47</td><td>74</td><td>0</td><td>0</td></tr><tr><td>Freaks</td><td>Surf Curse</td><td>1</td><td>2015</td><td>5</td><td>10</td><td>3006</td><td>3</td><td>824420218</td><td>23</td><td>21</td><td>121</td><td>0</td><td>13</td></tr><tr><td>Acapulco</td><td>Jason Derulo</td><td>1</td><td>2021</td><td>9</td><td>1</td><td>3098</td><td>0</td><td>363467642</td><td>111</td><td>5</td><td>182</td><td>1</td><td>0</td></tr><tr><td>Daddy Issues</td><td>The Neighbourhood</td><td>1</td><td>2015</td><td>10</td><td>30</td><td>9771</td><td>4</td><td>1127468248</td><td>42</td><td>70</td><td>384</td><td>0</td><td>3</td></tr><tr><td>thought i was playing</td><td>21 Savage, Gunna</td><td>2</td><td>2022</td><td>1</td><td>7</td><td>807</td><td>0</td><td>60680939</td><td>3</td><td>0</td><td>5</td><td>0</td><td>0</td></tr><tr><td>ELEVEN</td><td>IVE</td><td>1</td><td>2021</td><td>12</td><td>1</td><td>521</td><td>1</td><td>247737946</td><td>17</td><td>89</td><td>11</td><td>0</td><td>0</td></tr><tr><td>Mood (feat. Iann Dior)</td><td>24kgoldn, Iann Dior</td><td>2</td><td>2020</td><td>7</td><td>24</td><td>12854</td><td>0</td><td>1699402402</td><td>237</td><td>27</td><td>636</td><td>0</td><td>null</td></tr><tr><td>What Else Can I Do?</td><td>Stephanie Beatriz, Diane Guerrero</td><td>2</td><td>2021</td><td>11</td><td>19</td><td>802</td><td>0</td><td>154797871</td><td>13</td><td>27</td><td>8</td><td>0</td><td>0</td></tr><tr><td>DANCE CRIP</td><td>Trueno</td><td>1</td><td>2021</td><td>11</td><td>17</td><td>731</td><td>0</td><td>198883004</td><td>14</td><td>14</td><td>24</td><td>0</td><td>4</td></tr><tr><td>Miserable Man</td><td>David Kushner</td><td>1</td><td>2022</td><td>1</td><td>7</td><td>788</td><td>0</td><td>124407432</td><td>13</td><td>0</td><td>32</td><td>1</td><td>0</td></tr><tr><td>happier</td><td>Olivia Rodrigo</td><td>1</td><td>2021</td><td>5</td><td>21</td><td>3069</td><td>4</td><td>850608354</td><td>25</td><td>46</td><td>105</td><td>0</td><td>45</td></tr><tr><td>Praise God</td><td>Kanye West</td><td>1</td><td>2021</td><td>8</td><td>29</td><td>4651</td><td>0</td><td>376333030</td><td>24</td><td>6</td><td>105</td><td>0</td><td>0</td></tr><tr><td>Get Into It (Yuh)</td><td>Doja Cat</td><td>1</td><td>2021</td><td>6</td><td>25</td><td>4999</td><td>0</td><td>516784627</td><td>43</td><td>19</td><td>73</td><td>12</td><td>0</td></tr><tr><td>Before You Go</td><td>Lewis Capaldi</td><td>1</td><td>2019</td><td>11</td><td>1</td><td>8327</td><td>24</td><td>1608045237</td><td>205</td><td>130</td><td>625</td><td>0</td><td>25</td></tr><tr><td>Sky</td><td>Playboi Carti</td><td>1</td><td>2020</td><td>12</td><td>25</td><td>3297</td><td>3</td><td>506778838</td><td>25</td><td>3</td><td>52</td><td>0</td><td>1</td></tr><tr><td>Rolling in the Deep</td><td>Adele</td><td>1</td><td>2010</td><td>11</td><td>29</td><td>35684</td><td>6</td><td>1472799873</td><td>195</td><td>125</td><td>null</td><td>2</td><td>78</td></tr><tr><td>Sobrio</td><td>Maluma</td><td>1</td><td>2021</td><td>7</td><td>8</td><td>3506</td><td>10</td><td>513643924</td><td>103</td><td>76</td><td>100</td><td>1</td><td>1</td></tr><tr><td>Peru</td><td>Ed Sheeran, Fireboy DML</td><td>2</td><td>2021</td><td>12</td><td>23</td><td>2999</td><td>0</td><td>261286503</td><td>60</td><td>17</td><td>154</td><td>0</td><td>22</td></tr><tr><td>favorite crime</td><td>Olivia Rodrigo</td><td>1</td><td>2021</td><td>5</td><td>21</td><td>3681</td><td>0</td><td>783706581</td><td>20</td><td>21</td><td>99</td><td>0</td><td>7</td></tr><tr><td>Thunder</td><td>Prezioso, Gabry Ponte, LUM!X</td><td>3</td><td>2021</td><td>5</td><td>7</td><td>4846</td><td>10</td><td>422691058</td><td>54</td><td>16</td><td>259</td><td>0</td><td>13</td></tr><tr><td>The Business</td><td>Ti��</td><td>1</td><td>2020</td><td>1</td><td>1</td><td>14311</td><td>0</td><td>1062345656</td><td>255</td><td>32</td><td>582</td><td>0</td><td>14</td></tr><tr><td>positions</td><td>Ariana Grande</td><td>1</td><td>2020</td><td>10</td><td>23</td><td>8207</td><td>0</td><td>1252563873</td><td>175</td><td>55</td><td>95</td><td>0</td><td>2</td></tr><tr><td>I WANNA BE YOUR SLAVE</td><td>M��ne</td><td>1</td><td>2021</td><td>3</td><td>19</td><td>4873</td><td>0</td><td>851070493</td><td>65</td><td>88</td><td>434</td><td>3</td><td>13</td></tr><tr><td>Vai L�� Em Casa </td><td>Mar��lia Mendon��a, George Henrique &</td><td>2</td><td>2021</td><td>10</td><td>22</td><td>772</td><td>0</td><td>263894529</td><td>7</td><td>3</td><td>89</td><td>0</td><td>0</td></tr><tr><td>The Feels</td><td>TWICE</td><td>1</td><td>2021</td><td>10</td><td>1</td><td>1150</td><td>0</td><td>345903614</td><td>20</td><td>99</td><td>44</td><td>0</td><td>2</td></tr><tr><td>HEARTBREAK ANNIVERSARY</td><td>Giveon</td><td>1</td><td>2020</td><td>2</td><td>21</td><td>5398</td><td>4</td><td>951637566</td><td>111</td><td>127</td><td>210</td><td>0</td><td>37</td></tr><tr><td>No Lie</td><td>Sean Paul, Dua Lipa</td><td>2</td><td>2016</td><td>11</td><td>18</td><td>7370</td><td>0</td><td>956865266</td><td>92</td><td>127</td><td>null</td><td>0</td><td>62</td></tr><tr><td>OUT OUT (feat. Charli XCX & Saweetie)</td><td>Charli XCX, Jax Jones, Joel Corry, Saweetie</td><td>4</td><td>2021</td><td>8</td><td>13</td><td>6890</td><td>0</td><td>427486004</td><td>122</td><td>11</td><td>201</td><td>0</td><td>1</td></tr><tr><td>Pope Is a Rockstar</td><td>SALES</td><td>1</td><td>2016</td><td>4</td><td>20</td><td>1966</td><td>0</td><td>156658366</td><td>4</td><td>2</td><td>50</td><td>0</td><td>0</td></tr><tr><td>2055</td><td>Sleepy hallow</td><td>1</td><td>2021</td><td>4</td><td>14</td><td>2226</td><td>0</td><td>624515457</td><td>29</td><td>0</td><td>44</td><td>0</td><td>0</td></tr><tr><td>Bored</td><td>Billie Eilish</td><td>1</td><td>2017</td><td>3</td><td>30</td><td>4204</td><td>0</td><td>777765388</td><td>39</td><td>45</td><td>250</td><td>0</td><td>0</td></tr><tr><td>Happier Than Ever - Edit</td><td>Billie Eilish</td><td>1</td><td>2021</td><td>7</td><td>28</td><td>1959</td><td>0</td><td>412795151</td><td>19</td><td>0</td><td>38</td><td>0</td><td>0</td></tr><tr><td>Astronaut In The Ocean</td><td>Masked Wolf</td><td>1</td><td>2019</td><td>1</td><td>1</td><td>7191</td><td>0</td><td>1138474110</td><td>146</td><td>18</td><td>478</td><td>0</td><td>7</td></tr><tr><td>Ley Seca</td><td>Anuel Aa, Jhay Cortez</td><td>2</td><td>2021</td><td>9</td><td>2</td><td>2012</td><td>0</td><td>355219175</td><td>101</td><td>12</td><td>38</td><td>0</td><td>0</td></tr><tr><td>Every Summertime</td><td>NIKI</td><td>1</td><td>2021</td><td>8</td><td>10</td><td>1211</td><td>2</td><td>290228626</td><td>30</td><td>2</td><td>5</td><td>0</td><td>6</td></tr><tr><td>Talking To The Moon</td><td>Bruno Mars</td><td>1</td><td>2010</td><td>10</td><td>4</td><td>7109</td><td>2</td><td>1062956628</td><td>5</td><td>0</td><td>862</td><td>0</td><td>0</td></tr><tr><td>you broke me first</td><td>Tate McRae</td><td>1</td><td>2020</td><td>4</td><td>17</td><td>6638</td><td>0</td><td>1180094974</td><td>167</td><td>19</td><td>318</td><td>0</td><td>1</td></tr><tr><td>The Nights</td><td>Avicii</td><td>1</td><td>2014</td><td>1</td><td>1</td><td>17354</td><td>8</td><td>1456081449</td><td>92</td><td>122</td><td>null</td><td>0</td><td>55</td></tr><tr><td>Take My Breath</td><td>The Weeknd</td><td>1</td><td>2021</td><td>8</td><td>6</td><td>6392</td><td>0</td><td>432702334</td><td>174</td><td>73</td><td>344</td><td>0</td><td>0</td></tr><tr><td>Way 2 Sexy (with Future & Young Thug)</td><td>Drake, Future, Young Thug</td><td>3</td><td>2021</td><td>9</td><td>3</td><td>5481</td><td>0</td><td>489945871</td><td>144</td><td>30</td><td>86</td><td>0</td><td>0</td></tr><tr><td>C��</td><td>Rauw Alejandro</td><td>1</td><td>2021</td><td>6</td><td>25</td><td>2636</td><td>3</td><td>465959382</td><td>36</td><td>82</td><td>39</td><td>0</td><td>5</td></tr><tr><td>Enemy - from the series Arcane League of Legends</td><td>Imagine Dragons, League of Legends, Arcane</td><td>3</td><td>2021</td><td>10</td><td>27</td><td>824</td><td>0</td><td>1223481149</td><td>8</td><td>8</td><td>8</td><td>2</td><td>0</td></tr><tr><td>Dance Monkey</td><td>Tones and I</td><td>1</td><td>2019</td><td>5</td><td>10</td><td>24529</td><td>0</td><td>null</td><td>533</td><td>167</td><td>null</td><td>6</td><td>null</td></tr><tr><td>Lucid Dreams</td><td>Juice WRLD</td><td>1</td><td>2017</td><td>6</td><td>15</td><td>14749</td><td>0</td><td>null</td><td>188</td><td>34</td><td>710</td><td>0</td><td>5</td></tr><tr><td>Qu�� M��</td><td>J Balvin, Maria Becerra</td><td>2</td><td>2021</td><td>1</td><td>28</td><td>8087</td><td>0</td><td>720825549</td><td>92</td><td>34</td><td>131</td><td>0</td><td>0</td></tr><tr><td>All of Me</td><td>John Legend</td><td>1</td><td>2013</td><td>8</td><td>1</td><td>27221</td><td>0</td><td>2086124197</td><td>308</td><td>118</td><td>null</td><td>2</td><td>77</td></tr><tr><td>Smells Like Teen Spirit - Remastered 2021</td><td>Nirvana</td><td>1</td><td>1991</td><td>9</td><td>10</td><td>49991</td><td>9</td><td>1690192927</td><td>265</td><td>121</td><td>null</td><td>4</td><td>160</td></tr><tr><td>Arcade</td><td>Duncan Laurence</td><td>1</td><td>2019</td><td>3</td><td>7</td><td>6646</td><td>0</td><td>991336132</td><td>107</td><td>47</td><td>584</td><td>1</td><td>null</td></tr><tr><td>Fair Trade (with Travis Scott)</td><td>Drake, Travis Scott</td><td>2</td><td>2021</td><td>9</td><td>3</td><td>5403</td><td>6</td><td>593917618</td><td>118</td><td>116</td><td>96</td><td>0</td><td>3</td></tr><tr><td>Bar</td><td>Tini, L-Gante</td><td>2</td><td>2021</td><td>11</td><td>11</td><td>755</td><td>4</td><td>200972675</td><td>22</td><td>3</td><td>0</td><td>0</td><td>0</td></tr><tr><td>The Rumbling (TV Size)</td><td>SiM</td><td>1</td><td>2022</td><td>1</td><td>10</td><td>254</td><td>0</td><td>71014967</td><td>0</td><td>4</td><td>23</td><td>0</td><td>0</td></tr><tr><td>family ties (with Kendrick Lamar)</td><td>Kendrick Lamar, Baby Keem</td><td>2</td><td>2021</td><td>8</td><td>27</td><td>6308</td><td>5</td><td>560222750</td><td>114</td><td>15</td><td>63</td><td>0</td><td>2</td></tr><tr><td>Mr. Brightside</td><td>The Killers</td><td>1</td><td>2003</td><td>9</td><td>23</td><td>51979</td><td>15</td><td>1806617704</td><td>306</td><td>99</td><td>null</td><td>2</td><td>120</td></tr><tr><td>Blessed-Cursed</td><td>ENHYPEN</td><td>1</td><td>2022</td><td>1</td><td>10</td><td>246</td><td>0</td><td>77337771</td><td>2</td><td>12</td><td>10</td><td>0</td><td>0</td></tr><tr><td>AM Remix</td><td>J Balvin, Nio Garcia, Bad Bunny</td><td>3</td><td>2021</td><td>6</td><td>24</td><td>6556</td><td>0</td><td>528544703</td><td>93</td><td>5</td><td>67</td><td>1</td><td>0</td></tr><tr><td>Streets</td><td>Doja Cat</td><td>1</td><td>2019</td><td>11</td><td>7</td><td>5728</td><td>0</td><td>865640097</td><td>85</td><td>87</td><td>179</td><td>0</td><td>12</td></tr><tr><td>Shallow</td><td>Lady Gaga, Bradley Cooper</td><td>2</td><td>2018</td><td>9</td><td>27</td><td>16636</td><td>12</td><td>null</td><td>368</td><td>155</td><td>null</td><td>6</td><td>121</td></tr><tr><td>Polaroid Love</td><td>ENHYPEN</td><td>1</td><td>2022</td><td>1</td><td>10</td><td>461</td><td>0</td><td>211372494</td><td>10</td><td>56</td><td>17</td><td>0</td><td>0</td></tr><tr><td>Leave Before You Love Me (with Jonas Brothers)</td><td>Marshmello, Jonas Brothers</td><td>2</td><td>2021</td><td>4</td><td>28</td><td>4893</td><td>4</td><td>651732901</td><td>143</td><td>24</td><td>110</td><td>0</td><td>70</td></tr><tr><td>Permission to Dance</td><td>BTS</td><td>1</td><td>2021</td><td>7</td><td>9</td><td>1801</td><td>2</td><td>608334048</td><td>77</td><td>134</td><td>74</td><td>0</td><td>2</td></tr><tr><td>Friday (feat. Mufasa & Hypeman) - Dopamine Re-Edit</td><td>Riton, Nightcrawlers, Mufasa & Hypeman, Dopamine</td><td>4</td><td>2021</td><td>1</td><td>15</td><td>12043</td><td>0</td><td>863756573</td><td>209</td><td>54</td><td>710</td><td>0</td><td>18</td></tr><tr><td>RAPSTAR</td><td>Polo G</td><td>1</td><td>2021</td><td>4</td><td>9</td><td>4731</td><td>0</td><td>797402345</td><td>141</td><td>12</td><td>78</td><td>0</td><td>0</td></tr><tr><td>'Till I Collapse</td><td>Eminem, Nate Dogg</td><td>2</td><td>2002</td><td>5</td><td>26</td><td>22923</td><td>0</td><td>1695712020</td><td>78</td><td>46</td><td>null</td><td>1</td><td>0</td></tr><tr><td>Memories</td><td>Maroon 5</td><td>1</td><td>2019</td><td>9</td><td>20</td><td>9974</td><td>2</td><td>1759567999</td><td>272</td><td>67</td><td>null</td><td>1</td><td>19</td></tr><tr><td>Se Le Ve</td><td>Arcangel, De La Ghetto, Justin Quiles, Lenny Tav��rez, Sech, Dalex, Dimelo Flow, Rich Music</td><td>8</td><td>2021</td><td>8</td><td>12</td><td>1560</td><td>0</td><td>223319934</td><td>72</td><td>0</td><td>0</td><td>0</td><td>0</td></tr><tr><td>25k jacket (feat. Lil Baby)</td><td>Gunna, Lil Baby</td><td>2</td><td>2022</td><td>1</td><td>7</td><td>620</td><td>0</td><td>54937991</td><td>17</td><td>3</td><td>3</td><td>0</td><td>0</td></tr><tr><td>When I���m Gone (with Katy </td><td>Katy Perry, Alesso</td><td>2</td><td>2021</td><td>12</td><td>29</td><td>3270</td><td>0</td><td>226897599</td><td>89</td><td>21</td><td>65</td><td>0</td><td>0</td></tr><tr><td>Esque��a-Me Se For C</td><td>Mar��lia Mendon��a, Maiara &</td><td>2</td><td>2021</td><td>10</td><td>14</td><td>580</td><td>0</td><td>258316038</td><td>24</td><td>92</td><td>93</td><td>0</td><td>0</td></tr><tr><td>Mi��n</td><td>Tini, Maria Becerra</td><td>2</td><td>2021</td><td>4</td><td>29</td><td>3406</td><td>16</td><td>596152090</td><td>61</td><td>23</td><td>70</td><td>1</td><td>0</td></tr><tr><td>S��</td><td>Anuel Aa, Myke Towers, Jhay Cortez</td><td>3</td><td>2021</td><td>11</td><td>18</td><td>903</td><td>0</td><td>177129919</td><td>30</td><td>26</td><td>15</td><td>0</td><td>0</td></tr><tr><td>MAMIII</td><td>Karol G, Becky G</td><td>2</td><td>2022</td><td>2</td><td>10</td><td>6809</td><td>28</td><td>716591492</td><td>151</td><td>102</td><td>175</td><td>5</td><td>29</td></tr><tr><td>Still D.R.E.</td><td>Dr. Dre, Snoop Dogg</td><td>2</td><td>1999</td><td>1</td><td>1</td><td>33966</td><td>0</td><td>1210599487</td><td>141</td><td>78</td><td>null</td><td>1</td><td>0</td></tr><tr><td>Stay Alive (Prod. SUGA of BTS)</td><td>Jung Kook</td><td>1</td><td>2022</td><td>2</td><td>11</td><td>590</td><td>5</td><td>246376690</td><td>4</td><td>113</td><td>20</td><td>0</td><td>1</td></tr><tr><td>Boyfriend</td><td>Dove Cameron</td><td>1</td><td>2022</td><td>2</td><td>11</td><td>3766</td><td>0</td><td>496311364</td><td>76</td><td>0</td><td>102</td><td>0</td><td>2</td></tr><tr><td>The Joker And The Queen (feat. Taylor Swift)</td><td>Ed Sheeran, Taylor Swift</td><td>2</td><td>2022</td><td>2</td><td>11</td><td>1430</td><td>0</td><td>146789379</td><td>46</td><td>1</td><td>34</td><td>0</td><td>0</td></tr><tr><td>The Next Episode</td><td>Dr. Dre, Snoop Dogg</td><td>2</td><td>1999</td><td>1</td><td>1</td><td>31762</td><td>0</td><td>843309044</td><td>142</td><td>40</td><td>null</td><td>1</td><td>953</td></tr><tr><td>Light Switch</td><td>Charlie Puth</td><td>1</td><td>2022</td><td>1</td><td>19</td><td>4049</td><td>0</td><td>500340342</td><td>119</td><td>6</td><td>85</td><td>1</td><td>1</td></tr><tr><td>City of Gods</td><td>Kanye West, Alicia Keys, Fivio Foreign</td><td>3</td><td>2022</td><td>2</td><td>11</td><td>2096</td><td>0</td><td>107255472</td><td>34</td><td>3</td><td>30</td><td>0</td><td>0</td></tr><tr><td>Brividi</td><td>Mahmood, Blanco</td><td>2</td><td>2022</td><td>2</td><td>2</td><td>1175</td><td>0</td><td>135079152</td><td>34</td><td>1</td><td>31</td><td>0</td><td>0</td></tr><tr><td>Lost</td><td>Frank Ocean</td><td>1</td><td>2012</td><td>1</td><td>1</td><td>29499</td><td>11</td><td>822239726</td><td>124</td><td>27</td><td>587</td><td>0</td><td>4</td></tr><tr><td>In Da Club</td><td>50 Cent</td><td>1</td><td>2002</td><td>1</td><td>1</td><td>30427</td><td>7</td><td>1202722675</td><td>235</td><td>106</td><td>null</td><td>1</td><td>35</td></tr><tr><td>she's all i wanna be</td><td>Tate McRae</td><td>1</td><td>2022</td><td>2</td><td>4</td><td>2711</td><td>0</td><td>343197054</td><td>105</td><td>12</td><td>51</td><td>0</td><td>12</td></tr><tr><td>Ginseng Strip 2002</td><td>Yung Lean</td><td>1</td><td>2013</td><td>8</td><td>16</td><td>4310</td><td>0</td><td>240769997</td><td>13</td><td>0</td><td>113</td><td>1</td><td>3</td></tr><tr><td>All For Us - from the HBO Original Series Euphoria</td><td>Labrinth, Zendaya</td><td>2</td><td>2019</td><td>8</td><td>4</td><td>5342</td><td>0</td><td>426204830</td><td>33</td><td>123</td><td>7</td><td>0</td><td>4</td></tr><tr><td>Notion</td><td>The Rare Occasions</td><td>1</td><td>2016</td><td>8</td><td>5</td><td>2393</td><td>0</td><td>421135627</td><td>22</td><td>13</td><td>65</td><td>0</td><td>6</td></tr><tr><td>Formula</td><td>Labrinth</td><td>1</td><td>2019</td><td>10</td><td>4</td><td>3444</td><td>7</td><td>554875730</td><td>24</td><td>85</td><td>102</td><td>0</td><td>1</td></tr><tr><td>Mount Everest</td><td>Labrinth</td><td>1</td><td>2019</td><td>6</td><td>21</td><td>5443</td><td>0</td><td>467727006</td><td>45</td><td>1</td><td>80</td><td>0</td><td>12</td></tr><tr><td>Excuses</td><td>Intense, AP Dhillon, Gurinder Gill</td><td>3</td><td>2020</td><td>7</td><td>24</td><td>272</td><td>4</td><td>327498031</td><td>7</td><td>21</td><td>2</td><td>0</td><td>0</td></tr><tr><td>Cigarettes</td><td>Juice WRLD</td><td>1</td><td>2021</td><td>12</td><td>10</td><td>975</td><td>0</td><td>185408548</td><td>11</td><td>0</td><td>10</td><td>0</td><td>0</td></tr><tr><td>Cay�� La Noche (feat. Cruz Cafun��, Abhir Hathi, Bejo, EL IMA)</td><td>Quevedo, La Pantera, Juseph, Cruz Cafun��, B��jo, Abhir Hathi</td><td>7</td><td>2022</td><td>1</td><td>14</td><td>1034</td><td>1</td><td>245400167</td><td>19</td><td>5</td><td>12</td><td>0</td><td>0</td></tr><tr><td>California Love - Original Version (Explicit)</td><td>Dr. Dre, 2Pac, Roger</td><td>3</td><td>1995</td><td>12</td><td>28</td><td>18773</td><td>0</td><td>579395142</td><td>128</td><td>17</td><td>null</td><td>0</td><td>0</td></tr><tr><td>Forgot About Dre</td><td>Eminem, Dr. Dre</td><td>2</td><td>1999</td><td>1</td><td>1</td><td>19067</td><td>0</td><td>675039469</td><td>78</td><td>15</td><td>null</td><td>0</td><td>3</td></tr><tr><td>Down Under (feat. Colin Hay)</td><td>Luude, Colin Hay</td><td>2</td><td>2021</td><td>11</td><td>19</td><td>3541</td><td>2</td><td>252871192</td><td>57</td><td>13</td><td>50</td><td>1</td><td>7</td></tr><tr><td>Mujeriego</td><td>Ryan Castro</td><td>1</td><td>2021</td><td>12</td><td>17</td><td>1492</td><td>0</td><td>231996128</td><td>44</td><td>63</td><td>91</td><td>0</td><td>24</td></tr><tr><td>HUMBLE.</td><td>Kendrick Lamar</td><td>1</td><td>2017</td><td>3</td><td>30</td><td>33206</td><td>1</td><td>1929770265</td><td>284</td><td>114</td><td>null</td><td>0</td><td>5</td></tr><tr><td>Stan</td><td>Eminem, Dido</td><td>2</td><td>1999</td><td>11</td><td>21</td><td>17115</td><td>0</td><td>918915401</td><td>83</td><td>63</td><td>null</td><td>0</td><td>0</td></tr><tr><td>Contection</td><td>GODZZ__-, Zakaria</td><td>2</td><td>2020</td><td>1</td><td>16</td><td>6955</td><td>0</td><td>1180896317</td><td>65</td><td>45</td><td>398</td><td>0</td><td>1</td></tr><tr><td>Swim</td><td>Chase Atlantic</td><td>1</td><td>2017</td><td>10</td><td>4</td><td>2742</td><td>0</td><td>498960285</td><td>5</td><td>1</td><td>62</td><td>0</td><td>0</td></tr><tr><td>A Tu Merced</td><td>Bad Bunny</td><td>1</td><td>2020</td><td>2</td><td>29</td><td>4214</td><td>11</td><td>685071800</td><td>21</td><td>20</td><td>40</td><td>0</td><td>0</td></tr><tr><td>Numb Little Bug</td><td>Em Beihold</td><td>1</td><td>2022</td><td>1</td><td>28</td><td>2026</td><td>0</td><td>258714692</td><td>47</td><td>3</td><td>42</td><td>12</td><td>6</td></tr><tr><td>212</td><td>Mainstreet, Chefin</td><td>2</td><td>2022</td><td>1</td><td>15</td><td>352</td><td>0</td><td>143139338</td><td>10</td><td>0</td><td>39</td><td>0</td><td>0</td></tr><tr><td>Problem�</td><td>Alvaro Diaz, Rauw Alejandro</td><td>2</td><td>2021</td><td>10</td><td>22</td><td>1517</td><td>0</td><td>209768491</td><td>42</td><td>7</td><td>15</td><td>0</td><td>4</td></tr><tr><td>Bussin</td><td>Nicki Minaj, Lil Baby</td><td>2</td><td>2022</td><td>2</td><td>11</td><td>847</td><td>0</td><td>64714573</td><td>25</td><td>0</td><td>14</td><td>0</td><td>0</td></tr><tr><td>Worst Day</td><td>Future</td><td>1</td><td>2022</td><td>2</td><td>11</td><td>910</td><td>0</td><td>50746620</td><td>20</td><td>3</td><td>24</td><td>0</td><td>0</td></tr><tr><td>Malvada</td><td>Z�� Fe</td><td>1</td><td>2022</td><td>1</td><td>28</td><td>601</td><td>0</td><td>154119539</td><td>28</td><td>73</td><td>64</td><td>0</td><td>0</td></tr><tr><td>Hrs and Hrs</td><td>Muni Long</td><td>1</td><td>2021</td><td>11</td><td>19</td><td>1800</td><td>0</td><td>181328253</td><td>43</td><td>36</td><td>46</td><td>13</td><td>4</td></tr><tr><td>Alien Blues</td><td>Vundabar</td><td>1</td><td>2015</td><td>7</td><td>24</td><td>1930</td><td>0</td><td>370068639</td><td>3</td><td>0</td><td>28</td><td>0</td><td>1</td></tr><tr><td>Thinking Out Loud</td><td>Ed Sheeran</td><td>1</td><td>2014</td><td>1</td><td>1</td><td>33032</td><td>0</td><td>null</td><td>363</td><td>129</td><td>null</td><td>0</td><td>28</td></tr><tr><td>Still Don't Know My Name</td><td>Labrinth</td><td>1</td><td>2019</td><td>10</td><td>4</td><td>6332</td><td>0</td><td>563902868</td><td>47</td><td>116</td><td>266</td><td>0</td><td>0</td></tr><tr><td>Christmas Tree</td><td>V</td><td>1</td><td>2021</td><td>12</td><td>24</td><td>509</td><td>9</td><td>317622165</td><td>8</td><td>106</td><td>6</td><td>0</td><td>8</td></tr><tr><td>Mal Feito - Ao Vivo</td><td>Mar��lia Mendon��a, Hugo & G</td><td>2</td><td>2022</td><td>1</td><td>14</td><td>971</td><td>2</td><td>291709698</td><td>35</td><td>104</td><td>93</td><td>1</td><td>0</td></tr><tr><td>When I R.I.P.</td><td>Labrinth</td><td>1</td><td>2019</td><td>10</td><td>4</td><td>2578</td><td>0</td><td>203680270</td><td>8</td><td>67</td><td>66</td><td>0</td><td>0</td></tr><tr><td>Do We Have A Problem?</td><td>Nicki Minaj, Lil Baby</td><td>2</td><td>2022</td><td>2</td><td>4</td><td>1064</td><td>0</td><td>81350745</td><td>42</td><td>1</td><td>26</td><td>0</td><td>0</td></tr><tr><td>Forever</td><td>Labrinth</td><td>1</td><td>2019</td><td>10</td><td>4</td><td>3618</td><td>0</td><td>282883169</td><td>21</td><td>86</td><td>138</td><td>0</td><td>2</td></tr><tr><td>Gospel (with Eminem)</td><td>Eminem, Dr. Dre</td><td>2</td><td>2022</td><td>2</td><td>4</td><td>1040</td><td>0</td><td>64787943</td><td>8</td><td>0</td><td>29</td><td>0</td><td>0</td></tr><tr><td>Se��o</td><td>Shawn Mendes, Camila Cabello</td><td>2</td><td>2019</td><td>6</td><td>19</td><td>15010</td><td>2</td><td>null</td><td>453</td><td>50</td><td>null</td><td>1</td><td>8</td></tr><tr><td>NEW MAGIC WAND</td><td>Tyler, The Creator</td><td>2</td><td>2019</td><td>5</td><td>16</td><td>4708</td><td>0</td><td>461437791</td><td>13</td><td>7</td><td>55</td><td>0</td><td>1</td></tr><tr><td>Adore You</td><td>Harry Styles</td><td>1</td><td>2019</td><td>12</td><td>6</td><td>13454</td><td>1</td><td>1439191367</td><td>246</td><td>71</td><td>519</td><td>2</td><td>5</td></tr><tr><td>La Santa</td><td>Daddy Yankee, Bad Bunny</td><td>2</td><td>2020</td><td>2</td><td>29</td><td>4890</td><td>20</td><td>759208783</td><td>52</td><td>42</td><td>100</td><td>0</td><td>0</td></tr><tr><td>Something In The Way - Remastered 2021</td><td>Nirvana</td><td>1</td><td>1991</td><td>9</td><td>24</td><td>9514</td><td>0</td><td>368646862</td><td>45</td><td>27</td><td>null</td><td>0</td><td>43</td></tr><tr><td>Sweetest Pie</td><td>Dua Lipa, Megan Thee Stallion</td><td>2</td><td>2022</td><td>3</td><td>11</td><td>3501</td><td>0</td><td>299634472</td><td>69</td><td>2</td><td>51</td><td>11</td><td>0</td></tr><tr><td>Bam Bam (feat. Ed Sheeran)</td><td>Camila Cabello, Ed Sheeran</td><td>2</td><td>2022</td><td>3</td><td>4</td><td>6111</td><td>4</td><td>756907987</td><td>185</td><td>40</td><td>492</td><td>9</td><td>35</td></tr><tr><td>Una Noche en Medell�</td><td>Cris Mj</td><td>1</td><td>2022</td><td>1</td><td>21</td><td>5415</td><td>32</td><td>682475162</td><td>46</td><td>16</td><td>53</td><td>1</td><td>2</td></tr><tr><td>Envolver</td><td>Anitta</td><td>1</td><td>2021</td><td>11</td><td>11</td><td>4673</td><td>2</td><td>546191065</td><td>123</td><td>113</td><td>180</td><td>1</td><td>4</td></tr><tr><td>Starlight</td><td>Dave</td><td>1</td><td>2022</td><td>3</td><td>3</td><td>1856</td><td>3</td><td>229473310</td><td>29</td><td>40</td><td>31</td><td>1</td><td>1</td></tr><tr><td>Hati-Hati di Jalan</td><td>Tulus</td><td>1</td><td>2022</td><td>3</td><td>3</td><td>200</td><td>2</td><td>202677468</td><td>12</td><td>4</td><td>0</td><td>0</td><td>0</td></tr><tr><td>I'm Tired - From \"Euphoria\" An Original HBO Series</td><td>Labrinth</td><td>1</td><td>2022</td><td>2</td><td>4</td><td>1888</td><td>0</td><td>121913181</td><td>26</td><td>1</td><td>58</td><td>0</td><td>0</td></tr><tr><td>DAN��A</td><td>Mc Pedrinho, Pedro Sampaio</td><td>2</td><td>2022</td><td>2</td><td>1</td><td>911</td><td>2</td><td>208166039</td><td>45</td><td>0</td><td>99</td><td>1</td><td>1</td></tr><tr><td>Yo Voy (feat. Daddy Yankee)</td><td>Zion & Lennox</td><td>1</td><td>2004</td><td>5</td><td>4</td><td>2954</td><td>2</td><td>527033089</td><td>18</td><td>82</td><td>0</td><td>0</td><td>5</td></tr><tr><td>Residente: Bzrp Music Sessions, Vol. 49</td><td>Residente, Bizarrap</td><td>2</td><td>2022</td><td>3</td><td>3</td><td>461</td><td>0</td><td>94616487</td><td>7</td><td>11</td><td>13</td><td>0</td><td>0</td></tr><tr><td>Jordan</td><td>Ryan Castro</td><td>1</td><td>2021</td><td>4</td><td>30</td><td>2844</td><td>2</td><td>394030335</td><td>29</td><td>2</td><td>35</td><td>1</td><td>0</td></tr><tr><td>Nail Tech</td><td>Jack Harlow</td><td>1</td><td>2022</td><td>2</td><td>18</td><td>2939</td><td>0</td><td>193443895</td><td>42</td><td>0</td><td>24</td><td>0</td><td>0</td></tr><tr><td>Chale</td><td>Eden Mu��</td><td>1</td><td>2022</td><td>2</td><td>18</td><td>695</td><td>11</td><td>299648208</td><td>16</td><td>41</td><td>13</td><td>1</td><td>1</td></tr><tr><td>DARARI</td><td>Treasure</td><td>1</td><td>2022</td><td>2</td><td>15</td><td>328</td><td>0</td><td>182978249</td><td>10</td><td>21</td><td>7</td><td>0</td><td>9</td></tr><tr><td>Ya No Somos Ni Seremos</td><td>Christian Nodal</td><td>1</td><td>2022</td><td>2</td><td>18</td><td>866</td><td>16</td><td>319757142</td><td>27</td><td>84</td><td>32</td><td>7</td><td>11</td></tr><tr><td>Thinking with My Dick</td><td>Kevin Gates, Juicy J</td><td>2</td><td>2013</td><td>7</td><td>16</td><td>1550</td><td>0</td><td>109091573</td><td>0</td><td>0</td><td>14</td><td>0</td><td>0</td></tr><tr><td>Freaky Deaky</td><td>Tyga, Doja Cat</td><td>2</td><td>2022</td><td>2</td><td>25</td><td>1729</td><td>0</td><td>153240879</td><td>26</td><td>1</td><td>19</td><td>0</td><td>0</td></tr><tr><td>this is what falling in love feels like</td><td>JVKE</td><td>1</td><td>2021</td><td>9</td><td>3</td><td>2005</td><td>0</td><td>346127840</td><td>16</td><td>5</td><td>43</td><td>0</td><td>7</td></tr><tr><td>La Zona</td><td>Bad Bunny</td><td>1</td><td>2020</td><td>2</td><td>29</td><td>1188</td><td>0</td><td>312622938</td><td>13</td><td>1</td><td>15</td><td>0</td><td>1</td></tr><tr><td>Bohemian Rhapsody - Remastered 2011</td><td>Queen</td><td>1</td><td>1975</td><td>10</td><td>31</td><td>40112</td><td>3</td><td>null</td><td>321</td><td>162</td><td>null</td><td>8</td><td>17</td></tr><tr><td>Hope</td><td>XXXTENTACION</td><td>1</td><td>2018</td><td>3</td><td>16</td><td>3659</td><td>0</td><td>1200808494</td><td>11</td><td>10</td><td>267</td><td>0</td><td>7</td></tr><tr><td>Levitating</td><td>Dua Lipa</td><td>1</td><td>2020</td><td>3</td><td>27</td><td>9833</td><td>0</td><td>797196073</td><td>233</td><td>82</td><td>531</td><td>1</td><td>1</td></tr><tr><td>Wake Me Up - Radio Edit</td><td>Avicii</td><td>1</td><td>2013</td><td>1</td><td>1</td><td>50887</td><td>34</td><td>1970673297</td><td>315</td><td>160</td><td>null</td><td>1</td><td>46</td></tr><tr><td>jealousy, jealousy</td><td>Olivia Rodrigo</td><td>1</td><td>2021</td><td>5</td><td>21</td><td>3257</td><td>0</td><td>665765558</td><td>10</td><td>0</td><td>70</td><td>0</td><td>0</td></tr><tr><td>Mon��y so</td><td>YEAT</td><td>1</td><td>2021</td><td>9</td><td>10</td><td>1473</td><td>0</td><td>263779030</td><td>2</td><td>0</td><td>12</td><td>0</td><td>10</td></tr><tr><td>Demasiadas Mujeres</td><td>C. Tangana</td><td>1</td><td>2020</td><td>10</td><td>8</td><td>2226</td><td>0</td><td>339473453</td><td>36</td><td>2</td><td>11</td><td>0</td><td>14</td></tr><tr><td>Something Just Like This</td><td>The Chainsmokers, Coldplay</td><td>2</td><td>2017</td><td>2</td><td>22</td><td>23375</td><td>21</td><td>null</td><td>336</td><td>188</td><td>null</td><td>3</td><td>30</td></tr><tr><td>Closer</td><td>The Chainsmokers, Halsey</td><td>2</td><td>2016</td><td>5</td><td>31</td><td>28032</td><td>0</td><td>null</td><td>315</td><td>159</td><td>null</td><td>0</td><td>44</td></tr><tr><td>O.O</td><td>NMIXX</td><td>1</td><td>2022</td><td>2</td><td>22</td><td>290</td><td>0</td><td>135444283</td><td>9</td><td>66</td><td>10</td><td>0</td><td>0</td></tr><tr><td>Somebody That I Used To Know</td><td>Gotye, Kimbra</td><td>2</td><td>2011</td><td>1</td><td>1</td><td>42798</td><td>0</td><td>1457139296</td><td>217</td><td>136</td><td>null</td><td>1</td><td>null</td></tr><tr><td>Tom's Diner</td><td>AnnenMayKantereit, Giant Rooks</td><td>2</td><td>2019</td><td>6</td><td>28</td><td>2605</td><td>0</td><td>236872197</td><td>15</td><td>48</td><td>50</td><td>0</td><td>3</td></tr><tr><td>First Class</td><td>Jack Harlow</td><td>1</td><td>2022</td><td>4</td><td>8</td><td>8737</td><td>0</td><td>694525298</td><td>163</td><td>32</td><td>137</td><td>15</td><td>12</td></tr><tr><td>Plan A</td><td>Paulo Londra</td><td>1</td><td>2022</td><td>3</td><td>23</td><td>1105</td><td>0</td><td>240661097</td><td>32</td><td>0</td><td>19</td><td>0</td><td>0</td></tr><tr><td>Fuera del mercado</td><td>Danny Ocean</td><td>1</td><td>2022</td><td>2</td><td>17</td><td>2499</td><td>21</td><td>421365166</td><td>68</td><td>24</td><td>43</td><td>1</td><td>0</td></tr><tr><td>X ��LTIMA</td><td>Daddy Yankee, Bad Bunny</td><td>2</td><td>2022</td><td>3</td><td>25</td><td>2697</td><td>1</td><td>349746291</td><td>55</td><td>3</td><td>32</td><td>0</td><td>0</td></tr><tr><td>When You're Gone</td><td>Shawn Mendes</td><td>1</td><td>2022</td><td>3</td><td>31</td><td>2092</td><td>0</td><td>255120451</td><td>75</td><td>11</td><td>44</td><td>0</td><td>14</td></tr><tr><td>In My Head</td><td>Lil Tjay</td><td>1</td><td>2022</td><td>4</td><td>1</td><td>1185</td><td>0</td><td>190981339</td><td>21</td><td>0</td><td>31</td><td>0</td><td>0</td></tr><tr><td>Wait a Minute!</td><td>Willow</td><td>1</td><td>2015</td><td>1</td><td>11</td><td>11985</td><td>0</td><td>924193303</td><td>79</td><td>80</td><td>250</td><td>3</td><td>10</td></tr><tr><td>LOVE DIVE</td><td>IVE</td><td>1</td><td>2022</td><td>4</td><td>5</td><td>753</td><td>8</td><td>305771063</td><td>28</td><td>124</td><td>13</td><td>0</td><td>1</td></tr><tr><td>Pantysito</td><td>Feid, Alejo, Robi</td><td>3</td><td>2022</td><td>3</td><td>18</td><td>2995</td><td>0</td><td>273005485</td><td>49</td><td>17</td><td>30</td><td>0</td><td>0</td></tr><tr><td>Chance</td><td>Paulo Londra</td><td>1</td><td>2022</td><td>4</td><td>6</td><td>225</td><td>0</td><td>89566512</td><td>11</td><td>0</td><td>7</td><td>0</td><td>0</td></tr><tr><td>Cool for the Summer</td><td>Demi Lovato</td><td>1</td><td>2015</td><td>1</td><td>1</td><td>9243</td><td>0</td><td>677389855</td><td>155</td><td>5</td><td>577</td><td>0</td><td>6</td></tr><tr><td>psychofreak (feat. WILLOW)</td><td>Camila Cabello, Willow</td><td>2</td><td>2022</td><td>4</td><td>7</td><td>918</td><td>0</td><td>75476209</td><td>24</td><td>0</td><td>52</td><td>0</td><td>0</td></tr><tr><td>Angel Baby</td><td>Troye Sivan</td><td>1</td><td>2021</td><td>9</td><td>9</td><td>1959</td><td>9</td><td>408843328</td><td>52</td><td>25</td><td>32</td><td>0</td><td>10</td></tr><tr><td>Vampiro</td><td>Matu��, Wiu, </td><td>3</td><td>2022</td><td>1</td><td>30</td><td>540</td><td>4</td><td>187772591</td><td>26</td><td>3</td><td>39</td><td>0</td><td>0</td></tr><tr><td>Si Quieren Frontear</td><td>De La Ghetto, Duki, Quevedo</td><td>3</td><td>2022</td><td>3</td><td>31</td><td>859</td><td>0</td><td>178512385</td><td>14</td><td>0</td><td>11</td><td>0</td><td>0</td></tr><tr><td>Right On</td><td>Lil Baby</td><td>1</td><td>2022</td><td>4</td><td>8</td><td>1116</td><td>0</td><td>101780047</td><td>31</td><td>9</td><td>15</td><td>0</td><td>1</td></tr><tr><td>Me Arrepent�</td><td>Ak4:20, Cris Mj, Pailita</td><td>3</td><td>2022</td><td>3</td><td>30</td><td>273</td><td>2</td><td>118381354</td><td>12</td><td>2</td><td>4</td><td>0</td><td>0</td></tr><tr><td>That's Hilarious</td><td>Charlie Puth</td><td>1</td><td>2022</td><td>4</td><td>8</td><td>686</td><td>2</td><td>146363130</td><td>11</td><td>6</td><td>12</td><td>0</td><td>15</td></tr><tr><td>Soy El Unico</td><td>Yahritza Y Su Esencia</td><td>1</td><td>2022</td><td>3</td><td>25</td><td>226</td><td>0</td><td>126443991</td><td>5</td><td>0</td><td>4</td><td>0</td><td>1</td></tr><tr><td>RUMBAT�</td><td>Daddy Yankee</td><td>1</td><td>2022</td><td>3</td><td>25</td><td>1264</td><td>0</td><td>157990698</td><td>20</td><td>4</td><td>52</td><td>0</td><td>1</td></tr><tr><td>sentaDONA (Remix) s2</td><td>Lu��sa Sonza, MC Frog, Dj Gabriel do Borel, Davi K</td><td>4</td><td>2022</td><td>3</td><td>17</td><td>870</td><td>0</td><td>176290831</td><td>32</td><td>0</td><td>49</td><td>0</td><td>0</td></tr><tr><td>Falling</td><td>Harry Styles</td><td>1</td><td>2019</td><td>12</td><td>13</td><td>7556</td><td>0</td><td>1023187129</td><td>124</td><td>24</td><td>254</td><td>0</td><td>8</td></tr><tr><td>Sigue</td><td>Ed Sheeran, J Balvin</td><td>2</td><td>1996</td><td>11</td><td>24</td><td>1370</td><td>0</td><td>106933107</td><td>46</td><td>8</td><td>60</td><td>0</td><td>0</td></tr><tr><td>Fim de Semana no Rio</td><td>teto</td><td>1</td><td>2022</td><td>3</td><td>30</td><td>315</td><td>2</td><td>139193812</td><td>27</td><td>2</td><td>31</td><td>0</td><td>0</td></tr><tr><td>MANIAC</td><td>Stray Kids</td><td>1</td><td>2022</td><td>3</td><td>18</td><td>651</td><td>0</td><td>212234990</td><td>6</td><td>188</td><td>20</td><td>0</td><td>0</td></tr><tr><td>There's Nothing Holdin' Me Back</td><td>Shawn Mendes</td><td>1</td><td>2016</td><td>9</td><td>23</td><td>12382</td><td>0</td><td>1714490998</td><td>229</td><td>57</td><td>null</td><td>2</td><td>71</td></tr><tr><td>IDGAF (with blackbear)</td><td>Blackbear, BoyWithUke</td><td>2</td><td>2022</td><td>3</td><td>18</td><td>625</td><td>0</td><td>197643795</td><td>10</td><td>2</td><td>13</td><td>0</td><td>1</td></tr><tr><td>Golden</td><td>Harry Styles</td><td>1</td><td>2019</td><td>12</td><td>13</td><td>8429</td><td>1</td><td>807015863</td><td>85</td><td>24</td><td>200</td><td>0</td><td>2</td></tr><tr><td>Get Lucky - Radio Edit</td><td>Pharrell Williams, Nile Rodgers, Daft Punk</td><td>3</td><td>2013</td><td>1</td><td>1</td><td>52898</td><td>0</td><td>933815613</td><td>203</td><td>1</td><td>null</td><td>0</td><td>0</td></tr><tr><td>Ain't Shit</td><td>Doja Cat</td><td>1</td><td>2021</td><td>6</td><td>25</td><td>3436</td><td>0</td><td>499710590</td><td>32</td><td>6</td><td>46</td><td>0</td><td>1</td></tr><tr><td>Nobody Like U - From \"Turning Red\"</td><td>Jordan Fisher, Josh Levi, Finneas O'Connell, 4*TOWN (From Disney and Pixar���s Turning Red), Topher Ngo, Grayson Vill</td><td>6</td><td>2022</td><td>2</td><td>25</td><td>918</td><td>0</td><td>120847157</td><td>34</td><td>39</td><td>30</td><td>0</td><td>0</td></tr><tr><td>Still Life</td><td>BIGBANG</td><td>1</td><td>2022</td><td>4</td><td>5</td><td>181</td><td>0</td><td>53909146</td><td>16</td><td>14</td><td>7</td><td>0</td><td>0</td></tr><tr><td>Photograph</td><td>Ed Sheeran</td><td>1</td><td>2014</td><td>6</td><td>20</td><td>18778</td><td>3</td><td>null</td><td>228</td><td>105</td><td>null</td><td>0</td><td>84</td></tr><tr><td>Love Yourself</td><td>Justin Bieber</td><td>1</td><td>2015</td><td>11</td><td>9</td><td>22730</td><td>5</td><td>2123309722</td><td>289</td><td>87</td><td>null</td><td>0</td><td>36</td></tr><tr><td>N95</td><td>Kendrick Lamar</td><td>1</td><td>2022</td><td>5</td><td>13</td><td>5542</td><td>0</td><td>301242089</td><td>52</td><td>16</td><td>65</td><td>0</td><td>206</td></tr><tr><td>About Damn Time</td><td>Lizzo</td><td>1</td><td>2022</td><td>4</td><td>14</td><td>9021</td><td>0</td><td>723894473</td><td>242</td><td>49</td><td>272</td><td>21</td><td>24</td></tr><tr><td>Die Hard</td><td>Kendrick Lamar, Blxst, Amanda Reifer</td><td>3</td><td>2022</td><td>5</td><td>13</td><td>4627</td><td>0</td><td>237351106</td><td>38</td><td>13</td><td>32</td><td>0</td><td>0</td></tr><tr><td>Despu��s de la P</td><td>Bad Bunny</td><td>1</td><td>2022</td><td>5</td><td>6</td><td>2229</td><td>0</td><td>461558540</td><td>27</td><td>44</td><td>24</td><td>0</td><td>5</td></tr><tr><td>Un Ratito</td><td>Bad Bunny</td><td>1</td><td>2022</td><td>5</td><td>6</td><td>1112</td><td>6</td><td>417230415</td><td>7</td><td>30</td><td>13</td><td>1</td><td>1</td></tr><tr><td>United In Grief</td><td>Kendrick Lamar</td><td>1</td><td>2022</td><td>5</td><td>13</td><td>2575</td><td>0</td><td>156898322</td><td>4</td><td>5</td><td>12</td><td>0</td><td>51</td></tr><tr><td>Father Time (feat. Sampha)</td><td>Kendrick Lamar, Sampha</td><td>2</td><td>2022</td><td>5</td><td>13</td><td>3107</td><td>0</td><td>127309180</td><td>4</td><td>0</td><td>22</td><td>0</td><td>0</td></tr><tr><td>Yo No Soy Celoso</td><td>Bad Bunny</td><td>1</td><td>2022</td><td>5</td><td>6</td><td>1179</td><td>0</td><td>313113297</td><td>7</td><td>21</td><td>11</td><td>0</td><td>0</td></tr><tr><td>Rich Spirit</td><td>Kendrick Lamar</td><td>1</td><td>2022</td><td>5</td><td>13</td><td>3486</td><td>0</td><td>173702135</td><td>20</td><td>10</td><td>33</td><td>0</td><td>0</td></tr><tr><td>Cooped Up (with Roddy Ricch)</td><td>Post Malone, Roddy Ricch</td><td>2</td><td>2022</td><td>5</td><td>12</td><td>2942</td><td>0</td><td>271666301</td><td>42</td><td>28</td><td>43</td><td>0</td><td>0</td></tr><tr><td>Me Fui de Vacaciones</td><td>Bad Bunny</td><td>1</td><td>2022</td><td>5</td><td>6</td><td>1443</td><td>0</td><td>305650299</td><td>9</td><td>11</td><td>22</td><td>1</td><td>0</td></tr><tr><td>Silent Hill</td><td>Kendrick Lamar, Kodak Black</td><td>2</td><td>2022</td><td>5</td><td>13</td><td>3028</td><td>0</td><td>123216717</td><td>22</td><td>0</td><td>23</td><td>0</td><td>0</td></tr><tr><td>La Corriente</td><td>Tony Dize, Bad Bunny</td><td>2</td><td>2022</td><td>5</td><td>6</td><td>1796</td><td>8</td><td>479655659</td><td>8</td><td>25</td><td>18</td><td>1</td><td>0</td></tr><tr><td>Count Me Out</td><td>Kendrick Lamar</td><td>1</td><td>2022</td><td>5</td><td>13</td><td>2729</td><td>0</td><td>126191104</td><td>3</td><td>7</td><td>13</td><td>0</td><td>1</td></tr><tr><td>Andrea</td><td>Buscabulla, Bad Bunny</td><td>2</td><td>2022</td><td>5</td><td>6</td><td>1195</td><td>0</td><td>344055883</td><td>8</td><td>30</td><td>13</td><td>1</td><td>1</td></tr><tr><td>Dos Mil 16</td><td>Bad Bunny</td><td>1</td><td>2022</td><td>5</td><td>6</td><td>892</td><td>3</td><td>338422004</td><td>10</td><td>24</td><td>11</td><td>0</td><td>0</td></tr><tr><td>We Cry Together</td><td>Kendrick Lamar, Taylour Paige</td><td>2</td><td>2022</td><td>5</td><td>13</td><td>1635</td><td>0</td><td>68895644</td><td>4</td><td>1</td><td>6</td><td>0</td><td>0</td></tr><tr><td>Savior</td><td>Kendrick Lamar, Sam Dew, Baby Keem</td><td>3</td><td>2022</td><td>5</td><td>13</td><td>2291</td><td>0</td><td>86176890</td><td>9</td><td>0</td><td>8</td><td>0</td><td>0</td></tr><tr><td>Un Coco</td><td>Bad Bunny</td><td>1</td><td>2022</td><td>5</td><td>6</td><td>1029</td><td>28</td><td>403231558</td><td>5</td><td>28</td><td>9</td><td>0</td><td>0</td></tr><tr><td>Otro Atardecer</td><td>Bad Bunny, The Mar��</td><td>2</td><td>2022</td><td>5</td><td>6</td><td>1681</td><td>7</td><td>319546754</td><td>10</td><td>30</td><td>13</td><td>0</td><td>33</td></tr><tr><td>Worldwide Steppers</td><td>Kendrick Lamar</td><td>1</td><td>2022</td><td>5</td><td>13</td><td>1480</td><td>0</td><td>61739839</td><td>1</td><td>0</td><td>5</td><td>0</td><td>0</td></tr><tr><td>Aguacero</td><td>Bad Bunny</td><td>1</td><td>2022</td><td>5</td><td>6</td><td>829</td><td>0</td><td>283359161</td><td>4</td><td>15</td><td>10</td><td>0</td><td>0</td></tr><tr><td>Purple Hearts</td><td>Kendrick Lamar, Ghostface Killah, Summer Walker</td><td>3</td><td>2022</td><td>5</td><td>13</td><td>2308</td><td>0</td><td>76831876</td><td>7</td><td>0</td><td>7</td><td>0</td><td>0</td></tr><tr><td>Un Verano Sin Ti</td><td>Bad Bunny</td><td>1</td><td>2022</td><td>5</td><td>6</td><td>1004</td><td>1</td><td>283332261</td><td>8</td><td>12</td><td>9</td><td>0</td><td>0</td></tr><tr><td>ULTRA SOLO</td><td>Polima WestCoast, Pailita</td><td>2</td><td>2022</td><td>2</td><td>14</td><td>1367</td><td>0</td><td>307752576</td><td>48</td><td>4</td><td>34</td><td>1</td><td>0</td></tr><tr><td>Ens����ame </td><td>Bad Bunny</td><td>1</td><td>2022</td><td>5</td><td>6</td><td>1112</td><td>3</td><td>279737940</td><td>7</td><td>25</td><td>12</td><td>0</td><td>0</td></tr><tr><td>El Apag�</td><td>Bad Bunny</td><td>1</td><td>2022</td><td>5</td><td>6</td><td>1209</td><td>0</td><td>212351890</td><td>9</td><td>7</td><td>14</td><td>0</td><td>1</td></tr><tr><td>Callaita</td><td>Bad Bunny, Tainy</td><td>2</td><td>2019</td><td>5</td><td>31</td><td>9539</td><td>15</td><td>1304313953</td><td>162</td><td>116</td><td>355</td><td>7</td><td>0</td></tr><tr><td>Dua Lipa</td><td>Jack Harlow</td><td>1</td><td>2022</td><td>5</td><td>6</td><td>1992</td><td>0</td><td>150500965</td><td>35</td><td>0</td><td>3</td><td>0</td><td>0</td></tr><tr><td>Agosto</td><td>Bad Bunny</td><td>1</td><td>2022</td><td>5</td><td>6</td><td>897</td><td>0</td><td>246127838</td><td>6</td><td>20</td><td>8</td><td>0</td><td>0</td></tr><tr><td>House Of Memories</td><td>Panic! At The Disco</td><td>1</td><td>2016</td><td>1</td><td>15</td><td>2948</td><td>0</td><td>582863434</td><td>10</td><td>2</td><td>150</td><td>0</td><td>0</td></tr><tr><td>Mr. Morale</td><td>Kendrick Lamar, Tanna Leone</td><td>2</td><td>2022</td><td>5</td><td>13</td><td>1860</td><td>0</td><td>58687425</td><td>1</td><td>0</td><td>3</td><td>0</td><td>0</td></tr><tr><td>That That (prod. & feat. SUGA of BTS)</td><td>PSY, Suga</td><td>2</td><td>2022</td><td>4</td><td>29</td><td>802</td><td>0</td><td>212109195</td><td>16</td><td>81</td><td>23</td><td>0</td><td>0</td></tr><tr><td>In The Stars</td><td>Benson Boone</td><td>1</td><td>2022</td><td>4</td><td>29</td><td>2224</td><td>8</td><td>382199619</td><td>48</td><td>40</td><td>87</td><td>1</td><td>210</td></tr><tr><td>Rich - Interlude</td><td>Kendrick Lamar</td><td>1</td><td>2022</td><td>5</td><td>13</td><td>1103</td><td>0</td><td>41210087</td><td>0</td><td>0</td><td>0</td><td>0</td><td>0</td></tr><tr><td>SUPERMODEL</td><td>M��ne</td><td>1</td><td>2022</td><td>5</td><td>13</td><td>2265</td><td>0</td><td>231657891</td><td>93</td><td>12</td><td>173</td><td>11</td><td>3</td></tr><tr><td>Stefania (Kalush Orchestra)</td><td>KALUSH</td><td>1</td><td>2022</td><td>3</td><td>10</td><td>555</td><td>0</td><td>53729194</td><td>10</td><td>4</td><td>4</td><td>0</td><td>0</td></tr><tr><td>Thousand Miles</td><td>The Kid Laroi</td><td>1</td><td>2022</td><td>4</td><td>22</td><td>2050</td><td>0</td><td>244741137</td><td>52</td><td>9</td><td>46</td><td>0</td><td>1</td></tr><tr><td>Crown</td><td>Kendrick Lamar</td><td>1</td><td>2022</td><td>5</td><td>13</td><td>1493</td><td>0</td><td>42485571</td><td>2</td><td>0</td><td>10</td><td>0</td><td>0</td></tr><tr><td>Auntie Diaries</td><td>Kendrick Lamar</td><td>1</td><td>2022</td><td>5</td><td>13</td><td>1545</td><td>0</td><td>37778188</td><td>1</td><td>0</td><td>4</td><td>0</td><td>0</td></tr><tr><td>PUFFIN ON ZOOTIEZ</td><td>Future</td><td>1</td><td>2022</td><td>4</td><td>29</td><td>2350</td><td>0</td><td>254218729</td><td>28</td><td>42</td><td>23</td><td>0</td><td>0</td></tr><tr><td>Mirror</td><td>Kendrick Lamar</td><td>1</td><td>2022</td><td>5</td><td>13</td><td>1929</td><td>0</td><td>53603447</td><td>2</td><td>0</td><td>4</td><td>0</td><td>0</td></tr><tr><td>Beautiful Girl</td><td>Luciano</td><td>1</td><td>2022</td><td>4</td><td>22</td><td>710</td><td>4</td><td>160035717</td><td>16</td><td>11</td><td>18</td><td>0</td><td>0</td></tr><tr><td>Paulo Londra: Bzrp Music Sessions, Vol. 23</td><td>Bizarrap, Paulo Londra</td><td>2</td><td>2022</td><td>4</td><td>25</td><td>928</td><td>0</td><td>164163229</td><td>19</td><td>0</td><td>7</td><td>0</td><td>0</td></tr><tr><td>Savior - Interlude</td><td>Kendrick Lamar</td><td>1</td><td>2022</td><td>5</td><td>13</td><td>1194</td><td>0</td><td>37091576</td><td>0</td><td>0</td><td>3</td><td>0</td><td>0</td></tr><tr><td>Pasoori</td><td>Shae Gill, Ali Sethi</td><td>2</td><td>2022</td><td>2</td><td>6</td><td>349</td><td>6</td><td>284249832</td><td>10</td><td>22</td><td>3</td><td>0</td><td>0</td></tr><tr><td>Mother I Sober (feat. Beth Gibbons of Portishead)</td><td>Kendrick Lamar, Beth Gibbons</td><td>2</td><td>2022</td><td>5</td><td>13</td><td>1890</td><td>0</td><td>33381454</td><td>3</td><td>0</td><td>2</td><td>0</td><td>0</td></tr><tr><td>TUS L��GR</td><td>Sech, Mora</td><td>2</td><td>2022</td><td>4</td><td>1</td><td>1308</td><td>2</td><td>184622518</td><td>23</td><td>16</td><td>9</td><td>0</td><td>5</td></tr><tr><td>Where Did You Go?</td><td>MNEK, Jax Jones</td><td>2</td><td>2022</td><td>1</td><td>26</td><td>4531</td><td>0</td><td>300983101</td><td>135</td><td>74</td><td>119</td><td>1</td><td>18</td></tr><tr><td>I Tried to Tell Y'all</td><td>Ugly Dray, Tesla Jnr</td><td>2</td><td>2022</td><td>5</td><td>6</td><td>1657</td><td>0</td><td>121077868</td><td>15</td><td>3</td><td>3</td><td>0</td><td>0</td></tr><tr><td>Honest (feat. Don Toliver)</td><td>Justin Bieber, Don Toliver</td><td>2</td><td>2022</td><td>4</td><td>29</td><td>1351</td><td>0</td><td>106919680</td><td>26</td><td>1</td><td>17</td><td>0</td><td>0</td></tr><tr><td>ZOOM</td><td>Jessi</td><td>1</td><td>2022</td><td>4</td><td>13</td><td>608</td><td>0</td><td>136996305</td><td>5</td><td>29</td><td>14</td><td>0</td><td>0</td></tr><tr><td>SloMo</td><td>Chanel</td><td>1</td><td>2021</td><td>12</td><td>24</td><td>1211</td><td>0</td><td>65719930</td><td>31</td><td>0</td><td>19</td><td>0</td><td>2</td></tr><tr><td>FEARLESS</td><td>LE SSERAFIM</td><td>1</td><td>2022</td><td>5</td><td>2</td><td>629</td><td>0</td><td>229497852</td><td>18</td><td>75</td><td>9</td><td>0</td><td>0</td></tr><tr><td>10 Things I Hate About You</td><td>Leah Kate</td><td>1</td><td>2022</td><td>3</td><td>23</td><td>1301</td><td>0</td><td>185550869</td><td>23</td><td>1</td><td>15</td><td>0</td><td>0</td></tr><tr><td>SPACE MAN</td><td>Sam Ryder</td><td>1</td><td>2022</td><td>2</td><td>22</td><td>1329</td><td>0</td><td>54682594</td><td>42</td><td>51</td><td>32</td><td>0</td><td>0</td></tr><tr><td>With you</td><td>HA SUNG WOON, Jimin</td><td>2</td><td>2022</td><td>4</td><td>24</td><td>343</td><td>2</td><td>240580042</td><td>4</td><td>35</td><td>11</td><td>1</td><td>1</td></tr><tr><td>Iris</td><td>The Goo Goo Dolls</td><td>1</td><td>1998</td><td>3</td><td>31</td><td>13101</td><td>9</td><td>1284942608</td><td>137</td><td>5</td><td>582</td><td>0</td><td>0</td></tr><tr><td>The Heart Part 5</td><td>Kendrick Lamar</td><td>1</td><td>2022</td><td>5</td><td>8</td><td>2939</td><td>0</td><td>71423324</td><td>29</td><td>0</td><td>30</td><td>0</td><td>0</td></tr><tr><td>San Lucas</td><td>Kevin Kaarl</td><td>1</td><td>2019</td><td>11</td><td>7</td><td>407</td><td>1</td><td>244891912</td><td>5</td><td>0</td><td>5</td><td>0</td><td>0</td></tr><tr><td>This Love (Taylor���s Ve</td><td>Taylor Swift</td><td>1</td><td>2022</td><td>5</td><td>6</td><td>1492</td><td>0</td><td>132171975</td><td>26</td><td>2</td><td>15</td><td>0</td><td>2</td></tr><tr><td>Good Looking</td><td>Suki Waterhouse</td><td>1</td><td>2017</td><td>10</td><td>20</td><td>2264</td><td>0</td><td>184706613</td><td>11</td><td>6</td><td>25</td><td>0</td><td>1</td></tr><tr><td>Flowers</td><td>Lauren Spencer Smith</td><td>1</td><td>2021</td><td>8</td><td>9</td><td>801</td><td>0</td><td>184826429</td><td>42</td><td>9</td><td>24</td><td>1</td><td>1</td></tr><tr><td>Yet To Come</td><td>BTS</td><td>1</td><td>2022</td><td>6</td><td>10</td><td>829</td><td>0</td><td>302006641</td><td>32</td><td>110</td><td>26</td><td>0</td><td>0</td></tr><tr><td>Run BTS</td><td>BTS</td><td>1</td><td>2022</td><td>6</td><td>10</td><td>736</td><td>0</td><td>330881149</td><td>5</td><td>132</td><td>17</td><td>0</td><td>3</td></tr><tr><td>Music For a Sushi Restaurant</td><td>Harry Styles</td><td>1</td><td>2022</td><td>5</td><td>20</td><td>4449</td><td>1</td><td>334733572</td><td>80</td><td>11</td><td>66</td><td>0</td><td>1</td></tr><tr><td>Matilda</td><td>Harry Styles</td><td>1</td><td>2022</td><td>5</td><td>20</td><td>3218</td><td>3</td><td>366214458</td><td>29</td><td>10</td><td>79</td><td>0</td><td>0</td></tr><tr><td>For Youth</td><td>BTS</td><td>1</td><td>2022</td><td>6</td><td>10</td><td>327</td><td>0</td><td>114546317</td><td>5</td><td>40</td><td>12</td><td>0</td><td>0</td></tr><tr><td>Daylight</td><td>Harry Styles</td><td>1</td><td>2022</td><td>5</td><td>20</td><td>2775</td><td>0</td><td>290833204</td><td>21</td><td>11</td><td>40</td><td>0</td><td>0</td></tr><tr><td>Vegas (From the Original Motion Picture Soundtrack ELVIS)</td><td>Doja Cat</td><td>1</td><td>2022</td><td>5</td><td>6</td><td>4576</td><td>0</td><td>448500832</td><td>79</td><td>13</td><td>93</td><td>0</td><td>17</td></tr><tr><td>Cash In Cash Out</td><td>Pharrell Williams, Tyler, The Creator, 21 Savage</td><td>4</td><td>2022</td><td>6</td><td>10</td><td>2313</td><td>0</td><td>136676504</td><td>34</td><td>0</td><td>29</td><td>0</td><td>0</td></tr><tr><td>Potion (with Dua Lipa & Young Thug)</td><td>Calvin Harris, Dua Lipa, Young Thug</td><td>3</td><td>2022</td><td>5</td><td>27</td><td>3983</td><td>0</td><td>190625045</td><td>73</td><td>45</td><td>119</td><td>0</td><td>0</td></tr><tr><td>Born Singer</td><td>BTS</td><td>1</td><td>2022</td><td>6</td><td>10</td><td>279</td><td>0</td><td>79095270</td><td>0</td><td>18</td><td>6</td><td>0</td><td>0</td></tr><tr><td>Little Freak</td><td>Harry Styles</td><td>1</td><td>2022</td><td>5</td><td>20</td><td>2302</td><td>0</td><td>273194684</td><td>20</td><td>3</td><td>39</td><td>0</td><td>0</td></tr><tr><td>La Llevo Al Cielo (Ft. ��engo F</td><td>Nengo Flow, Anuel Aa, Chris Jedi, Chencho Corleone</td><td>4</td><td>2022</td><td>5</td><td>20</td><td>3559</td><td>3</td><td>333146475</td><td>36</td><td>1</td><td>31</td><td>0</td><td>1</td></tr><tr><td>True Love</td><td>Kanye West, XXXTENTACION</td><td>2</td><td>2022</td><td>5</td><td>27</td><td>2129</td><td>0</td><td>194902696</td><td>23</td><td>1</td><td>44</td><td>1</td><td>0</td></tr><tr><td>Satellite</td><td>Harry Styles</td><td>1</td><td>2022</td><td>5</td><td>20</td><td>3291</td><td>5</td><td>311482393</td><td>43</td><td>28</td><td>79</td><td>0</td><td>208</td></tr><tr><td>Pass The Dutchie</td><td>Musical Youth</td><td>1</td><td>1982</td><td>1</td><td>1</td><td>5328</td><td>0</td><td>195918494</td><td>54</td><td>76</td><td>900</td><td>0</td><td>0</td></tr><tr><td>Villano Antillano: Bzrp Music Sessions, Vol. 51</td><td>Bizarrap, Villano Antillano</td><td>2</td><td>2022</td><td>6</td><td>8</td><td>1401</td><td>0</td><td>248511839</td><td>26</td><td>16</td><td>17</td><td>0</td><td>1</td></tr><tr><td>Love Of My Life</td><td>Harry Styles</td><td>1</td><td>2022</td><td>5</td><td>20</td><td>1933</td><td>0</td><td>233671263</td><td>13</td><td>2</td><td>31</td><td>0</td><td>0</td></tr><tr><td>Grapejuice</td><td>Harry Styles</td><td>1</td><td>2022</td><td>5</td><td>20</td><td>1986</td><td>0</td><td>199587884</td><td>7</td><td>1</td><td>15</td><td>0</td><td>0</td></tr><tr><td>So Good</td><td>Halsey</td><td>1</td><td>2022</td><td>6</td><td>9</td><td>1057</td><td>0</td><td>91781263</td><td>51</td><td>14</td><td>19</td><td>0</td><td>0</td></tr><tr><td>Belly Dancer</td><td>BYOR, Imanbek</td><td>2</td><td>2022</td><td>2</td><td>18</td><td>5115</td><td>13</td><td>383835984</td><td>109</td><td>38</td><td>301</td><td>1</td><td>33</td></tr><tr><td>Keep Driving</td><td>Harry Styles</td><td>1</td><td>2022</td><td>5</td><td>20</td><td>2094</td><td>1</td><td>236060709</td><td>8</td><td>1</td><td>18</td><td>0</td><td>0</td></tr><tr><td>Cinema</td><td>Harry Styles</td><td>1</td><td>2022</td><td>5</td><td>20</td><td>2171</td><td>0</td><td>189236868</td><td>18</td><td>1</td><td>28</td><td>0</td><td>0</td></tr><tr><td>Die Young (feat. 347aidan)</td><td>Sleepy hallow, 347aidan</td><td>2</td><td>2022</td><td>5</td><td>25</td><td>896</td><td>0</td><td>160845341</td><td>19</td><td>0</td><td>15</td><td>0</td><td>0</td></tr><tr><td>Only Love Can Hurt Like This</td><td>Paloma Faith</td><td>1</td><td>2014</td><td>1</td><td>1</td><td>5148</td><td>0</td><td>588955257</td><td>90</td><td>22</td><td>365</td><td>0</td><td>114</td></tr><tr><td>Hold My Hand</td><td>Lady Gaga</td><td>1</td><td>2022</td><td>5</td><td>3</td><td>2528</td><td>0</td><td>238350348</td><td>63</td><td>8</td><td>270</td><td>2</td><td>105</td></tr><tr><td>Daydreaming</td><td>Harry Styles</td><td>1</td><td>2022</td><td>5</td><td>20</td><td>1900</td><td>1</td><td>187703102</td><td>15</td><td>1</td><td>23</td><td>0</td><td>0</td></tr><tr><td>Numb</td><td>Marshmello, Khalid</td><td>2</td><td>2022</td><td>6</td><td>10</td><td>3879</td><td>2</td><td>295307001</td><td>107</td><td>76</td><td>86</td><td>1</td><td>9</td></tr><tr><td>Nos Comemos (feat. Ozuna)</td><td>Ozuna, Tiago pzk</td><td>2</td><td>2022</td><td>6</td><td>2</td><td>896</td><td>0</td><td>138334433</td><td>0</td><td>0</td><td>2</td><td>0</td><td>0</td></tr><tr><td>Me and Your Mama</td><td>Childish Gambino</td><td>1</td><td>2016</td><td>11</td><td>10</td><td>8775</td><td>0</td><td>445590495</td><td>33</td><td>60</td><td>107</td><td>1</td><td>0</td></tr><tr><td>Crazy What Love Can Do</td><td>David Guetta, Ella Henderson, Becky Hill</td><td>3</td><td>2022</td><td>3</td><td>18</td><td>5290</td><td>0</td><td>286739476</td><td>139</td><td>73</td><td>142</td><td>0</td><td>5</td></tr><tr><td>SLOW DANCING IN THE DARK</td><td>Joji</td><td>1</td><td>2018</td><td>9</td><td>12</td><td>10211</td><td>0</td><td>1122364376</td><td>38</td><td>79</td><td>65</td><td>0</td><td>1</td></tr><tr><td>Antes de Perderte</td><td>Duki</td><td>1</td><td>2022</td><td>6</td><td>2</td><td>584</td><td>8</td><td>157136970</td><td>12</td><td>1</td><td>8</td><td>0</td><td>1</td></tr><tr><td>Boyfriends</td><td>Harry Styles</td><td>1</td><td>2022</td><td>5</td><td>20</td><td>1517</td><td>0</td><td>137070925</td><td>26</td><td>2</td><td>30</td><td>0</td><td>0</td></tr><tr><td>295</td><td>Sidhu Moose Wala</td><td>1</td><td>2021</td><td>5</td><td>15</td><td>246</td><td>4</td><td>183273246</td><td>4</td><td>106</td><td>0</td><td>0</td><td>7</td></tr><tr><td>Tak Ingin Usai</td><td>Keisya Levronka</td><td>1</td><td>2022</td><td>5</td><td>13</td><td>220</td><td>4</td><td>184807630</td><td>16</td><td>5</td><td>0</td><td>0</td><td>6</td></tr><tr><td>En El Radio Un Cochinero</td><td>Victor Cibrian</td><td>1</td><td>2022</td><td>5</td><td>13</td><td>514</td><td>0</td><td>164856284</td><td>5</td><td>36</td><td>1</td><td>0</td><td>0</td></tr><tr><td>Master of Puppets (Remastered)</td><td>Metallica</td><td>1</td><td>1986</td><td>3</td><td>3</td><td>6080</td><td>0</td><td>704171068</td><td>112</td><td>198</td><td>406</td><td>1</td><td>0</td></tr><tr><td>BREAK MY SOUL</td><td>Beyonc�</td><td>1</td><td>2022</td><td>6</td><td>21</td><td>9724</td><td>0</td><td>354614964</td><td>222</td><td>61</td><td>259</td><td>14</td><td>2</td></tr><tr><td>ULTRA SOLO REMIX</td><td>De La Ghetto, Feid, Polima WestCoast, Paloma Mami, Pailita</td><td>5</td><td>2022</td><td>6</td><td>16</td><td>2341</td><td>0</td><td>279717388</td><td>37</td><td>2</td><td>38</td><td>2</td><td>0</td></tr><tr><td>Massive</td><td>Drake</td><td>1</td><td>2022</td><td>6</td><td>17</td><td>5263</td><td>0</td><td>195628667</td><td>66</td><td>89</td><td>61</td><td>0</td><td>11</td></tr><tr><td>Betty (Get Money)</td><td>Yung Gravy</td><td>1</td><td>2022</td><td>6</td><td>10</td><td>2402</td><td>0</td><td>221752937</td><td>45</td><td>2</td><td>26</td><td>0</td><td>1</td></tr><tr><td>Ojos Marrones</td><td>Lasso</td><td>1</td><td>2022</td><td>2</td><td>6</td><td>795</td><td>11</td><td>263280370</td><td>26</td><td>18</td><td>15</td><td>1</td><td>4</td></tr><tr><td>POP!</td><td>Nayeon</td><td>1</td><td>2022</td><td>6</td><td>24</td><td>571</td><td>0</td><td>213505179</td><td>19</td><td>21</td><td>14</td><td>0</td><td>2</td></tr><tr><td>Layla</td><td>Sch��rze, DJ R</td><td>2</td><td>2022</td><td>3</td><td>24</td><td>832</td><td>3</td><td>130419412</td><td>18</td><td>124</td><td>24</td><td>1</td><td>0</td></tr><tr><td>MORE</td><td>j-hope</td><td>1</td><td>2022</td><td>7</td><td>1</td><td>565</td><td>0</td><td>155795783</td><td>6</td><td>52</td><td>11</td><td>0</td><td>0</td></tr><tr><td>Sweet Child O' Mine</td><td>Guns N' Roses</td><td>1</td><td>1987</td><td>1</td><td>1</td><td>41231</td><td>1</td><td>1553497987</td><td>228</td><td>151</td><td>null</td><td>3</td><td>99</td></tr><tr><td>Last Last</td><td>Burna Boy</td><td>1</td><td>2022</td><td>5</td><td>12</td><td>4526</td><td>12</td><td>293466523</td><td>156</td><td>275</td><td>150</td><td>3</td><td>128</td></tr><tr><td>SNAP</td><td>Rosa Linn</td><td>1</td><td>2022</td><td>3</td><td>19</td><td>1818</td><td>0</td><td>711366595</td><td>3</td><td>0</td><td>63</td><td>0</td><td>353</td></tr><tr><td>Sticky</td><td>Drake</td><td>1</td><td>2022</td><td>6</td><td>17</td><td>2814</td><td>0</td><td>191448892</td><td>38</td><td>105</td><td>25</td><td>0</td><td>2</td></tr><tr><td>Hot Shit (feat. Ye & Lil Durk)</td><td>Kanye West, Lil Durk, Cardi B</td><td>3</td><td>2022</td><td>7</td><td>1</td><td>1601</td><td>0</td><td>85924992</td><td>11</td><td>0</td><td>2</td><td>0</td><td>0</td></tr><tr><td>Ai Preto</td><td>L7nnon, DJ Biel do Furduncinho, Bianca</td><td>3</td><td>2022</td><td>6</td><td>3</td><td>894</td><td>4</td><td>176103902</td><td>28</td><td>0</td><td>54</td><td>0</td><td>0</td></tr><tr><td>La Loto</td><td>Anitta, Tini, Becky G</td><td>3</td><td>2022</td><td>7</td><td>6</td><td>945</td><td>0</td><td>121189256</td><td>49</td><td>3</td><td>57</td><td>0</td><td>0</td></tr><tr><td>die first</td><td>Nessa Barrett</td><td>1</td><td>2022</td><td>6</td><td>24</td><td>767</td><td>0</td><td>131746175</td><td>25</td><td>0</td><td>22</td><td>0</td><td>0</td></tr><tr><td>Afraid To Feel</td><td>LF System</td><td>1</td><td>2022</td><td>5</td><td>2</td><td>5898</td><td>5</td><td>244790012</td><td>129</td><td>55</td><td>128</td><td>0</td><td>101</td></tr><tr><td>Baile no Morro</td><td>Mc Vitin Da Igrejinha, MC Tairon, DJ Win</td><td>3</td><td>2022</td><td>6</td><td>10</td><td>685</td><td>2</td><td>129314708</td><td>17</td><td>0</td><td>24</td><td>0</td><td>30</td></tr><tr><td>c��mo dormi</td><td>Rels B</td><td>1</td><td>2022</td><td>8</td><td>4</td><td>1452</td><td>35</td><td>331511413</td><td>16</td><td>15</td><td>20</td><td>0</td><td>0</td></tr><tr><td>Bad Decisions (with BTS & Snoop Dogg)</td><td>Snoop Dogg, BTS, Benny Blanco</td><td>3</td><td>2022</td><td>8</td><td>5</td><td>1456</td><td>0</td><td>219196651</td><td>53</td><td>2</td><td>33</td><td>0</td><td>0</td></tr><tr><td>STAYING ALIVE (feat. Drake & Lil Baby)</td><td>Drake, DJ Khaled, Lil Baby</td><td>3</td><td>2022</td><td>8</td><td>5</td><td>2107</td><td>0</td><td>170732845</td><td>51</td><td>1</td><td>50</td><td>0</td><td>0</td></tr><tr><td>Caile</td><td>Luar La L</td><td>1</td><td>2020</td><td>12</td><td>18</td><td>1494</td><td>2</td><td>273914335</td><td>17</td><td>12</td><td>15</td><td>0</td><td>0</td></tr><tr><td>Si Te La Encuentras Por Ah�</td><td>Feid</td><td>1</td><td>2022</td><td>8</td><td>5</td><td>1379</td><td>4</td><td>179061440</td><td>23</td><td>10</td><td>18</td><td>0</td><td>0</td></tr><tr><td>GIVENCHY</td><td>Duki</td><td>1</td><td>2022</td><td>7</td><td>20</td><td>625</td><td>4</td><td>185236961</td><td>13</td><td>18</td><td>12</td><td>0</td><td>0</td></tr><tr><td>ALIEN SUPERSTAR</td><td>Beyonc�</td><td>1</td><td>2022</td><td>7</td><td>29</td><td>2688</td><td>0</td><td>171788484</td><td>39</td><td>47</td><td>36</td><td>0</td><td>0</td></tr><tr><td>Mary On A Cross</td><td>Ghost</td><td>1</td><td>2019</td><td>9</td><td>13</td><td>2668</td><td>2</td><td>387080183</td><td>38</td><td>266</td><td>78</td><td>0</td><td>141</td></tr><tr><td>Attention</td><td>NewJeans</td><td>1</td><td>2022</td><td>8</td><td>1</td><td>799</td><td>12</td><td>264717480</td><td>14</td><td>141</td><td>9</td><td>0</td><td>1</td></tr><tr><td>THE SHADE</td><td>Rex Orange County</td><td>1</td><td>2022</td><td>3</td><td>11</td><td>1189</td><td>6</td><td>244928911</td><td>17</td><td>10</td><td>16</td><td>0</td><td>4</td></tr><tr><td>Come Back Home - From \"Purple Hearts\"</td><td>Sofia Carson</td><td>1</td><td>2022</td><td>7</td><td>12</td><td>367</td><td>0</td><td>97610446</td><td>28</td><td>67</td><td>195</td><td>0</td><td>0</td></tr><tr><td>El Rescate</td><td>Grupo Marca Registrada, Junior H</td><td>2</td><td>2022</td><td>7</td><td>22</td><td>527</td><td>4</td><td>287278853</td><td>10</td><td>43</td><td>3</td><td>1</td><td>0</td></tr><tr><td>Heartless</td><td>Kanye West</td><td>1</td><td>2008</td><td>1</td><td>1</td><td>17504</td><td>34</td><td>887906111</td><td>63</td><td>39</td><td>null</td><td>0</td><td>2</td></tr><tr><td>Stay With Me (with Justin Timberlake, Halsey, & Pharrell)</td><td>Calvin Harris, Halsey, Pharrell Williams, Justin Timberlake</td><td>4</td><td>2022</td><td>7</td><td>15</td><td>3113</td><td>0</td><td>123473120</td><td>54</td><td>6</td><td>124</td><td>1</td><td>0</td></tr><tr><td>Siempre Pendientes</td><td>Peso Pluma, Luis R Conriquez</td><td>2</td><td>2022</td><td>8</td><td>15</td><td>685</td><td>5</td><td>295152154</td><td>15</td><td>79</td><td>4</td><td>2</td><td>0</td></tr><tr><td>JGL</td><td>Luis R Conriquez, La Adictiva</td><td>2</td><td>2022</td><td>2</td><td>18</td><td>782</td><td>9</td><td>323455692</td><td>15</td><td>33</td><td>6</td><td>1</td><td>0</td></tr><tr><td>Don't You Worry</td><td>David Guetta, Shakira, Black Eyed Peas</td><td>3</td><td>2022</td><td>6</td><td>16</td><td>2442</td><td>0</td><td>240918092</td><td>81</td><td>4</td><td>248</td><td>1</td><td>6</td></tr><tr><td>Pipoco</td><td>Melody, Ana Castela, Dj Chris No Beat</td><td>3</td><td>2022</td><td>5</td><td>20</td><td>1112</td><td>4</td><td>191873381</td><td>22</td><td>2</td><td>65</td><td>1</td><td>3</td></tr><tr><td>Hold Me Closer</td><td>Elton John, Britney Spears</td><td>2</td><td>2017</td><td>11</td><td>10</td><td>4967</td><td>0</td><td>284216603</td><td>165</td><td>10</td><td>177</td><td>4</td><td>73</td></tr><tr><td>Forget Me</td><td>Lewis Capaldi</td><td>1</td><td>2022</td><td>9</td><td>9</td><td>2520</td><td>4</td><td>239411309</td><td>93</td><td>95</td><td>84</td><td>9</td><td>202</td></tr><tr><td>After LIKE</td><td>IVE</td><td>1</td><td>2022</td><td>8</td><td>22</td><td>767</td><td>12</td><td>265548837</td><td>20</td><td>129</td><td>11</td><td>0</td><td>12</td></tr><tr><td>Bound 2</td><td>Kanye West</td><td>1</td><td>2013</td><td>1</td><td>1</td><td>19806</td><td>7</td><td>703301727</td><td>33</td><td>11</td><td>274</td><td>0</td><td>0</td></tr><tr><td>B.O.T.A. (Baddest Of Them All) - Edit</td><td>Interplanetary Criminal, Eliza Rose</td><td>2</td><td>2022</td><td>6</td><td>15</td><td>5153</td><td>6</td><td>244585109</td><td>102</td><td>53</td><td>113</td><td>12</td><td>0</td></tr><tr><td>Talk that Talk</td><td>TWICE</td><td>1</td><td>2022</td><td>8</td><td>26</td><td>615</td><td>0</td><td>189476119</td><td>14</td><td>77</td><td>15</td><td>1</td><td>2</td></tr><tr><td>BILLIE EILISH.</td><td>Armani White</td><td>1</td><td>2022</td><td>1</td><td>20</td><td>2537</td><td>0</td><td>277132266</td><td>49</td><td>1</td><td>67</td><td>11</td><td>1</td></tr><tr><td>Ferxxo 100</td><td>Feid</td><td>1</td><td>2022</td><td>6</td><td>3</td><td>1647</td><td>30</td><td>278920007</td><td>20</td><td>49</td><td>23</td><td>2</td><td>2</td></tr><tr><td>KU LO SA - A COLORS SHOW</td><td>Oxlade</td><td>1</td><td>2022</td><td>6</td><td>10</td><td>2019</td><td>8</td><td>222410722</td><td>117</td><td>72</td><td>107</td><td>1</td><td>7</td></tr><tr><td>Prohibidox</td><td>Feid</td><td>1</td><td>2022</td><td>9</td><td>13</td><td>1473</td><td>12</td><td>185392587</td><td>25</td><td>36</td><td>25</td><td>1</td><td>0</td></tr><tr><td>Static</td><td>Steve Lacy</td><td>1</td><td>2022</td><td>7</td><td>15</td><td>1613</td><td>0</td><td>202452860</td><td>21</td><td>15</td><td>13</td><td>0</td><td>0</td></tr><tr><td>The Scientist</td><td>Coldplay</td><td>1</td><td>2002</td><td>8</td><td>5</td><td>30992</td><td>6</td><td>1608164312</td><td>124</td><td>25</td><td>null</td><td>1</td><td>0</td></tr><tr><td>Sparks</td><td>Coldplay</td><td>1</td><td>2000</td><td>7</td><td>10</td><td>10826</td><td>4</td><td>624101957</td><td>24</td><td>0</td><td>805</td><td>0</td><td>0</td></tr><tr><td>Talk</td><td>YEAT</td><td>1</td><td>2022</td><td>9</td><td>2</td><td>920</td><td>0</td><td>148461629</td><td>10</td><td>1</td><td>8</td><td>0</td><td>0</td></tr><tr><td>XQ Te Pones As�</td><td>Yandel, Feid</td><td>2</td><td>2022</td><td>9</td><td>13</td><td>308</td><td>0</td><td>47093942</td><td>6</td><td>1</td><td>6</td><td>0</td><td>0</td></tr><tr><td>Selfish</td><td>PnB Rock</td><td>1</td><td>2016</td><td>6</td><td>23</td><td>2468</td><td>0</td><td>380319238</td><td>15</td><td>0</td><td>0</td><td>0</td><td>0</td></tr><tr><td>Sin Se��</td><td>Ovy On The Drums, Quevedo</td><td>2</td><td>2022</td><td>7</td><td>22</td><td>1097</td><td>2</td><td>209106362</td><td>18</td><td>10</td><td>13</td><td>1</td><td>1</td></tr><tr><td>Lady Mi Amor</td><td>Feid</td><td>1</td><td>2022</td><td>9</td><td>13</td><td>330</td><td>0</td><td>53987404</td><td>3</td><td>0</td><td>2</td><td>0</td><td>0</td></tr><tr><td>Poland</td><td>Lil Yachty</td><td>1</td><td>2022</td><td>6</td><td>23</td><td>1584</td><td>0</td><td>115331792</td><td>38</td><td>0</td><td>24</td><td>0</td><td>0</td></tr><tr><td>THE LONELIEST</td><td>M��ne</td><td>1</td><td>2022</td><td>10</td><td>7</td><td>1585</td><td>5</td><td>225093344</td><td>78</td><td>65</td><td>328</td><td>1</td><td>198</td></tr><tr><td>Bye Bye</td><td>Marshmello, Juice WRLD</td><td>2</td><td>2022</td><td>10</td><td>14</td><td>766</td><td>0</td><td>84697729</td><td>16</td><td>0</td><td>9</td><td>0</td><td>0</td></tr><tr><td>BABY OTAKU</td><td>Fran C, Polima WestCoast, Nickoog Clk, Pablito Pesadilla</td><td>4</td><td>2022</td><td>8</td><td>18</td><td>836</td><td>0</td><td>159240673</td><td>14</td><td>1</td><td>13</td><td>0</td><td>0</td></tr><tr><td>Nxde</td><td>(G)I-DLE</td><td>1</td><td>2022</td><td>10</td><td>17</td><td>430</td><td>6</td><td>170709584</td><td>14</td><td>116</td><td>9</td><td>0</td><td>11</td></tr><tr><td>Miss You</td><td>Southstar</td><td>1</td><td>1982</td><td>5</td><td>16</td><td>2020</td><td>0</td><td>154356956</td><td>77</td><td>10</td><td>119</td><td>0</td><td>40</td></tr><tr><td>we fell in love in october</td><td>girl in red</td><td>1</td><td>2018</td><td>11</td><td>21</td><td>6858</td><td>0</td><td>723043854</td><td>31</td><td>21</td><td>15</td><td>0</td><td>4</td></tr><tr><td>2 Be Loved (Am I Ready)</td><td>Lizzo</td><td>1</td><td>2022</td><td>7</td><td>14</td><td>3682</td><td>6</td><td>247689123</td><td>41</td><td>0</td><td>158</td><td>2</td><td>68</td></tr><tr><td>Celestial</td><td>Ed Sheeran</td><td>1</td><td>2022</td><td>9</td><td>29</td><td>1639</td><td>0</td><td>176474912</td><td>86</td><td>14</td><td>80</td><td>0</td><td>37</td></tr><tr><td>Typa Girl</td><td>BLACKPINK</td><td>1</td><td>2022</td><td>9</td><td>16</td><td>452</td><td>10</td><td>235549288</td><td>2</td><td>129</td><td>13</td><td>0</td><td>1</td></tr><tr><td>I Really Want to Stay at Your House</td><td>Rosa Walton, Hallie Coggins</td><td>2</td><td>2020</td><td>12</td><td>18</td><td>668</td><td>1</td><td>140430339</td><td>0</td><td>0</td><td>31</td><td>0</td><td>null</td></tr><tr><td>California Breeze</td><td>Lil Baby</td><td>1</td><td>2022</td><td>10</td><td>14</td><td>991</td><td>0</td><td>85559365</td><td>36</td><td>38</td><td>13</td><td>0</td><td>3</td></tr><tr><td>Bamba (feat. Aitch & BIA)</td><td>Luciano, Aitch, B�</td><td>3</td><td>2022</td><td>9</td><td>22</td><td>869</td><td>7</td><td>146223492</td><td>14</td><td>12</td><td>12</td><td>2</td><td>28</td></tr><tr><td>Casei Com a Putaria</td><td>MC Ryan SP, Love Funk, Mc Paiva ZS</td><td>3</td><td>2022</td><td>7</td><td>1</td><td>648</td><td>4</td><td>187701588</td><td>0</td><td>0</td><td>30</td><td>0</td><td>0</td></tr><tr><td>Major Distribution</td><td>Drake, 21 Savage</td><td>2</td><td>2022</td><td>11</td><td>4</td><td>1545</td><td>0</td><td>154863153</td><td>22</td><td>7</td><td>15</td><td>0</td><td>0</td></tr><tr><td>Pussy & Millions (feat. Travis Scott)</td><td>Drake, Travis Scott, 21 Savage</td><td>3</td><td>2022</td><td>11</td><td>4</td><td>1930</td><td>0</td><td>191333656</td><td>24</td><td>8</td><td>17</td><td>0</td><td>1</td></tr><tr><td>Vigilante Shit</td><td>Taylor Swift</td><td>1</td><td>2022</td><td>10</td><td>21</td><td>1948</td><td>0</td><td>253650850</td><td>12</td><td>9</td><td>16</td><td>0</td><td>0</td></tr><tr><td>Question...?</td><td>Taylor Swift</td><td>1</td><td>2022</td><td>10</td><td>21</td><td>1608</td><td>0</td><td>223064273</td><td>10</td><td>3</td><td>12</td><td>0</td><td>0</td></tr><tr><td>On BS</td><td>Drake, 21 Savage</td><td>2</td><td>2022</td><td>11</td><td>4</td><td>1338</td><td>0</td><td>170413877</td><td>9</td><td>20</td><td>7</td><td>0</td><td>0</td></tr><tr><td>Mastermind</td><td>Taylor Swift</td><td>1</td><td>2022</td><td>10</td><td>21</td><td>1936</td><td>0</td><td>218320587</td><td>7</td><td>5</td><td>13</td><td>0</td><td>0</td></tr><tr><td>Circo Loco</td><td>Drake, 21 Savage</td><td>2</td><td>2022</td><td>11</td><td>4</td><td>1794</td><td>0</td><td>141720999</td><td>26</td><td>9</td><td>17</td><td>0</td><td>3</td></tr><tr><td>Labyrinth</td><td>Taylor Swift</td><td>1</td><td>2022</td><td>10</td><td>21</td><td>1597</td><td>0</td><td>187339835</td><td>6</td><td>3</td><td>15</td><td>0</td><td>0</td></tr><tr><td>Spin Bout U</td><td>Drake, 21 Savage</td><td>2</td><td>2022</td><td>11</td><td>4</td><td>1652</td><td>2</td><td>198365537</td><td>26</td><td>52</td><td>10</td><td>0</td><td>95</td></tr><tr><td>Sweet Nothing</td><td>Taylor Swift</td><td>1</td><td>2022</td><td>10</td><td>21</td><td>1747</td><td>0</td><td>186104310</td><td>9</td><td>6</td><td>13</td><td>0</td><td>2</td></tr><tr><td>Would've, Could've, Should've</td><td>Taylor Swift</td><td>1</td><td>2022</td><td>10</td><td>21</td><td>1715</td><td>0</td><td>177503916</td><td>4</td><td>5</td><td>8</td><td>0</td><td>0</td></tr><tr><td>Con La Brisa</td><td>Ludwig Goransson, Foudeqush</td><td>2</td><td>2022</td><td>11</td><td>4</td><td>486</td><td>0</td><td>71095708</td><td>8</td><td>1</td><td>7</td><td>0</td><td>0</td></tr><tr><td>Privileged Rappers</td><td>Drake, 21 Savage</td><td>2</td><td>2022</td><td>11</td><td>4</td><td>1007</td><td>0</td><td>112436403</td><td>6</td><td>5</td><td>3</td><td>0</td><td>0</td></tr><tr><td>The Astronaut</td><td>Jin</td><td>1</td><td>2022</td><td>10</td><td>28</td><td>481</td><td>9</td><td>203436468</td><td>10</td><td>100</td><td>15</td><td>1</td><td>27</td></tr><tr><td>BackOutsideBoyz</td><td>Drake</td><td>1</td><td>2022</td><td>11</td><td>4</td><td>1045</td><td>0</td><td>93367537</td><td>8</td><td>5</td><td>2</td><td>0</td><td>0</td></tr><tr><td>Broke Boys</td><td>Drake, 21 Savage</td><td>2</td><td>2022</td><td>11</td><td>4</td><td>1060</td><td>0</td><td>106249219</td><td>3</td><td>8</td><td>5</td><td>0</td><td>0</td></tr><tr><td>The Great War</td><td>Taylor Swift</td><td>1</td><td>2022</td><td>10</td><td>21</td><td>1274</td><td>0</td><td>181382590</td><td>1</td><td>6</td><td>11</td><td>0</td><td>0</td></tr><tr><td>My Mind & Me</td><td>Selena Gomez</td><td>1</td><td>2022</td><td>11</td><td>3</td><td>953</td><td>0</td><td>91473363</td><td>61</td><td>13</td><td>37</td><td>1</td><td>0</td></tr><tr><td>Bigger Than The Whole Sky</td><td>Taylor Swift</td><td>1</td><td>2022</td><td>10</td><td>21</td><td>1180</td><td>0</td><td>121871870</td><td>4</td><td>0</td><td>8</td><td>0</td><td>0</td></tr><tr><td>A Veces (feat. Feid)</td><td>Feid, Paulo Londra</td><td>2</td><td>2022</td><td>11</td><td>3</td><td>573</td><td>0</td><td>73513683</td><td>2</td><td>0</td><td>7</td><td>0</td><td>0</td></tr><tr><td>En La De Ella</td><td>Feid, Sech, Jhayco</td><td>3</td><td>2022</td><td>10</td><td>20</td><td>1320</td><td>0</td><td>133895612</td><td>29</td><td>26</td><td>17</td><td>0</td><td>0</td></tr><tr><td>Alone</td><td>Burna Boy</td><td>1</td><td>2022</td><td>11</td><td>4</td><td>782</td><td>2</td><td>96007391</td><td>27</td><td>18</td><td>32</td><td>1</td><td>0</td></tr></tbody></table></div>"
      ]
     },
     "metadata": {
      "application/vnd.databricks.v1+output": {
       "addedWidgets": {},
       "aggData": [],
       "aggError": "",
       "aggOverflow": false,
       "aggSchema": [],
       "aggSeriesLimitReached": false,
       "aggType": "",
       "arguments": {},
       "columnCustomDisplayInfos": {},
       "data": [
        [
         "Seven (feat. Latto) (Explicit Ver.)",
         "Latto, Jung Kook",
         2,
         2023,
         7,
         14,
         553,
         147,
         141381703,
         43,
         263,
         45,
         10,
         826
        ],
        [
         "LALA",
         "Myke Towers",
         1,
         2023,
         3,
         23,
         1474,
         48,
         133716286,
         48,
         126,
         58,
         14,
         382
        ],
        [
         "vampire",
         "Olivia Rodrigo",
         1,
         2023,
         6,
         30,
         1397,
         113,
         140003974,
         94,
         207,
         91,
         14,
         949
        ],
        [
         "Cruel Summer",
         "Taylor Swift",
         1,
         2019,
         8,
         23,
         7858,
         100,
         800840817,
         116,
         207,
         125,
         12,
         548
        ],
        [
         "WHERE SHE GOES",
         "Bad Bunny",
         1,
         2023,
         5,
         18,
         3133,
         50,
         303236322,
         84,
         133,
         87,
         15,
         425
        ],
        [
         "Sprinter",
         "Dave, Central Cee",
         2,
         2023,
         6,
         1,
         2186,
         91,
         183706234,
         67,
         213,
         88,
         17,
         946
        ],
        [
         "Ella Baila Sola",
         "Eslabon Armado, Peso Pluma",
         2,
         2023,
         3,
         16,
         3090,
         50,
         725980112,
         34,
         222,
         43,
         13,
         418
        ],
        [
         "Columbia",
         "Quevedo",
         1,
         2023,
         7,
         7,
         714,
         43,
         58149378,
         25,
         89,
         30,
         13,
         194
        ],
        [
         "fukumean",
         "Gunna",
         1,
         2023,
         5,
         15,
         1096,
         83,
         95217315,
         60,
         210,
         48,
         11,
         953
        ],
        [
         "La Bebe - Remix",
         "Peso Pluma, Yng Lvcas",
         2,
         2023,
         3,
         17,
         2953,
         44,
         553634067,
         49,
         110,
         66,
         13,
         339
        ],
        [
         "un x100to",
         "Bad Bunny, Grupo Frontera",
         2,
         2023,
         4,
         17,
         2876,
         40,
         505671438,
         41,
         205,
         54,
         12,
         251
        ],
        [
         "Super Shy",
         "NewJeans",
         1,
         2023,
         7,
         7,
         422,
         55,
         58255150,
         37,
         202,
         21,
         5,
         168
        ],
        [
         "Flowers",
         "Miley Cyrus",
         1,
         2023,
         1,
         12,
         12211,
         115,
         1316855716,
         300,
         215,
         745,
         58,
         null
        ],
        [
         "Daylight",
         "David Kushner",
         1,
         2023,
         4,
         14,
         3528,
         98,
         387570742,
         80,
         156,
         182,
         24,
         null
        ],
        [
         "As It Was",
         "Harry Styles",
         1,
         2022,
         3,
         31,
         23575,
         130,
         null,
         403,
         198,
         863,
         46,
         null
        ],
        [
         "Kill Bill",
         "SZA",
         1,
         2022,
         12,
         8,
         8109,
         77,
         1163093654,
         183,
         162,
         161,
         12,
         187
        ],
        [
         "Cupid - Twin Ver.",
         "Fifty Fifty",
         1,
         2023,
         2,
         24,
         2942,
         77,
         496795686,
         91,
         212,
         78,
         6,
         0
        ],
        [
         "What Was I Made For? [From The Motion Picture \"Barbie\"]",
         "Billie Eilish",
         1,
         2023,
         7,
         13,
         873,
         104,
         30546883,
         80,
         227,
         95,
         24,
         null
        ],
        [
         "Classy 101",
         "Feid, Young Miko",
         2,
         2023,
         3,
         31,
         2610,
         40,
         335222234,
         43,
         100,
         54,
         14,
         187
        ],
        [
         "Like Crazy",
         "Jimin",
         1,
         2023,
         3,
         24,
         596,
         68,
         363369738,
         8,
         104,
         23,
         2,
         29
        ],
        [
         "LADY GAGA",
         "Gabito Ballesteros, Junior H, Peso Pluma",
         3,
         2023,
         6,
         22,
         332,
         26,
         86444842,
         11,
         163,
         10,
         4,
         0
        ],
        [
         "I Can See You (Taylor���s Version) (From The ",
         "Taylor Swift",
         1,
         2023,
         7,
         7,
         516,
         38,
         52135248,
         73,
         119,
         42,
         1,
         150
        ],
        [
         "I Wanna Be Yours",
         "Arctic Monkeys",
         1,
         2013,
         1,
         1,
         12859,
         110,
         1297026226,
         24,
         98,
         582,
         2,
         73
        ],
        [
         "Peso Pluma: Bzrp Music Sessions, Vol. 55",
         "Bizarrap, Peso Pluma",
         2,
         2023,
         5,
         31,
         1313,
         40,
         200647221,
         17,
         152,
         32,
         11,
         139
        ],
        [
         "Popular (with Playboi Carti & Madonna) - The Idol Vol. 1 (Music from the HBO Original Series)",
         "The Weeknd, Madonna, Playboi Carti",
         3,
         2023,
         6,
         2,
         1945,
         87,
         115364561,
         74,
         182,
         87,
         14,
         null
        ],
        [
         "SABOR FRESA",
         "Fuerza Regida",
         1,
         2023,
         6,
         22,
         250,
         26,
         78300654,
         16,
         149,
         10,
         5,
         168
        ],
        [
         "Calm Down (with Selena Gomez)",
         "R��ma, Selena G",
         2,
         2022,
         3,
         25,
         7112,
         77,
         899183384,
         202,
         119,
         318,
         38,
         96
        ],
        [
         "MOJABI GHOST",
         "Tainy, Bad Bunny",
         2,
         2023,
         6,
         29,
         859,
         40,
         61245289,
         35,
         109,
         41,
         14,
         211
        ],
        [
         "Last Night",
         "Morgan Wallen",
         1,
         2023,
         1,
         31,
         2420,
         19,
         429829812,
         52,
         107,
         15,
         1,
         325
        ],
        [
         "Dance The Night (From Barbie The Album)",
         "Dua Lipa",
         1,
         2023,
         5,
         25,
         2988,
         101,
         127408954,
         0,
         0,
         143,
         38,
         0
        ],
        [
         "Rush",
         "Troye Sivan",
         1,
         2023,
         7,
         13,
         864,
         78,
         22581161,
         71,
         135,
         50,
         1,
         294
        ],
        [
         "TULUM",
         "Peso Pluma, Grupo Frontera",
         2,
         2023,
         6,
         28,
         266,
         34,
         52294266,
         20,
         185,
         13,
         8,
         197
        ],
        [
         "Creepin'",
         "The Weeknd, 21 Savage, Metro Boomin",
         3,
         2022,
         12,
         2,
         6036,
         88,
         843957510,
         113,
         149,
         245,
         23,
         27
        ],
        [
         "Anti-Hero",
         "Taylor Swift",
         1,
         2022,
         10,
         21,
         9082,
         56,
         999748277,
         242,
         142,
         165,
         9,
         310
        ],
        [
         "TQG",
         "Karol G, Shakira",
         2,
         2023,
         2,
         23,
         4284,
         49,
         618990393,
         115,
         123,
         184,
         18,
         354
        ],
        [
         "Los del Espacio",
         "Big One, Duki, Lit Killah, Maria Becerra, FMK, Rusherking, Emilia, Tiago pzk",
         8,
         2023,
         6,
         1,
         1150,
         31,
         123122413,
         22,
         33,
         34,
         7,
         184
        ],
        [
         "Fr��gil (feat. Grupo Front",
         "Yahritza Y Su Esencia, Grupo Frontera",
         2,
         2023,
         4,
         7,
         672,
         34,
         188933502,
         19,
         108,
         24,
         9,
         212
        ],
        [
         "Blank Space",
         "Taylor Swift",
         1,
         2014,
         1,
         1,
         11434,
         53,
         1355959075,
         154,
         123,
         410,
         2,
         81
        ],
        [
         "Style",
         "Taylor Swift",
         1,
         2014,
         1,
         1,
         7830,
         42,
         786181836,
         94,
         111,
         151,
         4,
         82
        ],
        [
         "TQM",
         "Fuerza Regida",
         1,
         2023,
         5,
         19,
         584,
         28,
         176553476,
         16,
         159,
         15,
         6,
         100
        ],
        [
         "El Azul",
         "Junior H, Peso Pluma",
         2,
         2023,
         2,
         10,
         692,
         25,
         354495408,
         10,
         107,
         6,
         3,
         62
        ],
        [
         "Sunflower - Spider-Man: Into the Spider-Verse",
         "Post Malone, Swae Lee",
         2,
         2018,
         10,
         9,
         24094,
         78,
         null,
         372,
         117,
         843,
         4,
         69
        ],
        [
         "I'm Good (Blue)",
         "Bebe Rexha, David Guetta",
         2,
         2022,
         8,
         26,
         12482,
         80,
         1109433169,
         291,
         184,
         537,
         45,
         727
        ],
        [
         "See You Again",
         "Tyler, The Creator, Kali Uchis",
         3,
         2017,
         7,
         21,
         13387,
         64,
         1047101291,
         77,
         58,
         247,
         1,
         311
        ],
        [
         "Barbie World (with Aqua) [From Barbie The Album]",
         "Nicki Minaj, Aqua, Ice Spice",
         3,
         2023,
         6,
         23,
         1117,
         80,
         65156199,
         82,
         145,
         65,
         16,
         null
        ],
        [
         "Angels Like You",
         "Miley Cyrus",
         1,
         2020,
         11,
         27,
         3372,
         19,
         570515054,
         65,
         48,
         138,
         1,
         102
        ],
        [
         "I Ain't Worried",
         "OneRepublic",
         1,
         2022,
         5,
         13,
         8431,
         76,
         1085685420,
         241,
         127,
         458,
         37,
         332
        ],
        [
         "Die For You",
         "The Weeknd",
         1,
         2016,
         11,
         24,
         2483,
         59,
         1647990401,
         68,
         21,
         24,
         0,
         259
        ],
        [
         "Starboy",
         "The Weeknd, Daft Punk",
         2,
         2016,
         9,
         21,
         29536,
         79,
         null,
         281,
         137,
         null,
         1,
         140
        ],
        [
         "Die For You - Remix",
         "Ariana Grande, The Weeknd",
         2,
         2023,
         2,
         24,
         3408,
         47,
         518745108,
         87,
         86,
         74,
         1,
         16
        ],
        [
         "El Cielo",
         "Feid, Myke Towers, Sky Rompiendo",
         3,
         2023,
         6,
         2,
         1298,
         38,
         107753850,
         44,
         64,
         57,
         10,
         110
        ],
        [
         "Baby Don't Hurt Me",
         "David Guetta, Anne-Marie, Coi Leray",
         3,
         2023,
         4,
         6,
         4277,
         66,
         177740666,
         145,
         111,
         213,
         11,
         810
        ],
        [
         "AMARGURA",
         "Karol G",
         1,
         2023,
         2,
         24,
         1133,
         39,
         153372011,
         14,
         71,
         23,
         10,
         176
        ],
        [
         "(It Goes Like) Nanana - Edit",
         "Peggy Gou",
         1,
         2023,
         6,
         15,
         2259,
         59,
         57876440,
         0,
         0,
         109,
         17,
         0
        ],
        [
         "Another Love",
         "Tom Odell",
         1,
         2012,
         10,
         15,
         18371,
         83,
         1813673666,
         250,
         122,
         null,
         19,
         null
        ],
        [
         "Blinding Lights",
         "The Weeknd",
         1,
         2019,
         11,
         29,
         43899,
         69,
         null,
         672,
         199,
         null,
         20,
         null
        ],
        [
         "Moonlight",
         "Kali Uchis",
         1,
         2023,
         2,
         24,
         2649,
         42,
         256483385,
         67,
         79,
         57,
         1,
         615
        ],
        [
         "La Bachata",
         "Manuel Turizo",
         1,
         2022,
         5,
         26,
         6804,
         45,
         1214083358,
         139,
         111,
         161,
         15,
         210
        ],
        [
         "S91",
         "Karol G",
         1,
         2023,
         7,
         14,
         525,
         41,
         16011326,
         34,
         115,
         39,
         6,
         216
        ],
        [
         "cardigan",
         "Taylor Swift",
         1,
         2020,
         7,
         24,
         7923,
         29,
         812019557,
         106,
         112,
         142,
         4,
         215
        ],
        [
         "T��",
         "dennis, MC Kevin o Chris",
         2,
         2023,
         5,
         4,
         731,
         15,
         111947664,
         27,
         17,
         73,
         4,
         167
        ],
        [
         "Boy's a liar Pt. 2",
         "PinkPantheress, Ice Spice",
         2,
         2023,
         2,
         3,
         5184,
         41,
         156338624,
         154,
         84,
         102,
         14,
         37
        ],
        [
         "Left and Right (Feat. Jung Kook of BTS)",
         "Charlie Puth, BTS, Jung Kook",
         3,
         2022,
         6,
         24,
         3107,
         39,
         720434240,
         38,
         0,
         4,
         0,
         0
        ],
        [
         "BESO",
         "Rauw Alejandro, ROSAL�",
         2,
         2023,
         3,
         24,
         4053,
         50,
         357925728,
         82,
         121,
         182,
         12,
         171
        ],
        [
         "Hey Mor",
         "Ozuna, Feid",
         2,
         2022,
         10,
         6,
         4637,
         38,
         674072710,
         63,
         79,
         89,
         11,
         16
        ],
        [
         "Yellow",
         "Chris Molitor",
         1,
         1999,
         1,
         1,
         31358,
         43,
         1755214421,
         196,
         2,
         null,
         5,
         0
        ],
        [
         "Karma",
         "Taylor Swift",
         1,
         2022,
         10,
         21,
         3818,
         23,
         404562836,
         37,
         55,
         32,
         0,
         272
        ],
        [
         "People",
         "Libianca",
         1,
         2022,
         12,
         2,
         3506,
         56,
         373199958,
         105,
         64,
         169,
         8,
         529
        ],
        [
         "Overdrive",
         "Post Malone",
         1,
         2023,
         7,
         14,
         410,
         36,
         14780425,
         36,
         32,
         31,
         1,
         26
        ],
        [
         "Enchanted (Taylor's Version)",
         "Taylor Swift",
         1,
         2023,
         7,
         7,
         148,
         24,
         39578178,
         32,
         93,
         8,
         2,
         5
        ],
        [
         "BABY HELLO",
         "Rauw Alejandro, Bizarrap",
         2,
         2023,
         6,
         23,
         1004,
         35,
         54266102,
         42,
         80,
         58,
         3,
         169
        ],
        [
         "Heat Waves",
         "Glass Animals",
         1,
         2020,
         6,
         28,
         22543,
         63,
         null,
         386,
         144,
         707,
         28,
         null
        ],
        [
         "golden hour",
         "JVKE",
         1,
         2022,
         7,
         15,
         4511,
         36,
         751134527,
         70,
         58,
         109,
         18,
         230
        ],
        [
         "Sweater Weather",
         "The Neighbourhood",
         1,
         2012,
         5,
         14,
         16413,
         61,
         null,
         166,
         87,
         null,
         1,
         null
        ],
        [
         "Quevedo: Bzrp Music Sessions, Vol. 52",
         "Bizarrap, Quevedo",
         2,
         2022,
         7,
         6,
         8506,
         45,
         1356565093,
         94,
         65,
         164,
         14,
         176
        ],
        [
         "Viva La Vida",
         "Coldplay",
         1,
         2008,
         1,
         1,
         33898,
         62,
         1592909789,
         233,
         0,
         null,
         9,
         0
        ],
        [
         "Here With Me",
         "d4vd",
         1,
         2022,
         7,
         17,
         3246,
         23,
         635412045,
         94,
         85,
         68,
         1,
         84
        ],
        [
         "Unholy (feat. Kim Petras)",
         "Sam Smith, Kim Petras",
         2,
         2022,
         9,
         22,
         8576,
         42,
         1230675890,
         216,
         108,
         331,
         26,
         154
        ],
        [
         "Yandel 150",
         "Yandel, Feid",
         2,
         2022,
         12,
         20,
         3618,
         38,
         585695368,
         47,
         74,
         80,
         14,
         194
        ],
        [
         "CORAZ��N VA",
         "Maria Becerra",
         1,
         2023,
         6,
         22,
         370,
         20,
         43857627,
         12,
         16,
         18,
         4,
         93
        ],
        [
         "Riptide",
         "Vance Joy",
         1,
         1975,
         1,
         1,
         31123,
         55,
         2009094673,
         300,
         65,
         null,
         1,
         0
        ],
        [
         "Until I Found You (with Em Beihold) - Em Beihold Version",
         "Em Beihold, Stephen Sanchez",
         2,
         2022,
         4,
         22,
         2790,
         30,
         600976848,
         60,
         96,
         71,
         0,
         115
        ],
        [
         "Novidade na ��",
         "Mc Livinho, DJ Matt D",
         2,
         2023,
         6,
         23,
         267,
         9,
         39709092,
         9,
         6,
         25,
         2,
         72
        ],
        [
         "Back To December (Taylor's Version)",
         "Taylor Swift",
         1,
         2023,
         7,
         7,
         139,
         17,
         39228929,
         16,
         72,
         5,
         0,
         8
        ],
        [
         "STAY (with Justin Bieber)",
         "Justin Bieber, The Kid Laroi",
         2,
         2021,
         7,
         9,
         17050,
         36,
         null,
         492,
         99,
         798,
         31,
         0
        ],
        [
         "El Merengue",
         "Marshmello, Manuel Turizo",
         2,
         2023,
         3,
         3,
         2114,
         44,
         223633238,
         80,
         75,
         110,
         11,
         323
        ],
        [
         "Someone You Loved",
         "Lewis Capaldi",
         1,
         2018,
         11,
         8,
         17836,
         53,
         null,
         440,
         125,
         null,
         0,
         null
        ],
        [
         "Me Porto Bonito",
         "Chencho Corleone, Bad Bunny",
         2,
         2022,
         5,
         6,
         8870,
         43,
         1440757818,
         104,
         120,
         141,
         26,
         49
        ],
        [
         "Makeba",
         "Jain",
         1,
         2015,
         6,
         22,
         6060,
         53,
         165484133,
         150,
         148,
         null,
         22,
         null
        ],
        [
         "MONTAGEM - FR PUNK",
         "Ayparia, unxbected",
         2,
         2012,
         6,
         20,
         641,
         50,
         58054811,
         1,
         52,
         8,
         0,
         null
        ],
        [
         "Fast Car",
         "Luke Combs",
         1,
         2023,
         3,
         24,
         1446,
         12,
         157058870,
         57,
         97,
         35,
         0,
         429
        ],
        [
         "What It Is (Solo Version)",
         "Doechii",
         1,
         2023,
         3,
         17,
         804,
         25,
         95131998,
         29,
         76,
         24,
         0,
         162
        ],
        [
         "Coco Chanel",
         "Bad Bunny, Eladio Carrion",
         2,
         2023,
         3,
         17,
         1962,
         38,
         250305248,
         28,
         89,
         29,
         5,
         82
        ],
        [
         "Don���t Bl",
         "Taylor Swift",
         1,
         2017,
         11,
         8,
         4875,
         23,
         685032533,
         19,
         45,
         0,
         0,
         10
        ],
        [
         "Still With You",
         "Jung Kook",
         1,
         2020,
         6,
         5,
         31,
         39,
         38411956,
         2,
         107,
         8,
         0,
         0
        ],
        [
         "All My Life (feat. J. Cole)",
         "J. Cole, Lil Durk",
         2,
         2023,
         5,
         12,
         2175,
         23,
         144565150,
         69,
         145,
         69,
         2,
         478
        ],
        [
         "Say Yes To Heaven",
         "Lana Del Rey",
         1,
         2023,
         3,
         17,
         2000,
         46,
         127567540,
         49,
         105,
         63,
         1,
         0
        ],
        [
         "Snooze",
         "SZA",
         1,
         2022,
         12,
         9,
         2839,
         25,
         399686758,
         58,
         156,
         42,
         1,
         236
        ],
        [
         "Summertime Sadness",
         "Lana Del Rey",
         1,
         2011,
         1,
         1,
         20333,
         52,
         983637508,
         89,
         143,
         null,
         3,
         200
        ],
        [
         "Take Two",
         "BTS",
         1,
         2023,
         6,
         9,
         674,
         47,
         118482347,
         20,
         106,
         25,
         4,
         78
        ],
        [
         "Lover",
         "Taylor Swift",
         1,
         2012,
         1,
         1,
         8448,
         23,
         882831184,
         160,
         110,
         163,
         0,
         5
        ],
        [
         "Too Many Nights (feat. Don Toliver & with Future)",
         "Future, Metro Boomin, Don Toliver",
         3,
         2022,
         12,
         2,
         2110,
         58,
         286400165,
         17,
         119,
         19,
         2,
         266
        ],
        [
         "Chemical",
         "Post Malone",
         1,
         2023,
         4,
         14,
         2528,
         39,
         172825906,
         56,
         91,
         59,
         3,
         486
        ],
        [
         "Mockingbird",
         "Eminem",
         1,
         2004,
         1,
         1,
         12985,
         61,
         1241559043,
         49,
         98,
         null,
         5,
         204
        ],
        [
         "New Jeans",
         "NewJeans",
         1,
         2023,
         7,
         7,
         77,
         35,
         29562220,
         8,
         166,
         4,
         4,
         34
        ],
        [
         "Primera Cita",
         "Carin Leon",
         1,
         2022,
         4,
         20,
         266,
         27,
         77309611,
         6,
         40,
         6,
         6,
         202
        ],
        [
         "Cold Heart - PNAU Remix",
         "Dua Lipa, Elton John, Pnau",
         3,
         2017,
         11,
         10,
         21097,
         52,
         1605224506,
         384,
         135,
         null,
         37,
         312
        ],
        [
         "Dandelions",
         "Ruth B.",
         1,
         2017,
         4,
         28,
         3423,
         21,
         1116995633,
         41,
         100,
         59,
         1,
         32
        ],
        [
         "Bones",
         "Imagine Dragons",
         1,
         2021,
         3,
         11,
         4198,
         44,
         838079900,
         98,
         108,
         327,
         17,
         153
        ],
        [
         "Set Fire to the Rain",
         "Adele",
         1,
         2011,
         1,
         1,
         14739,
         43,
         1163620694,
         88,
         112,
         null,
         5,
         519
        ],
        [
         "Money Trees",
         "Kendrick Lamar, Jay Rock",
         2,
         2012,
         1,
         1,
         26792,
         32,
         1093605526,
         69,
         113,
         695,
         0,
         458
        ],
        [
         "Tak Segampang Itu",
         "Anggi Marito",
         1,
         2022,
         12,
         2,
         213,
         6,
         179659294,
         7,
         6,
         0,
         0,
         48
        ],
        [
         "LAGUNAS",
         "Jasiel Nu��ez, Peso P",
         2,
         2023,
         6,
         22,
         58,
         18,
         39058561,
         2,
         106,
         4,
         2,
         184
        ],
        [
         "Mine (Taylor's Version)",
         "Taylor Swift",
         1,
         2023,
         7,
         7,
         99,
         15,
         36912123,
         21,
         52,
         6,
         1,
         0
        ],
        [
         "Everybody Wants To Rule The World",
         "Tears For Fears",
         1,
         1985,
         2,
         17,
         41751,
         25,
         1205951614,
         101,
         32,
         null,
         0,
         666
        ],
        [
         "No Role Modelz",
         "J. Cole",
         1,
         2014,
         12,
         9,
         21164,
         36,
         1791000570,
         80,
         65,
         476,
         0,
         14
        ],
        [
         "Tattoo",
         "Loreen",
         1,
         2023,
         2,
         25,
         2988,
         59,
         201660859,
         74,
         102,
         145,
         18,
         925
        ],
        [
         "Rara Vez",
         "Taiu, Milo j",
         2,
         2023,
         2,
         8,
         893,
         38,
         248088961,
         19,
         23,
         24,
         3,
         88
        ],
        [
         "VAGABUNDO",
         "Sebastian Yatra, Manuel Turizo, Be��",
         3,
         2023,
         5,
         12,
         1094,
         34,
         90839753,
         40,
         58,
         47,
         8,
         203
        ],
        [
         "august",
         "Taylor Swift",
         1,
         2020,
         7,
         24,
         7324,
         22,
         607123776,
         25,
         81,
         61,
         1,
         44
        ],
        [
         "LUNA",
         "Junior H, Peso Pluma",
         2,
         2023,
         6,
         22,
         201,
         11,
         55842345,
         19,
         117,
         8,
         1,
         74
        ],
        [
         "Miracle (with Ellie Goulding)",
         "Calvin Harris, Ellie Goulding",
         2,
         2023,
         3,
         10,
         5120,
         48,
         211050784,
         161,
         115,
         246,
         9,
         638
        ],
        [
         "Nonsense",
         "Sabrina Carpenter",
         1,
         2022,
         7,
         15,
         2346,
         27,
         342897938,
         69,
         12,
         38,
         8,
         64
        ],
        [
         "Que Vuelvas",
         "Carin Leon, Grupo Frontera",
         2,
         2022,
         12,
         9,
         763,
         26,
         2762,
         21,
         110,
         21,
         9,
         71
        ],
        [
         "Por las Noches",
         "Peso Pluma",
         1,
         2021,
         6,
         11,
         457,
         24,
         330346424,
         8,
         116,
         4,
         3,
         2
        ],
        [
         "Feliz Cumplea��os Fe",
         "Feid",
         1,
         2022,
         8,
         19,
         3430,
         38,
         601863821,
         45,
         69,
         52,
         4,
         3
        ],
        [
         "Can't Hold Us (feat. Ray Dalton)",
         "Ray Dalton, Ryan Lewis, Macklemore",
         3,
         2011,
         8,
         16,
         6074,
         52,
         1953533826,
         201,
         44,
         null,
         2,
         0
        ],
        [
         "Watermelon Sugar",
         "Harry Styles",
         1,
         2019,
         11,
         17,
         21915,
         34,
         null,
         437,
         115,
         null,
         12,
         null
        ],
        [
         "lovely - Bonus Track",
         "Billie Eilish, Khalid",
         2,
         2017,
         8,
         11,
         15032,
         30,
         null,
         221,
         96,
         null,
         2,
         136
        ],
        [
         "Rauw Alejandro: Bzrp Music Sessions, Vol. 56",
         "Rauw Alejandro, Bizarrap",
         2,
         2023,
         6,
         21,
         871,
         32,
         66902503,
         25,
         59,
         32,
         5,
         88
        ],
        [
         "Queencard",
         "(G)I-DLE",
         1,
         2023,
         5,
         15,
         451,
         33,
         96273746,
         10,
         126,
         7,
         0,
         148
        ],
        [
         "OMG",
         "NewJeans",
         1,
         2023,
         1,
         2,
         1783,
         27,
         430977451,
         26,
         124,
         15,
         1,
         22
        ],
        [
         "Radio",
         "Lana Del Rey",
         1,
         2011,
         1,
         1,
         9389,
         46,
         284819874,
         24,
         122,
         282,
         3,
         368
        ],
        [
         "Shakira: Bzrp Music Sessions, Vol. 53",
         "Shakira, Bizarrap",
         2,
         2023,
         1,
         11,
         5724,
         44,
         721975598,
         119,
         108,
         254,
         29,
         22
        ],
        [
         "505",
         "Arctic Monkeys",
         1,
         2007,
         4,
         20,
         13985,
         25,
         1217120710,
         30,
         80,
         588,
         1,
         1
        ],
        [
         "Calling (Spider-Man: Across the Spider-Verse) (Metro Boomin & Swae Lee, NAV, feat. A Boogie Wit da Hoodie)",
         "Swae Lee, A Boogie Wit da Hoodie, Metro Boomin, NAV",
         4,
         2023,
         6,
         2,
         1051,
         16,
         109276132,
         31,
         37,
         31,
         0,
         189
        ],
        [
         "Trance (with Travis Scott & Young Thug)",
         "Travis Scott, Young Thug, Metro Boomin",
         3,
         2022,
         12,
         2,
         1682,
         46,
         276259178,
         24,
         90,
         30,
         1,
         176
        ],
        [
         "Tere Vaaste (From \"Zara Hatke Zara Bachke\")",
         "Sachin-Jigar, Shadab Faridi, Altamash Faridi, Amitabh Bhattacharya, Varun Jain",
         5,
         2023,
         5,
         22,
         182,
         8,
         54225632,
         3,
         88,
         1,
         0,
         52
        ],
        [
         "Perfect",
         "Ed Sheeran",
         1,
         2017,
         1,
         1,
         16596,
         13,
         null,
         7,
         0,
         null,
         0,
         0
        ],
        [
         "Romantic Homicide",
         "d4vd",
         1,
         2022,
         7,
         20,
         2335,
         23,
         681583126,
         82,
         55,
         50,
         0,
         9
        ],
        [
         "Believer",
         "Imagine Dragons",
         1,
         2017,
         1,
         31,
         18986,
         23,
         null,
         250,
         121,
         null,
         10,
         31
        ],
        [
         "Novo Balan�",
         "Veigh, Bvga Beatz, Supernova Ent, Prod Malax",
         4,
         2023,
         5,
         19,
         283,
         7,
         81102253,
         6,
         9,
         26,
         1,
         66
        ],
        [
         "Gol Bolinha, Gol Quadrado 2",
         "Mc Pedrinho, DJ 900",
         2,
         2023,
         6,
         1,
         293,
         8,
         11956641,
         5,
         2,
         30,
         2,
         66
        ],
        [
         "Without Me",
         "Eminem",
         1,
         2002,
         1,
         1,
         21081,
         43,
         1687664027,
         98,
         76,
         null,
         5,
         0
        ],
        [
         "QUEMA",
         "Sog, Ryan Castro, Peso Pluma",
         3,
         2023,
         7,
         13,
         437,
         31,
         11599388,
         17,
         29,
         26,
         3,
         208
        ],
        [
         "Stargirl Interlude",
         "The Weeknd, Lana Del Rey",
         2,
         2016,
         11,
         24,
         1275,
         32,
         611700552,
         13,
         8,
         5,
         0,
         1
        ],
        [
         "Ojitos Lindos",
         "Bomba Est��reo, Bad B",
         2,
         2022,
         5,
         6,
         6135,
         38,
         1133865788,
         71,
         113,
         99,
         13,
         28
        ],
        [
         "Somewhere Only We Know",
         "Keane",
         1,
         2004,
         1,
         1,
         20015,
         16,
         1089402494,
         107,
         69,
         null,
         0,
         558
        ],
        [
         "Those Eyes",
         "New West",
         1,
         2019,
         5,
         10,
         1507,
         14,
         411747614,
         24,
         71,
         44,
         1,
         195
        ],
        [
         "El Gordo Trae El Mando",
         "Chino Pacas",
         1,
         2023,
         1,
         27,
         539,
         21,
         255932395,
         7,
         71,
         4,
         2,
         13
        ],
        [
         "Mi Bello Angel",
         "Natanael Cano",
         1,
         2023,
         6,
         30,
         86,
         8,
         31873544,
         7,
         76,
         3,
         1,
         93
        ],
        [
         "Bye",
         "Peso Pluma",
         1,
         2023,
         5,
         26,
         324,
         14,
         95053634,
         13,
         110,
         8,
         2,
         60
        ],
        [
         "Danza Kuduro",
         "Don Omar, Lucenzo",
         2,
         2010,
         1,
         1,
         17138,
         37,
         1279434863,
         119,
         81,
         974,
         1,
         503
        ],
        [
         "Nosso Quadro",
         "Ana Castela, AgroPlay",
         2,
         2023,
         2,
         2,
         894,
         9,
         233801632,
         14,
         88,
         66,
         3,
         72
        ],
        [
         "Locked Out Of Heaven",
         "Bruno Mars",
         1,
         2012,
         12,
         5,
         1622,
         9,
         1481349984,
         0,
         0,
         356,
         0,
         0
        ],
        [
         "Un Finde | CROSSOVER #2",
         "Big One, FMK, Ke personajes",
         3,
         2023,
         4,
         4,
         561,
         14,
         142095275,
         4,
         14,
         12,
         5,
         56
        ],
        [
         "Jimmy Cooks (feat. 21 Savage)",
         "Drake, 21 Savage",
         2,
         2022,
         6,
         17,
         5871,
         27,
         618885532,
         81,
         121,
         58,
         1,
         34
        ],
        [
         "Counting Stars",
         "OneRepublic",
         1,
         2013,
         1,
         1,
         29215,
         43,
         2011464183,
         179,
         97,
         null,
         11,
         153
        ],
        [
         "Ghost",
         "Justin Bieber",
         1,
         2021,
         3,
         19,
         5866,
         24,
         1167330737,
         107,
         38,
         95,
         0,
         null
        ],
        [
         "Under The Influence",
         "Chris Brown",
         1,
         2019,
         10,
         4,
         3859,
         26,
         929964809,
         133,
         181,
         3,
         0,
         null
        ],
        [
         "PRC",
         "Natanael Cano, Peso Pluma",
         2,
         2023,
         1,
         23,
         961,
         26,
         436027885,
         19,
         143,
         10,
         6,
         15
        ],
        [
         "Gasolina",
         "Daddy Yankee",
         1,
         2004,
         7,
         13,
         6457,
         18,
         657723613,
         98,
         95,
         453,
         0,
         454
        ],
        [
         "One Dance",
         "Drake, WizKid, Kyla",
         3,
         2016,
         4,
         4,
         43257,
         24,
         null,
         433,
         107,
         null,
         0,
         26
        ],
        [
         "Enchanted",
         "Taylor Swift",
         1,
         2010,
         1,
         1,
         4564,
         16,
         621660989,
         24,
         101,
         113,
         0,
         40
        ],
        [
         "Save Your Tears",
         "The Weeknd",
         1,
         2020,
         3,
         20,
         12688,
         13,
         1591223784,
         197,
         115,
         112,
         0,
         200
        ],
        [
         "Sure Thing",
         "Miguel",
         1,
         2010,
         5,
         25,
         13801,
         19,
         950906471,
         137,
         125,
         435,
         6,
         285
        ],
        [
         "Every Breath You Take - Remastered 2003",
         "The Police",
         1,
         1983,
         1,
         6,
         22439,
         19,
         1593270737,
         211,
         74,
         929,
         0,
         129
        ],
        [
         "The Night We Met",
         "Lord Huron",
         1,
         2015,
         2,
         2,
         18515,
         35,
         1410088830,
         70,
         82,
         939,
         1,
         162
        ],
        [
         "We Found Love",
         "Rihanna, Calvin Harris",
         2,
         2011,
         1,
         1,
         36843,
         21,
         1235005533,
         321,
         91,
         null,
         1,
         58
        ],
        [
         "When I Was Your Man",
         "Bruno Mars",
         1,
         2012,
         12,
         5,
         2420,
         11,
         1661187319,
         0,
         0,
         806,
         0,
         0
        ],
        [
         "Let Me Down Slowly",
         "Alec Benjamin",
         1,
         2018,
         5,
         25,
         5897,
         19,
         1374581173,
         0,
         0,
         885,
         0,
         0
        ],
        [
         "Am I Dreaming (Metro Boomin & A$AP Rocky, Roisee)",
         "A$AP Rocky, Metro Boomin, Roisee",
         3,
         2023,
         6,
         2,
         727,
         16,
         94186466,
         17,
         60,
         28,
         1,
         44
        ],
        [
         "Do I Wanna Know?",
         "Arctic Monkeys",
         1,
         2013,
         1,
         1,
         33783,
         26,
         1788326445,
         133,
         92,
         null,
         1,
         26
        ],
        [
         "Demons",
         "Imagine Dragons",
         1,
         2012,
         1,
         1,
         26694,
         13,
         1840364617,
         65,
         82,
         null,
         4,
         13
        ],
        [
         "������������",
         "YOASOBI",
         1,
         2023,
         4,
         12,
         356,
         16,
         143573775,
         35,
         102,
         8,
         1,
         117
        ],
        [
         "Reminder",
         "The Weeknd",
         1,
         2016,
         11,
         25,
         6518,
         17,
         684675814,
         45,
         85,
         238,
         1,
         47
        ],
        [
         "Shake It Off",
         "Taylor Swift",
         1,
         2014,
         1,
         1,
         21335,
         13,
         1113838873,
         328,
         70,
         null,
         9,
         20
        ],
        [
         "Why'd You Only Call Me When You're High?",
         "Arctic Monkeys",
         1,
         2013,
         1,
         1,
         23389,
         29,
         1267333350,
         54,
         70,
         null,
         2,
         1
        ],
        [
         "SNAP",
         "Rosa Linn",
         1,
         2022,
         3,
         19,
         3202,
         18,
         726307468,
         148,
         80,
         226,
         24,
         0
        ],
        [
         "Shape of You",
         "Ed Sheeran",
         1,
         2017,
         1,
         6,
         32181,
         10,
         null,
         33,
         0,
         null,
         7,
         0
        ],
        [
         "Night Changes",
         "One Direction",
         1,
         2014,
         11,
         17,
         7124,
         18,
         1131090940,
         60,
         20,
         2,
         0,
         null
        ],
        [
         "Fin de Semana",
         "Oscar Maydon, Junior H",
         2,
         2023,
         1,
         13,
         592,
         14,
         307370144,
         11,
         84,
         6,
         1,
         30
        ],
        [
         "Creep",
         "Radiohead",
         1,
         1992,
         9,
         21,
         36724,
         7,
         1271293243,
         146,
         72,
         null,
         5,
         80
        ],
        [
         "Car's Outside",
         "James Arthur",
         1,
         2019,
         10,
         18,
         794,
         10,
         265882712,
         38,
         25,
         61,
         0,
         263
        ],
        [
         "Apocalypse",
         "Cigarettes After Sex",
         1,
         2017,
         3,
         21,
         13091,
         17,
         841749534,
         61,
         96,
         790,
         2,
         116
        ],
        [
         "Cheques",
         "Shubh",
         1,
         2023,
         5,
         19,
         67,
         8,
         47956378,
         7,
         10,
         0,
         0,
         57
        ],
        [
         "Pink + White",
         "Frank Ocean",
         1,
         2016,
         8,
         20,
         21574,
         30,
         806397070,
         112,
         68,
         266,
         1,
         39
        ],
        [
         "Circles",
         "Post Malone",
         1,
         2019,
         8,
         30,
         19664,
         16,
         2132335812,
         391,
         73,
         633,
         3,
         37
        ],
        [
         "Just The Way You Are",
         "Bruno Mars",
         1,
         2010,
         1,
         1,
         21106,
         13,
         1641426668,
         82,
         0,
         null,
         0,
         0
        ],
        [
         "Take Me To Church",
         "Hozier",
         1,
         2013,
         9,
         13,
         23804,
         31,
         2135158446,
         187,
         99,
         null,
         1,
         0
        ],
        [
         "Bebe Dame",
         "Fuerza Regida, Grupo Frontera",
         2,
         2022,
         12,
         16,
         849,
         22,
         367316268,
         27,
         129,
         21,
         7,
         111
        ],
        [
         "You Belong With Me (Taylor���s Ve",
         "Taylor Swift",
         1,
         2021,
         4,
         9,
         2619,
         12,
         350381515,
         47,
         90,
         1,
         0,
         7
        ],
        [
         "Titi Me Pregunt�",
         "Bad Bunny",
         1,
         2022,
         5,
         6,
         9037,
         42,
         1264310836,
         124,
         133,
         139,
         14,
         166
        ],
        [
         "Better Than Revenge (Taylor's Version)",
         "Taylor Swift",
         1,
         2023,
         7,
         7,
         86,
         11,
         30343206,
         3,
         33,
         3,
         0,
         1
        ],
        [
         "Shut up My Moms Calling",
         "Hotel Ugly",
         1,
         2020,
         2,
         10,
         1788,
         14,
         405136812,
         1,
         50,
         19,
         0,
         19
        ],
        [
         "Have You Ever Seen The Rain?",
         "Creedence Clearwater Revival",
         1,
         1968,
         7,
         1,
         15890,
         14,
         1145727611,
         71,
         37,
         653,
         0,
         167
        ],
        [
         "Es un Secreto",
         "Plan B",
         1,
         2010,
         7,
         20,
         492,
         36,
         540654286,
         4,
         3,
         19,
         0,
         0
        ],
        [
         "POLARIS - Remix",
         "Feid, Mora, Saiko, Quevedo",
         4,
         2023,
         6,
         8,
         773,
         33,
         57312735,
         20,
         46,
         21,
         8,
         99
        ],
        [
         "Ditto",
         "NewJeans",
         1,
         2022,
         12,
         19,
         1154,
         22,
         397582059,
         28,
         125,
         11,
         1,
         51
        ],
        [
         "Take On Me",
         "a-ha",
         1,
         1984,
         10,
         19,
         44927,
         17,
         1479115056,
         34,
         0,
         null,
         6,
         0
        ],
        [
         "Annihilate (Spider-Man: Across the Spider-Verse) (Metro Boomin & Swae Lee, Lil Wayne, Offset)",
         "Swae Lee, Lil Wayne, Offset, Metro Boomin",
         4,
         2023,
         6,
         2,
         551,
         4,
         86773632,
         13,
         46,
         20,
         1,
         10
        ],
        [
         "Angel Pt 1 (feat. Jimin of BTS, JVKE & Muni Long)",
         "Kodak Black, NLE Choppa, Muni Long, JVKE, Jimin",
         5,
         2023,
         5,
         1,
         577,
         14,
         133753727,
         22,
         18,
         15,
         1,
         0
        ],
        [
         "Acr��s",
         "Shakira",
         1,
         2023,
         5,
         11,
         955,
         29,
         123124076,
         37,
         50,
         79,
         11,
         31
        ],
        [
         "AMG",
         "Natanael Cano, Gabito Ballesteros, Peso Pluma",
         3,
         2022,
         11,
         24,
         995,
         19,
         463564958,
         12,
         117,
         9,
         5,
         3
        ],
        [
         "Phir Aur Kya Chahiye (From \"Zara Hatke Zara Bachke\")",
         "Arijit Singh, Sachin-Jigar, Amitabha Bhattacharya",
         3,
         2023,
         5,
         15,
         178,
         6,
         64533040,
         6,
         71,
         1,
         0,
         31
        ],
        [
         "S-Class",
         "Stray Kids",
         1,
         2023,
         6,
         2,
         290,
         19,
         65496046,
         9,
         101,
         5,
         0,
         73
        ],
        [
         "Hits Different",
         "Taylor Swift",
         1,
         2023,
         5,
         26,
         547,
         0,
         68616963,
         15,
         15,
         6,
         0,
         0
        ],
        [
         "Chanel",
         "Becky G, Peso Pluma",
         2,
         2023,
         3,
         30,
         681,
         10,
         161460990,
         15,
         92,
         21,
         2,
         26
        ],
        [
         "Self Love (Spider-Man: Across the Spider-Verse) (Metro Boomin & Coi Leray)",
         "Metro Boomin, Coi Leray",
         2,
         2023,
         6,
         2,
         332,
         5,
         70106975,
         18,
         41,
         5,
         0,
         19
        ],
        [
         "Area Codes",
         "Kaliii, Kaliii",
         2,
         2023,
         3,
         17,
         1197,
         13,
         113509496,
         44,
         34,
         25,
         1,
         171
        ],
        [
         "Abcdario",
         "Junior H, Eden Mu��",
         2,
         2023,
         5,
         13,
         262,
         5,
         89933133,
         8,
         60,
         4,
         1,
         109
        ],
        [
         "Obsessed",
         "Abhijay Sharma, Riar Saab",
         2,
         2022,
         9,
         29,
         161,
         6,
         71007139,
         10,
         79,
         2,
         0,
         42
        ],
        [
         "Pi��man De�",
         "Semicenk, Do��u ",
         2,
         2023,
         6,
         2,
         185,
         3,
         43522589,
         5,
         6,
         4,
         1,
         33
        ],
        [
         "FLOWER",
         "JISOO",
         1,
         2023,
         3,
         31,
         839,
         18,
         232896922,
         20,
         110,
         20,
         0,
         69
        ],
        [
         "All The Way Live (Spider-Man: Across the Spider-Verse) (Metro Boomin & Future, Lil Uzi Vert)",
         "Future, Lil Uzi Vert, Metro Boomin",
         3,
         2023,
         6,
         2,
         259,
         0,
         37126685,
         5,
         17,
         5,
         0,
         0
        ],
        [
         "Eyes Closed",
         "Ed Sheeran",
         1,
         2023,
         3,
         23,
         2915,
         30,
         195576623,
         116,
         69,
         107,
         3,
         675
        ],
        [
         "Escapism.",
         "RAYE, 070 Shake",
         2,
         2022,
         10,
         12,
         5129,
         25,
         532336353,
         116,
         84,
         114,
         18,
         348
        ],
        [
         "La Jumpa",
         "Arcangel, Bad Bunny",
         2,
         2022,
         11,
         30,
         3794,
         34,
         538115192,
         47,
         77,
         53,
         10,
         8
        ],
        [
         "Karma (feat. Ice Spice)",
         "Taylor Swift, Ice Spice",
         2,
         2023,
         5,
         26,
         588,
         0,
         46142772,
         23,
         21,
         31,
         0,
         0
        ],
        [
         "Superhero (Heroes & Villains) [with Future & Chris Brown]",
         "Future, Chris Brown, Metro Boomin",
         3,
         2022,
         12,
         2,
         2959,
         16,
         401036314,
         41,
         69,
         38,
         0,
         36
        ],
        [
         "Las Morras",
         "BLESSD, Peso Pluma",
         2,
         2023,
         4,
         4,
         291,
         8,
         127026613,
         8,
         78,
         4,
         1,
         1
        ],
        [
         "CHORRITO PA LAS ANIMAS",
         "Feid",
         1,
         2022,
         12,
         2,
         2321,
         36,
         345031710,
         29,
         65,
         34,
         5,
         3
        ],
        [
         "Ch y la Pizza",
         "Fuerza Regida, Natanael Cano",
         2,
         2022,
         12,
         1,
         536,
         10,
         288101651,
         10,
         72,
         8,
         3,
         14
        ],
        [
         "Snow On The Beach (feat. More Lana Del Rey)",
         "Lana Del Rey, Taylor Swift",
         2,
         2023,
         5,
         26,
         359,
         2,
         60350538,
         1,
         0,
         9,
         0,
         0
        ],
        [
         "Players",
         "Coi Leray",
         1,
         2022,
         11,
         30,
         4096,
         6,
         335074782,
         118,
         48,
         143,
         0,
         240
        ],
        [
         "Bite Me",
         "ENHYPEN",
         1,
         2023,
         5,
         22,
         349,
         69,
         76767396,
         8,
         96,
         5,
         0,
         56
        ],
        [
         "Stand By Me (feat. Morgan Wallen)",
         "Lil Durk, Morgan Wallen",
         2,
         2023,
         5,
         26,
         381,
         5,
         46065667,
         23,
         82,
         6,
         0,
         113
        ],
        [
         "Normal",
         "Feid",
         1,
         2022,
         7,
         8,
         2461,
         36,
         459276435,
         47,
         66,
         45,
         5,
         6
        ],
        [
         "Hummingbird (Metro Boomin & James Blake)",
         "James Blake, Metro Boomin",
         2,
         2023,
         6,
         2,
         277,
         1,
         39666245,
         1,
         20,
         5,
         0,
         1
        ],
        [
         "Seu Brilho Sumiu - Ao Vivo",
         "Israel & Rodolffo, Mari Fernandez",
         2,
         2023,
         3,
         1,
         967,
         5,
         138517666,
         7,
         29,
         51,
         1,
         29
        ],
        [
         "Bad Habit",
         "Steve Lacy",
         1,
         2022,
         6,
         29,
         8186,
         12,
         822633917,
         155,
         72,
         131,
         16,
         29
        ],
        [
         "CUFF IT",
         "Beyonc�",
         1,
         2022,
         7,
         29,
         7842,
         10,
         595900742,
         215,
         88,
         330,
         26,
         23
        ],
        [
         "Lilith (feat. SUGA of BTS) (Diablo IV Anthem)",
         "Halsey, Suga",
         2,
         2023,
         6,
         5,
         215,
         6,
         51985779,
         6,
         14,
         8,
         2,
         4
        ],
        [
         "69",
         "Nicky Jam, Feid",
         2,
         2023,
         5,
         18,
         1134,
         22,
         57945987,
         39,
         14,
         48,
         2,
         3
        ],
        [
         "Ni��a Bo",
         "Sean Paul, Feid",
         2,
         2023,
         4,
         21,
         1305,
         34,
         115010040,
         29,
         26,
         43,
         5,
         44
        ],
        [
         "Search & Rescue",
         "Drake",
         1,
         2023,
         4,
         7,
         2066,
         6,
         175097833,
         58,
         70,
         43,
         0,
         182
        ],
        [
         "AMERICA HAS A PROBLEM (feat. Kendrick Lamar)",
         "Kendrick Lamar, Beyonc�",
         2,
         2023,
         5,
         19,
         896,
         0,
         57089066,
         34,
         2,
         33,
         0,
         1
        ],
        [
         "Lavender Haze",
         "Taylor Swift",
         1,
         2022,
         10,
         21,
         3763,
         8,
         488386797,
         51,
         43,
         38,
         10,
         1
        ],
        [
         "Link Up (Metro Boomin & Don Toliver, Wizkid feat. BEAM & Toian) - Spider-Verse Remix (Spider-Man: Across the Spider-Verse )",
         "WizKid, Toian, Metro Boomin, Don Toliver, Beam",
         5,
         2023,
         6,
         2,
         197,
         0,
         32761689,
         3,
         10,
         3,
         0,
         0
        ],
        [
         "Efecto",
         "Bad Bunny",
         1,
         2022,
         5,
         6,
         4004,
         33,
         1047480053,
         34,
         65,
         43,
         6,
         2
        ],
        [
         "Erro Gostoso - Ao Vivo",
         "Simone Mendes",
         1,
         2023,
         1,
         27,
         984,
         5,
         153454328,
         8,
         57,
         76,
         2,
         49
        ],
        [
         "Cupido",
         "Tini",
         1,
         2023,
         2,
         14,
         1240,
         24,
         217672943,
         51,
         29,
         63,
         4,
         54
        ],
        [
         "Just Wanna Rock",
         "Lil Uzi Vert",
         1,
         2022,
         10,
         17,
         3995,
         13,
         457184829,
         72,
         27,
         47,
         0,
         0
        ],
        [
         "Unstoppable",
         "Sia",
         1,
         2016,
         1,
         21,
         7681,
         13,
         939844851,
         119,
         66,
         null,
         2,
         null
        ],
        [
         "Until I Found You",
         "Stephen Sanchez",
         1,
         2021,
         9,
         1,
         4427,
         4,
         726434358,
         69,
         100,
         154,
         20,
         438
        ],
        [
         "Rich Flex",
         "Drake, 21 Savage",
         2,
         2022,
         11,
         4,
         4657,
         18,
         573633020,
         84,
         84,
         42,
         0,
         23
        ],
        [
         "Easy On Me",
         "Adele",
         1,
         2021,
         10,
         14,
         10195,
         20,
         1406111294,
         258,
         87,
         657,
         22,
         9
        ],
        [
         "Cart��o B",
         "MC Caverinha, KayBlack",
         2,
         2023,
         5,
         11,
         269,
         4,
         71573339,
         7,
         2,
         30,
         1,
         11
        ],
        [
         "Danger (Spider) (Offset & JID)",
         "Offset, JID",
         2,
         2023,
         6,
         2,
         214,
         0,
         24975653,
         3,
         3,
         6,
         0,
         0
        ],
        [
         "Oi Balde - Ao Vivo",
         "Z�� Neto & Crist",
         1,
         2023,
         2,
         14,
         845,
         2,
         145458418,
         12,
         57,
         47,
         1,
         33
        ],
        [
         "The Real Slim Shady",
         "Eminem",
         1,
         2000,
         1,
         1,
         20763,
         27,
         1424589568,
         81,
         53,
         null,
         1,
         17
        ],
        [
         "MERCHO",
         "Migrantes, LiL CaKe, Nico Valdi",
         3,
         2022,
         12,
         16,
         1267,
         20,
         231332117,
         41,
         22,
         56,
         4,
         84
        ],
        [
         "The Color Violet",
         "Tory Lanez",
         1,
         2021,
         12,
         10,
         2585,
         32,
         415932686,
         3,
         79,
         21,
         1,
         54
        ],
        [
         "Glimpse of Us",
         "Joji",
         1,
         2022,
         6,
         10,
         6330,
         6,
         988515741,
         109,
         42,
         158,
         3,
         31
        ],
        [
         "Mejor Que Yo",
         "Mambo Kingz, DJ Luian, Anuel Aa",
         3,
         2023,
         5,
         4,
         675,
         1,
         50847624,
         9,
         13,
         11,
         0,
         1
        ],
        [
         "Curtains",
         "Ed Sheeran",
         1,
         2023,
         5,
         5,
         715,
         0,
         39893489,
         37,
         3,
         27,
         0,
         50
        ],
        [
         "UNFORGIVEN (feat. Nile Rodgers)",
         "Nile Rodgers, LE SSERAFIM",
         2,
         2023,
         5,
         1,
         327,
         13,
         92035115,
         14,
         110,
         9,
         0,
         49
        ],
        [
         "Haegeum",
         "Agust D",
         1,
         2023,
         4,
         21,
         244,
         12,
         118810253,
         6,
         84,
         10,
         2,
         9
        ],
        [
         "Conex��es de M��fia (feat. Rich ",
         "Rich The Kid, Matu�",
         2,
         2023,
         4,
         30,
         385,
         4,
         77233241,
         17,
         7,
         41,
         1,
         29
        ],
        [
         "MIENTRAS ME CURO DEL CORA",
         "Karol G",
         1,
         2023,
         2,
         24,
         1020,
         35,
         206399629,
         15,
         26,
         30,
         6,
         0
        ],
        [
         "Never Felt So Alone",
         "Labrinth",
         1,
         2023,
         4,
         7,
         1730,
         3,
         117747907,
         46,
         5,
         51,
         0,
         20
        ],
        [
         "X SI VOLVEMOS",
         "Karol G, Romeo Santos",
         2,
         2023,
         2,
         2,
         2127,
         33,
         266624541,
         45,
         80,
         53,
         8,
         4
        ],
        [
         "ceilings",
         "Lizzy McAlpine",
         1,
         2022,
         4,
         8,
         3242,
         9,
         293186992,
         67,
         55,
         48,
         0,
         6
        ],
        [
         "Cupid",
         "Fifty Fifty",
         1,
         2023,
         2,
         24,
         526,
         10,
         139681964,
         15,
         93,
         30,
         0,
         320
        ],
        [
         "I AM",
         "IVE",
         1,
         2023,
         4,
         10,
         366,
         15,
         123132751,
         16,
         102,
         7,
         0,
         55
        ],
        [
         "Cupid ��� Twin Ver. (FIFTY FIFTY) ��� Spe",
         "sped up 8282",
         1,
         1997,
         1,
         1,
         472,
         2,
         103762518,
         0,
         0,
         6,
         0,
         0
        ],
        [
         "Shorty Party",
         "Cartel De Santa, La Kelly",
         2,
         2023,
         3,
         4,
         432,
         12,
         162887075,
         8,
         14,
         12,
         2,
         33
        ],
        [
         "Super",
         "SEVENTEEN",
         1,
         2023,
         4,
         24,
         271,
         12,
         91221625,
         16,
         103,
         9,
         0,
         55
        ],
        [
         "Slut Me Out",
         "NLE Choppa",
         1,
         2022,
         4,
         22,
         816,
         4,
         190490915,
         21,
         4,
         13,
         0,
         4
        ],
        [
         "Double Fantasy (with Future)",
         "The Weeknd, Future",
         2,
         2023,
         4,
         21,
         1169,
         0,
         96180277,
         36,
         65,
         28,
         0,
         0
        ],
        [
         "All Of The Girls You Loved Before",
         "Taylor Swift",
         1,
         2019,
         8,
         23,
         1282,
         6,
         185240616,
         26,
         6,
         19,
         0,
         5
        ],
        [
         "PROVENZA",
         "Karol G",
         1,
         2022,
         4,
         21,
         6587,
         34,
         885093467,
         114,
         104,
         147,
         11,
         20
        ],
        [
         "Princess Diana (with Nicki Minaj)",
         "Nicki Minaj, Ice Spice",
         2,
         2023,
         4,
         14,
         1444,
         4,
         104992946,
         0,
         0,
         0,
         0,
         0
        ],
        [
         "Di Que Si",
         "Grupo Marca Registrada, Grupo Frontera",
         2,
         2023,
         2,
         3,
         356,
         10,
         147290338,
         4,
         64,
         4,
         2,
         37
        ],
        [
         "Shivers",
         "Ed Sheeran",
         1,
         2021,
         9,
         9,
         10147,
         30,
         1302184087,
         234,
         71,
         543,
         18,
         null
        ],
        [
         "Igualito a Mi Ap�",
         "Fuerza Regida, Peso Pluma",
         2,
         2022,
         12,
         30,
         265,
         6,
         158950978,
         8,
         84,
         5,
         1,
         4
        ],
        [
         "Shoong! (feat. LISA of BLACKPINK)",
         "TAEYANG, Lisa",
         2,
         2023,
         4,
         25,
         351,
         9,
         76910644,
         16,
         90,
         10,
         0,
         64
        ],
        [
         "Komang",
         "Raim Laode",
         1,
         2022,
         8,
         16,
         158,
         4,
         137123880,
         5,
         6,
         1,
         1,
         18
        ],
        [
         "DESPECH�",
         "ROSAL�",
         1,
         2022,
         7,
         28,
         7613,
         33,
         782369383,
         180,
         90,
         422,
         15,
         55
        ],
        [
         "Made You Look",
         "Meghan Trainor",
         1,
         2022,
         10,
         21,
         3956,
         6,
         502574952,
         142,
         23,
         127,
         3,
         16
        ],
        [
         "Watch This - ARIZONATEARS Pluggnb Remix",
         "sped up nightcore, ARIZONATEARS, Lil Uzi Vert",
         3,
         2023,
         2,
         5,
         1638,
         10,
         207033255,
         0,
         0,
         21,
         0,
         0
        ],
        [
         "No Se Va",
         "Grupo Frontera",
         1,
         2022,
         4,
         28,
         924,
         18,
         404887295,
         17,
         80,
         22,
         9,
         38
        ],
        [
         "Punto G",
         "Quevedo",
         1,
         2022,
         11,
         4,
         1985,
         35,
         381161027,
         34,
         26,
         37,
         5,
         1
        ],
        [
         "Lovers Rock",
         "TV Girl",
         1,
         2014,
         6,
         5,
         6339,
         13,
         466231982,
         3,
         1,
         36,
         1,
         37
        ],
        [
         "METAMORPHOSIS",
         "INTERWORLD",
         1,
         2021,
         11,
         25,
         1561,
         24,
         357580552,
         18,
         78,
         24,
         0,
         30
        ],
        [
         "Mami Chula",
         "Quevedo, Jhayco",
         2,
         2023,
         4,
         27,
         875,
         4,
         61105704,
         17,
         13,
         27,
         0,
         43
        ],
        [
         "En Paris",
         "El Chachito, Junior H",
         2,
         2022,
         12,
         24,
         406,
         5,
         198275403,
         3,
         31,
         2,
         1,
         0
        ],
        [
         "Set Me Free Pt.2",
         "Jimin",
         1,
         2023,
         3,
         17,
         340,
         13,
         168448603,
         4,
         71,
         16,
         1,
         9
        ],
        [
         "I Was Never There",
         "The Weeknd, Gesaffelstein",
         2,
         2018,
         3,
         29,
         4188,
         15,
         705469769,
         30,
         70,
         142,
         0,
         27
        ],
        [
         "Don't ever say love me (feat. RM of BTS)",
         "RM, Colde",
         2,
         2023,
         5,
         4,
         105,
         0,
         34502215,
         5,
         9,
         5,
         0,
         0
        ],
        [
         "Shut Down",
         "BLACKPINK",
         1,
         2022,
         9,
         16,
         1524,
         17,
         482175240,
         53,
         120,
         62,
         0,
         2
        ],
        [
         "Gato de Noche",
         "Nengo Flow, Bad Bunny",
         2,
         2022,
         12,
         22,
         2651,
         30,
         304118600,
         21,
         55,
         32,
         3,
         0
        ],
        [
         "Call Out My Name",
         "The Weeknd",
         1,
         2018,
         3,
         29,
         11087,
         6,
         1449799467,
         151,
         107,
         801,
         1,
         105
        ],
        [
         "Like Crazy (English Version)",
         "Jimin",
         1,
         2023,
         3,
         24,
         373,
         19,
         173627354,
         4,
         72,
         5,
         0,
         5
        ],
        [
         "Rosa Pastel",
         "Jasiel Nu��ez, Peso P",
         2,
         2023,
         2,
         2,
         200,
         4,
         90025258,
         8,
         77,
         2,
         1,
         1
        ],
        [
         "Sunroof",
         "Nicky Youre, Dazy",
         2,
         2021,
         12,
         3,
         3741,
         17,
         652704649,
         156,
         35,
         110,
         19,
         0
        ],
        [
         "Lose Yourself - Soundtrack Version",
         "Eminem",
         1,
         2002,
         1,
         1,
         32502,
         21,
         1829992958,
         247,
         54,
         null,
         1,
         51
        ],
        [
         "Superman",
         "Eminem, Dina Rae",
         2,
         2002,
         5,
         26,
         7615,
         14,
         655466831,
         18,
         51,
         null,
         0,
         0
        ],
        [
         "Mas Rica Que Ayer",
         "Mambo Kingz, DJ Luian, Anuel Aa",
         3,
         2023,
         3,
         2,
         1208,
         34,
         146409671,
         10,
         41,
         20,
         0,
         1
        ],
        [
         "People Pt.2 (feat. IU)",
         "IU, Agust D",
         2,
         2023,
         4,
         7,
         209,
         4,
         95816024,
         4,
         45,
         11,
         2,
         24
        ],
        [
         "REMIX EXCLUSIVO",
         "Feid",
         1,
         2023,
         3,
         17,
         1235,
         9,
         117206995,
         20,
         8,
         15,
         0,
         6
        ],
        [
         "Arc��ngel: Bzrp Music Sessions, Vol",
         "Arcangel, Bizarrap",
         2,
         2023,
         3,
         22,
         654,
         3,
         100409613,
         11,
         3,
         18,
         1,
         1
        ],
        [
         "DOGTOOTH",
         "Tyler, The Creator",
         2,
         2023,
         3,
         27,
         1479,
         0,
         80758350,
         23,
         0,
         18,
         0,
         33
        ],
        [
         "10:35",
         "Ti��sto, Tate M",
         2,
         2022,
         11,
         1,
         4942,
         26,
         325592432,
         190,
         104,
         147,
         18,
         63
        ],
        [
         "SORRY NOT SORRY",
         "Tyler, The Creator",
         2,
         2023,
         3,
         31,
         709,
         0,
         58473276,
         8,
         1,
         13,
         0,
         0
        ],
        [
         "HAPPY",
         "NF",
         1,
         2023,
         3,
         25,
         660,
         0,
         52722996,
         22,
         7,
         11,
         0,
         78
        ],
        [
         "La Bebe",
         "Yng Lvcas",
         1,
         2021,
         12,
         24,
         489,
         17,
         191945597,
         4,
         11,
         5,
         1,
         2
        ],
        [
         "I Know - PR1SVX Edit",
         "Kanii, PR1ISVX",
         2,
         2023,
         3,
         24,
         407,
         0,
         77377503,
         16,
         15,
         5,
         0,
         1
        ],
        [
         "Late Night Talking",
         "Harry Styles",
         1,
         2022,
         5,
         20,
         7461,
         8,
         743693613,
         166,
         42,
         199,
         16,
         58
        ],
        [
         "Le�",
         "Mar��lia Mendo",
         1,
         2022,
         12,
         9,
         993,
         4,
         267789608,
         30,
         84,
         88,
         1,
         28
        ],
        [
         "Save Your Tears (with Ariana Grande) (Remix)",
         "Ariana Grande, The Weeknd",
         2,
         2020,
         3,
         20,
         9161,
         5,
         1221813483,
         240,
         98,
         468,
         3,
         10
        ],
        [
         "Something in the Orange",
         "Zach Bryan",
         1,
         2022,
         4,
         22,
         3282,
         12,
         449701773,
         67,
         84,
         46,
         16,
         117
        ],
        [
         "VOID",
         "Melanie Martinez",
         1,
         2023,
         3,
         29,
         596,
         0,
         67070410,
         29,
         9,
         12,
         0,
         52
        ],
        [
         "Dijeron Que No La Iba Lograr",
         "Fuerza Regida, Chino Pacas",
         2,
         2023,
         3,
         14,
         320,
         6,
         116334601,
         5,
         48,
         2,
         1,
         9
        ],
        [
         "Midnight Rain",
         "Taylor Swift",
         1,
         2022,
         10,
         21,
         2612,
         4,
         433356509,
         19,
         29,
         21,
         0,
         0
        ],
        [
         "If We Ever Broke Up",
         "Mae Stephens",
         1,
         2023,
         2,
         10,
         2040,
         4,
         165584767,
         81,
         27,
         66,
         9,
         444
        ],
        [
         "You Proof",
         "Morgan Wallen",
         1,
         2022,
         5,
         13,
         2128,
         9,
         367814306,
         37,
         88,
         9,
         0,
         14
        ],
        [
         "LA INOCENTE",
         "Feid, Mora",
         2,
         2022,
         4,
         1,
         2598,
         37,
         477033549,
         28,
         57,
         43,
         8,
         85
        ],
        [
         "Malas Decisiones",
         "Kenia OS",
         1,
         2022,
         10,
         26,
         542,
         2,
         156214700,
         23,
         2,
         21,
         0,
         0
        ],
        [
         "Murder In My Mind",
         "Kordhell",
         1,
         2022,
         1,
         21,
         2459,
         20,
         448843705,
         20,
         68,
         50,
         0,
         22
        ],
        [
         "Gangsta's Paradise",
         "Coolio, L.V.",
         2,
         1995,
         7,
         11,
         10624,
         17,
         1357608774,
         21,
         0,
         386,
         0,
         null
        ],
        [
         "CAIRO",
         "Karol G, Ovy On The Drums",
         2,
         2022,
         11,
         13,
         2418,
         26,
         294352144,
         52,
         66,
         55,
         1,
         16
        ],
        [
         "I Love You So",
         "The Walters",
         1,
         2014,
         11,
         28,
         7536,
         7,
         972164968,
         44,
         19,
         135,
         0,
         6
        ],
        [
         "Dark Red",
         "Steve Lacy",
         1,
         2017,
         2,
         20,
         10431,
         7,
         920045682,
         71,
         53,
         181,
         0,
         10
        ],
        [
         "Say You Won't Let Go",
         "James Arthur",
         1,
         2016,
         9,
         9,
         15722,
         16,
         null,
         231,
         37,
         null,
         0,
         13
        ],
        [
         "The Hills",
         "The Weeknd",
         1,
         2015,
         5,
         27,
         25744,
         4,
         1947371785,
         122,
         94,
         null,
         0,
         18
        ],
        [
         "Heart To Heart",
         "Mac DeMarco",
         1,
         2019,
         5,
         10,
         1640,
         0,
         244658767,
         27,
         27,
         29,
         1,
         1
        ],
        [
         "Peaches (from The Super Mario Bros. Movie)",
         "Jack Black",
         1,
         2023,
         4,
         7,
         34,
         0,
         68216992,
         0,
         0,
         0,
         0,
         0
        ],
        [
         "Marisola - Remix",
         "Duki, NICKI NICOLE, Cris Mj, Standly, Stars Music Chile",
         5,
         2022,
         12,
         15,
         1845,
         16,
         223582566,
         20,
         8,
         30,
         2,
         0
        ],
        [
         "LOKERA",
         "Brray, Rauw Alejandro, Lyanno",
         3,
         2022,
         7,
         25,
         3301,
         30,
         471819764,
         72,
         64,
         64,
         6,
         3
        ],
        [
         "Low",
         "SZA",
         1,
         2022,
         12,
         9,
         1911,
         0,
         272377463,
         23,
         71,
         14,
         0,
         9
        ],
        [
         "Numb",
         "Linkin Park",
         1,
         2003,
         3,
         24,
         20111,
         5,
         1361425037,
         39,
         0,
         null,
         0,
         0
        ],
        [
         "Tormenta (feat. Bad Bunny)",
         "Gorillaz, Bad Bunny",
         2,
         2023,
         2,
         24,
         1529,
         0,
         149778242,
         32,
         18,
         39,
         2,
         0
        ],
        [
         "on the street (with J. Cole)",
         "j-hope, J. Cole",
         2,
         2023,
         3,
         3,
         615,
         2,
         116599790,
         22,
         82,
         8,
         0,
         9
        ],
        [
         "One Thing At A Time",
         "Morgan Wallen",
         1,
         2022,
         12,
         2,
         811,
         4,
         148469433,
         11,
         58,
         5,
         0,
         21
        ],
        [
         "Miss You",
         "Robin Schulz, Oliver Tree",
         2,
         2022,
         8,
         5,
         5730,
         10,
         497225336,
         108,
         16,
         197,
         3,
         165
        ],
        [
         "Ain���t Tha",
         "Morgan Wallen",
         1,
         2023,
         3,
         3,
         356,
         4,
         88791109,
         4,
         20,
         0,
         0,
         0
        ],
        [
         "Thinkin��� B",
         "Morgan Wallen",
         1,
         2023,
         3,
         3,
         604,
         6,
         125917280,
         22,
         101,
         0,
         0,
         66
        ],
        [
         "Private Landing (feat. Justin Bieber & Future)",
         "Don Toliver, Future, Justin Bieber",
         3,
         2023,
         2,
         23,
         1190,
         0,
         105062254,
         29,
         3,
         18,
         0,
         19
        ],
        [
         "Everything I Love",
         "Morgan Wallen",
         1,
         2023,
         1,
         31,
         579,
         0,
         95623148,
         11,
         54,
         0,
         0,
         103
        ],
        [
         "Heaven",
         "Niall Horan",
         1,
         2023,
         2,
         17,
         1553,
         2,
         144584800,
         61,
         6,
         48,
         0,
         150
        ],
        [
         "LET GO",
         "Central Cee",
         1,
         2022,
         12,
         15,
         2301,
         20,
         298063749,
         49,
         23,
         110,
         0,
         8
        ],
        [
         "Sial",
         "Mahalini",
         1,
         2023,
         1,
         23,
         134,
         4,
         166570053,
         4,
         6,
         0,
         0,
         23
        ],
        [
         "I Wrote The Book",
         "Morgan Wallen",
         1,
         2023,
         1,
         31,
         430,
         0,
         83021468,
         15,
         17,
         0,
         0,
         0
        ],
        [
         "Apna Bana Le (From \"Bhediya\")",
         "Arijit Singh, Sachin-Jigar",
         2,
         2022,
         11,
         5,
         86,
         0,
         139836056,
         11,
         101,
         0,
         0,
         48
        ],
        [
         "SPIT IN MY FACE!",
         "ThxSoMch",
         1,
         2022,
         10,
         31,
         629,
         14,
         303216294,
         32,
         3,
         9,
         0,
         0
        ],
        [
         "PLAYA DEL INGL�",
         "Myke Towers, Quevedo",
         2,
         2022,
         12,
         15,
         1701,
         15,
         221409663,
         30,
         15,
         34,
         2,
         47
        ],
        [
         "Man Made A Bar (feat. Eric Church)",
         "Morgan Wallen, Eric Church",
         2,
         2023,
         3,
         3,
         329,
         0,
         58890931,
         14,
         35,
         1,
         0,
         0
        ],
        [
         "Red Ruby Da Sleeze",
         "Nicki Minaj",
         1,
         2023,
         3,
         3,
         1168,
         0,
         81419389,
         45,
         11,
         20,
         0,
         21
        ],
        [
         "Kahani Suno 2.0",
         "Kaifi Khalil",
         1,
         2022,
         5,
         31,
         162,
         6,
         156777415,
         1,
         10,
         1,
         0,
         1
        ],
        [
         "Nobody Gets Me",
         "SZA",
         1,
         2022,
         12,
         9,
         2536,
         6,
         284908316,
         59,
         100,
         58,
         13,
         2
        ],
        [
         "PERO T�",
         "Karol G, Quevedo",
         2,
         2023,
         2,
         23,
         387,
         11,
         93438910,
         11,
         15,
         14,
         3,
         1
        ],
        [
         "Hype Boy",
         "NewJeans",
         1,
         2022,
         8,
         1,
         892,
         17,
         363472647,
         20,
         119,
         12,
         2,
         7
        ],
        [
         "Bloody Mary",
         "Lady Gaga",
         1,
         2011,
         1,
         1,
         3909,
         0,
         372476382,
         66,
         26,
         277,
         3,
         734
        ],
        [
         "Monoton�",
         "Ozuna, Shakira",
         2,
         2022,
         10,
         19,
         3645,
         15,
         380726517,
         118,
         34,
         150,
         4,
         19
        ],
        [
         "���98 Braves",
         "Morgan Wallen",
         1,
         2023,
         3,
         3,
         282,
         0,
         56533272,
         6,
         15,
         0,
         0,
         0
        ],
        [
         "WANDA",
         "Quevedo",
         1,
         2023,
         1,
         20,
         888,
         22,
         175399345,
         11,
         24,
         7,
         1,
         7
        ],
        [
         "Thought You Should Know",
         "Morgan Wallen",
         1,
         2022,
         5,
         6,
         968,
         4,
         203221468,
         16,
         53,
         1,
         0,
         61
        ],
        [
         "In The End",
         "Linkin Park",
         1,
         2000,
         10,
         24,
         25065,
         6,
         1624165576,
         63,
         0,
         null,
         2,
         0
        ],
        [
         "Zona De Perigo",
         "Leo Santana",
         1,
         2022,
         12,
         8,
         531,
         4,
         134294498,
         20,
         1,
         71,
         2,
         0
        ],
        [
         "Lovezinho",
         "Treyce",
         1,
         2022,
         7,
         28,
         242,
         0,
         70069745,
         12,
         2,
         13,
         0,
         4
        ],
        [
         "I Like You (A Happier Song) (with Doja Cat)",
         "Post Malone, Doja Cat",
         2,
         2022,
         6,
         3,
         5281,
         14,
         609293408,
         94,
         21,
         80,
         15,
         38
        ],
        [
         "Neverita",
         "Bad Bunny",
         1,
         2022,
         5,
         6,
         2590,
         30,
         671365962,
         20,
         64,
         35,
         6,
         0
        ],
        [
         "Vista Al Mar",
         "Quevedo",
         1,
         2022,
         9,
         8,
         1769,
         34,
         362361576,
         16,
         19,
         21,
         3,
         4
        ],
        [
         "Sem Alian��a no ",
         "MC Xenon, Os Gemeos da Putaria",
         2,
         2022,
         12,
         23,
         454,
         4,
         93587665,
         6,
         1,
         21,
         0,
         1
        ],
        [
         "Enemy (with JID) - from the series Arcane League of Legends",
         "Imagine Dragons, League of Legends, JID, Arcane",
         4,
         2021,
         9,
         3,
         6180,
         7,
         1223481149,
         122,
         88,
         580,
         21,
         10
        ],
        [
         "Revenge",
         "XXXTENTACION",
         1,
         2017,
         8,
         25,
         3600,
         11,
         1022258230,
         7,
         0,
         203,
         0,
         2
        ],
        [
         "Bombonzinho - Ao Vivo",
         "Israel & Rodolffo, Ana Castela",
         2,
         2022,
         11,
         3,
         1254,
         6,
         263453310,
         26,
         69,
         73,
         2,
         6
        ],
        [
         "LA CANCI�",
         "J Balvin, Bad Bunny",
         2,
         2019,
         6,
         28,
         6398,
         31,
         1435127549,
         177,
         109,
         305,
         3,
         5
        ],
        [
         "Qu�� Ago",
         "Yuridia, Angela Aguilar",
         2,
         2022,
         10,
         20,
         660,
         15,
         236857112,
         19,
         59,
         18,
         5,
         52
        ],
        [
         "Love Again",
         "The Kid Laroi",
         1,
         2023,
         1,
         27,
         1283,
         0,
         147538971,
         57,
         4,
         48,
         0,
         0
        ],
        [
         "After Hours",
         "The Weeknd",
         1,
         2020,
         2,
         19,
         8084,
         6,
         698086140,
         45,
         115,
         218,
         1,
         221
        ],
        [
         "About Damn Time",
         "Lizzo",
         1,
         2022,
         7,
         15,
         2332,
         2,
         723894473,
         0,
         0,
         25,
         0,
         0
        ],
        [
         "Born With A Beer In My Hand",
         "Morgan Wallen",
         1,
         2023,
         3,
         3,
         203,
         0,
         34450974,
         5,
         9,
         0,
         0,
         0
        ],
        [
         "���������������������",
         "Fujii Kaze",
         1,
         2020,
         5,
         20,
         685,
         14,
         403097450,
         24,
         94,
         9,
         0,
         23
        ],
        [
         "Besos Moja2",
         "Wisin & Yandel, ROSAL�",
         2,
         2022,
         9,
         29,
         2460,
         13,
         309483971,
         53,
         7,
         56,
         3,
         1
        ],
        [
         "Maan Meri Jaan",
         "King",
         1,
         2022,
         10,
         12,
         288,
         6,
         319566866,
         11,
         80,
         1,
         0,
         8
        ],
        [
         "Moscow Mule",
         "Bad Bunny",
         1,
         2022,
         5,
         6,
         4572,
         33,
         909001996,
         74,
         113,
         85,
         9,
         2
        ],
        [
         "My Universe",
         "Coldplay, BTS",
         2,
         2021,
         9,
         24,
         6127,
         13,
         1061966512,
         0,
         0,
         0,
         0,
         0
        ],
        [
         "Devil Don���",
         "Morgan Wallen",
         1,
         2023,
         3,
         3,
         166,
         0,
         32526947,
         2,
         10,
         0,
         0,
         0
        ],
        [
         "LLYLM",
         "ROSAL�",
         1,
         2023,
         1,
         27,
         1838,
         0,
         124988687,
         105,
         41,
         114,
         1,
         59
        ],
        [
         "I'm Not Here To Make Friends",
         "Sam Smith, Calvin Harris, Jessie Reyez",
         3,
         2023,
         1,
         27,
         1890,
         0,
         103787664,
         86,
         1,
         49,
         0,
         9
        ],
        [
         "TRUSTFALL",
         "P!nk",
         1,
         2023,
         1,
         27,
         2098,
         16,
         134255790,
         88,
         24,
         101,
         7,
         451
        ],
        [
         "ANTIFRAGILE",
         "LE SSERAFIM",
         1,
         2022,
         10,
         17,
         761,
         12,
         301051721,
         23,
         95,
         11,
         0,
         3
        ],
        [
         "Boy's a liar",
         "PinkPantheress",
         1,
         2022,
         11,
         30,
         1225,
         0,
         156338624,
         27,
         0,
         28,
         13,
         0
        ],
        [
         "VIBE (feat. Jimin of BTS)",
         "TAEYANG, Jimin",
         2,
         2023,
         1,
         13,
         415,
         2,
         152850295,
         15,
         40,
         21,
         1,
         15
        ],
        [
         "Shirt",
         "SZA",
         1,
         2022,
         10,
         28,
         3469,
         0,
         309653982,
         71,
         95,
         31,
         0,
         2
        ],
        [
         "Lift Me Up - From Black Panther: Wakanda Forever - Music From and Inspired By",
         "Rihanna",
         1,
         2022,
         10,
         28,
         3311,
         0,
         297328960,
         129,
         31,
         212,
         1,
         41
        ],
        [
         "STAR WALKIN' (League of Legends Worlds Anthem)",
         "Lil Nas X",
         1,
         2022,
         9,
         22,
         2616,
         0,
         332506354,
         113,
         17,
         208,
         0,
         192
        ],
        [
         "Sex, Drugs, Etc.",
         "Beach Weather",
         1,
         2016,
         11,
         4,
         3006,
         16,
         480507035,
         47,
         60,
         87,
         12,
         124
        ],
        [
         "Boy With Luv (feat. Halsey)",
         "Halsey, BTS",
         2,
         2019,
         4,
         12,
         4260,
         0,
         1065580332,
         113,
         92,
         259,
         0,
         1
        ],
        [
         "Hey, Mickey!",
         "Baby Tate",
         1,
         2016,
         9,
         27,
         482,
         0,
         122763672,
         9,
         1,
         12,
         4,
         3
        ],
        [
         "Calm Down",
         "R��",
         1,
         2022,
         2,
         9,
         4013,
         10,
         445763624,
         107,
         44,
         750,
         22,
         null
        ],
        [
         "Jhoome Jo Pathaan",
         "Arijit Singh, Vishal Dadlani, Sukriti Kakar, Vishal-Shekhar, Shekhar Ravjiani, Kumaar",
         6,
         2022,
         12,
         22,
         138,
         4,
         1365184,
         13,
         78,
         2,
         0,
         0
        ],
        [
         "Escapism. - Sped Up",
         "RAYE, 070 Shake",
         2,
         2022,
         11,
         25,
         1368,
         0,
         184308753,
         12,
         1,
         11,
         0,
         8
        ],
        [
         "Space Song",
         "Beach House",
         1,
         2015,
         1,
         1,
         17852,
         4,
         789753877,
         69,
         76,
         335,
         0,
         null
        ],
        [
         "Dreamers [Music from the FIFA World Cup Qatar 2022 Official Soundtrack]",
         "BTS, Jung Kook, FIFA Sound",
         3,
         2022,
         11,
         20,
         889,
         20,
         323358833,
         11,
         78,
         35,
         0,
         21
        ],
        [
         "Te Felicito",
         "Shakira, Rauw Alejandro",
         2,
         2022,
         4,
         21,
         4796,
         9,
         606361689,
         124,
         66,
         212,
         13,
         1
        ],
        [
         "Mu��",
         "Steve Aoki, Tini, La Joaqui",
         3,
         2023,
         1,
         12,
         658,
         6,
         120972253,
         33,
         7,
         53,
         2,
         0
        ],
        [
         "TV",
         "Billie Eilish",
         1,
         2022,
         7,
         21,
         3009,
         2,
         338564981,
         68,
         89,
         65,
         0,
         25
        ],
        [
         "I'm Not The Only One",
         "Sam Smith",
         1,
         2014,
         1,
         1,
         17492,
         3,
         1606986953,
         136,
         24,
         null,
         0,
         30
        ],
        [
         "Heather",
         "Conan Gray",
         1,
         2020,
         3,
         20,
         6170,
         7,
         1301799902,
         82,
         1,
         231,
         0,
         2
        ],
        [
         "Besharam Rang (From \"Pathaan\")",
         "Vishal-Shekhar, Shilpa Rao, Caralisa Monteiro, Kumaar, Vishal Dadlani, Shekhar Ravjiani",
         6,
         2022,
         12,
         12,
         130,
         4,
         140187018,
         21,
         79,
         2,
         0,
         0
        ],
        [
         "One Kiss (with Dua Lipa)",
         "Calvin Harris, Dua Lipa",
         2,
         2017,
         6,
         2,
         27705,
         10,
         1897517891,
         537,
         122,
         null,
         6,
         null
        ],
        [
         "Sugar Rush Ride",
         "TOMORROW X TOGETHER",
         1,
         2023,
         1,
         27,
         359,
         0,
         107642809,
         12,
         56,
         13,
         0,
         13
        ],
        [
         "Pink Venom",
         "BLACKPINK",
         1,
         2022,
         8,
         19,
         1963,
         16,
         551305895,
         57,
         119,
         77,
         1,
         13
        ],
        [
         "WAIT FOR U (feat. Drake & Tems)",
         "Drake, Future, Tems",
         3,
         2022,
         4,
         27,
         5491,
         14,
         556585270,
         128,
         84,
         75,
         0,
         35
        ],
        [
         "Don't Start Now",
         "Dua Lipa",
         1,
         2019,
         10,
         31,
         27119,
         0,
         null,
         532,
         77,
         null,
         3,
         8
        ],
        [
         "After Dark",
         "Mr.Kitty",
         1,
         2014,
         8,
         8,
         1776,
         14,
         646886885,
         1,
         9,
         3,
         0,
         0
        ],
        [
         "Eu Gosto Assim - Ao Vivo",
         "Gustavo Mioto, Mari Fernandez",
         2,
         2022,
         9,
         16,
         1473,
         4,
         222612678,
         27,
         64,
         66,
         1,
         4
        ],
        [
         "INDUSTRY BABY (feat. Jack Harlow)",
         "Jack Harlow, Lil Nas X",
         2,
         2021,
         7,
         23,
         13315,
         0,
         1814349763,
         300,
         47,
         690,
         0,
         null
        ],
        [
         "MIDDLE OF THE NIGHT",
         "Elley Duh�",
         1,
         2020,
         1,
         10,
         4057,
         8,
         872137015,
         78,
         21,
         240,
         1,
         52
        ],
        [
         "Atlantis",
         "Seafret",
         1,
         2015,
         4,
         22,
         3045,
         6,
         571386359,
         43,
         53,
         134,
         1,
         32
        ],
        [
         "PUNTO 40",
         "Baby Rasta, Rauw Alejandro",
         2,
         2022,
         9,
         22,
         3006,
         12,
         304079786,
         54,
         32,
         66,
         2,
         0
        ],
        [
         "Evoque Prata",
         "DJ Escobar, MC MENOR SG, MC MENOR HR",
         3,
         2022,
         9,
         9,
         852,
         0,
         174006928,
         14,
         1,
         50,
         0,
         0
        ],
        [
         "How Do I Say Goodbye",
         "Dean Lewis",
         1,
         2022,
         8,
         5,
         2163,
         15,
         284785823,
         72,
         97,
         58,
         0,
         154
        ],
        [
         "Blind",
         "SZA",
         1,
         2022,
         12,
         9,
         1484,
         0,
         163284000,
         22,
         51,
         12,
         0,
         0
        ],
        [
         "Die For You",
         "Joji",
         1,
         2022,
         11,
         4,
         1703,
         0,
         246390068,
         38,
         45,
         36,
         16,
         0
        ],
        [
         "Doja",
         "Central Cee",
         1,
         2022,
         7,
         20,
         4169,
         44,
         482257456,
         57,
         44,
         183,
         1,
         11
        ],
        [
         "Gatita",
         "Bellakath",
         1,
         2022,
         10,
         3,
         1054,
         0,
         168684524,
         9,
         0,
         15,
         0,
         1
        ],
        [
         "Rumble",
         "Skrillex, Flowdan, Fred again..",
         3,
         2022,
         1,
         17,
         2849,
         0,
         78489819,
         39,
         45,
         27,
         0,
         1
        ],
        [
         "Niagara Falls (Foot or 2) [with Travis Scott & 21 Savage]",
         "Travis Scott, 21 Savage, Metro Boomin",
         3,
         2022,
         12,
         2,
         1602,
         0,
         195516622,
         12,
         22,
         12,
         0,
         2
        ],
        [
         "Yonaguni",
         "Bad Bunny",
         1,
         2021,
         6,
         4,
         9644,
         28,
         1260594497,
         120,
         86,
         164,
         4,
         0
        ],
        [
         "Super Freaky Girl",
         "Nicki Minaj",
         1,
         2022,
         8,
         12,
         4827,
         0,
         428685680,
         104,
         17,
         76,
         9,
         2
        ],
        [
         "Running Up That Hill (A Deal With God)",
         "Kate Bush",
         1,
         1985,
         9,
         16,
         21811,
         0,
         1024858327,
         117,
         1,
         676,
         3,
         0
        ],
        [
         "Dream On",
         "Aerosmith",
         1,
         1973,
         1,
         5,
         168,
         0,
         838586769,
         0,
         0,
         5,
         0,
         0
        ],
        [
         "Limbo",
         "Freddie Dredd",
         1,
         2022,
         8,
         11,
         688,
         0,
         199386237,
         14,
         1,
         17,
         0,
         2
        ],
        [
         "Where Are You Now",
         "Lost Frequencies, Calum Scott",
         2,
         2021,
         7,
         30,
         10565,
         44,
         972509632,
         238,
         122,
         557,
         17,
         58
        ],
        [
         "WORTH NOTHING",
         "Twisted, Oliver Tree",
         2,
         2022,
         9,
         28,
         1612,
         0,
         213438580,
         34,
         54,
         34,
         0,
         2
        ],
        [
         "Bad Habits",
         "Ed Sheeran",
         1,
         2020,
         9,
         3,
         12755,
         8,
         1555511105,
         344,
         97,
         945,
         15,
         null
        ],
        [
         "KICK BACK",
         "Kenshi Yonezu",
         1,
         2022,
         10,
         12,
         574,
         4,
         210038833,
         38,
         101,
         26,
         0,
         0
        ],
        [
         "Evergreen (You Didn���t Deserve Me A",
         "Omar Apollo",
         1,
         2022,
         4,
         8,
         2499,
         0,
         227918678,
         70,
         0,
         49,
         0,
         0
        ],
        [
         "Good Days",
         "SZA",
         1,
         2020,
         12,
         24,
         10426,
         2,
         826623384,
         133,
         109,
         182,
         1,
         10
        ],
        [
         "Levitating (feat. DaBaby)",
         "Dua Lipa, DaBaby",
         2,
         2020,
         3,
         27,
         15894,
         8,
         1802514301,
         198,
         13,
         544,
         0,
         60
        ],
        [
         "Woman",
         "Doja Cat",
         1,
         2021,
         6,
         25,
         9424,
         0,
         1329090101,
         202,
         50,
         463,
         4,
         null
        ],
        [
         "Shut up My Moms Calling - (Sped Up)",
         "Hotel Ugly",
         1,
         2022,
         9,
         14,
         713,
         7,
         181831132,
         2,
         4,
         6,
         0,
         0
        ],
        [
         "Ferrari",
         "James Hype, Miggy Dela Rosa",
         2,
         2022,
         3,
         14,
         7758,
         28,
         462791599,
         173,
         79,
         175,
         0,
         168
        ],
        [
         "You're On Your Own, Kid",
         "Taylor Swift",
         1,
         2022,
         10,
         21,
         2537,
         2,
         348647203,
         8,
         18,
         20,
         0,
         1
        ],
        [
         "Kesariya (From \"Brahmastra\")",
         "Pritam, Arijit Singh, Amitabh Bhattacharya",
         3,
         2022,
         7,
         17,
         292,
         6,
         366599607,
         26,
         98,
         4,
         0,
         0
        ],
        [
         "Agudo M��gi",
         "Styrx, utku INC, Thezth",
         3,
         1930,
         1,
         1,
         323,
         0,
         90598517,
         4,
         0,
         14,
         0,
         0
        ],
        [
         "Payphone",
         "Maroon 5, Wiz Khalifa",
         2,
         2012,
         1,
         1,
         14143,
         4,
         1479264469,
         56,
         38,
         null,
         1,
         null
        ],
        [
         "All I Want for Christmas Is You",
         "Mariah Carey",
         1,
         1994,
         10,
         28,
         25653,
         0,
         1449779435,
         387,
         132,
         null,
         0,
         null
        ],
        [
         "Last Christmas",
         "Wham!",
         1,
         1984,
         1,
         1,
         22153,
         0,
         1159176109,
         274,
         111,
         null,
         0,
         null
        ],
        [
         "Rockin' Around The Christmas Tree",
         "Brenda Lee",
         1,
         1958,
         1,
         1,
         14994,
         0,
         769213520,
         191,
         168,
         206,
         0,
         null
        ],
        [
         "Jingle Bell Rock",
         "Bobby Helms",
         1,
         1957,
         1,
         1,
         10326,
         0,
         741301563,
         165,
         99,
         104,
         0,
         null
        ],
        [
         "It's Beginning To Look A Lot Like Christmas",
         "Michael Bubl�",
         1,
         2011,
         10,
         14,
         12353,
         0,
         807561936,
         35,
         0,
         549,
         0,
         0
        ],
        [
         "Santa Tell Me",
         "Ariana Grande",
         1,
         2013,
         12,
         13,
         9408,
         0,
         834129063,
         231,
         106,
         439,
         0,
         null
        ],
        [
         "It's the Most Wonderful Time of the Year",
         "Andy Williams",
         1,
         1963,
         10,
         14,
         8879,
         0,
         663832097,
         182,
         107,
         160,
         0,
         1
        ],
        [
         "Let It Snow! Let It Snow! Let It Snow!",
         "Dean Martin",
         1,
         1959,
         11,
         16,
         6512,
         0,
         446390129,
         88,
         1,
         277,
         0,
         0
        ],
        [
         "Snowman",
         "Sia",
         1,
         2017,
         1,
         1,
         5140,
         0,
         690104769,
         85,
         110,
         500,
         0,
         null
        ],
        [
         "Underneath the Tree",
         "Kelly Clarkson",
         1,
         2013,
         10,
         25,
         6596,
         0,
         485285717,
         144,
         99,
         251,
         0,
         0
        ],
        [
         "Feliz Navidad",
         "Jos�� Felic",
         1,
         1970,
         11,
         1,
         3788,
         0,
         520034544,
         21,
         3,
         10,
         0,
         0
        ],
        [
         "Holly Jolly Christmas",
         "Michael Bubl�",
         1,
         2011,
         10,
         14,
         7655,
         0,
         476244795,
         5,
         0,
         291,
         0,
         0
        ],
        [
         "Mistletoe",
         "Justin Bieber",
         1,
         2011,
         1,
         1,
         9577,
         0,
         629173063,
         195,
         111,
         310,
         0,
         0
        ],
        [
         "Sleigh Ride",
         "The Ronettes",
         1,
         1963,
         11,
         22,
         10114,
         0,
         404664135,
         114,
         74,
         262,
         0,
         0
        ],
        [
         "Seek & Destroy",
         "SZA",
         1,
         2022,
         12,
         9,
         1007,
         0,
         98709329,
         5,
         31,
         1,
         0,
         0
        ],
        [
         "Love Language",
         "SZA",
         1,
         2022,
         12,
         9,
         1127,
         0,
         110849052,
         16,
         63,
         8,
         0,
         0
        ],
        [
         "Happy Xmas (War Is Over)",
         "John Lennon, The Harlem Community Choir, The Plastic Ono Band, Yoko Ono",
         4,
         1971,
         12,
         1,
         10829,
         0,
         460492795,
         130,
         1,
         390,
         0,
         0
        ],
        [
         "Used (feat. Don Toliver)",
         "SZA, Don Toliver",
         2,
         2022,
         12,
         8,
         1042,
         0,
         94005786,
         7,
         29,
         3,
         0,
         0
        ],
        [
         "A Holly Jolly Christmas - Single Version",
         "Burl Ives",
         1,
         1952,
         1,
         1,
         7930,
         0,
         395591396,
         108,
         120,
         73,
         0,
         0
        ],
        [
         "The Christmas Song (Merry Christmas To You) - Remastered 1999",
         "Nat King Cole",
         1,
         1946,
         11,
         1,
         11500,
         0,
         389771964,
         140,
         72,
         251,
         0,
         0
        ],
        [
         "Wonderful Christmastime - Edited Version / Remastered 2011",
         "Paul McCartney",
         1,
         1979,
         11,
         16,
         1685,
         0,
         403939487,
         1,
         0,
         29,
         0,
         0
        ],
        [
         "Do They Know It's Christmas? - 1984 Version",
         "Band Aid",
         1,
         1984,
         11,
         25,
         14169,
         0,
         481697415,
         209,
         30,
         449,
         0,
         0
        ],
        [
         "Ghost in the Machine (feat. Phoebe Bridgers)",
         "SZA, Phoebe Bridgers",
         2,
         2022,
         12,
         9,
         1634,
         0,
         110073250,
         16,
         20,
         4,
         0,
         0
        ],
        [
         "Special",
         "SZA",
         1,
         2022,
         12,
         9,
         906,
         0,
         88092256,
         6,
         21,
         3,
         0,
         0
        ],
        [
         "Merry Christmas Everyone",
         "Shakin' Stevens",
         1,
         1984,
         1,
         1,
         1087,
         0,
         351636786,
         90,
         35,
         5,
         0,
         0
        ],
        [
         "Let It Snow! Let It Snow! Let It Snow!",
         "Frank Sinatra, B. Swanson Quartet",
         2,
         1950,
         1,
         1,
         10585,
         0,
         473248298,
         126,
         108,
         406,
         0,
         0
        ],
        [
         "SOS",
         "SZA",
         1,
         2022,
         12,
         9,
         827,
         0,
         73981293,
         6,
         18,
         1,
         0,
         0
        ],
        [
         "Open Arms (feat. Travis Scott)",
         "SZA, Travis Scott",
         2,
         2022,
         12,
         8,
         1420,
         4,
         155653938,
         13,
         87,
         17,
         0,
         46
        ],
        [
         "White Christmas",
         "Bing Crosby, John Scott Trotter & His Orchestra, Ken Darby Singers",
         3,
         1942,
         1,
         1,
         11940,
         0,
         395591396,
         73,
         79,
         123,
         0,
         0
        ],
        [
         "Driving Home for Christmas - 2019 Remaster",
         "Chris Rea",
         1,
         1986,
         1,
         1,
         888,
         0,
         429504768,
         50,
         0,
         6,
         0,
         0
        ],
        [
         "Christmas (Baby Please Come Home)",
         "Darlene Love",
         1,
         1963,
         11,
         22,
         9122,
         0,
         242767149,
         121,
         58,
         212,
         0,
         0
        ],
        [
         "Gone Girl",
         "SZA",
         1,
         2022,
         12,
         9,
         892,
         0,
         65362788,
         3,
         17,
         2,
         0,
         0
        ],
        [
         "F2F",
         "SZA",
         1,
         2022,
         12,
         9,
         989,
         0,
         67540165,
         5,
         9,
         1,
         0,
         0
        ],
        [
         "Notice Me",
         "SZA",
         1,
         2022,
         12,
         9,
         819,
         0,
         62019074,
         14,
         22,
         0,
         0,
         0
        ],
        [
         "Merry Christmas",
         "Ed Sheeran, Elton John",
         2,
         2017,
         11,
         10,
         2209,
         0,
         135723538,
         72,
         90,
         141,
         0,
         0
        ],
        [
         "It's Beginning to Look a Lot Like Christmas (with Mitchell Ayres & His Orchestra)",
         "Perry Como, The Fontane Sisters, Mitchell Ayres & His Orchestra",
         3,
         1958,
         1,
         1,
         6290,
         0,
         295998468,
         89,
         39,
         158,
         0,
         0
        ],
        [
         "My Only Wish (This Year)",
         "Britney Spears",
         1,
         2000,
         11,
         7,
         6952,
         0,
         261116938,
         115,
         53,
         286,
         0,
         0
        ],
        [
         "Antidepresan",
         "Mabel Matiz, Mert Demir",
         2,
         2022,
         11,
         4,
         313,
         2,
         136689549,
         10,
         6,
         7,
         1,
         9
        ],
        [
         "Wild Flower (with youjeen)",
         "RM",
         1,
         2022,
         12,
         2,
         353,
         2,
         135611421,
         2,
         74,
         14,
         0,
         2
        ],
        [
         "I Hate U",
         "SZA",
         1,
         2021,
         12,
         3,
         4094,
         0,
         356709897,
         66,
         96,
         43,
         0,
         0
        ],
        [
         "Raindrops (Insane) [with Travis Scott]",
         "Travis Scott, Metro Boomin",
         2,
         2022,
         12,
         2,
         880,
         0,
         110649992,
         3,
         7,
         10,
         0,
         0
        ],
        [
         "SPIT IN MY FACE!",
         "ThxSoMch",
         1,
         2022,
         10,
         31,
         573,
         0,
         301869854,
         1,
         0,
         18,
         0,
         24
        ],
        [
         "Deck The Hall - Remastered 1999",
         "Nat King Cole",
         1,
         1959,
         1,
         1,
         3299,
         0,
         127027715,
         65,
         39,
         41,
         0,
         0
        ],
        [
         "Smoking on my Ex Pack",
         "SZA",
         1,
         2022,
         12,
         9,
         811,
         0,
         57144458,
         6,
         11,
         3,
         0,
         0
        ],
        [
         "Conceited",
         "SZA",
         1,
         2022,
         12,
         9,
         899,
         0,
         56870689,
         2,
         14,
         2,
         0,
         0
        ],
        [
         "Snow On The Beach (feat. Lana Del Rey)",
         "Taylor Swift, Lana Del Rey",
         2,
         2022,
         10,
         21,
         2415,
         0,
         323437194,
         33,
         57,
         30,
         0,
         11
        ],
        [
         "Maroon",
         "Taylor Swift",
         1,
         2022,
         10,
         21,
         2304,
         0,
         317726339,
         12,
         16,
         14,
         0,
         0
        ],
        [
         "Tubar��o Te",
         "Dj LK da Esc��cia, Tchakabum, mc jhenny, M",
         4,
         2022,
         9,
         28,
         1003,
         0,
         116144341,
         21,
         0,
         44,
         0,
         0
        ],
        [
         "Bejeweled",
         "Taylor Swift",
         1,
         2022,
         10,
         21,
         2699,
         0,
         328207708,
         39,
         35,
         22,
         2,
         0
        ],
        [
         "Tarot",
         "Bad Bunny, Jhay Cortez",
         2,
         2022,
         5,
         6,
         2482,
         20,
         608228647,
         27,
         77,
         22,
         2,
         0
        ],
        [
         "You Make It Feel Like Christmas (feat. Blake Shelton)",
         "Gwen Stefani, Blake Shelton",
         2,
         2005,
         9,
         20,
         2577,
         0,
         180577478,
         108,
         56,
         30,
         0,
         0
        ],
        [
         "Desesperados",
         "Chencho Corleone, Rauw Alejandro",
         2,
         2021,
         6,
         25,
         6821,
         34,
         809306935,
         83,
         58,
         128,
         7,
         0
        ],
        [
         "Too Late",
         "SZA",
         1,
         2022,
         12,
         8,
         714,
         0,
         49262961,
         0,
         9,
         2,
         0,
         0
        ],
        [
         "Party",
         "Bad Bunny, Rauw Alejandro",
         2,
         2022,
         5,
         6,
         3185,
         4,
         614555082,
         38,
         64,
         37,
         3,
         36
        ],
        [
         "Run Rudolph Run - Single Version",
         "Chuck Berry",
         1,
         1958,
         1,
         1,
         8612,
         0,
         245350949,
         120,
         30,
         52,
         0,
         1
        ],
        [
         "Jingle Bells - Remastered 1999",
         "Frank Sinatra",
         1,
         1957,
         1,
         1,
         4326,
         0,
         178660459,
         32,
         3,
         65,
         0,
         0
        ],
        [
         "Far",
         "SZA",
         1,
         2022,
         12,
         9,
         680,
         0,
         51641685,
         2,
         15,
         1,
         0,
         0
        ],
        [
         "On Time (with John Legend)",
         "John Legend, Metro Boomin",
         2,
         2022,
         12,
         2,
         398,
         0,
         78139948,
         2,
         2,
         6,
         0,
         2
        ],
        [
         "GAT��",
         "Maldy, Karol G",
         2,
         2022,
         8,
         25,
         3328,
         13,
         322336177,
         39,
         50,
         57,
         3,
         1
        ],
        [
         "���abcdefu",
         "Gayle",
         1,
         2021,
         8,
         13,
         7215,
         0,
         1007612429,
         170,
         12,
         575,
         18,
         null
        ],
        [
         "Sacrifice",
         "The Weeknd",
         1,
         2022,
         1,
         7,
         4440,
         0,
         326792833,
         81,
         77,
         133,
         0,
         null
        ],
        [
         "Is There Someone Else?",
         "The Weeknd",
         1,
         2022,
         1,
         7,
         2881,
         6,
         391251368,
         13,
         89,
         34,
         0,
         3
        ],
        [
         "Fingers Crossed",
         "Lauren Spencer Smith, Lauren Spencer Smith, Lauren Spencer Smith",
         3,
         2022,
         1,
         5,
         2235,
         0,
         349585590,
         65,
         7,
         70,
         16,
         6
        ],
        [
         "Out of Time",
         "The Weeknd",
         1,
         2022,
         1,
         7,
         3711,
         0,
         339659802,
         49,
         88,
         62,
         0,
         null
        ],
        [
         "Do It To It",
         "Cherish, ACRAZE",
         2,
         2021,
         8,
         20,
         12403,
         0,
         674772936,
         183,
         63,
         465,
         0,
         11
        ],
        [
         "We Don't Talk About Bruno",
         "Adassa, Mauro Castillo, Stephanie Beatriz, Encanto - Cast, Rhenzy Feliz, Diane Guerrero, Carolina Gaitan",
         7,
         2021,
         11,
         19,
         2785,
         0,
         432719968,
         95,
         89,
         44,
         0,
         null
        ],
        [
         "Pepas",
         "Farruko",
         1,
         2021,
         6,
         24,
         14114,
         17,
         1309887447,
         252,
         109,
         965,
         20,
         null
        ],
        [
         "How Do I Make You Love Me?",
         "The Weeknd",
         1,
         2022,
         1,
         7,
         1915,
         0,
         119238316,
         7,
         47,
         15,
         0,
         0
        ],
        [
         "Gasoline",
         "The Weeknd",
         1,
         2022,
         1,
         7,
         2297,
         0,
         116903579,
         11,
         29,
         14,
         0,
         0
        ],
        [
         "Infinity",
         "Jaymes Young",
         1,
         2017,
         6,
         23,
         4375,
         0,
         888046992,
         24,
         0,
         396,
         0,
         0
        ],
        [
         "Less Than Zero",
         "The Weeknd",
         1,
         2022,
         1,
         7,
         2800,
         0,
         200660871,
         18,
         77,
         61,
         0,
         1
        ],
        [
         "Take My Breath",
         "The Weeknd",
         1,
         2021,
         8,
         6,
         2597,
         0,
         130655803,
         17,
         80,
         38,
         0,
         0
        ],
        [
         "good 4 u",
         "Olivia Rodrigo",
         1,
         2021,
         5,
         14,
         15563,
         6,
         1887039593,
         259,
         55,
         461,
         1,
         null
        ],
        [
         "Here We Go��� Again (feat. Tyler, the Cr",
         "The Weeknd, Tyler, The Creator",
         3,
         2022,
         1,
         7,
         1420,
         0,
         88103848,
         7,
         18,
         7,
         0,
         0
        ],
        [
         "Best Friends",
         "The Weeknd",
         1,
         2022,
         1,
         7,
         1292,
         0,
         101114984,
         3,
         18,
         14,
         0,
         0
        ],
        [
         "Kiss Me More (feat. SZA)",
         "SZA, Doja Cat",
         2,
         2021,
         4,
         9,
         15867,
         0,
         1575467011,
         382,
         65,
         497,
         0,
         12
        ],
        [
         "I Heard You're Married (feat. Lil Wayne)",
         "The Weeknd, Lil Wayne",
         2,
         2022,
         1,
         7,
         1178,
         0,
         91656026,
         9,
         10,
         9,
         0,
         0
        ],
        [
         "Need To Know",
         "Doja Cat",
         1,
         2021,
         6,
         11,
         6672,
         0,
         1042568408,
         125,
         36,
         150,
         0,
         null
        ],
        [
         "MONTERO (Call Me By Your Name)",
         "Lil Nas X",
         1,
         2020,
         9,
         18,
         12329,
         0,
         1735441776,
         275,
         19,
         738,
         0,
         null
        ],
        [
         "love nwantiti (ah ah ah)",
         "Ckay",
         1,
         2019,
         7,
         26,
         5669,
         2,
         726837877,
         74,
         0,
         262,
         14,
         null
        ],
        [
         "Dawn FM",
         "The Weeknd",
         1,
         2022,
         1,
         7,
         811,
         0,
         53933526,
         1,
         8,
         6,
         0,
         0
        ],
        [
         "Surface Pressure",
         "Jessica Darrow",
         1,
         2021,
         11,
         19,
         1756,
         0,
         267758538,
         38,
         48,
         20,
         0,
         0
        ],
        [
         "Starry Eyes",
         "The Weeknd",
         1,
         2022,
         1,
         7,
         1014,
         0,
         74601456,
         1,
         17,
         11,
         0,
         0
        ],
        [
         "THATS WHAT I WANT",
         "Lil Nas X",
         1,
         2021,
         9,
         17,
         7963,
         0,
         920797189,
         173,
         7,
         298,
         0,
         4
        ],
        [
         "One Right Now (with The Weeknd)",
         "The Weeknd, Post Malone",
         2,
         2021,
         11,
         5,
         4771,
         0,
         539595276,
         68,
         18,
         75,
         0,
         1
        ],
        [
         "Beggin",
         "M��ne",
         1,
         2017,
         12,
         8,
         8559,
         0,
         1367810478,
         183,
         64,
         964,
         9,
         75
        ],
        [
         "Mon Amour - Remix",
         "Aitana, zzoilo",
         2,
         2020,
         9,
         21,
         3221,
         2,
         578207856,
         67,
         13,
         139,
         0,
         40
        ],
        [
         "Lo Siento BB:/ (with Bad Bunny & Julieta Venegas)",
         "Julieta Venegas, Bad Bunny, Tainy",
         3,
         2021,
         10,
         5,
         3423,
         26,
         775542072,
         61,
         65,
         53,
         6,
         0
        ],
        [
         "MONEY",
         "Lisa",
         1,
         2021,
         9,
         10,
         2566,
         13,
         863625566,
         44,
         109,
         131,
         0,
         null
        ],
        [
         "The Motto",
         "Ti��sto, Ava",
         2,
         2021,
         11,
         4,
         9151,
         6,
         656013912,
         240,
         107,
         268,
         0,
         5
        ],
        [
         "Happier Than Ever",
         "Billie Eilish",
         1,
         2021,
         7,
         30,
         8476,
         0,
         1056760045,
         138,
         133,
         283,
         0,
         null
        ],
        [
         "Moth To A Flame (with The Weeknd)",
         "The Weeknd, Swedish House Mafia",
         2,
         2021,
         10,
         22,
         7495,
         17,
         611994237,
         114,
         172,
         284,
         2,
         null
        ],
        [
         "traitor",
         "Juan Cruz Toledo, Huilen Toledo",
         2,
         2021,
         5,
         21,
         5257,
         6,
         1230855859,
         85,
         43,
         134,
         0,
         null
        ],
        [
         "Toxic",
         "BoyWithUke",
         1,
         2021,
         9,
         10,
         1795,
         0,
         582981380,
         34,
         23,
         118,
         0,
         null
        ],
        [
         "drivers license",
         "Olivia Rodrigo",
         1,
         2021,
         1,
         8,
         12685,
         3,
         1858144199,
         185,
         61,
         485,
         0,
         null
        ],
        [
         "Malvad��",
         "Xam��, Gustah, Neo B",
         3,
         2021,
         11,
         30,
         648,
         1,
         240684449,
         14,
         3,
         81,
         0,
         0
        ],
        [
         "All Too Well (10 Minute Version) (Taylor's Version) (From The Vault)",
         "Taylor Swift",
         1,
         2021,
         11,
         12,
         4635,
         5,
         583687007,
         50,
         49,
         30,
         1,
         2
        ],
        [
         "Don���t Break My",
         "The Weeknd",
         1,
         2022,
         1,
         7,
         1184,
         0,
         63803529,
         1,
         5,
         6,
         0,
         0
        ],
        [
         "Oh My God",
         "Adele",
         1,
         2021,
         11,
         19,
         4431,
         0,
         466214729,
         105,
         7,
         199,
         0,
         0
        ],
        [
         "Entre Nosotros (Remix) [con Nicki Nicole]",
         "Lit Killah, Maria Becerra, Tiago pzk, NICKI NICOLE",
         4,
         2022,
         1,
         5,
         759,
         3,
         236940480,
         32,
         0,
         12,
         0,
         0
        ],
        [
         "A Tale By Quincy",
         "The Weeknd",
         1,
         2022,
         1,
         7,
         733,
         0,
         41924466,
         0,
         2,
         2,
         0,
         0
        ],
        [
         "I AM WOMAN",
         "Emmy Meli",
         1,
         2021,
         11,
         18,
         2795,
         0,
         225259194,
         45,
         0,
         107,
         0,
         0
        ],
        [
         "Medallo",
         "Justin Quiles, Lenny Tav��rez, BL",
         3,
         2021,
         10,
         27,
         2780,
         2,
         393230256,
         54,
         21,
         57,
         1,
         0
        ],
        [
         "It'll Be Okay",
         "Shawn Mendes",
         1,
         2021,
         12,
         1,
         1950,
         0,
         287201015,
         56,
         8,
         104,
         0,
         10
        ],
        [
         "Softcore",
         "The Neighbourhood",
         1,
         2018,
         3,
         9,
         3947,
         12,
         599770206,
         33,
         102,
         93,
         0,
         30
        ],
        [
         "Super Gremlin",
         "Kodak Black",
         1,
         2021,
         10,
         30,
         2551,
         0,
         342779426,
         52,
         15,
         35,
         0,
         1
        ],
        [
         "Volv�",
         "Aventura, Bad Bunny",
         2,
         2021,
         8,
         3,
         5375,
         10,
         673801126,
         138,
         24,
         133,
         0,
         1
        ],
        [
         "Todo De Ti",
         "Rauw Alejandro",
         1,
         2020,
         11,
         2,
         11975,
         8,
         1168642797,
         188,
         75,
         268,
         6,
         16
        ],
        [
         "Love Nwantiti - Remix",
         "Ckay, AX'EL, Dj Yo!",
         3,
         2019,
         8,
         30,
         2696,
         0,
         540539717,
         42,
         2,
         57,
         0,
         null
        ],
        [
         "Smokin Out The Window",
         "Bruno Mars, Anderson .Paak, Silk Sonic",
         3,
         2021,
         11,
         5,
         4963,
         0,
         383550148,
         63,
         40,
         76,
         0,
         0
        ],
        [
         "Meet Me At Our Spot",
         "THE ANXIETY, Willow, Tyler Cole",
         3,
         2020,
         3,
         13,
         6734,
         0,
         530511203,
         47,
         14,
         90,
         0,
         1
        ],
        [
         "Every Angel is Terrifying",
         "The Weeknd",
         1,
         2022,
         1,
         7,
         715,
         0,
         37307967,
         0,
         1,
         2,
         0,
         0
        ],
        [
         "Tacones Rojos",
         "Sebastian Yatra",
         1,
         2021,
         10,
         22,
         3047,
         9,
         510876816,
         77,
         31,
         85,
         5,
         28
        ],
        [
         "Peaches (feat. Daniel Caesar & Giveon)",
         "Justin Bieber, Daniel Caesar, Giveon",
         3,
         2021,
         3,
         19,
         14140,
         0,
         1445941661,
         231,
         52,
         612,
         6,
         null
        ],
        [
         "Dakiti",
         "Bad Bunny, Jhay Cortez",
         2,
         2020,
         10,
         30,
         11215,
         21,
         1763363713,
         189,
         166,
         525,
         9,
         25
        ],
        [
         "Tiago PZK: Bzrp Music Sessions, Vol. 48",
         "Bizarrap, Tiago pzk",
         2,
         2021,
         12,
         29,
         1678,
         12,
         374191487,
         20,
         4,
         15,
         1,
         3
        ],
        [
         "L���",
         "Stromae",
         1,
         2022,
         1,
         9,
         2035,
         0,
         108809090,
         41,
         122,
         394,
         0,
         2
        ],
        [
         "Nost��l",
         "Chris Brown, Rvssian, Rauw Alejandro",
         3,
         2021,
         9,
         8,
         2780,
         2,
         436695353,
         86,
         76,
         59,
         0,
         16
        ],
        [
         "Better Days (NEIKED x Mae Muller x Polo G)",
         "NEIKED, Mae Muller, Polo G",
         3,
         2021,
         9,
         24,
         4091,
         0,
         421040617,
         105,
         2,
         73,
         13,
         1
        ],
        [
         "Life Goes On",
         "Oliver Tree",
         1,
         2020,
         7,
         17,
         2868,
         0,
         501541661,
         43,
         15,
         116,
         0,
         null
        ],
        [
         "Sad Girlz Luv Money Remix (feat. Kali Uchis)",
         "Kali Uchis, Amaarae, Moliy",
         3,
         2021,
         9,
         16,
         3643,
         0,
         354065229,
         69,
         3,
         70,
         0,
         3
        ],
        [
         "Butter",
         "BTS",
         1,
         2021,
         5,
         21,
         4779,
         6,
         1143647827,
         180,
         135,
         223,
         0,
         5
        ],
        [
         "pushin P (feat. Young Thug)",
         "Young Thug, Future, Gunna",
         3,
         2022,
         1,
         7,
         3517,
         0,
         311395144,
         54,
         28,
         43,
         0,
         0
        ],
        [
         "You Right",
         "Doja Cat, The Weeknd",
         2,
         2021,
         6,
         24,
         5073,
         0,
         672656250,
         83,
         9,
         100,
         0,
         4
        ],
        [
         "deja vu",
         "Olivia Rodrigo",
         1,
         2021,
         4,
         1,
         7545,
         4,
         1256880657,
         117,
         39,
         141,
         0,
         46
        ],
        [
         "Dynamite",
         "BTS",
         1,
         2020,
         8,
         21,
         8528,
         5,
         1692897992,
         239,
         163,
         583,
         0,
         null
        ],
        [
         "TO THE MOON",
         "Jnr Choi",
         1,
         2021,
         11,
         5,
         2979,
         0,
         245095641,
         44,
         0,
         159,
         0,
         0
        ],
        [
         "Lost in the Fire",
         "The Weeknd, Gesaffelstein",
         2,
         2019,
         1,
         11,
         7731,
         2,
         686734357,
         110,
         145,
         447,
         0,
         46
        ],
        [
         "Salimo de Noche",
         "Trueno, Tiago pzk",
         2,
         2021,
         10,
         21,
         1057,
         0,
         261414174,
         17,
         5,
         21,
         0,
         0
        ],
        [
         "Volando - Remix",
         "Sech, Bad Bunny, Mora",
         3,
         2021,
         7,
         8,
         3272,
         19,
         610045621,
         101,
         34,
         70,
         1,
         2
        ],
        [
         "Leave The Door Open",
         "Bruno Mars, Anderson .Paak, Silk Sonic",
         3,
         2021,
         3,
         5,
         14417,
         0,
         1115880852,
         237,
         123,
         569,
         0,
         10
        ],
        [
         "Knife Talk (with 21 Savage ft. Project Pat)",
         "Drake, Project Pat, 21 Savage",
         3,
         2021,
         9,
         3,
         5199,
         0,
         594482982,
         45,
         43,
         45,
         0,
         3
        ],
        [
         "Don't Be Shy",
         "Ti��sto, Kar",
         2,
         2021,
         8,
         1,
         6026,
         0,
         566954746,
         171,
         51,
         187,
         1,
         21
        ],
        [
         "Love Grows (Where My Rosemary Goes)",
         "Edison Lighthouse",
         1,
         1970,
         1,
         1,
         2877,
         0,
         null,
         16,
         0,
         54,
         0,
         0
        ],
        [
         "LA FAMA (with The Weeknd)",
         "The Weeknd, ROSAL�",
         2,
         2021,
         11,
         11,
         4640,
         3,
         374706940,
         81,
         93,
         507,
         6,
         4
        ],
        [
         "The Family Madrigal",
         "Olga Merediz, Stephanie Beatriz, Encanto - Cast",
         3,
         2021,
         11,
         19,
         1150,
         0,
         184937148,
         20,
         38,
         12,
         0,
         0
        ],
        [
         "Phantom Regret by Jim",
         "The Weeknd",
         1,
         2022,
         1,
         7,
         768,
         0,
         31959571,
         1,
         1,
         3,
         0,
         0
        ],
        [
         "Dos Oruguitas",
         "Sebastian Yatra",
         1,
         2021,
         11,
         19,
         925,
         0,
         167076418,
         24,
         47,
         74,
         0,
         0
        ],
        [
         "Freaks",
         "Surf Curse",
         1,
         2015,
         5,
         10,
         3006,
         3,
         824420218,
         23,
         21,
         121,
         0,
         13
        ],
        [
         "Acapulco",
         "Jason Derulo",
         1,
         2021,
         9,
         1,
         3098,
         0,
         363467642,
         111,
         5,
         182,
         1,
         0
        ],
        [
         "Daddy Issues",
         "The Neighbourhood",
         1,
         2015,
         10,
         30,
         9771,
         4,
         1127468248,
         42,
         70,
         384,
         0,
         3
        ],
        [
         "thought i was playing",
         "21 Savage, Gunna",
         2,
         2022,
         1,
         7,
         807,
         0,
         60680939,
         3,
         0,
         5,
         0,
         0
        ],
        [
         "ELEVEN",
         "IVE",
         1,
         2021,
         12,
         1,
         521,
         1,
         247737946,
         17,
         89,
         11,
         0,
         0
        ],
        [
         "Mood (feat. Iann Dior)",
         "24kgoldn, Iann Dior",
         2,
         2020,
         7,
         24,
         12854,
         0,
         1699402402,
         237,
         27,
         636,
         0,
         null
        ],
        [
         "What Else Can I Do?",
         "Stephanie Beatriz, Diane Guerrero",
         2,
         2021,
         11,
         19,
         802,
         0,
         154797871,
         13,
         27,
         8,
         0,
         0
        ],
        [
         "DANCE CRIP",
         "Trueno",
         1,
         2021,
         11,
         17,
         731,
         0,
         198883004,
         14,
         14,
         24,
         0,
         4
        ],
        [
         "Miserable Man",
         "David Kushner",
         1,
         2022,
         1,
         7,
         788,
         0,
         124407432,
         13,
         0,
         32,
         1,
         0
        ],
        [
         "happier",
         "Olivia Rodrigo",
         1,
         2021,
         5,
         21,
         3069,
         4,
         850608354,
         25,
         46,
         105,
         0,
         45
        ],
        [
         "Praise God",
         "Kanye West",
         1,
         2021,
         8,
         29,
         4651,
         0,
         376333030,
         24,
         6,
         105,
         0,
         0
        ],
        [
         "Get Into It (Yuh)",
         "Doja Cat",
         1,
         2021,
         6,
         25,
         4999,
         0,
         516784627,
         43,
         19,
         73,
         12,
         0
        ],
        [
         "Before You Go",
         "Lewis Capaldi",
         1,
         2019,
         11,
         1,
         8327,
         24,
         1608045237,
         205,
         130,
         625,
         0,
         25
        ],
        [
         "Sky",
         "Playboi Carti",
         1,
         2020,
         12,
         25,
         3297,
         3,
         506778838,
         25,
         3,
         52,
         0,
         1
        ],
        [
         "Rolling in the Deep",
         "Adele",
         1,
         2010,
         11,
         29,
         35684,
         6,
         1472799873,
         195,
         125,
         null,
         2,
         78
        ],
        [
         "Sobrio",
         "Maluma",
         1,
         2021,
         7,
         8,
         3506,
         10,
         513643924,
         103,
         76,
         100,
         1,
         1
        ],
        [
         "Peru",
         "Ed Sheeran, Fireboy DML",
         2,
         2021,
         12,
         23,
         2999,
         0,
         261286503,
         60,
         17,
         154,
         0,
         22
        ],
        [
         "favorite crime",
         "Olivia Rodrigo",
         1,
         2021,
         5,
         21,
         3681,
         0,
         783706581,
         20,
         21,
         99,
         0,
         7
        ],
        [
         "Thunder",
         "Prezioso, Gabry Ponte, LUM!X",
         3,
         2021,
         5,
         7,
         4846,
         10,
         422691058,
         54,
         16,
         259,
         0,
         13
        ],
        [
         "The Business",
         "Ti��",
         1,
         2020,
         1,
         1,
         14311,
         0,
         1062345656,
         255,
         32,
         582,
         0,
         14
        ],
        [
         "positions",
         "Ariana Grande",
         1,
         2020,
         10,
         23,
         8207,
         0,
         1252563873,
         175,
         55,
         95,
         0,
         2
        ],
        [
         "I WANNA BE YOUR SLAVE",
         "M��ne",
         1,
         2021,
         3,
         19,
         4873,
         0,
         851070493,
         65,
         88,
         434,
         3,
         13
        ],
        [
         "Vai L�� Em Casa ",
         "Mar��lia Mendon��a, George Henrique &",
         2,
         2021,
         10,
         22,
         772,
         0,
         263894529,
         7,
         3,
         89,
         0,
         0
        ],
        [
         "The Feels",
         "TWICE",
         1,
         2021,
         10,
         1,
         1150,
         0,
         345903614,
         20,
         99,
         44,
         0,
         2
        ],
        [
         "HEARTBREAK ANNIVERSARY",
         "Giveon",
         1,
         2020,
         2,
         21,
         5398,
         4,
         951637566,
         111,
         127,
         210,
         0,
         37
        ],
        [
         "No Lie",
         "Sean Paul, Dua Lipa",
         2,
         2016,
         11,
         18,
         7370,
         0,
         956865266,
         92,
         127,
         null,
         0,
         62
        ],
        [
         "OUT OUT (feat. Charli XCX & Saweetie)",
         "Charli XCX, Jax Jones, Joel Corry, Saweetie",
         4,
         2021,
         8,
         13,
         6890,
         0,
         427486004,
         122,
         11,
         201,
         0,
         1
        ],
        [
         "Pope Is a Rockstar",
         "SALES",
         1,
         2016,
         4,
         20,
         1966,
         0,
         156658366,
         4,
         2,
         50,
         0,
         0
        ],
        [
         "2055",
         "Sleepy hallow",
         1,
         2021,
         4,
         14,
         2226,
         0,
         624515457,
         29,
         0,
         44,
         0,
         0
        ],
        [
         "Bored",
         "Billie Eilish",
         1,
         2017,
         3,
         30,
         4204,
         0,
         777765388,
         39,
         45,
         250,
         0,
         0
        ],
        [
         "Happier Than Ever - Edit",
         "Billie Eilish",
         1,
         2021,
         7,
         28,
         1959,
         0,
         412795151,
         19,
         0,
         38,
         0,
         0
        ],
        [
         "Astronaut In The Ocean",
         "Masked Wolf",
         1,
         2019,
         1,
         1,
         7191,
         0,
         1138474110,
         146,
         18,
         478,
         0,
         7
        ],
        [
         "Ley Seca",
         "Anuel Aa, Jhay Cortez",
         2,
         2021,
         9,
         2,
         2012,
         0,
         355219175,
         101,
         12,
         38,
         0,
         0
        ],
        [
         "Every Summertime",
         "NIKI",
         1,
         2021,
         8,
         10,
         1211,
         2,
         290228626,
         30,
         2,
         5,
         0,
         6
        ],
        [
         "Talking To The Moon",
         "Bruno Mars",
         1,
         2010,
         10,
         4,
         7109,
         2,
         1062956628,
         5,
         0,
         862,
         0,
         0
        ],
        [
         "you broke me first",
         "Tate McRae",
         1,
         2020,
         4,
         17,
         6638,
         0,
         1180094974,
         167,
         19,
         318,
         0,
         1
        ],
        [
         "The Nights",
         "Avicii",
         1,
         2014,
         1,
         1,
         17354,
         8,
         1456081449,
         92,
         122,
         null,
         0,
         55
        ],
        [
         "Take My Breath",
         "The Weeknd",
         1,
         2021,
         8,
         6,
         6392,
         0,
         432702334,
         174,
         73,
         344,
         0,
         0
        ],
        [
         "Way 2 Sexy (with Future & Young Thug)",
         "Drake, Future, Young Thug",
         3,
         2021,
         9,
         3,
         5481,
         0,
         489945871,
         144,
         30,
         86,
         0,
         0
        ],
        [
         "C��",
         "Rauw Alejandro",
         1,
         2021,
         6,
         25,
         2636,
         3,
         465959382,
         36,
         82,
         39,
         0,
         5
        ],
        [
         "Enemy - from the series Arcane League of Legends",
         "Imagine Dragons, League of Legends, Arcane",
         3,
         2021,
         10,
         27,
         824,
         0,
         1223481149,
         8,
         8,
         8,
         2,
         0
        ],
        [
         "Dance Monkey",
         "Tones and I",
         1,
         2019,
         5,
         10,
         24529,
         0,
         null,
         533,
         167,
         null,
         6,
         null
        ],
        [
         "Lucid Dreams",
         "Juice WRLD",
         1,
         2017,
         6,
         15,
         14749,
         0,
         null,
         188,
         34,
         710,
         0,
         5
        ],
        [
         "Qu�� M��",
         "J Balvin, Maria Becerra",
         2,
         2021,
         1,
         28,
         8087,
         0,
         720825549,
         92,
         34,
         131,
         0,
         0
        ],
        [
         "All of Me",
         "John Legend",
         1,
         2013,
         8,
         1,
         27221,
         0,
         2086124197,
         308,
         118,
         null,
         2,
         77
        ],
        [
         "Smells Like Teen Spirit - Remastered 2021",
         "Nirvana",
         1,
         1991,
         9,
         10,
         49991,
         9,
         1690192927,
         265,
         121,
         null,
         4,
         160
        ],
        [
         "Arcade",
         "Duncan Laurence",
         1,
         2019,
         3,
         7,
         6646,
         0,
         991336132,
         107,
         47,
         584,
         1,
         null
        ],
        [
         "Fair Trade (with Travis Scott)",
         "Drake, Travis Scott",
         2,
         2021,
         9,
         3,
         5403,
         6,
         593917618,
         118,
         116,
         96,
         0,
         3
        ],
        [
         "Bar",
         "Tini, L-Gante",
         2,
         2021,
         11,
         11,
         755,
         4,
         200972675,
         22,
         3,
         0,
         0,
         0
        ],
        [
         "The Rumbling (TV Size)",
         "SiM",
         1,
         2022,
         1,
         10,
         254,
         0,
         71014967,
         0,
         4,
         23,
         0,
         0
        ],
        [
         "family ties (with Kendrick Lamar)",
         "Kendrick Lamar, Baby Keem",
         2,
         2021,
         8,
         27,
         6308,
         5,
         560222750,
         114,
         15,
         63,
         0,
         2
        ],
        [
         "Mr. Brightside",
         "The Killers",
         1,
         2003,
         9,
         23,
         51979,
         15,
         1806617704,
         306,
         99,
         null,
         2,
         120
        ],
        [
         "Blessed-Cursed",
         "ENHYPEN",
         1,
         2022,
         1,
         10,
         246,
         0,
         77337771,
         2,
         12,
         10,
         0,
         0
        ],
        [
         "AM Remix",
         "J Balvin, Nio Garcia, Bad Bunny",
         3,
         2021,
         6,
         24,
         6556,
         0,
         528544703,
         93,
         5,
         67,
         1,
         0
        ],
        [
         "Streets",
         "Doja Cat",
         1,
         2019,
         11,
         7,
         5728,
         0,
         865640097,
         85,
         87,
         179,
         0,
         12
        ],
        [
         "Shallow",
         "Lady Gaga, Bradley Cooper",
         2,
         2018,
         9,
         27,
         16636,
         12,
         null,
         368,
         155,
         null,
         6,
         121
        ],
        [
         "Polaroid Love",
         "ENHYPEN",
         1,
         2022,
         1,
         10,
         461,
         0,
         211372494,
         10,
         56,
         17,
         0,
         0
        ],
        [
         "Leave Before You Love Me (with Jonas Brothers)",
         "Marshmello, Jonas Brothers",
         2,
         2021,
         4,
         28,
         4893,
         4,
         651732901,
         143,
         24,
         110,
         0,
         70
        ],
        [
         "Permission to Dance",
         "BTS",
         1,
         2021,
         7,
         9,
         1801,
         2,
         608334048,
         77,
         134,
         74,
         0,
         2
        ],
        [
         "Friday (feat. Mufasa & Hypeman) - Dopamine Re-Edit",
         "Riton, Nightcrawlers, Mufasa & Hypeman, Dopamine",
         4,
         2021,
         1,
         15,
         12043,
         0,
         863756573,
         209,
         54,
         710,
         0,
         18
        ],
        [
         "RAPSTAR",
         "Polo G",
         1,
         2021,
         4,
         9,
         4731,
         0,
         797402345,
         141,
         12,
         78,
         0,
         0
        ],
        [
         "'Till I Collapse",
         "Eminem, Nate Dogg",
         2,
         2002,
         5,
         26,
         22923,
         0,
         1695712020,
         78,
         46,
         null,
         1,
         0
        ],
        [
         "Memories",
         "Maroon 5",
         1,
         2019,
         9,
         20,
         9974,
         2,
         1759567999,
         272,
         67,
         null,
         1,
         19
        ],
        [
         "Se Le Ve",
         "Arcangel, De La Ghetto, Justin Quiles, Lenny Tav��rez, Sech, Dalex, Dimelo Flow, Rich Music",
         8,
         2021,
         8,
         12,
         1560,
         0,
         223319934,
         72,
         0,
         0,
         0,
         0
        ],
        [
         "25k jacket (feat. Lil Baby)",
         "Gunna, Lil Baby",
         2,
         2022,
         1,
         7,
         620,
         0,
         54937991,
         17,
         3,
         3,
         0,
         0
        ],
        [
         "When I���m Gone (with Katy ",
         "Katy Perry, Alesso",
         2,
         2021,
         12,
         29,
         3270,
         0,
         226897599,
         89,
         21,
         65,
         0,
         0
        ],
        [
         "Esque��a-Me Se For C",
         "Mar��lia Mendon��a, Maiara &",
         2,
         2021,
         10,
         14,
         580,
         0,
         258316038,
         24,
         92,
         93,
         0,
         0
        ],
        [
         "Mi��n",
         "Tini, Maria Becerra",
         2,
         2021,
         4,
         29,
         3406,
         16,
         596152090,
         61,
         23,
         70,
         1,
         0
        ],
        [
         "S��",
         "Anuel Aa, Myke Towers, Jhay Cortez",
         3,
         2021,
         11,
         18,
         903,
         0,
         177129919,
         30,
         26,
         15,
         0,
         0
        ],
        [
         "MAMIII",
         "Karol G, Becky G",
         2,
         2022,
         2,
         10,
         6809,
         28,
         716591492,
         151,
         102,
         175,
         5,
         29
        ],
        [
         "Still D.R.E.",
         "Dr. Dre, Snoop Dogg",
         2,
         1999,
         1,
         1,
         33966,
         0,
         1210599487,
         141,
         78,
         null,
         1,
         0
        ],
        [
         "Stay Alive (Prod. SUGA of BTS)",
         "Jung Kook",
         1,
         2022,
         2,
         11,
         590,
         5,
         246376690,
         4,
         113,
         20,
         0,
         1
        ],
        [
         "Boyfriend",
         "Dove Cameron",
         1,
         2022,
         2,
         11,
         3766,
         0,
         496311364,
         76,
         0,
         102,
         0,
         2
        ],
        [
         "The Joker And The Queen (feat. Taylor Swift)",
         "Ed Sheeran, Taylor Swift",
         2,
         2022,
         2,
         11,
         1430,
         0,
         146789379,
         46,
         1,
         34,
         0,
         0
        ],
        [
         "The Next Episode",
         "Dr. Dre, Snoop Dogg",
         2,
         1999,
         1,
         1,
         31762,
         0,
         843309044,
         142,
         40,
         null,
         1,
         953
        ],
        [
         "Light Switch",
         "Charlie Puth",
         1,
         2022,
         1,
         19,
         4049,
         0,
         500340342,
         119,
         6,
         85,
         1,
         1
        ],
        [
         "City of Gods",
         "Kanye West, Alicia Keys, Fivio Foreign",
         3,
         2022,
         2,
         11,
         2096,
         0,
         107255472,
         34,
         3,
         30,
         0,
         0
        ],
        [
         "Brividi",
         "Mahmood, Blanco",
         2,
         2022,
         2,
         2,
         1175,
         0,
         135079152,
         34,
         1,
         31,
         0,
         0
        ],
        [
         "Lost",
         "Frank Ocean",
         1,
         2012,
         1,
         1,
         29499,
         11,
         822239726,
         124,
         27,
         587,
         0,
         4
        ],
        [
         "In Da Club",
         "50 Cent",
         1,
         2002,
         1,
         1,
         30427,
         7,
         1202722675,
         235,
         106,
         null,
         1,
         35
        ],
        [
         "she's all i wanna be",
         "Tate McRae",
         1,
         2022,
         2,
         4,
         2711,
         0,
         343197054,
         105,
         12,
         51,
         0,
         12
        ],
        [
         "Ginseng Strip 2002",
         "Yung Lean",
         1,
         2013,
         8,
         16,
         4310,
         0,
         240769997,
         13,
         0,
         113,
         1,
         3
        ],
        [
         "All For Us - from the HBO Original Series Euphoria",
         "Labrinth, Zendaya",
         2,
         2019,
         8,
         4,
         5342,
         0,
         426204830,
         33,
         123,
         7,
         0,
         4
        ],
        [
         "Notion",
         "The Rare Occasions",
         1,
         2016,
         8,
         5,
         2393,
         0,
         421135627,
         22,
         13,
         65,
         0,
         6
        ],
        [
         "Formula",
         "Labrinth",
         1,
         2019,
         10,
         4,
         3444,
         7,
         554875730,
         24,
         85,
         102,
         0,
         1
        ],
        [
         "Mount Everest",
         "Labrinth",
         1,
         2019,
         6,
         21,
         5443,
         0,
         467727006,
         45,
         1,
         80,
         0,
         12
        ],
        [
         "Excuses",
         "Intense, AP Dhillon, Gurinder Gill",
         3,
         2020,
         7,
         24,
         272,
         4,
         327498031,
         7,
         21,
         2,
         0,
         0
        ],
        [
         "Cigarettes",
         "Juice WRLD",
         1,
         2021,
         12,
         10,
         975,
         0,
         185408548,
         11,
         0,
         10,
         0,
         0
        ],
        [
         "Cay�� La Noche (feat. Cruz Cafun��, Abhir Hathi, Bejo, EL IMA)",
         "Quevedo, La Pantera, Juseph, Cruz Cafun��, B��jo, Abhir Hathi",
         7,
         2022,
         1,
         14,
         1034,
         1,
         245400167,
         19,
         5,
         12,
         0,
         0
        ],
        [
         "California Love - Original Version (Explicit)",
         "Dr. Dre, 2Pac, Roger",
         3,
         1995,
         12,
         28,
         18773,
         0,
         579395142,
         128,
         17,
         null,
         0,
         0
        ],
        [
         "Forgot About Dre",
         "Eminem, Dr. Dre",
         2,
         1999,
         1,
         1,
         19067,
         0,
         675039469,
         78,
         15,
         null,
         0,
         3
        ],
        [
         "Down Under (feat. Colin Hay)",
         "Luude, Colin Hay",
         2,
         2021,
         11,
         19,
         3541,
         2,
         252871192,
         57,
         13,
         50,
         1,
         7
        ],
        [
         "Mujeriego",
         "Ryan Castro",
         1,
         2021,
         12,
         17,
         1492,
         0,
         231996128,
         44,
         63,
         91,
         0,
         24
        ],
        [
         "HUMBLE.",
         "Kendrick Lamar",
         1,
         2017,
         3,
         30,
         33206,
         1,
         1929770265,
         284,
         114,
         null,
         0,
         5
        ],
        [
         "Stan",
         "Eminem, Dido",
         2,
         1999,
         11,
         21,
         17115,
         0,
         918915401,
         83,
         63,
         null,
         0,
         0
        ],
        [
         "Contection",
         "GODZZ__-, Zakaria",
         2,
         2020,
         1,
         16,
         6955,
         0,
         1180896317,
         65,
         45,
         398,
         0,
         1
        ],
        [
         "Swim",
         "Chase Atlantic",
         1,
         2017,
         10,
         4,
         2742,
         0,
         498960285,
         5,
         1,
         62,
         0,
         0
        ],
        [
         "A Tu Merced",
         "Bad Bunny",
         1,
         2020,
         2,
         29,
         4214,
         11,
         685071800,
         21,
         20,
         40,
         0,
         0
        ],
        [
         "Numb Little Bug",
         "Em Beihold",
         1,
         2022,
         1,
         28,
         2026,
         0,
         258714692,
         47,
         3,
         42,
         12,
         6
        ],
        [
         "212",
         "Mainstreet, Chefin",
         2,
         2022,
         1,
         15,
         352,
         0,
         143139338,
         10,
         0,
         39,
         0,
         0
        ],
        [
         "Problem�",
         "Alvaro Diaz, Rauw Alejandro",
         2,
         2021,
         10,
         22,
         1517,
         0,
         209768491,
         42,
         7,
         15,
         0,
         4
        ],
        [
         "Bussin",
         "Nicki Minaj, Lil Baby",
         2,
         2022,
         2,
         11,
         847,
         0,
         64714573,
         25,
         0,
         14,
         0,
         0
        ],
        [
         "Worst Day",
         "Future",
         1,
         2022,
         2,
         11,
         910,
         0,
         50746620,
         20,
         3,
         24,
         0,
         0
        ],
        [
         "Malvada",
         "Z�� Fe",
         1,
         2022,
         1,
         28,
         601,
         0,
         154119539,
         28,
         73,
         64,
         0,
         0
        ],
        [
         "Hrs and Hrs",
         "Muni Long",
         1,
         2021,
         11,
         19,
         1800,
         0,
         181328253,
         43,
         36,
         46,
         13,
         4
        ],
        [
         "Alien Blues",
         "Vundabar",
         1,
         2015,
         7,
         24,
         1930,
         0,
         370068639,
         3,
         0,
         28,
         0,
         1
        ],
        [
         "Thinking Out Loud",
         "Ed Sheeran",
         1,
         2014,
         1,
         1,
         33032,
         0,
         null,
         363,
         129,
         null,
         0,
         28
        ],
        [
         "Still Don't Know My Name",
         "Labrinth",
         1,
         2019,
         10,
         4,
         6332,
         0,
         563902868,
         47,
         116,
         266,
         0,
         0
        ],
        [
         "Christmas Tree",
         "V",
         1,
         2021,
         12,
         24,
         509,
         9,
         317622165,
         8,
         106,
         6,
         0,
         8
        ],
        [
         "Mal Feito - Ao Vivo",
         "Mar��lia Mendon��a, Hugo & G",
         2,
         2022,
         1,
         14,
         971,
         2,
         291709698,
         35,
         104,
         93,
         1,
         0
        ],
        [
         "When I R.I.P.",
         "Labrinth",
         1,
         2019,
         10,
         4,
         2578,
         0,
         203680270,
         8,
         67,
         66,
         0,
         0
        ],
        [
         "Do We Have A Problem?",
         "Nicki Minaj, Lil Baby",
         2,
         2022,
         2,
         4,
         1064,
         0,
         81350745,
         42,
         1,
         26,
         0,
         0
        ],
        [
         "Forever",
         "Labrinth",
         1,
         2019,
         10,
         4,
         3618,
         0,
         282883169,
         21,
         86,
         138,
         0,
         2
        ],
        [
         "Gospel (with Eminem)",
         "Eminem, Dr. Dre",
         2,
         2022,
         2,
         4,
         1040,
         0,
         64787943,
         8,
         0,
         29,
         0,
         0
        ],
        [
         "Se��o",
         "Shawn Mendes, Camila Cabello",
         2,
         2019,
         6,
         19,
         15010,
         2,
         null,
         453,
         50,
         null,
         1,
         8
        ],
        [
         "NEW MAGIC WAND",
         "Tyler, The Creator",
         2,
         2019,
         5,
         16,
         4708,
         0,
         461437791,
         13,
         7,
         55,
         0,
         1
        ],
        [
         "Adore You",
         "Harry Styles",
         1,
         2019,
         12,
         6,
         13454,
         1,
         1439191367,
         246,
         71,
         519,
         2,
         5
        ],
        [
         "La Santa",
         "Daddy Yankee, Bad Bunny",
         2,
         2020,
         2,
         29,
         4890,
         20,
         759208783,
         52,
         42,
         100,
         0,
         0
        ],
        [
         "Something In The Way - Remastered 2021",
         "Nirvana",
         1,
         1991,
         9,
         24,
         9514,
         0,
         368646862,
         45,
         27,
         null,
         0,
         43
        ],
        [
         "Sweetest Pie",
         "Dua Lipa, Megan Thee Stallion",
         2,
         2022,
         3,
         11,
         3501,
         0,
         299634472,
         69,
         2,
         51,
         11,
         0
        ],
        [
         "Bam Bam (feat. Ed Sheeran)",
         "Camila Cabello, Ed Sheeran",
         2,
         2022,
         3,
         4,
         6111,
         4,
         756907987,
         185,
         40,
         492,
         9,
         35
        ],
        [
         "Una Noche en Medell�",
         "Cris Mj",
         1,
         2022,
         1,
         21,
         5415,
         32,
         682475162,
         46,
         16,
         53,
         1,
         2
        ],
        [
         "Envolver",
         "Anitta",
         1,
         2021,
         11,
         11,
         4673,
         2,
         546191065,
         123,
         113,
         180,
         1,
         4
        ],
        [
         "Starlight",
         "Dave",
         1,
         2022,
         3,
         3,
         1856,
         3,
         229473310,
         29,
         40,
         31,
         1,
         1
        ],
        [
         "Hati-Hati di Jalan",
         "Tulus",
         1,
         2022,
         3,
         3,
         200,
         2,
         202677468,
         12,
         4,
         0,
         0,
         0
        ],
        [
         "I'm Tired - From \"Euphoria\" An Original HBO Series",
         "Labrinth",
         1,
         2022,
         2,
         4,
         1888,
         0,
         121913181,
         26,
         1,
         58,
         0,
         0
        ],
        [
         "DAN��A",
         "Mc Pedrinho, Pedro Sampaio",
         2,
         2022,
         2,
         1,
         911,
         2,
         208166039,
         45,
         0,
         99,
         1,
         1
        ],
        [
         "Yo Voy (feat. Daddy Yankee)",
         "Zion & Lennox",
         1,
         2004,
         5,
         4,
         2954,
         2,
         527033089,
         18,
         82,
         0,
         0,
         5
        ],
        [
         "Residente: Bzrp Music Sessions, Vol. 49",
         "Residente, Bizarrap",
         2,
         2022,
         3,
         3,
         461,
         0,
         94616487,
         7,
         11,
         13,
         0,
         0
        ],
        [
         "Jordan",
         "Ryan Castro",
         1,
         2021,
         4,
         30,
         2844,
         2,
         394030335,
         29,
         2,
         35,
         1,
         0
        ],
        [
         "Nail Tech",
         "Jack Harlow",
         1,
         2022,
         2,
         18,
         2939,
         0,
         193443895,
         42,
         0,
         24,
         0,
         0
        ],
        [
         "Chale",
         "Eden Mu��",
         1,
         2022,
         2,
         18,
         695,
         11,
         299648208,
         16,
         41,
         13,
         1,
         1
        ],
        [
         "DARARI",
         "Treasure",
         1,
         2022,
         2,
         15,
         328,
         0,
         182978249,
         10,
         21,
         7,
         0,
         9
        ],
        [
         "Ya No Somos Ni Seremos",
         "Christian Nodal",
         1,
         2022,
         2,
         18,
         866,
         16,
         319757142,
         27,
         84,
         32,
         7,
         11
        ],
        [
         "Thinking with My Dick",
         "Kevin Gates, Juicy J",
         2,
         2013,
         7,
         16,
         1550,
         0,
         109091573,
         0,
         0,
         14,
         0,
         0
        ],
        [
         "Freaky Deaky",
         "Tyga, Doja Cat",
         2,
         2022,
         2,
         25,
         1729,
         0,
         153240879,
         26,
         1,
         19,
         0,
         0
        ],
        [
         "this is what falling in love feels like",
         "JVKE",
         1,
         2021,
         9,
         3,
         2005,
         0,
         346127840,
         16,
         5,
         43,
         0,
         7
        ],
        [
         "La Zona",
         "Bad Bunny",
         1,
         2020,
         2,
         29,
         1188,
         0,
         312622938,
         13,
         1,
         15,
         0,
         1
        ],
        [
         "Bohemian Rhapsody - Remastered 2011",
         "Queen",
         1,
         1975,
         10,
         31,
         40112,
         3,
         null,
         321,
         162,
         null,
         8,
         17
        ],
        [
         "Hope",
         "XXXTENTACION",
         1,
         2018,
         3,
         16,
         3659,
         0,
         1200808494,
         11,
         10,
         267,
         0,
         7
        ],
        [
         "Levitating",
         "Dua Lipa",
         1,
         2020,
         3,
         27,
         9833,
         0,
         797196073,
         233,
         82,
         531,
         1,
         1
        ],
        [
         "Wake Me Up - Radio Edit",
         "Avicii",
         1,
         2013,
         1,
         1,
         50887,
         34,
         1970673297,
         315,
         160,
         null,
         1,
         46
        ],
        [
         "jealousy, jealousy",
         "Olivia Rodrigo",
         1,
         2021,
         5,
         21,
         3257,
         0,
         665765558,
         10,
         0,
         70,
         0,
         0
        ],
        [
         "Mon��y so",
         "YEAT",
         1,
         2021,
         9,
         10,
         1473,
         0,
         263779030,
         2,
         0,
         12,
         0,
         10
        ],
        [
         "Demasiadas Mujeres",
         "C. Tangana",
         1,
         2020,
         10,
         8,
         2226,
         0,
         339473453,
         36,
         2,
         11,
         0,
         14
        ],
        [
         "Something Just Like This",
         "The Chainsmokers, Coldplay",
         2,
         2017,
         2,
         22,
         23375,
         21,
         null,
         336,
         188,
         null,
         3,
         30
        ],
        [
         "Closer",
         "The Chainsmokers, Halsey",
         2,
         2016,
         5,
         31,
         28032,
         0,
         null,
         315,
         159,
         null,
         0,
         44
        ],
        [
         "O.O",
         "NMIXX",
         1,
         2022,
         2,
         22,
         290,
         0,
         135444283,
         9,
         66,
         10,
         0,
         0
        ],
        [
         "Somebody That I Used To Know",
         "Gotye, Kimbra",
         2,
         2011,
         1,
         1,
         42798,
         0,
         1457139296,
         217,
         136,
         null,
         1,
         null
        ],
        [
         "Tom's Diner",
         "AnnenMayKantereit, Giant Rooks",
         2,
         2019,
         6,
         28,
         2605,
         0,
         236872197,
         15,
         48,
         50,
         0,
         3
        ],
        [
         "First Class",
         "Jack Harlow",
         1,
         2022,
         4,
         8,
         8737,
         0,
         694525298,
         163,
         32,
         137,
         15,
         12
        ],
        [
         "Plan A",
         "Paulo Londra",
         1,
         2022,
         3,
         23,
         1105,
         0,
         240661097,
         32,
         0,
         19,
         0,
         0
        ],
        [
         "Fuera del mercado",
         "Danny Ocean",
         1,
         2022,
         2,
         17,
         2499,
         21,
         421365166,
         68,
         24,
         43,
         1,
         0
        ],
        [
         "X ��LTIMA",
         "Daddy Yankee, Bad Bunny",
         2,
         2022,
         3,
         25,
         2697,
         1,
         349746291,
         55,
         3,
         32,
         0,
         0
        ],
        [
         "When You're Gone",
         "Shawn Mendes",
         1,
         2022,
         3,
         31,
         2092,
         0,
         255120451,
         75,
         11,
         44,
         0,
         14
        ],
        [
         "In My Head",
         "Lil Tjay",
         1,
         2022,
         4,
         1,
         1185,
         0,
         190981339,
         21,
         0,
         31,
         0,
         0
        ],
        [
         "Wait a Minute!",
         "Willow",
         1,
         2015,
         1,
         11,
         11985,
         0,
         924193303,
         79,
         80,
         250,
         3,
         10
        ],
        [
         "LOVE DIVE",
         "IVE",
         1,
         2022,
         4,
         5,
         753,
         8,
         305771063,
         28,
         124,
         13,
         0,
         1
        ],
        [
         "Pantysito",
         "Feid, Alejo, Robi",
         3,
         2022,
         3,
         18,
         2995,
         0,
         273005485,
         49,
         17,
         30,
         0,
         0
        ],
        [
         "Chance",
         "Paulo Londra",
         1,
         2022,
         4,
         6,
         225,
         0,
         89566512,
         11,
         0,
         7,
         0,
         0
        ],
        [
         "Cool for the Summer",
         "Demi Lovato",
         1,
         2015,
         1,
         1,
         9243,
         0,
         677389855,
         155,
         5,
         577,
         0,
         6
        ],
        [
         "psychofreak (feat. WILLOW)",
         "Camila Cabello, Willow",
         2,
         2022,
         4,
         7,
         918,
         0,
         75476209,
         24,
         0,
         52,
         0,
         0
        ],
        [
         "Angel Baby",
         "Troye Sivan",
         1,
         2021,
         9,
         9,
         1959,
         9,
         408843328,
         52,
         25,
         32,
         0,
         10
        ],
        [
         "Vampiro",
         "Matu��, Wiu, ",
         3,
         2022,
         1,
         30,
         540,
         4,
         187772591,
         26,
         3,
         39,
         0,
         0
        ],
        [
         "Si Quieren Frontear",
         "De La Ghetto, Duki, Quevedo",
         3,
         2022,
         3,
         31,
         859,
         0,
         178512385,
         14,
         0,
         11,
         0,
         0
        ],
        [
         "Right On",
         "Lil Baby",
         1,
         2022,
         4,
         8,
         1116,
         0,
         101780047,
         31,
         9,
         15,
         0,
         1
        ],
        [
         "Me Arrepent�",
         "Ak4:20, Cris Mj, Pailita",
         3,
         2022,
         3,
         30,
         273,
         2,
         118381354,
         12,
         2,
         4,
         0,
         0
        ],
        [
         "That's Hilarious",
         "Charlie Puth",
         1,
         2022,
         4,
         8,
         686,
         2,
         146363130,
         11,
         6,
         12,
         0,
         15
        ],
        [
         "Soy El Unico",
         "Yahritza Y Su Esencia",
         1,
         2022,
         3,
         25,
         226,
         0,
         126443991,
         5,
         0,
         4,
         0,
         1
        ],
        [
         "RUMBAT�",
         "Daddy Yankee",
         1,
         2022,
         3,
         25,
         1264,
         0,
         157990698,
         20,
         4,
         52,
         0,
         1
        ],
        [
         "sentaDONA (Remix) s2",
         "Lu��sa Sonza, MC Frog, Dj Gabriel do Borel, Davi K",
         4,
         2022,
         3,
         17,
         870,
         0,
         176290831,
         32,
         0,
         49,
         0,
         0
        ],
        [
         "Falling",
         "Harry Styles",
         1,
         2019,
         12,
         13,
         7556,
         0,
         1023187129,
         124,
         24,
         254,
         0,
         8
        ],
        [
         "Sigue",
         "Ed Sheeran, J Balvin",
         2,
         1996,
         11,
         24,
         1370,
         0,
         106933107,
         46,
         8,
         60,
         0,
         0
        ],
        [
         "Fim de Semana no Rio",
         "teto",
         1,
         2022,
         3,
         30,
         315,
         2,
         139193812,
         27,
         2,
         31,
         0,
         0
        ],
        [
         "MANIAC",
         "Stray Kids",
         1,
         2022,
         3,
         18,
         651,
         0,
         212234990,
         6,
         188,
         20,
         0,
         0
        ],
        [
         "There's Nothing Holdin' Me Back",
         "Shawn Mendes",
         1,
         2016,
         9,
         23,
         12382,
         0,
         1714490998,
         229,
         57,
         null,
         2,
         71
        ],
        [
         "IDGAF (with blackbear)",
         "Blackbear, BoyWithUke",
         2,
         2022,
         3,
         18,
         625,
         0,
         197643795,
         10,
         2,
         13,
         0,
         1
        ],
        [
         "Golden",
         "Harry Styles",
         1,
         2019,
         12,
         13,
         8429,
         1,
         807015863,
         85,
         24,
         200,
         0,
         2
        ],
        [
         "Get Lucky - Radio Edit",
         "Pharrell Williams, Nile Rodgers, Daft Punk",
         3,
         2013,
         1,
         1,
         52898,
         0,
         933815613,
         203,
         1,
         null,
         0,
         0
        ],
        [
         "Ain't Shit",
         "Doja Cat",
         1,
         2021,
         6,
         25,
         3436,
         0,
         499710590,
         32,
         6,
         46,
         0,
         1
        ],
        [
         "Nobody Like U - From \"Turning Red\"",
         "Jordan Fisher, Josh Levi, Finneas O'Connell, 4*TOWN (From Disney and Pixar���s Turning Red), Topher Ngo, Grayson Vill",
         6,
         2022,
         2,
         25,
         918,
         0,
         120847157,
         34,
         39,
         30,
         0,
         0
        ],
        [
         "Still Life",
         "BIGBANG",
         1,
         2022,
         4,
         5,
         181,
         0,
         53909146,
         16,
         14,
         7,
         0,
         0
        ],
        [
         "Photograph",
         "Ed Sheeran",
         1,
         2014,
         6,
         20,
         18778,
         3,
         null,
         228,
         105,
         null,
         0,
         84
        ],
        [
         "Love Yourself",
         "Justin Bieber",
         1,
         2015,
         11,
         9,
         22730,
         5,
         2123309722,
         289,
         87,
         null,
         0,
         36
        ],
        [
         "N95",
         "Kendrick Lamar",
         1,
         2022,
         5,
         13,
         5542,
         0,
         301242089,
         52,
         16,
         65,
         0,
         206
        ],
        [
         "About Damn Time",
         "Lizzo",
         1,
         2022,
         4,
         14,
         9021,
         0,
         723894473,
         242,
         49,
         272,
         21,
         24
        ],
        [
         "Die Hard",
         "Kendrick Lamar, Blxst, Amanda Reifer",
         3,
         2022,
         5,
         13,
         4627,
         0,
         237351106,
         38,
         13,
         32,
         0,
         0
        ],
        [
         "Despu��s de la P",
         "Bad Bunny",
         1,
         2022,
         5,
         6,
         2229,
         0,
         461558540,
         27,
         44,
         24,
         0,
         5
        ],
        [
         "Un Ratito",
         "Bad Bunny",
         1,
         2022,
         5,
         6,
         1112,
         6,
         417230415,
         7,
         30,
         13,
         1,
         1
        ],
        [
         "United In Grief",
         "Kendrick Lamar",
         1,
         2022,
         5,
         13,
         2575,
         0,
         156898322,
         4,
         5,
         12,
         0,
         51
        ],
        [
         "Father Time (feat. Sampha)",
         "Kendrick Lamar, Sampha",
         2,
         2022,
         5,
         13,
         3107,
         0,
         127309180,
         4,
         0,
         22,
         0,
         0
        ],
        [
         "Yo No Soy Celoso",
         "Bad Bunny",
         1,
         2022,
         5,
         6,
         1179,
         0,
         313113297,
         7,
         21,
         11,
         0,
         0
        ],
        [
         "Rich Spirit",
         "Kendrick Lamar",
         1,
         2022,
         5,
         13,
         3486,
         0,
         173702135,
         20,
         10,
         33,
         0,
         0
        ],
        [
         "Cooped Up (with Roddy Ricch)",
         "Post Malone, Roddy Ricch",
         2,
         2022,
         5,
         12,
         2942,
         0,
         271666301,
         42,
         28,
         43,
         0,
         0
        ],
        [
         "Me Fui de Vacaciones",
         "Bad Bunny",
         1,
         2022,
         5,
         6,
         1443,
         0,
         305650299,
         9,
         11,
         22,
         1,
         0
        ],
        [
         "Silent Hill",
         "Kendrick Lamar, Kodak Black",
         2,
         2022,
         5,
         13,
         3028,
         0,
         123216717,
         22,
         0,
         23,
         0,
         0
        ],
        [
         "La Corriente",
         "Tony Dize, Bad Bunny",
         2,
         2022,
         5,
         6,
         1796,
         8,
         479655659,
         8,
         25,
         18,
         1,
         0
        ],
        [
         "Count Me Out",
         "Kendrick Lamar",
         1,
         2022,
         5,
         13,
         2729,
         0,
         126191104,
         3,
         7,
         13,
         0,
         1
        ],
        [
         "Andrea",
         "Buscabulla, Bad Bunny",
         2,
         2022,
         5,
         6,
         1195,
         0,
         344055883,
         8,
         30,
         13,
         1,
         1
        ],
        [
         "Dos Mil 16",
         "Bad Bunny",
         1,
         2022,
         5,
         6,
         892,
         3,
         338422004,
         10,
         24,
         11,
         0,
         0
        ],
        [
         "We Cry Together",
         "Kendrick Lamar, Taylour Paige",
         2,
         2022,
         5,
         13,
         1635,
         0,
         68895644,
         4,
         1,
         6,
         0,
         0
        ],
        [
         "Savior",
         "Kendrick Lamar, Sam Dew, Baby Keem",
         3,
         2022,
         5,
         13,
         2291,
         0,
         86176890,
         9,
         0,
         8,
         0,
         0
        ],
        [
         "Un Coco",
         "Bad Bunny",
         1,
         2022,
         5,
         6,
         1029,
         28,
         403231558,
         5,
         28,
         9,
         0,
         0
        ],
        [
         "Otro Atardecer",
         "Bad Bunny, The Mar��",
         2,
         2022,
         5,
         6,
         1681,
         7,
         319546754,
         10,
         30,
         13,
         0,
         33
        ],
        [
         "Worldwide Steppers",
         "Kendrick Lamar",
         1,
         2022,
         5,
         13,
         1480,
         0,
         61739839,
         1,
         0,
         5,
         0,
         0
        ],
        [
         "Aguacero",
         "Bad Bunny",
         1,
         2022,
         5,
         6,
         829,
         0,
         283359161,
         4,
         15,
         10,
         0,
         0
        ],
        [
         "Purple Hearts",
         "Kendrick Lamar, Ghostface Killah, Summer Walker",
         3,
         2022,
         5,
         13,
         2308,
         0,
         76831876,
         7,
         0,
         7,
         0,
         0
        ],
        [
         "Un Verano Sin Ti",
         "Bad Bunny",
         1,
         2022,
         5,
         6,
         1004,
         1,
         283332261,
         8,
         12,
         9,
         0,
         0
        ],
        [
         "ULTRA SOLO",
         "Polima WestCoast, Pailita",
         2,
         2022,
         2,
         14,
         1367,
         0,
         307752576,
         48,
         4,
         34,
         1,
         0
        ],
        [
         "Ens����ame ",
         "Bad Bunny",
         1,
         2022,
         5,
         6,
         1112,
         3,
         279737940,
         7,
         25,
         12,
         0,
         0
        ],
        [
         "El Apag�",
         "Bad Bunny",
         1,
         2022,
         5,
         6,
         1209,
         0,
         212351890,
         9,
         7,
         14,
         0,
         1
        ],
        [
         "Callaita",
         "Bad Bunny, Tainy",
         2,
         2019,
         5,
         31,
         9539,
         15,
         1304313953,
         162,
         116,
         355,
         7,
         0
        ],
        [
         "Dua Lipa",
         "Jack Harlow",
         1,
         2022,
         5,
         6,
         1992,
         0,
         150500965,
         35,
         0,
         3,
         0,
         0
        ],
        [
         "Agosto",
         "Bad Bunny",
         1,
         2022,
         5,
         6,
         897,
         0,
         246127838,
         6,
         20,
         8,
         0,
         0
        ],
        [
         "House Of Memories",
         "Panic! At The Disco",
         1,
         2016,
         1,
         15,
         2948,
         0,
         582863434,
         10,
         2,
         150,
         0,
         0
        ],
        [
         "Mr. Morale",
         "Kendrick Lamar, Tanna Leone",
         2,
         2022,
         5,
         13,
         1860,
         0,
         58687425,
         1,
         0,
         3,
         0,
         0
        ],
        [
         "That That (prod. & feat. SUGA of BTS)",
         "PSY, Suga",
         2,
         2022,
         4,
         29,
         802,
         0,
         212109195,
         16,
         81,
         23,
         0,
         0
        ],
        [
         "In The Stars",
         "Benson Boone",
         1,
         2022,
         4,
         29,
         2224,
         8,
         382199619,
         48,
         40,
         87,
         1,
         210
        ],
        [
         "Rich - Interlude",
         "Kendrick Lamar",
         1,
         2022,
         5,
         13,
         1103,
         0,
         41210087,
         0,
         0,
         0,
         0,
         0
        ],
        [
         "SUPERMODEL",
         "M��ne",
         1,
         2022,
         5,
         13,
         2265,
         0,
         231657891,
         93,
         12,
         173,
         11,
         3
        ],
        [
         "Stefania (Kalush Orchestra)",
         "KALUSH",
         1,
         2022,
         3,
         10,
         555,
         0,
         53729194,
         10,
         4,
         4,
         0,
         0
        ],
        [
         "Thousand Miles",
         "The Kid Laroi",
         1,
         2022,
         4,
         22,
         2050,
         0,
         244741137,
         52,
         9,
         46,
         0,
         1
        ],
        [
         "Crown",
         "Kendrick Lamar",
         1,
         2022,
         5,
         13,
         1493,
         0,
         42485571,
         2,
         0,
         10,
         0,
         0
        ],
        [
         "Auntie Diaries",
         "Kendrick Lamar",
         1,
         2022,
         5,
         13,
         1545,
         0,
         37778188,
         1,
         0,
         4,
         0,
         0
        ],
        [
         "PUFFIN ON ZOOTIEZ",
         "Future",
         1,
         2022,
         4,
         29,
         2350,
         0,
         254218729,
         28,
         42,
         23,
         0,
         0
        ],
        [
         "Mirror",
         "Kendrick Lamar",
         1,
         2022,
         5,
         13,
         1929,
         0,
         53603447,
         2,
         0,
         4,
         0,
         0
        ],
        [
         "Beautiful Girl",
         "Luciano",
         1,
         2022,
         4,
         22,
         710,
         4,
         160035717,
         16,
         11,
         18,
         0,
         0
        ],
        [
         "Paulo Londra: Bzrp Music Sessions, Vol. 23",
         "Bizarrap, Paulo Londra",
         2,
         2022,
         4,
         25,
         928,
         0,
         164163229,
         19,
         0,
         7,
         0,
         0
        ],
        [
         "Savior - Interlude",
         "Kendrick Lamar",
         1,
         2022,
         5,
         13,
         1194,
         0,
         37091576,
         0,
         0,
         3,
         0,
         0
        ],
        [
         "Pasoori",
         "Shae Gill, Ali Sethi",
         2,
         2022,
         2,
         6,
         349,
         6,
         284249832,
         10,
         22,
         3,
         0,
         0
        ],
        [
         "Mother I Sober (feat. Beth Gibbons of Portishead)",
         "Kendrick Lamar, Beth Gibbons",
         2,
         2022,
         5,
         13,
         1890,
         0,
         33381454,
         3,
         0,
         2,
         0,
         0
        ],
        [
         "TUS L��GR",
         "Sech, Mora",
         2,
         2022,
         4,
         1,
         1308,
         2,
         184622518,
         23,
         16,
         9,
         0,
         5
        ],
        [
         "Where Did You Go?",
         "MNEK, Jax Jones",
         2,
         2022,
         1,
         26,
         4531,
         0,
         300983101,
         135,
         74,
         119,
         1,
         18
        ],
        [
         "I Tried to Tell Y'all",
         "Ugly Dray, Tesla Jnr",
         2,
         2022,
         5,
         6,
         1657,
         0,
         121077868,
         15,
         3,
         3,
         0,
         0
        ],
        [
         "Honest (feat. Don Toliver)",
         "Justin Bieber, Don Toliver",
         2,
         2022,
         4,
         29,
         1351,
         0,
         106919680,
         26,
         1,
         17,
         0,
         0
        ],
        [
         "ZOOM",
         "Jessi",
         1,
         2022,
         4,
         13,
         608,
         0,
         136996305,
         5,
         29,
         14,
         0,
         0
        ],
        [
         "SloMo",
         "Chanel",
         1,
         2021,
         12,
         24,
         1211,
         0,
         65719930,
         31,
         0,
         19,
         0,
         2
        ],
        [
         "FEARLESS",
         "LE SSERAFIM",
         1,
         2022,
         5,
         2,
         629,
         0,
         229497852,
         18,
         75,
         9,
         0,
         0
        ],
        [
         "10 Things I Hate About You",
         "Leah Kate",
         1,
         2022,
         3,
         23,
         1301,
         0,
         185550869,
         23,
         1,
         15,
         0,
         0
        ],
        [
         "SPACE MAN",
         "Sam Ryder",
         1,
         2022,
         2,
         22,
         1329,
         0,
         54682594,
         42,
         51,
         32,
         0,
         0
        ],
        [
         "With you",
         "HA SUNG WOON, Jimin",
         2,
         2022,
         4,
         24,
         343,
         2,
         240580042,
         4,
         35,
         11,
         1,
         1
        ],
        [
         "Iris",
         "The Goo Goo Dolls",
         1,
         1998,
         3,
         31,
         13101,
         9,
         1284942608,
         137,
         5,
         582,
         0,
         0
        ],
        [
         "The Heart Part 5",
         "Kendrick Lamar",
         1,
         2022,
         5,
         8,
         2939,
         0,
         71423324,
         29,
         0,
         30,
         0,
         0
        ],
        [
         "San Lucas",
         "Kevin Kaarl",
         1,
         2019,
         11,
         7,
         407,
         1,
         244891912,
         5,
         0,
         5,
         0,
         0
        ],
        [
         "This Love (Taylor���s Ve",
         "Taylor Swift",
         1,
         2022,
         5,
         6,
         1492,
         0,
         132171975,
         26,
         2,
         15,
         0,
         2
        ],
        [
         "Good Looking",
         "Suki Waterhouse",
         1,
         2017,
         10,
         20,
         2264,
         0,
         184706613,
         11,
         6,
         25,
         0,
         1
        ],
        [
         "Flowers",
         "Lauren Spencer Smith",
         1,
         2021,
         8,
         9,
         801,
         0,
         184826429,
         42,
         9,
         24,
         1,
         1
        ],
        [
         "Yet To Come",
         "BTS",
         1,
         2022,
         6,
         10,
         829,
         0,
         302006641,
         32,
         110,
         26,
         0,
         0
        ],
        [
         "Run BTS",
         "BTS",
         1,
         2022,
         6,
         10,
         736,
         0,
         330881149,
         5,
         132,
         17,
         0,
         3
        ],
        [
         "Music For a Sushi Restaurant",
         "Harry Styles",
         1,
         2022,
         5,
         20,
         4449,
         1,
         334733572,
         80,
         11,
         66,
         0,
         1
        ],
        [
         "Matilda",
         "Harry Styles",
         1,
         2022,
         5,
         20,
         3218,
         3,
         366214458,
         29,
         10,
         79,
         0,
         0
        ],
        [
         "For Youth",
         "BTS",
         1,
         2022,
         6,
         10,
         327,
         0,
         114546317,
         5,
         40,
         12,
         0,
         0
        ],
        [
         "Daylight",
         "Harry Styles",
         1,
         2022,
         5,
         20,
         2775,
         0,
         290833204,
         21,
         11,
         40,
         0,
         0
        ],
        [
         "Vegas (From the Original Motion Picture Soundtrack ELVIS)",
         "Doja Cat",
         1,
         2022,
         5,
         6,
         4576,
         0,
         448500832,
         79,
         13,
         93,
         0,
         17
        ],
        [
         "Cash In Cash Out",
         "Pharrell Williams, Tyler, The Creator, 21 Savage",
         4,
         2022,
         6,
         10,
         2313,
         0,
         136676504,
         34,
         0,
         29,
         0,
         0
        ],
        [
         "Potion (with Dua Lipa & Young Thug)",
         "Calvin Harris, Dua Lipa, Young Thug",
         3,
         2022,
         5,
         27,
         3983,
         0,
         190625045,
         73,
         45,
         119,
         0,
         0
        ],
        [
         "Born Singer",
         "BTS",
         1,
         2022,
         6,
         10,
         279,
         0,
         79095270,
         0,
         18,
         6,
         0,
         0
        ],
        [
         "Little Freak",
         "Harry Styles",
         1,
         2022,
         5,
         20,
         2302,
         0,
         273194684,
         20,
         3,
         39,
         0,
         0
        ],
        [
         "La Llevo Al Cielo (Ft. ��engo F",
         "Nengo Flow, Anuel Aa, Chris Jedi, Chencho Corleone",
         4,
         2022,
         5,
         20,
         3559,
         3,
         333146475,
         36,
         1,
         31,
         0,
         1
        ],
        [
         "True Love",
         "Kanye West, XXXTENTACION",
         2,
         2022,
         5,
         27,
         2129,
         0,
         194902696,
         23,
         1,
         44,
         1,
         0
        ],
        [
         "Satellite",
         "Harry Styles",
         1,
         2022,
         5,
         20,
         3291,
         5,
         311482393,
         43,
         28,
         79,
         0,
         208
        ],
        [
         "Pass The Dutchie",
         "Musical Youth",
         1,
         1982,
         1,
         1,
         5328,
         0,
         195918494,
         54,
         76,
         900,
         0,
         0
        ],
        [
         "Villano Antillano: Bzrp Music Sessions, Vol. 51",
         "Bizarrap, Villano Antillano",
         2,
         2022,
         6,
         8,
         1401,
         0,
         248511839,
         26,
         16,
         17,
         0,
         1
        ],
        [
         "Love Of My Life",
         "Harry Styles",
         1,
         2022,
         5,
         20,
         1933,
         0,
         233671263,
         13,
         2,
         31,
         0,
         0
        ],
        [
         "Grapejuice",
         "Harry Styles",
         1,
         2022,
         5,
         20,
         1986,
         0,
         199587884,
         7,
         1,
         15,
         0,
         0
        ],
        [
         "So Good",
         "Halsey",
         1,
         2022,
         6,
         9,
         1057,
         0,
         91781263,
         51,
         14,
         19,
         0,
         0
        ],
        [
         "Belly Dancer",
         "BYOR, Imanbek",
         2,
         2022,
         2,
         18,
         5115,
         13,
         383835984,
         109,
         38,
         301,
         1,
         33
        ],
        [
         "Keep Driving",
         "Harry Styles",
         1,
         2022,
         5,
         20,
         2094,
         1,
         236060709,
         8,
         1,
         18,
         0,
         0
        ],
        [
         "Cinema",
         "Harry Styles",
         1,
         2022,
         5,
         20,
         2171,
         0,
         189236868,
         18,
         1,
         28,
         0,
         0
        ],
        [
         "Die Young (feat. 347aidan)",
         "Sleepy hallow, 347aidan",
         2,
         2022,
         5,
         25,
         896,
         0,
         160845341,
         19,
         0,
         15,
         0,
         0
        ],
        [
         "Only Love Can Hurt Like This",
         "Paloma Faith",
         1,
         2014,
         1,
         1,
         5148,
         0,
         588955257,
         90,
         22,
         365,
         0,
         114
        ],
        [
         "Hold My Hand",
         "Lady Gaga",
         1,
         2022,
         5,
         3,
         2528,
         0,
         238350348,
         63,
         8,
         270,
         2,
         105
        ],
        [
         "Daydreaming",
         "Harry Styles",
         1,
         2022,
         5,
         20,
         1900,
         1,
         187703102,
         15,
         1,
         23,
         0,
         0
        ],
        [
         "Numb",
         "Marshmello, Khalid",
         2,
         2022,
         6,
         10,
         3879,
         2,
         295307001,
         107,
         76,
         86,
         1,
         9
        ],
        [
         "Nos Comemos (feat. Ozuna)",
         "Ozuna, Tiago pzk",
         2,
         2022,
         6,
         2,
         896,
         0,
         138334433,
         0,
         0,
         2,
         0,
         0
        ],
        [
         "Me and Your Mama",
         "Childish Gambino",
         1,
         2016,
         11,
         10,
         8775,
         0,
         445590495,
         33,
         60,
         107,
         1,
         0
        ],
        [
         "Crazy What Love Can Do",
         "David Guetta, Ella Henderson, Becky Hill",
         3,
         2022,
         3,
         18,
         5290,
         0,
         286739476,
         139,
         73,
         142,
         0,
         5
        ],
        [
         "SLOW DANCING IN THE DARK",
         "Joji",
         1,
         2018,
         9,
         12,
         10211,
         0,
         1122364376,
         38,
         79,
         65,
         0,
         1
        ],
        [
         "Antes de Perderte",
         "Duki",
         1,
         2022,
         6,
         2,
         584,
         8,
         157136970,
         12,
         1,
         8,
         0,
         1
        ],
        [
         "Boyfriends",
         "Harry Styles",
         1,
         2022,
         5,
         20,
         1517,
         0,
         137070925,
         26,
         2,
         30,
         0,
         0
        ],
        [
         "295",
         "Sidhu Moose Wala",
         1,
         2021,
         5,
         15,
         246,
         4,
         183273246,
         4,
         106,
         0,
         0,
         7
        ],
        [
         "Tak Ingin Usai",
         "Keisya Levronka",
         1,
         2022,
         5,
         13,
         220,
         4,
         184807630,
         16,
         5,
         0,
         0,
         6
        ],
        [
         "En El Radio Un Cochinero",
         "Victor Cibrian",
         1,
         2022,
         5,
         13,
         514,
         0,
         164856284,
         5,
         36,
         1,
         0,
         0
        ],
        [
         "Master of Puppets (Remastered)",
         "Metallica",
         1,
         1986,
         3,
         3,
         6080,
         0,
         704171068,
         112,
         198,
         406,
         1,
         0
        ],
        [
         "BREAK MY SOUL",
         "Beyonc�",
         1,
         2022,
         6,
         21,
         9724,
         0,
         354614964,
         222,
         61,
         259,
         14,
         2
        ],
        [
         "ULTRA SOLO REMIX",
         "De La Ghetto, Feid, Polima WestCoast, Paloma Mami, Pailita",
         5,
         2022,
         6,
         16,
         2341,
         0,
         279717388,
         37,
         2,
         38,
         2,
         0
        ],
        [
         "Massive",
         "Drake",
         1,
         2022,
         6,
         17,
         5263,
         0,
         195628667,
         66,
         89,
         61,
         0,
         11
        ],
        [
         "Betty (Get Money)",
         "Yung Gravy",
         1,
         2022,
         6,
         10,
         2402,
         0,
         221752937,
         45,
         2,
         26,
         0,
         1
        ],
        [
         "Ojos Marrones",
         "Lasso",
         1,
         2022,
         2,
         6,
         795,
         11,
         263280370,
         26,
         18,
         15,
         1,
         4
        ],
        [
         "POP!",
         "Nayeon",
         1,
         2022,
         6,
         24,
         571,
         0,
         213505179,
         19,
         21,
         14,
         0,
         2
        ],
        [
         "Layla",
         "Sch��rze, DJ R",
         2,
         2022,
         3,
         24,
         832,
         3,
         130419412,
         18,
         124,
         24,
         1,
         0
        ],
        [
         "MORE",
         "j-hope",
         1,
         2022,
         7,
         1,
         565,
         0,
         155795783,
         6,
         52,
         11,
         0,
         0
        ],
        [
         "Sweet Child O' Mine",
         "Guns N' Roses",
         1,
         1987,
         1,
         1,
         41231,
         1,
         1553497987,
         228,
         151,
         null,
         3,
         99
        ],
        [
         "Last Last",
         "Burna Boy",
         1,
         2022,
         5,
         12,
         4526,
         12,
         293466523,
         156,
         275,
         150,
         3,
         128
        ],
        [
         "SNAP",
         "Rosa Linn",
         1,
         2022,
         3,
         19,
         1818,
         0,
         711366595,
         3,
         0,
         63,
         0,
         353
        ],
        [
         "Sticky",
         "Drake",
         1,
         2022,
         6,
         17,
         2814,
         0,
         191448892,
         38,
         105,
         25,
         0,
         2
        ],
        [
         "Hot Shit (feat. Ye & Lil Durk)",
         "Kanye West, Lil Durk, Cardi B",
         3,
         2022,
         7,
         1,
         1601,
         0,
         85924992,
         11,
         0,
         2,
         0,
         0
        ],
        [
         "Ai Preto",
         "L7nnon, DJ Biel do Furduncinho, Bianca",
         3,
         2022,
         6,
         3,
         894,
         4,
         176103902,
         28,
         0,
         54,
         0,
         0
        ],
        [
         "La Loto",
         "Anitta, Tini, Becky G",
         3,
         2022,
         7,
         6,
         945,
         0,
         121189256,
         49,
         3,
         57,
         0,
         0
        ],
        [
         "die first",
         "Nessa Barrett",
         1,
         2022,
         6,
         24,
         767,
         0,
         131746175,
         25,
         0,
         22,
         0,
         0
        ],
        [
         "Afraid To Feel",
         "LF System",
         1,
         2022,
         5,
         2,
         5898,
         5,
         244790012,
         129,
         55,
         128,
         0,
         101
        ],
        [
         "Baile no Morro",
         "Mc Vitin Da Igrejinha, MC Tairon, DJ Win",
         3,
         2022,
         6,
         10,
         685,
         2,
         129314708,
         17,
         0,
         24,
         0,
         30
        ],
        [
         "c��mo dormi",
         "Rels B",
         1,
         2022,
         8,
         4,
         1452,
         35,
         331511413,
         16,
         15,
         20,
         0,
         0
        ],
        [
         "Bad Decisions (with BTS & Snoop Dogg)",
         "Snoop Dogg, BTS, Benny Blanco",
         3,
         2022,
         8,
         5,
         1456,
         0,
         219196651,
         53,
         2,
         33,
         0,
         0
        ],
        [
         "STAYING ALIVE (feat. Drake & Lil Baby)",
         "Drake, DJ Khaled, Lil Baby",
         3,
         2022,
         8,
         5,
         2107,
         0,
         170732845,
         51,
         1,
         50,
         0,
         0
        ],
        [
         "Caile",
         "Luar La L",
         1,
         2020,
         12,
         18,
         1494,
         2,
         273914335,
         17,
         12,
         15,
         0,
         0
        ],
        [
         "Si Te La Encuentras Por Ah�",
         "Feid",
         1,
         2022,
         8,
         5,
         1379,
         4,
         179061440,
         23,
         10,
         18,
         0,
         0
        ],
        [
         "GIVENCHY",
         "Duki",
         1,
         2022,
         7,
         20,
         625,
         4,
         185236961,
         13,
         18,
         12,
         0,
         0
        ],
        [
         "ALIEN SUPERSTAR",
         "Beyonc�",
         1,
         2022,
         7,
         29,
         2688,
         0,
         171788484,
         39,
         47,
         36,
         0,
         0
        ],
        [
         "Mary On A Cross",
         "Ghost",
         1,
         2019,
         9,
         13,
         2668,
         2,
         387080183,
         38,
         266,
         78,
         0,
         141
        ],
        [
         "Attention",
         "NewJeans",
         1,
         2022,
         8,
         1,
         799,
         12,
         264717480,
         14,
         141,
         9,
         0,
         1
        ],
        [
         "THE SHADE",
         "Rex Orange County",
         1,
         2022,
         3,
         11,
         1189,
         6,
         244928911,
         17,
         10,
         16,
         0,
         4
        ],
        [
         "Come Back Home - From \"Purple Hearts\"",
         "Sofia Carson",
         1,
         2022,
         7,
         12,
         367,
         0,
         97610446,
         28,
         67,
         195,
         0,
         0
        ],
        [
         "El Rescate",
         "Grupo Marca Registrada, Junior H",
         2,
         2022,
         7,
         22,
         527,
         4,
         287278853,
         10,
         43,
         3,
         1,
         0
        ],
        [
         "Heartless",
         "Kanye West",
         1,
         2008,
         1,
         1,
         17504,
         34,
         887906111,
         63,
         39,
         null,
         0,
         2
        ],
        [
         "Stay With Me (with Justin Timberlake, Halsey, & Pharrell)",
         "Calvin Harris, Halsey, Pharrell Williams, Justin Timberlake",
         4,
         2022,
         7,
         15,
         3113,
         0,
         123473120,
         54,
         6,
         124,
         1,
         0
        ],
        [
         "Siempre Pendientes",
         "Peso Pluma, Luis R Conriquez",
         2,
         2022,
         8,
         15,
         685,
         5,
         295152154,
         15,
         79,
         4,
         2,
         0
        ],
        [
         "JGL",
         "Luis R Conriquez, La Adictiva",
         2,
         2022,
         2,
         18,
         782,
         9,
         323455692,
         15,
         33,
         6,
         1,
         0
        ],
        [
         "Don't You Worry",
         "David Guetta, Shakira, Black Eyed Peas",
         3,
         2022,
         6,
         16,
         2442,
         0,
         240918092,
         81,
         4,
         248,
         1,
         6
        ],
        [
         "Pipoco",
         "Melody, Ana Castela, Dj Chris No Beat",
         3,
         2022,
         5,
         20,
         1112,
         4,
         191873381,
         22,
         2,
         65,
         1,
         3
        ],
        [
         "Hold Me Closer",
         "Elton John, Britney Spears",
         2,
         2017,
         11,
         10,
         4967,
         0,
         284216603,
         165,
         10,
         177,
         4,
         73
        ],
        [
         "Forget Me",
         "Lewis Capaldi",
         1,
         2022,
         9,
         9,
         2520,
         4,
         239411309,
         93,
         95,
         84,
         9,
         202
        ],
        [
         "After LIKE",
         "IVE",
         1,
         2022,
         8,
         22,
         767,
         12,
         265548837,
         20,
         129,
         11,
         0,
         12
        ],
        [
         "Bound 2",
         "Kanye West",
         1,
         2013,
         1,
         1,
         19806,
         7,
         703301727,
         33,
         11,
         274,
         0,
         0
        ],
        [
         "B.O.T.A. (Baddest Of Them All) - Edit",
         "Interplanetary Criminal, Eliza Rose",
         2,
         2022,
         6,
         15,
         5153,
         6,
         244585109,
         102,
         53,
         113,
         12,
         0
        ],
        [
         "Talk that Talk",
         "TWICE",
         1,
         2022,
         8,
         26,
         615,
         0,
         189476119,
         14,
         77,
         15,
         1,
         2
        ],
        [
         "BILLIE EILISH.",
         "Armani White",
         1,
         2022,
         1,
         20,
         2537,
         0,
         277132266,
         49,
         1,
         67,
         11,
         1
        ],
        [
         "Ferxxo 100",
         "Feid",
         1,
         2022,
         6,
         3,
         1647,
         30,
         278920007,
         20,
         49,
         23,
         2,
         2
        ],
        [
         "KU LO SA - A COLORS SHOW",
         "Oxlade",
         1,
         2022,
         6,
         10,
         2019,
         8,
         222410722,
         117,
         72,
         107,
         1,
         7
        ],
        [
         "Prohibidox",
         "Feid",
         1,
         2022,
         9,
         13,
         1473,
         12,
         185392587,
         25,
         36,
         25,
         1,
         0
        ],
        [
         "Static",
         "Steve Lacy",
         1,
         2022,
         7,
         15,
         1613,
         0,
         202452860,
         21,
         15,
         13,
         0,
         0
        ],
        [
         "The Scientist",
         "Coldplay",
         1,
         2002,
         8,
         5,
         30992,
         6,
         1608164312,
         124,
         25,
         null,
         1,
         0
        ],
        [
         "Sparks",
         "Coldplay",
         1,
         2000,
         7,
         10,
         10826,
         4,
         624101957,
         24,
         0,
         805,
         0,
         0
        ],
        [
         "Talk",
         "YEAT",
         1,
         2022,
         9,
         2,
         920,
         0,
         148461629,
         10,
         1,
         8,
         0,
         0
        ],
        [
         "XQ Te Pones As�",
         "Yandel, Feid",
         2,
         2022,
         9,
         13,
         308,
         0,
         47093942,
         6,
         1,
         6,
         0,
         0
        ],
        [
         "Selfish",
         "PnB Rock",
         1,
         2016,
         6,
         23,
         2468,
         0,
         380319238,
         15,
         0,
         0,
         0,
         0
        ],
        [
         "Sin Se��",
         "Ovy On The Drums, Quevedo",
         2,
         2022,
         7,
         22,
         1097,
         2,
         209106362,
         18,
         10,
         13,
         1,
         1
        ],
        [
         "Lady Mi Amor",
         "Feid",
         1,
         2022,
         9,
         13,
         330,
         0,
         53987404,
         3,
         0,
         2,
         0,
         0
        ],
        [
         "Poland",
         "Lil Yachty",
         1,
         2022,
         6,
         23,
         1584,
         0,
         115331792,
         38,
         0,
         24,
         0,
         0
        ],
        [
         "THE LONELIEST",
         "M��ne",
         1,
         2022,
         10,
         7,
         1585,
         5,
         225093344,
         78,
         65,
         328,
         1,
         198
        ],
        [
         "Bye Bye",
         "Marshmello, Juice WRLD",
         2,
         2022,
         10,
         14,
         766,
         0,
         84697729,
         16,
         0,
         9,
         0,
         0
        ],
        [
         "BABY OTAKU",
         "Fran C, Polima WestCoast, Nickoog Clk, Pablito Pesadilla",
         4,
         2022,
         8,
         18,
         836,
         0,
         159240673,
         14,
         1,
         13,
         0,
         0
        ],
        [
         "Nxde",
         "(G)I-DLE",
         1,
         2022,
         10,
         17,
         430,
         6,
         170709584,
         14,
         116,
         9,
         0,
         11
        ],
        [
         "Miss You",
         "Southstar",
         1,
         1982,
         5,
         16,
         2020,
         0,
         154356956,
         77,
         10,
         119,
         0,
         40
        ],
        [
         "we fell in love in october",
         "girl in red",
         1,
         2018,
         11,
         21,
         6858,
         0,
         723043854,
         31,
         21,
         15,
         0,
         4
        ],
        [
         "2 Be Loved (Am I Ready)",
         "Lizzo",
         1,
         2022,
         7,
         14,
         3682,
         6,
         247689123,
         41,
         0,
         158,
         2,
         68
        ],
        [
         "Celestial",
         "Ed Sheeran",
         1,
         2022,
         9,
         29,
         1639,
         0,
         176474912,
         86,
         14,
         80,
         0,
         37
        ],
        [
         "Typa Girl",
         "BLACKPINK",
         1,
         2022,
         9,
         16,
         452,
         10,
         235549288,
         2,
         129,
         13,
         0,
         1
        ],
        [
         "I Really Want to Stay at Your House",
         "Rosa Walton, Hallie Coggins",
         2,
         2020,
         12,
         18,
         668,
         1,
         140430339,
         0,
         0,
         31,
         0,
         null
        ],
        [
         "California Breeze",
         "Lil Baby",
         1,
         2022,
         10,
         14,
         991,
         0,
         85559365,
         36,
         38,
         13,
         0,
         3
        ],
        [
         "Bamba (feat. Aitch & BIA)",
         "Luciano, Aitch, B�",
         3,
         2022,
         9,
         22,
         869,
         7,
         146223492,
         14,
         12,
         12,
         2,
         28
        ],
        [
         "Casei Com a Putaria",
         "MC Ryan SP, Love Funk, Mc Paiva ZS",
         3,
         2022,
         7,
         1,
         648,
         4,
         187701588,
         0,
         0,
         30,
         0,
         0
        ],
        [
         "Major Distribution",
         "Drake, 21 Savage",
         2,
         2022,
         11,
         4,
         1545,
         0,
         154863153,
         22,
         7,
         15,
         0,
         0
        ],
        [
         "Pussy & Millions (feat. Travis Scott)",
         "Drake, Travis Scott, 21 Savage",
         3,
         2022,
         11,
         4,
         1930,
         0,
         191333656,
         24,
         8,
         17,
         0,
         1
        ],
        [
         "Vigilante Shit",
         "Taylor Swift",
         1,
         2022,
         10,
         21,
         1948,
         0,
         253650850,
         12,
         9,
         16,
         0,
         0
        ],
        [
         "Question...?",
         "Taylor Swift",
         1,
         2022,
         10,
         21,
         1608,
         0,
         223064273,
         10,
         3,
         12,
         0,
         0
        ],
        [
         "On BS",
         "Drake, 21 Savage",
         2,
         2022,
         11,
         4,
         1338,
         0,
         170413877,
         9,
         20,
         7,
         0,
         0
        ],
        [
         "Mastermind",
         "Taylor Swift",
         1,
         2022,
         10,
         21,
         1936,
         0,
         218320587,
         7,
         5,
         13,
         0,
         0
        ],
        [
         "Circo Loco",
         "Drake, 21 Savage",
         2,
         2022,
         11,
         4,
         1794,
         0,
         141720999,
         26,
         9,
         17,
         0,
         3
        ],
        [
         "Labyrinth",
         "Taylor Swift",
         1,
         2022,
         10,
         21,
         1597,
         0,
         187339835,
         6,
         3,
         15,
         0,
         0
        ],
        [
         "Spin Bout U",
         "Drake, 21 Savage",
         2,
         2022,
         11,
         4,
         1652,
         2,
         198365537,
         26,
         52,
         10,
         0,
         95
        ],
        [
         "Sweet Nothing",
         "Taylor Swift",
         1,
         2022,
         10,
         21,
         1747,
         0,
         186104310,
         9,
         6,
         13,
         0,
         2
        ],
        [
         "Would've, Could've, Should've",
         "Taylor Swift",
         1,
         2022,
         10,
         21,
         1715,
         0,
         177503916,
         4,
         5,
         8,
         0,
         0
        ],
        [
         "Con La Brisa",
         "Ludwig Goransson, Foudeqush",
         2,
         2022,
         11,
         4,
         486,
         0,
         71095708,
         8,
         1,
         7,
         0,
         0
        ],
        [
         "Privileged Rappers",
         "Drake, 21 Savage",
         2,
         2022,
         11,
         4,
         1007,
         0,
         112436403,
         6,
         5,
         3,
         0,
         0
        ],
        [
         "The Astronaut",
         "Jin",
         1,
         2022,
         10,
         28,
         481,
         9,
         203436468,
         10,
         100,
         15,
         1,
         27
        ],
        [
         "BackOutsideBoyz",
         "Drake",
         1,
         2022,
         11,
         4,
         1045,
         0,
         93367537,
         8,
         5,
         2,
         0,
         0
        ],
        [
         "Broke Boys",
         "Drake, 21 Savage",
         2,
         2022,
         11,
         4,
         1060,
         0,
         106249219,
         3,
         8,
         5,
         0,
         0
        ],
        [
         "The Great War",
         "Taylor Swift",
         1,
         2022,
         10,
         21,
         1274,
         0,
         181382590,
         1,
         6,
         11,
         0,
         0
        ],
        [
         "My Mind & Me",
         "Selena Gomez",
         1,
         2022,
         11,
         3,
         953,
         0,
         91473363,
         61,
         13,
         37,
         1,
         0
        ],
        [
         "Bigger Than The Whole Sky",
         "Taylor Swift",
         1,
         2022,
         10,
         21,
         1180,
         0,
         121871870,
         4,
         0,
         8,
         0,
         0
        ],
        [
         "A Veces (feat. Feid)",
         "Feid, Paulo Londra",
         2,
         2022,
         11,
         3,
         573,
         0,
         73513683,
         2,
         0,
         7,
         0,
         0
        ],
        [
         "En La De Ella",
         "Feid, Sech, Jhayco",
         3,
         2022,
         10,
         20,
         1320,
         0,
         133895612,
         29,
         26,
         17,
         0,
         0
        ],
        [
         "Alone",
         "Burna Boy",
         1,
         2022,
         11,
         4,
         782,
         2,
         96007391,
         27,
         18,
         32,
         1,
         0
        ]
       ],
       "datasetInfos": [],
       "dbfsResultPath": null,
       "isJsonSchema": true,
       "metadata": {
        "dataframeName": "_sqldf",
        "executionCount": 22
       },
       "overflow": false,
       "plotOptions": {
        "customPlotOptions": {},
        "displayType": "table",
        "pivotAggregation": null,
        "pivotColumns": null,
        "xColumns": null,
        "yColumns": null
       },
       "removedWidgets": [],
       "schema": [
        {
         "metadata": "{}",
         "name": "track_name",
         "type": "\"string\""
        },
        {
         "metadata": "{}",
         "name": "artist(s)_name",
         "type": "\"string\""
        },
        {
         "metadata": "{}",
         "name": "artist_count",
         "type": "\"integer\""
        },
        {
         "metadata": "{}",
         "name": "released_year",
         "type": "\"integer\""
        },
        {
         "metadata": "{}",
         "name": "released_month",
         "type": "\"integer\""
        },
        {
         "metadata": "{}",
         "name": "released_day",
         "type": "\"integer\""
        },
        {
         "metadata": "{}",
         "name": "in_spotify_playlists",
         "type": "\"integer\""
        },
        {
         "metadata": "{}",
         "name": "in_spotify_charts",
         "type": "\"integer\""
        },
        {
         "metadata": "{}",
         "name": "streams",
         "type": "\"integer\""
        },
        {
         "metadata": "{}",
         "name": "in_apple_playlists",
         "type": "\"integer\""
        },
        {
         "metadata": "{}",
         "name": "in_apple_charts",
         "type": "\"integer\""
        },
        {
         "metadata": "{}",
         "name": "in_deezer_playlists",
         "type": "\"integer\""
        },
        {
         "metadata": "{}",
         "name": "in_deezer_charts",
         "type": "\"integer\""
        },
        {
         "metadata": "{}",
         "name": "in_shazam_charts",
         "type": "\"integer\""
        }
       ],
       "type": "table"
      }
     },
     "output_type": "display_data"
    },
    {
     "output_type": "display_data",
     "data": {
      "text/plain": [
       "Databricks visualization. Run in Databricks to view."
      ]
     },
     "metadata": {
      "application/vnd.databricks.v1.subcommand+json": {
       "baseErrorDetails": null,
       "bindings": {},
       "collapsed": false,
       "command": "%sql WITH q AS (select * from track_names) SELECT `released_year`,COUNT(`track_name`) `column_1b688bb67` FROM q GROUP BY `released_year`",
       "commandTitle": "Visualization 1",
       "commandType": "auto",
       "commandVersion": 0,
       "commentThread": [],
       "commentsVisible": false,
       "contentSha256Hex": null,
       "customPlotOptions": {
        "redashChart": [
         {
          "key": "type",
          "value": "CHART"
         },
         {
          "key": "options",
          "value": {
           "alignYAxesAtZero": true,
           "coefficient": 1,
           "columnConfigurationMap": {
            "x": {
             "column": "released_year",
             "id": "column_1b688bb64"
            },
            "y": [
             {
              "column": "track_name",
              "id": "column_1b688bb67",
              "transform": "COUNT"
             }
            ]
           },
           "dateTimeFormat": "DD/MM/YYYY HH:mm",
           "direction": {
            "type": "counterclockwise"
           },
           "error_y": {
            "type": "data",
            "visible": true
           },
           "globalSeriesType": "pie",
           "isAggregationOn": true,
           "legend": {
            "traceorder": "normal"
           },
           "missingValuesAsZero": true,
           "numberFormat": "0,0.[00000]",
           "percentFormat": "0[.]00%",
           "series": {
            "error_y": {
             "type": "data",
             "visible": true
            },
            "stacking": null
           },
           "seriesOptions": {
            "column_1b688bb67": {
             "type": "pie",
             "yAxis": 0
            }
           },
           "showDataLabels": true,
           "sizemode": "diameter",
           "sortX": true,
           "sortY": true,
           "swappedAxes": false,
           "textFormat": "",
           "useAggregationsUi": true,
           "valuesOptions": {},
           "version": 2,
           "xAxis": {
            "labels": {
             "enabled": true
            },
            "type": "-"
           },
           "yAxis": [
            {
             "type": "-"
            },
            {
             "opposite": true,
             "type": "-"
            }
           ]
          }
         }
        ]
       },
       "datasetPreviewNameToCmdIdMap": {},
       "diffDeletes": [],
       "diffInserts": [],
       "displayType": "redashChart",
       "error": null,
       "errorDetails": null,
       "errorSummary": null,
       "errorTraceType": null,
       "finishTime": 0,
       "globalVars": {},
       "guid": "",
       "height": "auto",
       "hideCommandCode": false,
       "hideCommandResult": false,
       "iPythonMetadata": null,
       "inputWidgets": {},
       "isLockedInExamMode": false,
       "latestUser": "a user",
       "latestUserId": null,
       "listResultMetadata": null,
       "metadata": {},
       "nuid": "bf48dd8e-b750-463f-998f-120654d4e724",
       "origId": 0,
       "parentHierarchy": [],
       "pivotAggregation": null,
       "pivotColumns": null,
       "position": 11.0,
       "resultDbfsErrorMessage": null,
       "resultDbfsStatus": "INLINED_IN_TREE",
       "results": null,
       "showCommandTitle": false,
       "startTime": 0,
       "state": "input",
       "streamStates": {},
       "subcommandOptions": {
        "queryPlan": {
         "groups": [
          {
           "column": "released_year",
           "type": "column"
          }
         ],
         "selects": [
          {
           "column": "released_year",
           "type": "column"
          },
          {
           "alias": "column_1b688bb67",
           "args": [
            {
             "column": "track_name",
             "type": "column"
            }
           ],
           "function": "COUNT",
           "type": "function"
          }
         ]
        }
       },
       "submitTime": 0,
       "subtype": "tableResultSubCmd.visualization",
       "tableResultIndex": 0,
       "useConsistentColors": false,
       "version": "CommandV1",
       "width": "auto",
       "workflows": [],
       "xColumns": null,
       "yColumns": null
      }
     },
     "output_type": "display_data"
    }
   ],
   "source": [
    "%sql select * from track_names"
   ]
  },
  {
   "cell_type": "code",
   "execution_count": 0,
   "metadata": {
    "application/vnd.databricks.v1+cell": {
     "cellMetadata": {
      "byteLimit": 2048000,
      "implicitDf": true,
      "rowLimit": 10000
     },
     "inputWidgets": {},
     "nuid": "538b5350-3819-4d62-bb7e-e2a62871bcf0",
     "showTitle": false,
     "title": ""
    }
   },
   "outputs": [
    {
     "output_type": "display_data",
     "data": {
      "text/html": [
       "<style scoped>\n",
       "  .table-result-container {\n",
       "    max-height: 300px;\n",
       "    overflow: auto;\n",
       "  }\n",
       "  table, th, td {\n",
       "    border: 1px solid black;\n",
       "    border-collapse: collapse;\n",
       "  }\n",
       "  th, td {\n",
       "    padding: 5px;\n",
       "  }\n",
       "  th {\n",
       "    text-align: left;\n",
       "  }\n",
       "</style><div class='table-result-container'><table class='table-result'><thead style='background-color: white'><tr><th>track_name</th><th>sum(artist_count)</th></tr></thead><tbody><tr><td>Los del Espacio</td><td>8</td></tr><tr><td>Se Le Ve</td><td>8</td></tr><tr><td>Cay�� La Noche (feat. Cruz Cafun��, Abhir Hathi, Bejo, EL IMA)</td><td>7</td></tr><tr><td>We Don't Talk About Bruno</td><td>7</td></tr><tr><td>Nobody Like U - From \"Turning Red\"</td><td>6</td></tr><tr><td>Jhoome Jo Pathaan</td><td>6</td></tr><tr><td>Besharam Rang (From \"Pathaan\")</td><td>6</td></tr><tr><td>Angel Pt 1 (feat. Jimin of BTS, JVKE & Muni Long)</td><td>5</td></tr><tr><td>ULTRA SOLO REMIX</td><td>5</td></tr><tr><td>Tere Vaaste (From \"Zara Hatke Zara Bachke\")</td><td>5</td></tr><tr><td>Link Up (Metro Boomin & Don Toliver, Wizkid feat. BEAM & Toian) - Spider-Verse Remix (Spider-Man: Across the Spider-Verse )</td><td>5</td></tr><tr><td>Marisola - Remix</td><td>5</td></tr><tr><td>BABY OTAKU</td><td>4</td></tr><tr><td>Calling (Spider-Man: Across the Spider-Verse) (Metro Boomin & Swae Lee, NAV, feat. A Boogie Wit da Hoodie)</td><td>4</td></tr><tr><td>sentaDONA (Remix) s2</td><td>4</td></tr><tr><td>Novo Balan�</td><td>4</td></tr><tr><td>Tubar��o Te</td><td>4</td></tr><tr><td>Friday (feat. Mufasa & Hypeman) - Dopamine Re-Edit</td><td>4</td></tr><tr><td>OUT OUT (feat. Charli XCX & Saweetie)</td><td>4</td></tr><tr><td>Stay With Me (with Justin Timberlake, Halsey, & Pharrell)</td><td>4</td></tr><tr><td>Entre Nosotros (Remix) [con Nicki Nicole]</td><td>4</td></tr><tr><td>POLARIS - Remix</td><td>4</td></tr><tr><td>Cash In Cash Out</td><td>4</td></tr><tr><td>Enemy (with JID) - from the series Arcane League of Legends</td><td>4</td></tr><tr><td>Happy Xmas (War Is Over)</td><td>4</td></tr><tr><td>La Llevo Al Cielo (Ft. ��engo F</td><td>4</td></tr><tr><td>Annihilate (Spider-Man: Across the Spider-Verse) (Metro Boomin & Swae Lee, Lil Wayne, Offset)</td><td>4</td></tr><tr><td>Baby Don't Hurt Me</td><td>3</td></tr><tr><td>The Family Madrigal</td><td>3</td></tr><tr><td>Pipoco</td><td>3</td></tr><tr><td>Vampiro</td><td>3</td></tr><tr><td>AM Remix</td><td>3</td></tr><tr><td>Cold Heart - PNAU Remix</td><td>3</td></tr><tr><td>Way 2 Sexy (with Future & Young Thug)</td><td>3</td></tr><tr><td>Miss You</td><td>3</td></tr><tr><td>VAGABUNDO</td><td>3</td></tr><tr><td>MERCHO</td><td>3</td></tr><tr><td>Kesariya (From \"Brahmastra\")</td><td>3</td></tr><tr><td>Knife Talk (with 21 Savage ft. Project Pat)</td><td>3</td></tr><tr><td>Fingers Crossed</td><td>3</td></tr><tr><td>La Loto</td><td>3</td></tr><tr><td>Sad Girlz Luv Money Remix (feat. Kali Uchis)</td><td>3</td></tr><tr><td>Popular (with Playboi Carti & Madonna) - The Idol Vol. 1 (Music from the HBO Original Series)</td><td>3</td></tr><tr><td>Can't Hold Us (feat. Ray Dalton)</td><td>3</td></tr><tr><td>Pussy & Millions (feat. Travis Scott)</td><td>3</td></tr><tr><td>Malvad��</td><td>3</td></tr><tr><td>Phir Aur Kya Chahiye (From \"Zara Hatke Zara Bachke\")</td><td>3</td></tr><tr><td>Medallo</td><td>3</td></tr><tr><td>Too Many Nights (feat. Don Toliver & with Future)</td><td>3</td></tr><tr><td>See You Again</td><td>3</td></tr><tr><td>Trance (with Travis Scott & Young Thug)</td><td>3</td></tr><tr><td>Rumble</td><td>3</td></tr><tr><td>Lo Siento BB:/ (with Bad Bunny & Julieta Venegas)</td><td>3</td></tr><tr><td>En La De Ella</td><td>3</td></tr><tr><td>Savior</td><td>3</td></tr><tr><td>Mejor Que Yo</td><td>3</td></tr><tr><td>Dreamers [Music from the FIFA World Cup Qatar 2022 Official Soundtrack]</td><td>3</td></tr><tr><td>Meet Me At Our Spot</td><td>3</td></tr><tr><td>Peaches (feat. Daniel Caesar & Giveon)</td><td>3</td></tr><tr><td>Evoque Prata</td><td>3</td></tr><tr><td>Let It Snow! Let It Snow! Let It Snow!</td><td>3</td></tr><tr><td>Get Lucky - Radio Edit</td><td>3</td></tr><tr><td>Casei Com a Putaria</td><td>3</td></tr><tr><td>Left and Right (Feat. Jung Kook of BTS)</td><td>3</td></tr><tr><td>Baile no Morro</td><td>3</td></tr><tr><td>Un Finde | CROSSOVER #2</td><td>3</td></tr><tr><td>LOKERA</td><td>3</td></tr><tr><td>Nost��l</td><td>3</td></tr><tr><td>Ai Preto</td><td>3</td></tr><tr><td>One Dance</td><td>3</td></tr><tr><td>pushin P (feat. Young Thug)</td><td>3</td></tr><tr><td>Leave The Door Open</td><td>3</td></tr><tr><td>Love Nwantiti - Remix</td><td>3</td></tr><tr><td>All The Way Live (Spider-Man: Across the Spider-Verse) (Metro Boomin & Future, Lil Uzi Vert)</td><td>3</td></tr><tr><td>Hot Shit (feat. Ye & Lil Durk)</td><td>3</td></tr><tr><td>Barbie World (with Aqua) [From Barbie The Album]</td><td>3</td></tr><tr><td>Don't You Worry</td><td>3</td></tr><tr><td>S��</td><td>3</td></tr><tr><td>Enemy - from the series Arcane League of Legends</td><td>3</td></tr><tr><td>Pantysito</td><td>3</td></tr><tr><td>Crazy What Love Can Do</td><td>3</td></tr><tr><td>White Christmas</td><td>3</td></tr><tr><td>Numb</td><td>3</td></tr><tr><td>Smokin Out The Window</td><td>3</td></tr><tr><td>Mu��</td><td>3</td></tr><tr><td>Thunder</td><td>3</td></tr><tr><td>El Cielo</td><td>3</td></tr><tr><td>AMG</td><td>3</td></tr><tr><td>Am I Dreaming (Metro Boomin & A$AP Rocky, Roisee)</td><td>3</td></tr><tr><td>Bad Decisions (with BTS & Snoop Dogg)</td><td>3</td></tr><tr><td>Better Days (NEIKED x Mae Muller x Polo G)</td><td>3</td></tr><tr><td>Die Hard</td><td>3</td></tr><tr><td>Superhero (Heroes & Villains) [with Future & Chris Brown]</td><td>3</td></tr><tr><td>Here We Go��� Again (feat. Tyler, the Cr</td><td>3</td></tr><tr><td>Si Quieren Frontear</td><td>3</td></tr><tr><td>Watch This - ARIZONATEARS Pluggnb Remix</td><td>3</td></tr><tr><td>Agudo M��gi</td><td>3</td></tr><tr><td>Bamba (feat. Aitch & BIA)</td><td>3</td></tr><tr><td>Purple Hearts</td><td>3</td></tr><tr><td>Volando - Remix</td><td>3</td></tr><tr><td>STAYING ALIVE (feat. Drake & Lil Baby)</td><td>3</td></tr><tr><td>Mas Rica Que Ayer</td><td>3</td></tr><tr><td>Private Landing (feat. Justin Bieber & Future)</td><td>3</td></tr><tr><td>Potion (with Dua Lipa & Young Thug)</td><td>3</td></tr><tr><td>WAIT FOR U (feat. Drake & Tems)</td><td>3</td></tr><tr><td>Excuses</td><td>3</td></tr><tr><td>LADY GAGA</td><td>3</td></tr><tr><td>California Love - Original Version (Explicit)</td><td>3</td></tr><tr><td>It's Beginning to Look a Lot Like Christmas (with Mitchell Ayres & His Orchestra)</td><td>3</td></tr><tr><td>Creepin'</td><td>3</td></tr><tr><td>City of Gods</td><td>3</td></tr><tr><td>I'm Not Here To Make Friends</td><td>3</td></tr><tr><td>Me Arrepent�</td><td>3</td></tr><tr><td>QUEMA</td><td>3</td></tr><tr><td>Niagara Falls (Foot or 2) [with Travis Scott & 21 Savage]</td><td>3</td></tr><tr><td>SPIT IN MY FACE!</td><td>2</td></tr><tr><td>Lost in the Fire</td><td>2</td></tr><tr><td>ULTRA SOLO</td><td>2</td></tr><tr><td>Besos Moja2</td><td>2</td></tr><tr><td>Mon Amour - Remix</td><td>2</td></tr><tr><td>Con La Brisa</td><td>2</td></tr><tr><td>Escapism. - Sped Up</td><td>2</td></tr><tr><td>Se��o</td><td>2</td></tr><tr><td>Peso Pluma: Bzrp Music Sessions, Vol. 55</td><td>2</td></tr><tr><td>Starboy</td><td>2</td></tr><tr><td>Mother I Sober (feat. Beth Gibbons of Portishead)</td><td>2</td></tr><tr><td>Andrea</td><td>2</td></tr><tr><td>That That (prod. & feat. SUGA of BTS)</td><td>2</td></tr><tr><td>Hold Me Closer</td><td>2</td></tr><tr><td>Shoong! (feat. LISA of BLACKPINK)</td><td>2</td></tr><tr><td>69</td><td>2</td></tr><tr><td>Dijeron Que No La Iba Lograr</td><td>2</td></tr><tr><td>Bar</td><td>2</td></tr><tr><td>Eu Gosto Assim - Ao Vivo</td><td>2</td></tr><tr><td>Father Time (feat. Sampha)</td><td>2</td></tr><tr><td>Ghost in the Machine (feat. Phoebe Bridgers)</td><td>2</td></tr><tr><td>JGL</td><td>2</td></tr><tr><td>PLAYA DEL INGL�</td><td>2</td></tr><tr><td>Tom's Diner</td><td>2</td></tr><tr><td>Conex��es de M��fia (feat. Rich </td><td>2</td></tr><tr><td>Sin Se��</td><td>2</td></tr><tr><td>Hummingbird (Metro Boomin & James Blake)</td><td>2</td></tr><tr><td>Escapism.</td><td>2</td></tr><tr><td>Circo Loco</td><td>2</td></tr><tr><td>10:35</td><td>2</td></tr><tr><td>Tarot</td><td>2</td></tr><tr><td>Stand By Me (feat. Morgan Wallen)</td><td>2</td></tr><tr><td>X SI VOLVEMOS</td><td>2</td></tr><tr><td>Gato de Noche</td><td>2</td></tr><tr><td>Lilith (feat. SUGA of BTS) (Diablo IV Anthem)</td><td>2</td></tr><tr><td>Down Under (feat. Colin Hay)</td><td>2</td></tr><tr><td>Silent Hill</td><td>2</td></tr><tr><td>Calm Down (with Selena Gomez)</td><td>2</td></tr><tr><td>No Lie</td><td>2</td></tr><tr><td>Sprinter</td><td>2</td></tr><tr><td>BESO</td><td>2</td></tr><tr><td>Shakira: Bzrp Music Sessions, Vol. 53</td><td>2</td></tr><tr><td>Contection</td><td>2</td></tr><tr><td>Cooped Up (with Roddy Ricch)</td><td>2</td></tr><tr><td>True Love</td><td>2</td></tr><tr><td>BABY HELLO</td><td>2</td></tr><tr><td>Raindrops (Insane) [with Travis Scott]</td><td>2</td></tr><tr><td>Dakiti</td><td>2</td></tr><tr><td>Jimmy Cooks (feat. 21 Savage)</td><td>2</td></tr><tr><td>Privileged Rappers</td><td>2</td></tr><tr><td>Gangsta's Paradise</td><td>2</td></tr><tr><td>Apna Bana Le (From \"Bhediya\")</td><td>2</td></tr><tr><td>Kiss Me More (feat. SZA)</td><td>2</td></tr><tr><td>Vai L�� Em Casa </td><td>2</td></tr><tr><td>Stan</td><td>2</td></tr><tr><td>Otro Atardecer</td><td>2</td></tr><tr><td>Antidepresan</td><td>2</td></tr><tr><td>Salimo de Noche</td><td>2</td></tr><tr><td>I'm Good (Blue)</td><td>2</td></tr><tr><td>Bye Bye</td><td>2</td></tr><tr><td>Leave Before You Love Me (with Jonas Brothers)</td><td>2</td></tr><tr><td>Problem�</td><td>2</td></tr><tr><td>Peru</td><td>2</td></tr><tr><td>X ��LTIMA</td><td>2</td></tr><tr><td>Somebody That I Used To Know</td><td>2</td></tr><tr><td>Boy's a liar Pt. 2</td><td>2</td></tr><tr><td>Novidade na ��</td><td>2</td></tr><tr><td>Cart��o B</td><td>2</td></tr><tr><td>People Pt.2 (feat. IU)</td><td>2</td></tr><tr><td>Residente: Bzrp Music Sessions, Vol. 49</td><td>2</td></tr><tr><td>When I���m Gone (with Katy </td><td>2</td></tr><tr><td>LAGUNAS</td><td>2</td></tr><tr><td>Mr. Morale</td><td>2</td></tr><tr><td>Fr��gil (feat. Grupo Front</td><td>2</td></tr><tr><td>Unholy (feat. Kim Petras)</td><td>2</td></tr><tr><td>TULUM</td><td>2</td></tr><tr><td>LA INOCENTE</td><td>2</td></tr><tr><td>The Motto</td><td>2</td></tr><tr><td>traitor</td><td>2</td></tr><tr><td>Sweetest Pie</td><td>2</td></tr><tr><td>'Till I Collapse</td><td>2</td></tr><tr><td>Self Love (Spider-Man: Across the Spider-Verse) (Metro Boomin & Coi Leray)</td><td>2</td></tr><tr><td>Me Porto Bonito</td><td>2</td></tr><tr><td>Rich Flex</td><td>2</td></tr><tr><td>What Else Can I Do?</td><td>2</td></tr><tr><td>psychofreak (feat. WILLOW)</td><td>2</td></tr><tr><td>Miracle (with Ellie Goulding)</td><td>2</td></tr><tr><td>WORTH NOTHING</td><td>2</td></tr><tr><td>Sigue</td><td>2</td></tr><tr><td>Hey Mor</td><td>2</td></tr><tr><td>Rosa Pastel</td><td>2</td></tr><tr><td>STAY (with Justin Bieber)</td><td>2</td></tr><tr><td>The Joker And The Queen (feat. Taylor Swift)</td><td>2</td></tr><tr><td>Villano Antillano: Bzrp Music Sessions, Vol. 51</td><td>2</td></tr><tr><td>Die Young (feat. 347aidan)</td><td>2</td></tr><tr><td>Callaita</td><td>2</td></tr><tr><td>Area Codes</td><td>2</td></tr><tr><td>El Merengue</td><td>2</td></tr><tr><td>Gol Bolinha, Gol Quadrado 2</td><td>2</td></tr><tr><td>25k jacket (feat. Lil Baby)</td><td>2</td></tr><tr><td>Snow On The Beach (feat. More Lana Del Rey)</td><td>2</td></tr><tr><td>SORRY NOT SORRY</td><td>2</td></tr><tr><td>B.O.T.A. (Baddest Of Them All) - Edit</td><td>2</td></tr><tr><td>Payphone</td><td>2</td></tr><tr><td>family ties (with Kendrick Lamar)</td><td>2</td></tr><tr><td>Qu�� Ago</td><td>2</td></tr><tr><td>Shorty Party</td><td>2</td></tr><tr><td>Esque��a-Me Se For C</td><td>2</td></tr><tr><td>All For Us - from the HBO Original Series Euphoria</td><td>2</td></tr><tr><td>GAT��</td><td>2</td></tr><tr><td>Gospel (with Eminem)</td><td>2</td></tr><tr><td>Nosso Quadro</td><td>2</td></tr><tr><td>Igualito a Mi Ap�</td><td>2</td></tr><tr><td>CAIRO</td><td>2</td></tr><tr><td>On Time (with John Legend)</td><td>2</td></tr><tr><td>La Santa</td><td>2</td></tr><tr><td>Thinking with My Dick</td><td>2</td></tr><tr><td>Coco Chanel</td><td>2</td></tr><tr><td>Forgot About Dre</td><td>2</td></tr><tr><td>Que Vuelvas</td><td>2</td></tr><tr><td>Pi��man De�</td><td>2</td></tr><tr><td>Brividi</td><td>2</td></tr><tr><td>I Tried to Tell Y'all</td><td>2</td></tr><tr><td>Layla</td><td>2</td></tr><tr><td>Broke Boys</td><td>2</td></tr><tr><td>DOGTOOTH</td><td>2</td></tr><tr><td>Die For You - Remix</td><td>2</td></tr><tr><td>The Next Episode</td><td>2</td></tr><tr><td>Levitating (feat. DaBaby)</td><td>2</td></tr><tr><td>We Cry Together</td><td>2</td></tr><tr><td>Party</td><td>2</td></tr><tr><td>Boy With Luv (feat. Halsey)</td><td>2</td></tr><tr><td>Until I Found You (with Em Beihold) - Em Beihold Version</td><td>2</td></tr><tr><td>Danza Kuduro</td><td>2</td></tr><tr><td>LA FAMA (with The Weeknd)</td><td>2</td></tr><tr><td>MOJABI GHOST</td><td>2</td></tr><tr><td>SNAP</td><td>2</td></tr><tr><td>Seven (feat. Latto) (Explicit Ver.)</td><td>2</td></tr><tr><td>Bussin</td><td>2</td></tr><tr><td>PRC</td><td>2</td></tr><tr><td>La Corriente</td><td>2</td></tr><tr><td>un x100to</td><td>2</td></tr><tr><td>LUNA</td><td>2</td></tr><tr><td>Chanel</td><td>2</td></tr><tr><td>LA CANCI�</td><td>2</td></tr><tr><td>NEW MAGIC WAND</td><td>2</td></tr><tr><td>With you</td><td>2</td></tr><tr><td>Do We Have A Problem?</td><td>2</td></tr><tr><td>thought i was playing</td><td>2</td></tr><tr><td>Die For You</td><td>2</td></tr><tr><td>Still D.R.E.</td><td>2</td></tr><tr><td>I Really Want to Stay at Your House</td><td>2</td></tr><tr><td>Daylight</td><td>2</td></tr><tr><td>I Heard You're Married (feat. Lil Wayne)</td><td>2</td></tr><tr><td>Siempre Pendientes</td><td>2</td></tr><tr><td>All My Life (feat. J. Cole)</td><td>2</td></tr><tr><td>Superman</td><td>2</td></tr><tr><td>Save Your Tears (with Ariana Grande) (Remix)</td><td>2</td></tr><tr><td>Pasoori</td><td>2</td></tr><tr><td>Ferrari</td><td>2</td></tr><tr><td>El Rescate</td><td>2</td></tr><tr><td>DAN��A</td><td>2</td></tr><tr><td>Belly Dancer</td><td>2</td></tr><tr><td>Money Trees</td><td>2</td></tr><tr><td>Karma (feat. Ice Spice)</td><td>2</td></tr><tr><td>AMERICA HAS A PROBLEM (feat. Kendrick Lamar)</td><td>2</td></tr><tr><td>Double Fantasy (with Future)</td><td>2</td></tr><tr><td>Mami Chula</td><td>2</td></tr><tr><td>I Know - PR1SVX Edit</td><td>2</td></tr><tr><td>Paulo Londra: Bzrp Music Sessions, Vol. 23</td><td>2</td></tr><tr><td>Ni��a Bo</td><td>2</td></tr><tr><td>PUNTO 40</td><td>2</td></tr><tr><td>Honest (feat. Don Toliver)</td><td>2</td></tr><tr><td>VIBE (feat. Jimin of BTS)</td><td>2</td></tr><tr><td>One Kiss (with Dua Lipa)</td><td>2</td></tr><tr><td>We Found Love</td><td>2</td></tr><tr><td>On BS</td><td>2</td></tr><tr><td>Used (feat. Don Toliver)</td><td>2</td></tr><tr><td>Fair Trade (with Travis Scott)</td><td>2</td></tr><tr><td>Rauw Alejandro: Bzrp Music Sessions, Vol. 56</td><td>2</td></tr><tr><td>I Like You (A Happier Song) (with Doja Cat)</td><td>2</td></tr><tr><td>Sem Alian��a no </td><td>2</td></tr><tr><td>Volv�</td><td>2</td></tr><tr><td>Qu�� M��</td><td>2</td></tr><tr><td>Di Que Si</td><td>2</td></tr><tr><td>212</td><td>2</td></tr><tr><td>Tormenta (feat. Bad Bunny)</td><td>2</td></tr><tr><td>Bam Bam (feat. Ed Sheeran)</td><td>2</td></tr><tr><td>Take My Breath</td><td>2</td></tr><tr><td>Quevedo: Bzrp Music Sessions, Vol. 52</td><td>2</td></tr><tr><td>Open Arms (feat. Travis Scott)</td><td>2</td></tr><tr><td>Closer</td><td>2</td></tr><tr><td>Arc��ngel: Bzrp Music Sessions, Vol</td><td>2</td></tr><tr><td>You Make It Feel Like Christmas (feat. Blake Shelton)</td><td>2</td></tr><tr><td>on the street (with J. Cole)</td><td>2</td></tr><tr><td>MONTAGEM - FR PUNK</td><td>2</td></tr><tr><td>En Paris</td><td>2</td></tr><tr><td>IDGAF (with blackbear)</td><td>2</td></tr><tr><td>Where Did You Go?</td><td>2</td></tr><tr><td>Seu Brilho Sumiu - Ao Vivo</td><td>2</td></tr><tr><td>Don't ever say love me (feat. RM of BTS)</td><td>2</td></tr><tr><td>Man Made A Bar (feat. Eric Church)</td><td>2</td></tr><tr><td>PERO T�</td><td>2</td></tr><tr><td>Mal Feito - Ao Vivo</td><td>2</td></tr><tr><td>UNFORGIVEN (feat. Nile Rodgers)</td><td>2</td></tr><tr><td>TUS L��GR</td><td>2</td></tr><tr><td>Danger (Spider) (Offset & JID)</td><td>2</td></tr><tr><td>Major Distribution</td><td>2</td></tr><tr><td>Flowers</td><td>2</td></tr><tr><td>Princess Diana (with Nicki Minaj)</td><td>2</td></tr><tr><td>INDUSTRY BABY (feat. Jack Harlow)</td><td>2</td></tr><tr><td>Where Are You Now</td><td>2</td></tr><tr><td>Moth To A Flame (with The Weeknd)</td><td>2</td></tr><tr><td>Spin Bout U</td><td>2</td></tr><tr><td>Obsessed</td><td>2</td></tr><tr><td>TQG</td><td>2</td></tr><tr><td>La Bebe - Remix</td><td>2</td></tr><tr><td>Classy 101</td><td>2</td></tr><tr><td>Ella Baila Sola</td><td>2</td></tr><tr><td>Desesperados</td><td>2</td></tr><tr><td>Ch y la Pizza</td><td>2</td></tr><tr><td>Snow On The Beach (feat. Lana Del Rey)</td><td>2</td></tr><tr><td>You Right</td><td>2</td></tr><tr><td>About Damn Time</td><td>2</td></tr><tr><td>Yandel 150</td><td>2</td></tr><tr><td>Ojitos Lindos</td><td>2</td></tr><tr><td>lovely - Bonus Track</td><td>2</td></tr><tr><td>Abcdario</td><td>2</td></tr><tr><td>Stargirl Interlude</td><td>2</td></tr><tr><td>MAMIII</td><td>2</td></tr><tr><td>I Was Never There</td><td>2</td></tr><tr><td>One Right Now (with The Weeknd)</td><td>2</td></tr><tr><td>Mi��n</td><td>2</td></tr><tr><td>Sunroof</td><td>2</td></tr><tr><td>Do It To It</td><td>2</td></tr><tr><td>Nos Comemos (feat. Ozuna)</td><td>2</td></tr><tr><td>Tiago PZK: Bzrp Music Sessions, Vol. 48</td><td>2</td></tr><tr><td>Las Morras</td><td>2</td></tr><tr><td>La Jumpa</td><td>2</td></tr><tr><td>Ley Seca</td><td>2</td></tr><tr><td>Freaky Deaky</td><td>2</td></tr><tr><td>Monoton�</td><td>2</td></tr><tr><td>Bombonzinho - Ao Vivo</td><td>2</td></tr><tr><td>Merry Christmas</td><td>2</td></tr><tr><td>A Veces (feat. Feid)</td><td>2</td></tr><tr><td>Mood (feat. Iann Dior)</td><td>2</td></tr><tr><td>Shallow</td><td>2</td></tr><tr><td>Fin de Semana</td><td>2</td></tr><tr><td>Te Felicito</td><td>2</td></tr><tr><td>El Azul</td><td>2</td></tr><tr><td>Rara Vez</td><td>2</td></tr><tr><td>Bebe Dame</td><td>2</td></tr><tr><td>Sunflower - Spider-Man: Into the Spider-Verse</td><td>2</td></tr><tr><td>Something Just Like This</td><td>2</td></tr><tr><td>T��</td><td>2</td></tr><tr><td>Don't Be Shy</td><td>2</td></tr><tr><td>XQ Te Pones As�</td><td>2</td></tr><tr><td>My Universe</td><td>2</td></tr><tr><td>Peaches (from The Super Mario Bros. Movie)</td><td>1</td></tr><tr><td>Heaven</td><td>1</td></tr><tr><td>STAR WALKIN' (League of Legends Worlds Anthem)</td><td>1</td></tr><tr><td>Love Language</td><td>1</td></tr><tr><td>Un Coco</td><td>1</td></tr><tr><td>Evergreen (You Didn���t Deserve Me A</td><td>1</td></tr><tr><td>Hold My Hand</td><td>1</td></tr><tr><td>SLOW DANCING IN THE DARK</td><td>1</td></tr><tr><td>Would've, Could've, Should've</td><td>1</td></tr><tr><td>LET GO</td><td>1</td></tr><tr><td>Acapulco</td><td>1</td></tr><tr><td>Swim</td><td>1</td></tr><tr><td>A Tu Merced</td><td>1</td></tr><tr><td>Hope</td><td>1</td></tr><tr><td>Bejeweled</td><td>1</td></tr><tr><td>Mon��y so</td><td>1</td></tr><tr><td>Lavender Haze</td><td>1</td></tr><tr><td>Midnight Rain</td><td>1</td></tr><tr><td>Stefania (Kalush Orchestra)</td><td>1</td></tr><tr><td>Thousand Miles</td><td>1</td></tr><tr><td>Selfish</td><td>1</td></tr><tr><td>Snooze</td><td>1</td></tr><tr><td>Take Two</td><td>1</td></tr><tr><td>Set Fire to the Rain</td><td>1</td></tr><tr><td>Bad Habits</td><td>1</td></tr><tr><td>SOS</td><td>1</td></tr><tr><td>Oh My God</td><td>1</td></tr><tr><td>Little Freak</td><td>1</td></tr><tr><td>Made You Look</td><td>1</td></tr><tr><td>Snowman</td><td>1</td></tr><tr><td>Far</td><td>1</td></tr><tr><td>Sky</td><td>1</td></tr><tr><td>Ya No Somos Ni Seremos</td><td>1</td></tr><tr><td>LOVE DIVE</td><td>1</td></tr><tr><td>Counting Stars</td><td>1</td></tr><tr><td>Thinkin��� B</td><td>1</td></tr><tr><td>F2F</td><td>1</td></tr><tr><td>The Heart Part 5</td><td>1</td></tr><tr><td>The Real Slim Shady</td><td>1</td></tr><tr><td>Stay Alive (Prod. SUGA of BTS)</td><td>1</td></tr><tr><td>Curtains</td><td>1</td></tr><tr><td>A Tale By Quincy</td><td>1</td></tr><tr><td>Everybody Wants To Rule The World</td><td>1</td></tr><tr><td>Take Me To Church</td><td>1</td></tr><tr><td>Heart To Heart</td><td>1</td></tr><tr><td>Butter</td><td>1</td></tr><tr><td>In Da Club</td><td>1</td></tr><tr><td>Agosto</td><td>1</td></tr><tr><td>THE SHADE</td><td>1</td></tr><tr><td>BILLIE EILISH.</td><td>1</td></tr><tr><td>Never Felt So Alone</td><td>1</td></tr><tr><td>Surface Pressure</td><td>1</td></tr><tr><td>Super Gremlin</td><td>1</td></tr><tr><td>Rolling in the Deep</td><td>1</td></tr><tr><td>Grapejuice</td><td>1</td></tr><tr><td>Praise God</td><td>1</td></tr><tr><td>Lucid Dreams</td><td>1</td></tr><tr><td>BackOutsideBoyz</td><td>1</td></tr><tr><td>Still With You</td><td>1</td></tr><tr><td>En El Radio Un Cochinero</td><td>1</td></tr><tr><td>Bad Habit</td><td>1</td></tr><tr><td>Le�</td><td>1</td></tr><tr><td>Don't Start Now</td><td>1</td></tr><tr><td>Limbo</td><td>1</td></tr><tr><td>Santa Tell Me</td><td>1</td></tr><tr><td>C��</td><td>1</td></tr><tr><td>Love Of My Life</td><td>1</td></tr><tr><td>Celestial</td><td>1</td></tr><tr><td>Apocalypse</td><td>1</td></tr><tr><td>Slut Me Out</td><td>1</td></tr><tr><td>Hrs and Hrs</td><td>1</td></tr><tr><td>Cruel Summer</td><td>1</td></tr><tr><td>Enchanted (Taylor's Version)</td><td>1</td></tr><tr><td>After Hours</td><td>1</td></tr><tr><td>Heat Waves</td><td>1</td></tr><tr><td>Hey, Mickey!</td><td>1</td></tr><tr><td>Merry Christmas Everyone</td><td>1</td></tr><tr><td>Gasoline</td><td>1</td></tr><tr><td>TV</td><td>1</td></tr><tr><td>Forever</td><td>1</td></tr><tr><td>Eyes Closed</td><td>1</td></tr><tr><td>���98 Braves</td><td>1</td></tr><tr><td>positions</td><td>1</td></tr><tr><td>PUFFIN ON ZOOTIEZ</td><td>1</td></tr><tr><td>Say Yes To Heaven</td><td>1</td></tr><tr><td>Dark Red</td><td>1</td></tr><tr><td>Streets</td><td>1</td></tr><tr><td>HUMBLE.</td><td>1</td></tr><tr><td>Those Eyes</td><td>1</td></tr><tr><td>Jordan</td><td>1</td></tr><tr><td>Pass The Dutchie</td><td>1</td></tr><tr><td>Set Me Free Pt.2</td><td>1</td></tr><tr><td>Sial</td><td>1</td></tr><tr><td>Bored</td><td>1</td></tr><tr><td>Feliz Navidad</td><td>1</td></tr><tr><td>Run Rudolph Run - Single Version</td><td>1</td></tr><tr><td>Circles</td><td>1</td></tr><tr><td>In The Stars</td><td>1</td></tr><tr><td>Es un Secreto</td><td>1</td></tr><tr><td>I Hate U</td><td>1</td></tr><tr><td>ALIEN SUPERSTAR</td><td>1</td></tr><tr><td>Chemical</td><td>1</td></tr><tr><td>Cupido</td><td>1</td></tr><tr><td>ceilings</td><td>1</td></tr><tr><td>KU LO SA - A COLORS SHOW</td><td>1</td></tr><tr><td>I Love You So</td><td>1</td></tr><tr><td>Mr. Brightside</td><td>1</td></tr><tr><td>Deck The Hall - Remastered 1999</td><td>1</td></tr><tr><td>New Jeans</td><td>1</td></tr><tr><td>Arcade</td><td>1</td></tr><tr><td>Afraid To Feel</td><td>1</td></tr><tr><td>Low</td><td>1</td></tr><tr><td>Sticky</td><td>1</td></tr><tr><td>I Can See You (Taylor���s Version) (From The </td><td>1</td></tr><tr><td>Mi Bello Angel</td><td>1</td></tr><tr><td>Wild Flower (with youjeen)</td><td>1</td></tr><tr><td>Nxde</td><td>1</td></tr><tr><td>Blinding Lights</td><td>1</td></tr><tr><td>Por las Noches</td><td>1</td></tr><tr><td>Fim de Semana no Rio</td><td>1</td></tr><tr><td>die first</td><td>1</td></tr><tr><td>Ferxxo 100</td><td>1</td></tr><tr><td>This Love (Taylor���s Ve</td><td>1</td></tr><tr><td>Si Te La Encuentras Por Ah�</td><td>1</td></tr><tr><td>Primera Cita</td><td>1</td></tr><tr><td>It's Beginning To Look A Lot Like Christmas</td><td>1</td></tr><tr><td>SloMo</td><td>1</td></tr><tr><td>Photograph</td><td>1</td></tr><tr><td>Heartless</td><td>1</td></tr><tr><td>LALA</td><td>1</td></tr><tr><td>Erro Gostoso - Ao Vivo</td><td>1</td></tr><tr><td>Like Crazy (English Version)</td><td>1</td></tr><tr><td>The Hills</td><td>1</td></tr><tr><td>Style</td><td>1</td></tr><tr><td>I Ain't Worried</td><td>1</td></tr><tr><td>Shape of You</td><td>1</td></tr><tr><td>Enchanted</td><td>1</td></tr><tr><td>Ghost</td><td>1</td></tr><tr><td>Born With A Beer In My Hand</td><td>1</td></tr><tr><td>Mary On A Cross</td><td>1</td></tr><tr><td>Envolver</td><td>1</td></tr><tr><td>RUMBAT�</td><td>1</td></tr><tr><td>My Mind & Me</td><td>1</td></tr><tr><td>Easy On Me</td><td>1</td></tr><tr><td>Jingle Bells - Remastered 1999</td><td>1</td></tr><tr><td>First Class</td><td>1</td></tr><tr><td>Dream On</td><td>1</td></tr><tr><td>Music For a Sushi Restaurant</td><td>1</td></tr><tr><td>La Bachata</td><td>1</td></tr><tr><td>Shut up My Moms Calling</td><td>1</td></tr><tr><td>Super</td><td>1</td></tr><tr><td>MONTERO (Call Me By Your Name)</td><td>1</td></tr><tr><td>Bound 2</td><td>1</td></tr><tr><td>DESPECH�</td><td>1</td></tr><tr><td>Call Out My Name</td><td>1</td></tr><tr><td>When I R.I.P.</td><td>1</td></tr><tr><td>505</td><td>1</td></tr><tr><td>Just Wanna Rock</td><td>1</td></tr><tr><td>Out of Time</td><td>1</td></tr><tr><td>Auntie Diaries</td><td>1</td></tr><tr><td>Dos Oruguitas</td><td>1</td></tr><tr><td>Daddy Issues</td><td>1</td></tr><tr><td>Memories</td><td>1</td></tr><tr><td>Starlight</td><td>1</td></tr><tr><td>Lift Me Up - From Black Panther: Wakanda Forever - Music From and Inspired By</td><td>1</td></tr><tr><td>Rich - Interlude</td><td>1</td></tr><tr><td>CORAZ��N VA</td><td>1</td></tr><tr><td>Maan Meri Jaan</td><td>1</td></tr><tr><td>As It Was</td><td>1</td></tr><tr><td>SABOR FRESA</td><td>1</td></tr><tr><td>Queencard</td><td>1</td></tr><tr><td>Sex, Drugs, Etc.</td><td>1</td></tr><tr><td>Keep Driving</td><td>1</td></tr><tr><td>Less Than Zero</td><td>1</td></tr><tr><td>Rockin' Around The Christmas Tree</td><td>1</td></tr><tr><td>Falling</td><td>1</td></tr><tr><td>Karma</td><td>1</td></tr><tr><td>Viva La Vida</td><td>1</td></tr><tr><td>KICK BACK</td><td>1</td></tr><tr><td>Special</td><td>1</td></tr><tr><td>���abcdefu</td><td>1</td></tr><tr><td>Todo De Ti</td><td>1</td></tr><tr><td>Pepas</td><td>1</td></tr><tr><td>Softcore</td><td>1</td></tr><tr><td>Rich Spirit</td><td>1</td></tr><tr><td>One Thing At A Time</td><td>1</td></tr><tr><td>I WANNA BE YOUR SLAVE</td><td>1</td></tr><tr><td>Right On</td><td>1</td></tr><tr><td>Don���t Bl</td><td>1</td></tr><tr><td>Mine (Taylor's Version)</td><td>1</td></tr><tr><td>The Color Violet</td><td>1</td></tr><tr><td>Heather</td><td>1</td></tr><tr><td>Shut up My Moms Calling - (Sped Up)</td><td>1</td></tr><tr><td>favorite crime</td><td>1</td></tr><tr><td>Numb Little Bug</td><td>1</td></tr><tr><td>Only Love Can Hurt Like This</td><td>1</td></tr><tr><td>How Do I Say Goodbye</td><td>1</td></tr><tr><td>Is There Someone Else?</td><td>1</td></tr><tr><td>Blank Space</td><td>1</td></tr><tr><td>HAPPY</td><td>1</td></tr><tr><td>Devil Don���</td><td>1</td></tr><tr><td>Christmas (Baby Please Come Home)</td><td>1</td></tr><tr><td>Gone Girl</td><td>1</td></tr><tr><td>love nwantiti (ah ah ah)</td><td>1</td></tr><tr><td>Tak Segampang Itu</td><td>1</td></tr><tr><td>Somewhere Only We Know</td><td>1</td></tr><tr><td>Sweet Child O' Mine</td><td>1</td></tr><tr><td>Moonlight</td><td>1</td></tr><tr><td>Mockingbird</td><td>1</td></tr><tr><td>Thought You Should Know</td><td>1</td></tr><tr><td>Lost</td><td>1</td></tr><tr><td>Lover</td><td>1</td></tr><tr><td>Pink + White</td><td>1</td></tr><tr><td>Come Back Home - From \"Purple Hearts\"</td><td>1</td></tr><tr><td>Take On Me</td><td>1</td></tr><tr><td>Levitating</td><td>1</td></tr><tr><td>Dua Lipa</td><td>1</td></tr><tr><td>Freaks</td><td>1</td></tr><tr><td>Creep</td><td>1</td></tr><tr><td>Zona De Perigo</td><td>1</td></tr><tr><td>Gatita</td><td>1</td></tr><tr><td>Hati-Hati di Jalan</td><td>1</td></tr><tr><td>Static</td><td>1</td></tr><tr><td>Save Your Tears</td><td>1</td></tr><tr><td>Demons</td><td>1</td></tr><tr><td>Savior - Interlude</td><td>1</td></tr><tr><td>MORE</td><td>1</td></tr><tr><td>Attention</td><td>1</td></tr><tr><td>Like Crazy</td><td>1</td></tr><tr><td>Fast Car</td><td>1</td></tr><tr><td>Acr��s</td><td>1</td></tr><tr><td>Dawn FM</td><td>1</td></tr><tr><td>Cigarettes</td><td>1</td></tr><tr><td>Mastermind</td><td>1</td></tr><tr><td>Typa Girl</td><td>1</td></tr><tr><td>Space Song</td><td>1</td></tr><tr><td>Miserable Man</td><td>1</td></tr><tr><td>Smells Like Teen Spirit - Remastered 2021</td><td>1</td></tr><tr><td>GIVENCHY</td><td>1</td></tr><tr><td>Blind</td><td>1</td></tr><tr><td>Jingle Bell Rock</td><td>1</td></tr><tr><td>Cupid - Twin Ver.</td><td>1</td></tr><tr><td>La Bebe</td><td>1</td></tr><tr><td>Despu��s de la P</td><td>1</td></tr><tr><td>Starry Eyes</td><td>1</td></tr><tr><td>WANDA</td><td>1</td></tr><tr><td>The Rumbling (TV Size)</td><td>1</td></tr><tr><td>WHERE SHE GOES</td><td>1</td></tr><tr><td>I Wanna Be Yours</td><td>1</td></tr><tr><td>Lose Yourself - Soundtrack Version</td><td>1</td></tr><tr><td>Still Don't Know My Name</td><td>1</td></tr><tr><td>Let Me Down Slowly</td><td>1</td></tr><tr><td>BREAK MY SOUL</td><td>1</td></tr><tr><td>Angel Baby</td><td>1</td></tr><tr><td>MONEY</td><td>1</td></tr><tr><td>FEARLESS</td><td>1</td></tr><tr><td>Boyfriends</td><td>1</td></tr><tr><td>we fell in love in october</td><td>1</td></tr><tr><td>The Astronaut</td><td>1</td></tr><tr><td>Feliz Cumplea��os Fe</td><td>1</td></tr><tr><td>PROVENZA</td><td>1</td></tr><tr><td>vampire</td><td>1</td></tr><tr><td>Seek & Destroy</td><td>1</td></tr><tr><td>Just The Way You Are</td><td>1</td></tr><tr><td>Unstoppable</td><td>1</td></tr><tr><td>Iris</td><td>1</td></tr><tr><td>Last Last</td><td>1</td></tr><tr><td>Everything I Love</td><td>1</td></tr><tr><td>Bloody Mary</td><td>1</td></tr><tr><td>Happier Than Ever - Edit</td><td>1</td></tr><tr><td>Talk that Talk</td><td>1</td></tr><tr><td>Chance</td><td>1</td></tr><tr><td>Golden</td><td>1</td></tr><tr><td>Radio</td><td>1</td></tr><tr><td>Reminder</td><td>1</td></tr><tr><td>Yonaguni</td><td>1</td></tr><tr><td>Super Shy</td><td>1</td></tr><tr><td>Believer</td><td>1</td></tr><tr><td>MIDDLE OF THE NIGHT</td><td>1</td></tr><tr><td>good 4 u</td><td>1</td></tr><tr><td>Satellite</td><td>1</td></tr><tr><td>Makeba</td><td>1</td></tr><tr><td>august</td><td>1</td></tr><tr><td>Toxic</td><td>1</td></tr><tr><td>Sobrio</td><td>1</td></tr><tr><td>You Belong With Me (Taylor���s Ve</td><td>1</td></tr><tr><td>The Business</td><td>1</td></tr><tr><td>Worldwide Steppers</td><td>1</td></tr><tr><td>Born Singer</td><td>1</td></tr><tr><td>Summertime Sadness</td><td>1</td></tr><tr><td>Formula</td><td>1</td></tr><tr><td>Love Grows (Where My Rosemary Goes)</td><td>1</td></tr><tr><td>CHORRITO PA LAS ANIMAS</td><td>1</td></tr><tr><td>I AM</td><td>1</td></tr><tr><td>Hype Boy</td><td>1</td></tr><tr><td>Light Switch</td><td>1</td></tr><tr><td>Have You Ever Seen The Rain?</td><td>1</td></tr><tr><td>All I Want for Christmas Is You</td><td>1</td></tr><tr><td>The Night We Met</td><td>1</td></tr><tr><td>When I Was Your Man</td><td>1</td></tr><tr><td>TRUSTFALL</td><td>1</td></tr><tr><td>Holly Jolly Christmas</td><td>1</td></tr><tr><td>she's all i wanna be</td><td>1</td></tr><tr><td>Christmas Tree</td><td>1</td></tr><tr><td>Mirror</td><td>1</td></tr><tr><td>Run BTS</td><td>1</td></tr><tr><td>Wait a Minute!</td><td>1</td></tr><tr><td>Sweet Nothing</td><td>1</td></tr><tr><td>Riptide</td><td>1</td></tr><tr><td>Astronaut In The Ocean</td><td>1</td></tr><tr><td>Cinema</td><td>1</td></tr><tr><td>Alone</td><td>1</td></tr><tr><td>(It Goes Like) Nanana - Edit</td><td>1</td></tr><tr><td>La Zona</td><td>1</td></tr><tr><td>Question...?</td><td>1</td></tr><tr><td>All Too Well (10 Minute Version) (Taylor's Version) (From The Vault)</td><td>1</td></tr><tr><td>Phantom Regret by Jim</td><td>1</td></tr><tr><td>Massive</td><td>1</td></tr><tr><td>Talk</td><td>1</td></tr><tr><td>Yo Voy (feat. Daddy Yankee)</td><td>1</td></tr><tr><td>Oi Balde - Ao Vivo</td><td>1</td></tr><tr><td>Need To Know</td><td>1</td></tr><tr><td>It'll Be Okay</td><td>1</td></tr><tr><td>The Nights</td><td>1</td></tr><tr><td>Beautiful Girl</td><td>1</td></tr><tr><td>Under The Influence</td><td>1</td></tr><tr><td>this is what falling in love feels like</td><td>1</td></tr><tr><td>Aguacero</td><td>1</td></tr><tr><td>Anti-Hero</td><td>1</td></tr><tr><td>Without Me</td><td>1</td></tr><tr><td>Yo No Soy Celoso</td><td>1</td></tr><tr><td>I Wrote The Book</td><td>1</td></tr><tr><td>Master of Puppets (Remastered)</td><td>1</td></tr><tr><td>Red Ruby Da Sleeze</td><td>1</td></tr><tr><td>What Was I Made For? [From The Motion Picture \"Barbie\"]</td><td>1</td></tr><tr><td>Plan A</td><td>1</td></tr><tr><td>MANIAC</td><td>1</td></tr><tr><td>So Good</td><td>1</td></tr><tr><td>Neverita</td><td>1</td></tr><tr><td>Antes de Perderte</td><td>1</td></tr><tr><td>Moscow Mule</td><td>1</td></tr><tr><td>Woman</td><td>1</td></tr><tr><td>Sacrifice</td><td>1</td></tr><tr><td>Pope Is a Rockstar</td><td>1</td></tr><tr><td>Kill Bill</td><td>1</td></tr><tr><td>Cool for the Summer</td><td>1</td></tr><tr><td>Dos Mil 16</td><td>1</td></tr><tr><td>Daydreaming</td><td>1</td></tr><tr><td>Conceited</td><td>1</td></tr><tr><td>Betty (Get Money)</td><td>1</td></tr><tr><td>cardigan</td><td>1</td></tr><tr><td>Tattoo</td><td>1</td></tr><tr><td>Dance Monkey</td><td>1</td></tr><tr><td>���������������������</td><td>1</td></tr><tr><td>Calm Down</td><td>1</td></tr><tr><td>Driving Home for Christmas - 2019 Remaster</td><td>1</td></tr><tr><td>Before You Go</td><td>1</td></tr><tr><td>Permission to Dance</td><td>1</td></tr><tr><td>Demasiadas Mujeres</td><td>1</td></tr><tr><td>In My Head</td><td>1</td></tr><tr><td>Ojos Marrones</td><td>1</td></tr><tr><td>Sparks</td><td>1</td></tr><tr><td>Dandelions</td><td>1</td></tr><tr><td>Underneath the Tree</td><td>1</td></tr><tr><td>jealousy, jealousy</td><td>1</td></tr><tr><td>There's Nothing Holdin' Me Back</td><td>1</td></tr><tr><td>Ditto</td><td>1</td></tr><tr><td>Lady Mi Amor</td><td>1</td></tr><tr><td>Komang</td><td>1</td></tr><tr><td>My Only Wish (This Year)</td><td>1</td></tr><tr><td>I'm Tired - From \"Euphoria\" An Original HBO Series</td><td>1</td></tr><tr><td>Chale</td><td>1</td></tr><tr><td>Glimpse of Us</td><td>1</td></tr><tr><td>Pink Venom</td><td>1</td></tr><tr><td>Tacones Rojos</td><td>1</td></tr><tr><td>Boy's a liar</td><td>1</td></tr><tr><td>Sugar Rush Ride</td><td>1</td></tr><tr><td>2 Be Loved (Am I Ready)</td><td>1</td></tr><tr><td>Un Ratito</td><td>1</td></tr><tr><td>SPACE MAN</td><td>1</td></tr><tr><td>El Gordo Trae El Mando</td><td>1</td></tr><tr><td>Lovezinho</td><td>1</td></tr><tr><td>POP!</td><td>1</td></tr><tr><td>Rush</td><td>1</td></tr><tr><td>Back To December (Taylor's Version)</td><td>1</td></tr><tr><td>Shivers</td><td>1</td></tr><tr><td>Beggin</td><td>1</td></tr><tr><td>Matilda</td><td>1</td></tr><tr><td>Bye</td><td>1</td></tr><tr><td>Search & Rescue</td><td>1</td></tr><tr><td>Wonderful Christmastime - Edited Version / Remastered 2011</td><td>1</td></tr><tr><td>fukumean</td><td>1</td></tr><tr><td>Shirt</td><td>1</td></tr><tr><td>RAPSTAR</td><td>1</td></tr><tr><td>Mujeriego</td><td>1</td></tr><tr><td>METAMORPHOSIS</td><td>1</td></tr><tr><td>Malas Decisiones</td><td>1</td></tr><tr><td>drivers license</td><td>1</td></tr><tr><td>All of Me</td><td>1</td></tr><tr><td>Soy El Unico</td><td>1</td></tr><tr><td>Un Verano Sin Ti</td><td>1</td></tr><tr><td>Labyrinth</td><td>1</td></tr><tr><td>OMG</td><td>1</td></tr><tr><td>deja vu</td><td>1</td></tr><tr><td>VOID</td><td>1</td></tr><tr><td>Perfect</td><td>1</td></tr><tr><td>All Of The Girls You Loved Before</td><td>1</td></tr><tr><td>10 Things I Hate About You</td><td>1</td></tr><tr><td>Happier Than Ever</td><td>1</td></tr><tr><td>Malvada</td><td>1</td></tr><tr><td>Crown</td><td>1</td></tr><tr><td>Revenge</td><td>1</td></tr><tr><td>How Do I Make You Love Me?</td><td>1</td></tr><tr><td>TO THE MOON</td><td>1</td></tr><tr><td>Una Noche en Medell�</td><td>1</td></tr><tr><td>Tak Ingin Usai</td><td>1</td></tr><tr><td>Murder In My Mind</td><td>1</td></tr><tr><td>Doja</td><td>1</td></tr><tr><td>Every Summertime</td><td>1</td></tr><tr><td>After LIKE</td><td>1</td></tr><tr><td>Here With Me</td><td>1</td></tr><tr><td>S-Class</td><td>1</td></tr><tr><td>Say You Won't Let Go</td><td>1</td></tr><tr><td>Count Me Out</td><td>1</td></tr><tr><td>Vegas (From the Original Motion Picture Soundtrack ELVIS)</td><td>1</td></tr><tr><td>Gasolina</td><td>1</td></tr><tr><td>295</td><td>1</td></tr><tr><td>No Se Va</td><td>1</td></tr><tr><td>Good Looking</td><td>1</td></tr><tr><td>Do They Know It's Christmas? - 1984 Version</td><td>1</td></tr><tr><td>Another Love</td><td>1</td></tr><tr><td>What It Is (Solo Version)</td><td>1</td></tr><tr><td>Bones</td><td>1</td></tr><tr><td>Cheques</td><td>1</td></tr><tr><td>Bite Me</td><td>1</td></tr><tr><td>Boyfriend</td><td>1</td></tr><tr><td>Ain't Shit</td><td>1</td></tr><tr><td>Angels Like You</td><td>1</td></tr><tr><td>SUPERMODEL</td><td>1</td></tr><tr><td>Nobody Gets Me</td><td>1</td></tr><tr><td>You're On Your Own, Kid</td><td>1</td></tr><tr><td>Until I Found You</td><td>1</td></tr><tr><td>Kahani Suno 2.0</td><td>1</td></tr><tr><td>LLYLM</td><td>1</td></tr><tr><td>Yellow</td><td>1</td></tr><tr><td>No Role Modelz</td><td>1</td></tr><tr><td>Punto G</td><td>1</td></tr><tr><td>Sweater Weather</td><td>1</td></tr><tr><td>Infinity</td><td>1</td></tr><tr><td>DANCE CRIP</td><td>1</td></tr><tr><td>United In Grief</td><td>1</td></tr><tr><td>������������</td><td>1</td></tr><tr><td>Cupid</td><td>1</td></tr><tr><td>Prohibidox</td><td>1</td></tr><tr><td>TQM</td><td>1</td></tr><tr><td>Titi Me Pregunt�</td><td>1</td></tr><tr><td>Super Freaky Girl</td><td>1</td></tr><tr><td>Notice Me</td><td>1</td></tr><tr><td>Adore You</td><td>1</td></tr><tr><td>San Lucas</td><td>1</td></tr><tr><td>You Proof</td><td>1</td></tr><tr><td>House Of Memories</td><td>1</td></tr><tr><td>c��mo dormi</td><td>1</td></tr><tr><td>Dynamite</td><td>1</td></tr><tr><td>Notion</td><td>1</td></tr><tr><td>FLOWER</td><td>1</td></tr><tr><td>REMIX EXCLUSIVO</td><td>1</td></tr><tr><td>Blessed-Cursed</td><td>1</td></tr><tr><td>Wake Me Up - Radio Edit</td><td>1</td></tr><tr><td>Late Night Talking</td><td>1</td></tr><tr><td>ELEVEN</td><td>1</td></tr><tr><td>The Great War</td><td>1</td></tr><tr><td>Nonsense</td><td>1</td></tr><tr><td>Shake It Off</td><td>1</td></tr><tr><td>If We Ever Broke Up</td><td>1</td></tr><tr><td>In The End</td><td>1</td></tr><tr><td>The Feels</td><td>1</td></tr><tr><td>Running Up That Hill (A Deal With God)</td><td>1</td></tr><tr><td>Don���t Break My</td><td>1</td></tr><tr><td>L���</td><td>1</td></tr><tr><td>Best Friends</td><td>1</td></tr><tr><td>That's Hilarious</td><td>1</td></tr><tr><td>Night Changes</td><td>1</td></tr><tr><td>Car's Outside</td><td>1</td></tr><tr><td>Mistletoe</td><td>1</td></tr><tr><td>Still Life</td><td>1</td></tr><tr><td>ZOOM</td><td>1</td></tr><tr><td>Poland</td><td>1</td></tr><tr><td>MIENTRAS ME CURO DEL CORA</td><td>1</td></tr><tr><td>Atlantis</td><td>1</td></tr><tr><td>Something In The Way - Remastered 2021</td><td>1</td></tr><tr><td>Fuera del mercado</td><td>1</td></tr><tr><td>Lovers Rock</td><td>1</td></tr><tr><td>Every Angel is Terrifying</td><td>1</td></tr><tr><td>AMARGURA</td><td>1</td></tr><tr><td>People</td><td>1</td></tr><tr><td>Ain���t Tha</td><td>1</td></tr><tr><td>A Holly Jolly Christmas - Single Version</td><td>1</td></tr><tr><td>The Christmas Song (Merry Christmas To You) - Remastered 1999</td><td>1</td></tr><tr><td>Dance The Night (From Barbie The Album)</td><td>1</td></tr><tr><td>It's the Most Wonderful Time of the Year</td><td>1</td></tr><tr><td>Haegeum</td><td>1</td></tr><tr><td>Shut Down</td><td>1</td></tr><tr><td>DARARI</td><td>1</td></tr><tr><td>El Apag�</td><td>1</td></tr><tr><td>I'm Not The Only One</td><td>1</td></tr><tr><td>N95</td><td>1</td></tr><tr><td>Me Fui de Vacaciones</td><td>1</td></tr><tr><td>For Youth</td><td>1</td></tr><tr><td>Every Breath You Take - Remastered 2003</td><td>1</td></tr><tr><td>Nail Tech</td><td>1</td></tr><tr><td>Talking To The Moon</td><td>1</td></tr><tr><td>Yet To Come</td><td>1</td></tr><tr><td>Me and Your Mama</td><td>1</td></tr><tr><td>Columbia</td><td>1</td></tr><tr><td>S91</td><td>1</td></tr><tr><td>Do I Wanna Know?</td><td>1</td></tr><tr><td>Sleigh Ride</td><td>1</td></tr><tr><td>Too Late</td><td>1</td></tr><tr><td>THATS WHAT I WANT</td><td>1</td></tr><tr><td>happier</td><td>1</td></tr><tr><td>Hits Different</td><td>1</td></tr><tr><td>After Dark</td><td>1</td></tr><tr><td>Get Into It (Yuh)</td><td>1</td></tr><tr><td>HEARTBREAK ANNIVERSARY</td><td>1</td></tr><tr><td>Better Than Revenge (Taylor's Version)</td><td>1</td></tr><tr><td>Thinking Out Loud</td><td>1</td></tr><tr><td>I AM WOMAN</td><td>1</td></tr><tr><td>Someone You Loved</td><td>1</td></tr><tr><td>Good Days</td><td>1</td></tr><tr><td>Life Goes On</td><td>1</td></tr><tr><td>Romantic Homicide</td><td>1</td></tr><tr><td>Love Yourself</td><td>1</td></tr><tr><td>Bigger Than The Whole Sky</td><td>1</td></tr><tr><td>Last Christmas</td><td>1</td></tr><tr><td>Alien Blues</td><td>1</td></tr><tr><td>Ens����ame </td><td>1</td></tr><tr><td>California Breeze</td><td>1</td></tr><tr><td>Sure Thing</td><td>1</td></tr><tr><td>Vista Al Mar</td><td>1</td></tr><tr><td>Bohemian Rhapsody - Remastered 2011</td><td>1</td></tr><tr><td>Efecto</td><td>1</td></tr><tr><td>Last Night</td><td>1</td></tr><tr><td>2055</td><td>1</td></tr><tr><td>Ginseng Strip 2002</td><td>1</td></tr><tr><td>Maroon</td><td>1</td></tr><tr><td>The Scientist</td><td>1</td></tr><tr><td>Vigilante Shit</td><td>1</td></tr><tr><td>Overdrive</td><td>1</td></tr><tr><td>Watermelon Sugar</td><td>1</td></tr><tr><td>ANTIFRAGILE</td><td>1</td></tr><tr><td>you broke me first</td><td>1</td></tr><tr><td>THE LONELIEST</td><td>1</td></tr><tr><td>Caile</td><td>1</td></tr><tr><td>Locked Out Of Heaven</td><td>1</td></tr><tr><td>Why'd You Only Call Me When You're High?</td><td>1</td></tr><tr><td>Players</td><td>1</td></tr><tr><td>Normal</td><td>1</td></tr><tr><td>Cupid ��� Twin Ver. (FIFTY FIFTY) ��� Spe</td><td>1</td></tr><tr><td>Smoking on my Ex Pack</td><td>1</td></tr><tr><td>CUFF IT</td><td>1</td></tr><tr><td>Something in the Orange</td><td>1</td></tr><tr><td>Love Again</td><td>1</td></tr><tr><td>Polaroid Love</td><td>1</td></tr><tr><td>Mount Everest</td><td>1</td></tr><tr><td>O.O</td><td>1</td></tr><tr><td>When You're Gone</td><td>1</td></tr><tr><td>Forget Me</td><td>1</td></tr><tr><td>golden hour</td><td>1</td></tr><tr><td>Worst Day</td><td>1</td></tr></tbody></table></div>"
      ]
     },
     "metadata": {
      "application/vnd.databricks.v1+output": {
       "addedWidgets": {},
       "aggData": [],
       "aggError": "",
       "aggOverflow": false,
       "aggSchema": [],
       "aggSeriesLimitReached": false,
       "aggType": "",
       "arguments": {},
       "columnCustomDisplayInfos": {},
       "data": [
        [
         "Los del Espacio",
         8
        ],
        [
         "Se Le Ve",
         8
        ],
        [
         "Cay�� La Noche (feat. Cruz Cafun��, Abhir Hathi, Bejo, EL IMA)",
         7
        ],
        [
         "We Don't Talk About Bruno",
         7
        ],
        [
         "Nobody Like U - From \"Turning Red\"",
         6
        ],
        [
         "Jhoome Jo Pathaan",
         6
        ],
        [
         "Besharam Rang (From \"Pathaan\")",
         6
        ],
        [
         "Angel Pt 1 (feat. Jimin of BTS, JVKE & Muni Long)",
         5
        ],
        [
         "ULTRA SOLO REMIX",
         5
        ],
        [
         "Tere Vaaste (From \"Zara Hatke Zara Bachke\")",
         5
        ],
        [
         "Link Up (Metro Boomin & Don Toliver, Wizkid feat. BEAM & Toian) - Spider-Verse Remix (Spider-Man: Across the Spider-Verse )",
         5
        ],
        [
         "Marisola - Remix",
         5
        ],
        [
         "BABY OTAKU",
         4
        ],
        [
         "Calling (Spider-Man: Across the Spider-Verse) (Metro Boomin & Swae Lee, NAV, feat. A Boogie Wit da Hoodie)",
         4
        ],
        [
         "sentaDONA (Remix) s2",
         4
        ],
        [
         "Novo Balan�",
         4
        ],
        [
         "Tubar��o Te",
         4
        ],
        [
         "Friday (feat. Mufasa & Hypeman) - Dopamine Re-Edit",
         4
        ],
        [
         "OUT OUT (feat. Charli XCX & Saweetie)",
         4
        ],
        [
         "Stay With Me (with Justin Timberlake, Halsey, & Pharrell)",
         4
        ],
        [
         "Entre Nosotros (Remix) [con Nicki Nicole]",
         4
        ],
        [
         "POLARIS - Remix",
         4
        ],
        [
         "Cash In Cash Out",
         4
        ],
        [
         "Enemy (with JID) - from the series Arcane League of Legends",
         4
        ],
        [
         "Happy Xmas (War Is Over)",
         4
        ],
        [
         "La Llevo Al Cielo (Ft. ��engo F",
         4
        ],
        [
         "Annihilate (Spider-Man: Across the Spider-Verse) (Metro Boomin & Swae Lee, Lil Wayne, Offset)",
         4
        ],
        [
         "Baby Don't Hurt Me",
         3
        ],
        [
         "The Family Madrigal",
         3
        ],
        [
         "Pipoco",
         3
        ],
        [
         "Vampiro",
         3
        ],
        [
         "AM Remix",
         3
        ],
        [
         "Cold Heart - PNAU Remix",
         3
        ],
        [
         "Way 2 Sexy (with Future & Young Thug)",
         3
        ],
        [
         "Miss You",
         3
        ],
        [
         "VAGABUNDO",
         3
        ],
        [
         "MERCHO",
         3
        ],
        [
         "Kesariya (From \"Brahmastra\")",
         3
        ],
        [
         "Knife Talk (with 21 Savage ft. Project Pat)",
         3
        ],
        [
         "Fingers Crossed",
         3
        ],
        [
         "La Loto",
         3
        ],
        [
         "Sad Girlz Luv Money Remix (feat. Kali Uchis)",
         3
        ],
        [
         "Popular (with Playboi Carti & Madonna) - The Idol Vol. 1 (Music from the HBO Original Series)",
         3
        ],
        [
         "Can't Hold Us (feat. Ray Dalton)",
         3
        ],
        [
         "Pussy & Millions (feat. Travis Scott)",
         3
        ],
        [
         "Malvad��",
         3
        ],
        [
         "Phir Aur Kya Chahiye (From \"Zara Hatke Zara Bachke\")",
         3
        ],
        [
         "Medallo",
         3
        ],
        [
         "Too Many Nights (feat. Don Toliver & with Future)",
         3
        ],
        [
         "See You Again",
         3
        ],
        [
         "Trance (with Travis Scott & Young Thug)",
         3
        ],
        [
         "Rumble",
         3
        ],
        [
         "Lo Siento BB:/ (with Bad Bunny & Julieta Venegas)",
         3
        ],
        [
         "En La De Ella",
         3
        ],
        [
         "Savior",
         3
        ],
        [
         "Mejor Que Yo",
         3
        ],
        [
         "Dreamers [Music from the FIFA World Cup Qatar 2022 Official Soundtrack]",
         3
        ],
        [
         "Meet Me At Our Spot",
         3
        ],
        [
         "Peaches (feat. Daniel Caesar & Giveon)",
         3
        ],
        [
         "Evoque Prata",
         3
        ],
        [
         "Let It Snow! Let It Snow! Let It Snow!",
         3
        ],
        [
         "Get Lucky - Radio Edit",
         3
        ],
        [
         "Casei Com a Putaria",
         3
        ],
        [
         "Left and Right (Feat. Jung Kook of BTS)",
         3
        ],
        [
         "Baile no Morro",
         3
        ],
        [
         "Un Finde | CROSSOVER #2",
         3
        ],
        [
         "LOKERA",
         3
        ],
        [
         "Nost��l",
         3
        ],
        [
         "Ai Preto",
         3
        ],
        [
         "One Dance",
         3
        ],
        [
         "pushin P (feat. Young Thug)",
         3
        ],
        [
         "Leave The Door Open",
         3
        ],
        [
         "Love Nwantiti - Remix",
         3
        ],
        [
         "All The Way Live (Spider-Man: Across the Spider-Verse) (Metro Boomin & Future, Lil Uzi Vert)",
         3
        ],
        [
         "Hot Shit (feat. Ye & Lil Durk)",
         3
        ],
        [
         "Barbie World (with Aqua) [From Barbie The Album]",
         3
        ],
        [
         "Don't You Worry",
         3
        ],
        [
         "S��",
         3
        ],
        [
         "Enemy - from the series Arcane League of Legends",
         3
        ],
        [
         "Pantysito",
         3
        ],
        [
         "Crazy What Love Can Do",
         3
        ],
        [
         "White Christmas",
         3
        ],
        [
         "Numb",
         3
        ],
        [
         "Smokin Out The Window",
         3
        ],
        [
         "Mu��",
         3
        ],
        [
         "Thunder",
         3
        ],
        [
         "El Cielo",
         3
        ],
        [
         "AMG",
         3
        ],
        [
         "Am I Dreaming (Metro Boomin & A$AP Rocky, Roisee)",
         3
        ],
        [
         "Bad Decisions (with BTS & Snoop Dogg)",
         3
        ],
        [
         "Better Days (NEIKED x Mae Muller x Polo G)",
         3
        ],
        [
         "Die Hard",
         3
        ],
        [
         "Superhero (Heroes & Villains) [with Future & Chris Brown]",
         3
        ],
        [
         "Here We Go��� Again (feat. Tyler, the Cr",
         3
        ],
        [
         "Si Quieren Frontear",
         3
        ],
        [
         "Watch This - ARIZONATEARS Pluggnb Remix",
         3
        ],
        [
         "Agudo M��gi",
         3
        ],
        [
         "Bamba (feat. Aitch & BIA)",
         3
        ],
        [
         "Purple Hearts",
         3
        ],
        [
         "Volando - Remix",
         3
        ],
        [
         "STAYING ALIVE (feat. Drake & Lil Baby)",
         3
        ],
        [
         "Mas Rica Que Ayer",
         3
        ],
        [
         "Private Landing (feat. Justin Bieber & Future)",
         3
        ],
        [
         "Potion (with Dua Lipa & Young Thug)",
         3
        ],
        [
         "WAIT FOR U (feat. Drake & Tems)",
         3
        ],
        [
         "Excuses",
         3
        ],
        [
         "LADY GAGA",
         3
        ],
        [
         "California Love - Original Version (Explicit)",
         3
        ],
        [
         "It's Beginning to Look a Lot Like Christmas (with Mitchell Ayres & His Orchestra)",
         3
        ],
        [
         "Creepin'",
         3
        ],
        [
         "City of Gods",
         3
        ],
        [
         "I'm Not Here To Make Friends",
         3
        ],
        [
         "Me Arrepent�",
         3
        ],
        [
         "QUEMA",
         3
        ],
        [
         "Niagara Falls (Foot or 2) [with Travis Scott & 21 Savage]",
         3
        ],
        [
         "SPIT IN MY FACE!",
         2
        ],
        [
         "Lost in the Fire",
         2
        ],
        [
         "ULTRA SOLO",
         2
        ],
        [
         "Besos Moja2",
         2
        ],
        [
         "Mon Amour - Remix",
         2
        ],
        [
         "Con La Brisa",
         2
        ],
        [
         "Escapism. - Sped Up",
         2
        ],
        [
         "Se��o",
         2
        ],
        [
         "Peso Pluma: Bzrp Music Sessions, Vol. 55",
         2
        ],
        [
         "Starboy",
         2
        ],
        [
         "Mother I Sober (feat. Beth Gibbons of Portishead)",
         2
        ],
        [
         "Andrea",
         2
        ],
        [
         "That That (prod. & feat. SUGA of BTS)",
         2
        ],
        [
         "Hold Me Closer",
         2
        ],
        [
         "Shoong! (feat. LISA of BLACKPINK)",
         2
        ],
        [
         "69",
         2
        ],
        [
         "Dijeron Que No La Iba Lograr",
         2
        ],
        [
         "Bar",
         2
        ],
        [
         "Eu Gosto Assim - Ao Vivo",
         2
        ],
        [
         "Father Time (feat. Sampha)",
         2
        ],
        [
         "Ghost in the Machine (feat. Phoebe Bridgers)",
         2
        ],
        [
         "JGL",
         2
        ],
        [
         "PLAYA DEL INGL�",
         2
        ],
        [
         "Tom's Diner",
         2
        ],
        [
         "Conex��es de M��fia (feat. Rich ",
         2
        ],
        [
         "Sin Se��",
         2
        ],
        [
         "Hummingbird (Metro Boomin & James Blake)",
         2
        ],
        [
         "Escapism.",
         2
        ],
        [
         "Circo Loco",
         2
        ],
        [
         "10:35",
         2
        ],
        [
         "Tarot",
         2
        ],
        [
         "Stand By Me (feat. Morgan Wallen)",
         2
        ],
        [
         "X SI VOLVEMOS",
         2
        ],
        [
         "Gato de Noche",
         2
        ],
        [
         "Lilith (feat. SUGA of BTS) (Diablo IV Anthem)",
         2
        ],
        [
         "Down Under (feat. Colin Hay)",
         2
        ],
        [
         "Silent Hill",
         2
        ],
        [
         "Calm Down (with Selena Gomez)",
         2
        ],
        [
         "No Lie",
         2
        ],
        [
         "Sprinter",
         2
        ],
        [
         "BESO",
         2
        ],
        [
         "Shakira: Bzrp Music Sessions, Vol. 53",
         2
        ],
        [
         "Contection",
         2
        ],
        [
         "Cooped Up (with Roddy Ricch)",
         2
        ],
        [
         "True Love",
         2
        ],
        [
         "BABY HELLO",
         2
        ],
        [
         "Raindrops (Insane) [with Travis Scott]",
         2
        ],
        [
         "Dakiti",
         2
        ],
        [
         "Jimmy Cooks (feat. 21 Savage)",
         2
        ],
        [
         "Privileged Rappers",
         2
        ],
        [
         "Gangsta's Paradise",
         2
        ],
        [
         "Apna Bana Le (From \"Bhediya\")",
         2
        ],
        [
         "Kiss Me More (feat. SZA)",
         2
        ],
        [
         "Vai L�� Em Casa ",
         2
        ],
        [
         "Stan",
         2
        ],
        [
         "Otro Atardecer",
         2
        ],
        [
         "Antidepresan",
         2
        ],
        [
         "Salimo de Noche",
         2
        ],
        [
         "I'm Good (Blue)",
         2
        ],
        [
         "Bye Bye",
         2
        ],
        [
         "Leave Before You Love Me (with Jonas Brothers)",
         2
        ],
        [
         "Problem�",
         2
        ],
        [
         "Peru",
         2
        ],
        [
         "X ��LTIMA",
         2
        ],
        [
         "Somebody That I Used To Know",
         2
        ],
        [
         "Boy's a liar Pt. 2",
         2
        ],
        [
         "Novidade na ��",
         2
        ],
        [
         "Cart��o B",
         2
        ],
        [
         "People Pt.2 (feat. IU)",
         2
        ],
        [
         "Residente: Bzrp Music Sessions, Vol. 49",
         2
        ],
        [
         "When I���m Gone (with Katy ",
         2
        ],
        [
         "LAGUNAS",
         2
        ],
        [
         "Mr. Morale",
         2
        ],
        [
         "Fr��gil (feat. Grupo Front",
         2
        ],
        [
         "Unholy (feat. Kim Petras)",
         2
        ],
        [
         "TULUM",
         2
        ],
        [
         "LA INOCENTE",
         2
        ],
        [
         "The Motto",
         2
        ],
        [
         "traitor",
         2
        ],
        [
         "Sweetest Pie",
         2
        ],
        [
         "'Till I Collapse",
         2
        ],
        [
         "Self Love (Spider-Man: Across the Spider-Verse) (Metro Boomin & Coi Leray)",
         2
        ],
        [
         "Me Porto Bonito",
         2
        ],
        [
         "Rich Flex",
         2
        ],
        [
         "What Else Can I Do?",
         2
        ],
        [
         "psychofreak (feat. WILLOW)",
         2
        ],
        [
         "Miracle (with Ellie Goulding)",
         2
        ],
        [
         "WORTH NOTHING",
         2
        ],
        [
         "Sigue",
         2
        ],
        [
         "Hey Mor",
         2
        ],
        [
         "Rosa Pastel",
         2
        ],
        [
         "STAY (with Justin Bieber)",
         2
        ],
        [
         "The Joker And The Queen (feat. Taylor Swift)",
         2
        ],
        [
         "Villano Antillano: Bzrp Music Sessions, Vol. 51",
         2
        ],
        [
         "Die Young (feat. 347aidan)",
         2
        ],
        [
         "Callaita",
         2
        ],
        [
         "Area Codes",
         2
        ],
        [
         "El Merengue",
         2
        ],
        [
         "Gol Bolinha, Gol Quadrado 2",
         2
        ],
        [
         "25k jacket (feat. Lil Baby)",
         2
        ],
        [
         "Snow On The Beach (feat. More Lana Del Rey)",
         2
        ],
        [
         "SORRY NOT SORRY",
         2
        ],
        [
         "B.O.T.A. (Baddest Of Them All) - Edit",
         2
        ],
        [
         "Payphone",
         2
        ],
        [
         "family ties (with Kendrick Lamar)",
         2
        ],
        [
         "Qu�� Ago",
         2
        ],
        [
         "Shorty Party",
         2
        ],
        [
         "Esque��a-Me Se For C",
         2
        ],
        [
         "All For Us - from the HBO Original Series Euphoria",
         2
        ],
        [
         "GAT��",
         2
        ],
        [
         "Gospel (with Eminem)",
         2
        ],
        [
         "Nosso Quadro",
         2
        ],
        [
         "Igualito a Mi Ap�",
         2
        ],
        [
         "CAIRO",
         2
        ],
        [
         "On Time (with John Legend)",
         2
        ],
        [
         "La Santa",
         2
        ],
        [
         "Thinking with My Dick",
         2
        ],
        [
         "Coco Chanel",
         2
        ],
        [
         "Forgot About Dre",
         2
        ],
        [
         "Que Vuelvas",
         2
        ],
        [
         "Pi��man De�",
         2
        ],
        [
         "Brividi",
         2
        ],
        [
         "I Tried to Tell Y'all",
         2
        ],
        [
         "Layla",
         2
        ],
        [
         "Broke Boys",
         2
        ],
        [
         "DOGTOOTH",
         2
        ],
        [
         "Die For You - Remix",
         2
        ],
        [
         "The Next Episode",
         2
        ],
        [
         "Levitating (feat. DaBaby)",
         2
        ],
        [
         "We Cry Together",
         2
        ],
        [
         "Party",
         2
        ],
        [
         "Boy With Luv (feat. Halsey)",
         2
        ],
        [
         "Until I Found You (with Em Beihold) - Em Beihold Version",
         2
        ],
        [
         "Danza Kuduro",
         2
        ],
        [
         "LA FAMA (with The Weeknd)",
         2
        ],
        [
         "MOJABI GHOST",
         2
        ],
        [
         "SNAP",
         2
        ],
        [
         "Seven (feat. Latto) (Explicit Ver.)",
         2
        ],
        [
         "Bussin",
         2
        ],
        [
         "PRC",
         2
        ],
        [
         "La Corriente",
         2
        ],
        [
         "un x100to",
         2
        ],
        [
         "LUNA",
         2
        ],
        [
         "Chanel",
         2
        ],
        [
         "LA CANCI�",
         2
        ],
        [
         "NEW MAGIC WAND",
         2
        ],
        [
         "With you",
         2
        ],
        [
         "Do We Have A Problem?",
         2
        ],
        [
         "thought i was playing",
         2
        ],
        [
         "Die For You",
         2
        ],
        [
         "Still D.R.E.",
         2
        ],
        [
         "I Really Want to Stay at Your House",
         2
        ],
        [
         "Daylight",
         2
        ],
        [
         "I Heard You're Married (feat. Lil Wayne)",
         2
        ],
        [
         "Siempre Pendientes",
         2
        ],
        [
         "All My Life (feat. J. Cole)",
         2
        ],
        [
         "Superman",
         2
        ],
        [
         "Save Your Tears (with Ariana Grande) (Remix)",
         2
        ],
        [
         "Pasoori",
         2
        ],
        [
         "Ferrari",
         2
        ],
        [
         "El Rescate",
         2
        ],
        [
         "DAN��A",
         2
        ],
        [
         "Belly Dancer",
         2
        ],
        [
         "Money Trees",
         2
        ],
        [
         "Karma (feat. Ice Spice)",
         2
        ],
        [
         "AMERICA HAS A PROBLEM (feat. Kendrick Lamar)",
         2
        ],
        [
         "Double Fantasy (with Future)",
         2
        ],
        [
         "Mami Chula",
         2
        ],
        [
         "I Know - PR1SVX Edit",
         2
        ],
        [
         "Paulo Londra: Bzrp Music Sessions, Vol. 23",
         2
        ],
        [
         "Ni��a Bo",
         2
        ],
        [
         "PUNTO 40",
         2
        ],
        [
         "Honest (feat. Don Toliver)",
         2
        ],
        [
         "VIBE (feat. Jimin of BTS)",
         2
        ],
        [
         "One Kiss (with Dua Lipa)",
         2
        ],
        [
         "We Found Love",
         2
        ],
        [
         "On BS",
         2
        ],
        [
         "Used (feat. Don Toliver)",
         2
        ],
        [
         "Fair Trade (with Travis Scott)",
         2
        ],
        [
         "Rauw Alejandro: Bzrp Music Sessions, Vol. 56",
         2
        ],
        [
         "I Like You (A Happier Song) (with Doja Cat)",
         2
        ],
        [
         "Sem Alian��a no ",
         2
        ],
        [
         "Volv�",
         2
        ],
        [
         "Qu�� M��",
         2
        ],
        [
         "Di Que Si",
         2
        ],
        [
         "212",
         2
        ],
        [
         "Tormenta (feat. Bad Bunny)",
         2
        ],
        [
         "Bam Bam (feat. Ed Sheeran)",
         2
        ],
        [
         "Take My Breath",
         2
        ],
        [
         "Quevedo: Bzrp Music Sessions, Vol. 52",
         2
        ],
        [
         "Open Arms (feat. Travis Scott)",
         2
        ],
        [
         "Closer",
         2
        ],
        [
         "Arc��ngel: Bzrp Music Sessions, Vol",
         2
        ],
        [
         "You Make It Feel Like Christmas (feat. Blake Shelton)",
         2
        ],
        [
         "on the street (with J. Cole)",
         2
        ],
        [
         "MONTAGEM - FR PUNK",
         2
        ],
        [
         "En Paris",
         2
        ],
        [
         "IDGAF (with blackbear)",
         2
        ],
        [
         "Where Did You Go?",
         2
        ],
        [
         "Seu Brilho Sumiu - Ao Vivo",
         2
        ],
        [
         "Don't ever say love me (feat. RM of BTS)",
         2
        ],
        [
         "Man Made A Bar (feat. Eric Church)",
         2
        ],
        [
         "PERO T�",
         2
        ],
        [
         "Mal Feito - Ao Vivo",
         2
        ],
        [
         "UNFORGIVEN (feat. Nile Rodgers)",
         2
        ],
        [
         "TUS L��GR",
         2
        ],
        [
         "Danger (Spider) (Offset & JID)",
         2
        ],
        [
         "Major Distribution",
         2
        ],
        [
         "Flowers",
         2
        ],
        [
         "Princess Diana (with Nicki Minaj)",
         2
        ],
        [
         "INDUSTRY BABY (feat. Jack Harlow)",
         2
        ],
        [
         "Where Are You Now",
         2
        ],
        [
         "Moth To A Flame (with The Weeknd)",
         2
        ],
        [
         "Spin Bout U",
         2
        ],
        [
         "Obsessed",
         2
        ],
        [
         "TQG",
         2
        ],
        [
         "La Bebe - Remix",
         2
        ],
        [
         "Classy 101",
         2
        ],
        [
         "Ella Baila Sola",
         2
        ],
        [
         "Desesperados",
         2
        ],
        [
         "Ch y la Pizza",
         2
        ],
        [
         "Snow On The Beach (feat. Lana Del Rey)",
         2
        ],
        [
         "You Right",
         2
        ],
        [
         "About Damn Time",
         2
        ],
        [
         "Yandel 150",
         2
        ],
        [
         "Ojitos Lindos",
         2
        ],
        [
         "lovely - Bonus Track",
         2
        ],
        [
         "Abcdario",
         2
        ],
        [
         "Stargirl Interlude",
         2
        ],
        [
         "MAMIII",
         2
        ],
        [
         "I Was Never There",
         2
        ],
        [
         "One Right Now (with The Weeknd)",
         2
        ],
        [
         "Mi��n",
         2
        ],
        [
         "Sunroof",
         2
        ],
        [
         "Do It To It",
         2
        ],
        [
         "Nos Comemos (feat. Ozuna)",
         2
        ],
        [
         "Tiago PZK: Bzrp Music Sessions, Vol. 48",
         2
        ],
        [
         "Las Morras",
         2
        ],
        [
         "La Jumpa",
         2
        ],
        [
         "Ley Seca",
         2
        ],
        [
         "Freaky Deaky",
         2
        ],
        [
         "Monoton�",
         2
        ],
        [
         "Bombonzinho - Ao Vivo",
         2
        ],
        [
         "Merry Christmas",
         2
        ],
        [
         "A Veces (feat. Feid)",
         2
        ],
        [
         "Mood (feat. Iann Dior)",
         2
        ],
        [
         "Shallow",
         2
        ],
        [
         "Fin de Semana",
         2
        ],
        [
         "Te Felicito",
         2
        ],
        [
         "El Azul",
         2
        ],
        [
         "Rara Vez",
         2
        ],
        [
         "Bebe Dame",
         2
        ],
        [
         "Sunflower - Spider-Man: Into the Spider-Verse",
         2
        ],
        [
         "Something Just Like This",
         2
        ],
        [
         "T��",
         2
        ],
        [
         "Don't Be Shy",
         2
        ],
        [
         "XQ Te Pones As�",
         2
        ],
        [
         "My Universe",
         2
        ],
        [
         "Peaches (from The Super Mario Bros. Movie)",
         1
        ],
        [
         "Heaven",
         1
        ],
        [
         "STAR WALKIN' (League of Legends Worlds Anthem)",
         1
        ],
        [
         "Love Language",
         1
        ],
        [
         "Un Coco",
         1
        ],
        [
         "Evergreen (You Didn���t Deserve Me A",
         1
        ],
        [
         "Hold My Hand",
         1
        ],
        [
         "SLOW DANCING IN THE DARK",
         1
        ],
        [
         "Would've, Could've, Should've",
         1
        ],
        [
         "LET GO",
         1
        ],
        [
         "Acapulco",
         1
        ],
        [
         "Swim",
         1
        ],
        [
         "A Tu Merced",
         1
        ],
        [
         "Hope",
         1
        ],
        [
         "Bejeweled",
         1
        ],
        [
         "Mon��y so",
         1
        ],
        [
         "Lavender Haze",
         1
        ],
        [
         "Midnight Rain",
         1
        ],
        [
         "Stefania (Kalush Orchestra)",
         1
        ],
        [
         "Thousand Miles",
         1
        ],
        [
         "Selfish",
         1
        ],
        [
         "Snooze",
         1
        ],
        [
         "Take Two",
         1
        ],
        [
         "Set Fire to the Rain",
         1
        ],
        [
         "Bad Habits",
         1
        ],
        [
         "SOS",
         1
        ],
        [
         "Oh My God",
         1
        ],
        [
         "Little Freak",
         1
        ],
        [
         "Made You Look",
         1
        ],
        [
         "Snowman",
         1
        ],
        [
         "Far",
         1
        ],
        [
         "Sky",
         1
        ],
        [
         "Ya No Somos Ni Seremos",
         1
        ],
        [
         "LOVE DIVE",
         1
        ],
        [
         "Counting Stars",
         1
        ],
        [
         "Thinkin��� B",
         1
        ],
        [
         "F2F",
         1
        ],
        [
         "The Heart Part 5",
         1
        ],
        [
         "The Real Slim Shady",
         1
        ],
        [
         "Stay Alive (Prod. SUGA of BTS)",
         1
        ],
        [
         "Curtains",
         1
        ],
        [
         "A Tale By Quincy",
         1
        ],
        [
         "Everybody Wants To Rule The World",
         1
        ],
        [
         "Take Me To Church",
         1
        ],
        [
         "Heart To Heart",
         1
        ],
        [
         "Butter",
         1
        ],
        [
         "In Da Club",
         1
        ],
        [
         "Agosto",
         1
        ],
        [
         "THE SHADE",
         1
        ],
        [
         "BILLIE EILISH.",
         1
        ],
        [
         "Never Felt So Alone",
         1
        ],
        [
         "Surface Pressure",
         1
        ],
        [
         "Super Gremlin",
         1
        ],
        [
         "Rolling in the Deep",
         1
        ],
        [
         "Grapejuice",
         1
        ],
        [
         "Praise God",
         1
        ],
        [
         "Lucid Dreams",
         1
        ],
        [
         "BackOutsideBoyz",
         1
        ],
        [
         "Still With You",
         1
        ],
        [
         "En El Radio Un Cochinero",
         1
        ],
        [
         "Bad Habit",
         1
        ],
        [
         "Le�",
         1
        ],
        [
         "Don't Start Now",
         1
        ],
        [
         "Limbo",
         1
        ],
        [
         "Santa Tell Me",
         1
        ],
        [
         "C��",
         1
        ],
        [
         "Love Of My Life",
         1
        ],
        [
         "Celestial",
         1
        ],
        [
         "Apocalypse",
         1
        ],
        [
         "Slut Me Out",
         1
        ],
        [
         "Hrs and Hrs",
         1
        ],
        [
         "Cruel Summer",
         1
        ],
        [
         "Enchanted (Taylor's Version)",
         1
        ],
        [
         "After Hours",
         1
        ],
        [
         "Heat Waves",
         1
        ],
        [
         "Hey, Mickey!",
         1
        ],
        [
         "Merry Christmas Everyone",
         1
        ],
        [
         "Gasoline",
         1
        ],
        [
         "TV",
         1
        ],
        [
         "Forever",
         1
        ],
        [
         "Eyes Closed",
         1
        ],
        [
         "���98 Braves",
         1
        ],
        [
         "positions",
         1
        ],
        [
         "PUFFIN ON ZOOTIEZ",
         1
        ],
        [
         "Say Yes To Heaven",
         1
        ],
        [
         "Dark Red",
         1
        ],
        [
         "Streets",
         1
        ],
        [
         "HUMBLE.",
         1
        ],
        [
         "Those Eyes",
         1
        ],
        [
         "Jordan",
         1
        ],
        [
         "Pass The Dutchie",
         1
        ],
        [
         "Set Me Free Pt.2",
         1
        ],
        [
         "Sial",
         1
        ],
        [
         "Bored",
         1
        ],
        [
         "Feliz Navidad",
         1
        ],
        [
         "Run Rudolph Run - Single Version",
         1
        ],
        [
         "Circles",
         1
        ],
        [
         "In The Stars",
         1
        ],
        [
         "Es un Secreto",
         1
        ],
        [
         "I Hate U",
         1
        ],
        [
         "ALIEN SUPERSTAR",
         1
        ],
        [
         "Chemical",
         1
        ],
        [
         "Cupido",
         1
        ],
        [
         "ceilings",
         1
        ],
        [
         "KU LO SA - A COLORS SHOW",
         1
        ],
        [
         "I Love You So",
         1
        ],
        [
         "Mr. Brightside",
         1
        ],
        [
         "Deck The Hall - Remastered 1999",
         1
        ],
        [
         "New Jeans",
         1
        ],
        [
         "Arcade",
         1
        ],
        [
         "Afraid To Feel",
         1
        ],
        [
         "Low",
         1
        ],
        [
         "Sticky",
         1
        ],
        [
         "I Can See You (Taylor���s Version) (From The ",
         1
        ],
        [
         "Mi Bello Angel",
         1
        ],
        [
         "Wild Flower (with youjeen)",
         1
        ],
        [
         "Nxde",
         1
        ],
        [
         "Blinding Lights",
         1
        ],
        [
         "Por las Noches",
         1
        ],
        [
         "Fim de Semana no Rio",
         1
        ],
        [
         "die first",
         1
        ],
        [
         "Ferxxo 100",
         1
        ],
        [
         "This Love (Taylor���s Ve",
         1
        ],
        [
         "Si Te La Encuentras Por Ah�",
         1
        ],
        [
         "Primera Cita",
         1
        ],
        [
         "It's Beginning To Look A Lot Like Christmas",
         1
        ],
        [
         "SloMo",
         1
        ],
        [
         "Photograph",
         1
        ],
        [
         "Heartless",
         1
        ],
        [
         "LALA",
         1
        ],
        [
         "Erro Gostoso - Ao Vivo",
         1
        ],
        [
         "Like Crazy (English Version)",
         1
        ],
        [
         "The Hills",
         1
        ],
        [
         "Style",
         1
        ],
        [
         "I Ain't Worried",
         1
        ],
        [
         "Shape of You",
         1
        ],
        [
         "Enchanted",
         1
        ],
        [
         "Ghost",
         1
        ],
        [
         "Born With A Beer In My Hand",
         1
        ],
        [
         "Mary On A Cross",
         1
        ],
        [
         "Envolver",
         1
        ],
        [
         "RUMBAT�",
         1
        ],
        [
         "My Mind & Me",
         1
        ],
        [
         "Easy On Me",
         1
        ],
        [
         "Jingle Bells - Remastered 1999",
         1
        ],
        [
         "First Class",
         1
        ],
        [
         "Dream On",
         1
        ],
        [
         "Music For a Sushi Restaurant",
         1
        ],
        [
         "La Bachata",
         1
        ],
        [
         "Shut up My Moms Calling",
         1
        ],
        [
         "Super",
         1
        ],
        [
         "MONTERO (Call Me By Your Name)",
         1
        ],
        [
         "Bound 2",
         1
        ],
        [
         "DESPECH�",
         1
        ],
        [
         "Call Out My Name",
         1
        ],
        [
         "When I R.I.P.",
         1
        ],
        [
         "505",
         1
        ],
        [
         "Just Wanna Rock",
         1
        ],
        [
         "Out of Time",
         1
        ],
        [
         "Auntie Diaries",
         1
        ],
        [
         "Dos Oruguitas",
         1
        ],
        [
         "Daddy Issues",
         1
        ],
        [
         "Memories",
         1
        ],
        [
         "Starlight",
         1
        ],
        [
         "Lift Me Up - From Black Panther: Wakanda Forever - Music From and Inspired By",
         1
        ],
        [
         "Rich - Interlude",
         1
        ],
        [
         "CORAZ��N VA",
         1
        ],
        [
         "Maan Meri Jaan",
         1
        ],
        [
         "As It Was",
         1
        ],
        [
         "SABOR FRESA",
         1
        ],
        [
         "Queencard",
         1
        ],
        [
         "Sex, Drugs, Etc.",
         1
        ],
        [
         "Keep Driving",
         1
        ],
        [
         "Less Than Zero",
         1
        ],
        [
         "Rockin' Around The Christmas Tree",
         1
        ],
        [
         "Falling",
         1
        ],
        [
         "Karma",
         1
        ],
        [
         "Viva La Vida",
         1
        ],
        [
         "KICK BACK",
         1
        ],
        [
         "Special",
         1
        ],
        [
         "���abcdefu",
         1
        ],
        [
         "Todo De Ti",
         1
        ],
        [
         "Pepas",
         1
        ],
        [
         "Softcore",
         1
        ],
        [
         "Rich Spirit",
         1
        ],
        [
         "One Thing At A Time",
         1
        ],
        [
         "I WANNA BE YOUR SLAVE",
         1
        ],
        [
         "Right On",
         1
        ],
        [
         "Don���t Bl",
         1
        ],
        [
         "Mine (Taylor's Version)",
         1
        ],
        [
         "The Color Violet",
         1
        ],
        [
         "Heather",
         1
        ],
        [
         "Shut up My Moms Calling - (Sped Up)",
         1
        ],
        [
         "favorite crime",
         1
        ],
        [
         "Numb Little Bug",
         1
        ],
        [
         "Only Love Can Hurt Like This",
         1
        ],
        [
         "How Do I Say Goodbye",
         1
        ],
        [
         "Is There Someone Else?",
         1
        ],
        [
         "Blank Space",
         1
        ],
        [
         "HAPPY",
         1
        ],
        [
         "Devil Don���",
         1
        ],
        [
         "Christmas (Baby Please Come Home)",
         1
        ],
        [
         "Gone Girl",
         1
        ],
        [
         "love nwantiti (ah ah ah)",
         1
        ],
        [
         "Tak Segampang Itu",
         1
        ],
        [
         "Somewhere Only We Know",
         1
        ],
        [
         "Sweet Child O' Mine",
         1
        ],
        [
         "Moonlight",
         1
        ],
        [
         "Mockingbird",
         1
        ],
        [
         "Thought You Should Know",
         1
        ],
        [
         "Lost",
         1
        ],
        [
         "Lover",
         1
        ],
        [
         "Pink + White",
         1
        ],
        [
         "Come Back Home - From \"Purple Hearts\"",
         1
        ],
        [
         "Take On Me",
         1
        ],
        [
         "Levitating",
         1
        ],
        [
         "Dua Lipa",
         1
        ],
        [
         "Freaks",
         1
        ],
        [
         "Creep",
         1
        ],
        [
         "Zona De Perigo",
         1
        ],
        [
         "Gatita",
         1
        ],
        [
         "Hati-Hati di Jalan",
         1
        ],
        [
         "Static",
         1
        ],
        [
         "Save Your Tears",
         1
        ],
        [
         "Demons",
         1
        ],
        [
         "Savior - Interlude",
         1
        ],
        [
         "MORE",
         1
        ],
        [
         "Attention",
         1
        ],
        [
         "Like Crazy",
         1
        ],
        [
         "Fast Car",
         1
        ],
        [
         "Acr��s",
         1
        ],
        [
         "Dawn FM",
         1
        ],
        [
         "Cigarettes",
         1
        ],
        [
         "Mastermind",
         1
        ],
        [
         "Typa Girl",
         1
        ],
        [
         "Space Song",
         1
        ],
        [
         "Miserable Man",
         1
        ],
        [
         "Smells Like Teen Spirit - Remastered 2021",
         1
        ],
        [
         "GIVENCHY",
         1
        ],
        [
         "Blind",
         1
        ],
        [
         "Jingle Bell Rock",
         1
        ],
        [
         "Cupid - Twin Ver.",
         1
        ],
        [
         "La Bebe",
         1
        ],
        [
         "Despu��s de la P",
         1
        ],
        [
         "Starry Eyes",
         1
        ],
        [
         "WANDA",
         1
        ],
        [
         "The Rumbling (TV Size)",
         1
        ],
        [
         "WHERE SHE GOES",
         1
        ],
        [
         "I Wanna Be Yours",
         1
        ],
        [
         "Lose Yourself - Soundtrack Version",
         1
        ],
        [
         "Still Don't Know My Name",
         1
        ],
        [
         "Let Me Down Slowly",
         1
        ],
        [
         "BREAK MY SOUL",
         1
        ],
        [
         "Angel Baby",
         1
        ],
        [
         "MONEY",
         1
        ],
        [
         "FEARLESS",
         1
        ],
        [
         "Boyfriends",
         1
        ],
        [
         "we fell in love in october",
         1
        ],
        [
         "The Astronaut",
         1
        ],
        [
         "Feliz Cumplea��os Fe",
         1
        ],
        [
         "PROVENZA",
         1
        ],
        [
         "vampire",
         1
        ],
        [
         "Seek & Destroy",
         1
        ],
        [
         "Just The Way You Are",
         1
        ],
        [
         "Unstoppable",
         1
        ],
        [
         "Iris",
         1
        ],
        [
         "Last Last",
         1
        ],
        [
         "Everything I Love",
         1
        ],
        [
         "Bloody Mary",
         1
        ],
        [
         "Happier Than Ever - Edit",
         1
        ],
        [
         "Talk that Talk",
         1
        ],
        [
         "Chance",
         1
        ],
        [
         "Golden",
         1
        ],
        [
         "Radio",
         1
        ],
        [
         "Reminder",
         1
        ],
        [
         "Yonaguni",
         1
        ],
        [
         "Super Shy",
         1
        ],
        [
         "Believer",
         1
        ],
        [
         "MIDDLE OF THE NIGHT",
         1
        ],
        [
         "good 4 u",
         1
        ],
        [
         "Satellite",
         1
        ],
        [
         "Makeba",
         1
        ],
        [
         "august",
         1
        ],
        [
         "Toxic",
         1
        ],
        [
         "Sobrio",
         1
        ],
        [
         "You Belong With Me (Taylor���s Ve",
         1
        ],
        [
         "The Business",
         1
        ],
        [
         "Worldwide Steppers",
         1
        ],
        [
         "Born Singer",
         1
        ],
        [
         "Summertime Sadness",
         1
        ],
        [
         "Formula",
         1
        ],
        [
         "Love Grows (Where My Rosemary Goes)",
         1
        ],
        [
         "CHORRITO PA LAS ANIMAS",
         1
        ],
        [
         "I AM",
         1
        ],
        [
         "Hype Boy",
         1
        ],
        [
         "Light Switch",
         1
        ],
        [
         "Have You Ever Seen The Rain?",
         1
        ],
        [
         "All I Want for Christmas Is You",
         1
        ],
        [
         "The Night We Met",
         1
        ],
        [
         "When I Was Your Man",
         1
        ],
        [
         "TRUSTFALL",
         1
        ],
        [
         "Holly Jolly Christmas",
         1
        ],
        [
         "she's all i wanna be",
         1
        ],
        [
         "Christmas Tree",
         1
        ],
        [
         "Mirror",
         1
        ],
        [
         "Run BTS",
         1
        ],
        [
         "Wait a Minute!",
         1
        ],
        [
         "Sweet Nothing",
         1
        ],
        [
         "Riptide",
         1
        ],
        [
         "Astronaut In The Ocean",
         1
        ],
        [
         "Cinema",
         1
        ],
        [
         "Alone",
         1
        ],
        [
         "(It Goes Like) Nanana - Edit",
         1
        ],
        [
         "La Zona",
         1
        ],
        [
         "Question...?",
         1
        ],
        [
         "All Too Well (10 Minute Version) (Taylor's Version) (From The Vault)",
         1
        ],
        [
         "Phantom Regret by Jim",
         1
        ],
        [
         "Massive",
         1
        ],
        [
         "Talk",
         1
        ],
        [
         "Yo Voy (feat. Daddy Yankee)",
         1
        ],
        [
         "Oi Balde - Ao Vivo",
         1
        ],
        [
         "Need To Know",
         1
        ],
        [
         "It'll Be Okay",
         1
        ],
        [
         "The Nights",
         1
        ],
        [
         "Beautiful Girl",
         1
        ],
        [
         "Under The Influence",
         1
        ],
        [
         "this is what falling in love feels like",
         1
        ],
        [
         "Aguacero",
         1
        ],
        [
         "Anti-Hero",
         1
        ],
        [
         "Without Me",
         1
        ],
        [
         "Yo No Soy Celoso",
         1
        ],
        [
         "I Wrote The Book",
         1
        ],
        [
         "Master of Puppets (Remastered)",
         1
        ],
        [
         "Red Ruby Da Sleeze",
         1
        ],
        [
         "What Was I Made For? [From The Motion Picture \"Barbie\"]",
         1
        ],
        [
         "Plan A",
         1
        ],
        [
         "MANIAC",
         1
        ],
        [
         "So Good",
         1
        ],
        [
         "Neverita",
         1
        ],
        [
         "Antes de Perderte",
         1
        ],
        [
         "Moscow Mule",
         1
        ],
        [
         "Woman",
         1
        ],
        [
         "Sacrifice",
         1
        ],
        [
         "Pope Is a Rockstar",
         1
        ],
        [
         "Kill Bill",
         1
        ],
        [
         "Cool for the Summer",
         1
        ],
        [
         "Dos Mil 16",
         1
        ],
        [
         "Daydreaming",
         1
        ],
        [
         "Conceited",
         1
        ],
        [
         "Betty (Get Money)",
         1
        ],
        [
         "cardigan",
         1
        ],
        [
         "Tattoo",
         1
        ],
        [
         "Dance Monkey",
         1
        ],
        [
         "���������������������",
         1
        ],
        [
         "Calm Down",
         1
        ],
        [
         "Driving Home for Christmas - 2019 Remaster",
         1
        ],
        [
         "Before You Go",
         1
        ],
        [
         "Permission to Dance",
         1
        ],
        [
         "Demasiadas Mujeres",
         1
        ],
        [
         "In My Head",
         1
        ],
        [
         "Ojos Marrones",
         1
        ],
        [
         "Sparks",
         1
        ],
        [
         "Dandelions",
         1
        ],
        [
         "Underneath the Tree",
         1
        ],
        [
         "jealousy, jealousy",
         1
        ],
        [
         "There's Nothing Holdin' Me Back",
         1
        ],
        [
         "Ditto",
         1
        ],
        [
         "Lady Mi Amor",
         1
        ],
        [
         "Komang",
         1
        ],
        [
         "My Only Wish (This Year)",
         1
        ],
        [
         "I'm Tired - From \"Euphoria\" An Original HBO Series",
         1
        ],
        [
         "Chale",
         1
        ],
        [
         "Glimpse of Us",
         1
        ],
        [
         "Pink Venom",
         1
        ],
        [
         "Tacones Rojos",
         1
        ],
        [
         "Boy's a liar",
         1
        ],
        [
         "Sugar Rush Ride",
         1
        ],
        [
         "2 Be Loved (Am I Ready)",
         1
        ],
        [
         "Un Ratito",
         1
        ],
        [
         "SPACE MAN",
         1
        ],
        [
         "El Gordo Trae El Mando",
         1
        ],
        [
         "Lovezinho",
         1
        ],
        [
         "POP!",
         1
        ],
        [
         "Rush",
         1
        ],
        [
         "Back To December (Taylor's Version)",
         1
        ],
        [
         "Shivers",
         1
        ],
        [
         "Beggin",
         1
        ],
        [
         "Matilda",
         1
        ],
        [
         "Bye",
         1
        ],
        [
         "Search & Rescue",
         1
        ],
        [
         "Wonderful Christmastime - Edited Version / Remastered 2011",
         1
        ],
        [
         "fukumean",
         1
        ],
        [
         "Shirt",
         1
        ],
        [
         "RAPSTAR",
         1
        ],
        [
         "Mujeriego",
         1
        ],
        [
         "METAMORPHOSIS",
         1
        ],
        [
         "Malas Decisiones",
         1
        ],
        [
         "drivers license",
         1
        ],
        [
         "All of Me",
         1
        ],
        [
         "Soy El Unico",
         1
        ],
        [
         "Un Verano Sin Ti",
         1
        ],
        [
         "Labyrinth",
         1
        ],
        [
         "OMG",
         1
        ],
        [
         "deja vu",
         1
        ],
        [
         "VOID",
         1
        ],
        [
         "Perfect",
         1
        ],
        [
         "All Of The Girls You Loved Before",
         1
        ],
        [
         "10 Things I Hate About You",
         1
        ],
        [
         "Happier Than Ever",
         1
        ],
        [
         "Malvada",
         1
        ],
        [
         "Crown",
         1
        ],
        [
         "Revenge",
         1
        ],
        [
         "How Do I Make You Love Me?",
         1
        ],
        [
         "TO THE MOON",
         1
        ],
        [
         "Una Noche en Medell�",
         1
        ],
        [
         "Tak Ingin Usai",
         1
        ],
        [
         "Murder In My Mind",
         1
        ],
        [
         "Doja",
         1
        ],
        [
         "Every Summertime",
         1
        ],
        [
         "After LIKE",
         1
        ],
        [
         "Here With Me",
         1
        ],
        [
         "S-Class",
         1
        ],
        [
         "Say You Won't Let Go",
         1
        ],
        [
         "Count Me Out",
         1
        ],
        [
         "Vegas (From the Original Motion Picture Soundtrack ELVIS)",
         1
        ],
        [
         "Gasolina",
         1
        ],
        [
         "295",
         1
        ],
        [
         "No Se Va",
         1
        ],
        [
         "Good Looking",
         1
        ],
        [
         "Do They Know It's Christmas? - 1984 Version",
         1
        ],
        [
         "Another Love",
         1
        ],
        [
         "What It Is (Solo Version)",
         1
        ],
        [
         "Bones",
         1
        ],
        [
         "Cheques",
         1
        ],
        [
         "Bite Me",
         1
        ],
        [
         "Boyfriend",
         1
        ],
        [
         "Ain't Shit",
         1
        ],
        [
         "Angels Like You",
         1
        ],
        [
         "SUPERMODEL",
         1
        ],
        [
         "Nobody Gets Me",
         1
        ],
        [
         "You're On Your Own, Kid",
         1
        ],
        [
         "Until I Found You",
         1
        ],
        [
         "Kahani Suno 2.0",
         1
        ],
        [
         "LLYLM",
         1
        ],
        [
         "Yellow",
         1
        ],
        [
         "No Role Modelz",
         1
        ],
        [
         "Punto G",
         1
        ],
        [
         "Sweater Weather",
         1
        ],
        [
         "Infinity",
         1
        ],
        [
         "DANCE CRIP",
         1
        ],
        [
         "United In Grief",
         1
        ],
        [
         "������������",
         1
        ],
        [
         "Cupid",
         1
        ],
        [
         "Prohibidox",
         1
        ],
        [
         "TQM",
         1
        ],
        [
         "Titi Me Pregunt�",
         1
        ],
        [
         "Super Freaky Girl",
         1
        ],
        [
         "Notice Me",
         1
        ],
        [
         "Adore You",
         1
        ],
        [
         "San Lucas",
         1
        ],
        [
         "You Proof",
         1
        ],
        [
         "House Of Memories",
         1
        ],
        [
         "c��mo dormi",
         1
        ],
        [
         "Dynamite",
         1
        ],
        [
         "Notion",
         1
        ],
        [
         "FLOWER",
         1
        ],
        [
         "REMIX EXCLUSIVO",
         1
        ],
        [
         "Blessed-Cursed",
         1
        ],
        [
         "Wake Me Up - Radio Edit",
         1
        ],
        [
         "Late Night Talking",
         1
        ],
        [
         "ELEVEN",
         1
        ],
        [
         "The Great War",
         1
        ],
        [
         "Nonsense",
         1
        ],
        [
         "Shake It Off",
         1
        ],
        [
         "If We Ever Broke Up",
         1
        ],
        [
         "In The End",
         1
        ],
        [
         "The Feels",
         1
        ],
        [
         "Running Up That Hill (A Deal With God)",
         1
        ],
        [
         "Don���t Break My",
         1
        ],
        [
         "L���",
         1
        ],
        [
         "Best Friends",
         1
        ],
        [
         "That's Hilarious",
         1
        ],
        [
         "Night Changes",
         1
        ],
        [
         "Car's Outside",
         1
        ],
        [
         "Mistletoe",
         1
        ],
        [
         "Still Life",
         1
        ],
        [
         "ZOOM",
         1
        ],
        [
         "Poland",
         1
        ],
        [
         "MIENTRAS ME CURO DEL CORA",
         1
        ],
        [
         "Atlantis",
         1
        ],
        [
         "Something In The Way - Remastered 2021",
         1
        ],
        [
         "Fuera del mercado",
         1
        ],
        [
         "Lovers Rock",
         1
        ],
        [
         "Every Angel is Terrifying",
         1
        ],
        [
         "AMARGURA",
         1
        ],
        [
         "People",
         1
        ],
        [
         "Ain���t Tha",
         1
        ],
        [
         "A Holly Jolly Christmas - Single Version",
         1
        ],
        [
         "The Christmas Song (Merry Christmas To You) - Remastered 1999",
         1
        ],
        [
         "Dance The Night (From Barbie The Album)",
         1
        ],
        [
         "It's the Most Wonderful Time of the Year",
         1
        ],
        [
         "Haegeum",
         1
        ],
        [
         "Shut Down",
         1
        ],
        [
         "DARARI",
         1
        ],
        [
         "El Apag�",
         1
        ],
        [
         "I'm Not The Only One",
         1
        ],
        [
         "N95",
         1
        ],
        [
         "Me Fui de Vacaciones",
         1
        ],
        [
         "For Youth",
         1
        ],
        [
         "Every Breath You Take - Remastered 2003",
         1
        ],
        [
         "Nail Tech",
         1
        ],
        [
         "Talking To The Moon",
         1
        ],
        [
         "Yet To Come",
         1
        ],
        [
         "Me and Your Mama",
         1
        ],
        [
         "Columbia",
         1
        ],
        [
         "S91",
         1
        ],
        [
         "Do I Wanna Know?",
         1
        ],
        [
         "Sleigh Ride",
         1
        ],
        [
         "Too Late",
         1
        ],
        [
         "THATS WHAT I WANT",
         1
        ],
        [
         "happier",
         1
        ],
        [
         "Hits Different",
         1
        ],
        [
         "After Dark",
         1
        ],
        [
         "Get Into It (Yuh)",
         1
        ],
        [
         "HEARTBREAK ANNIVERSARY",
         1
        ],
        [
         "Better Than Revenge (Taylor's Version)",
         1
        ],
        [
         "Thinking Out Loud",
         1
        ],
        [
         "I AM WOMAN",
         1
        ],
        [
         "Someone You Loved",
         1
        ],
        [
         "Good Days",
         1
        ],
        [
         "Life Goes On",
         1
        ],
        [
         "Romantic Homicide",
         1
        ],
        [
         "Love Yourself",
         1
        ],
        [
         "Bigger Than The Whole Sky",
         1
        ],
        [
         "Last Christmas",
         1
        ],
        [
         "Alien Blues",
         1
        ],
        [
         "Ens����ame ",
         1
        ],
        [
         "California Breeze",
         1
        ],
        [
         "Sure Thing",
         1
        ],
        [
         "Vista Al Mar",
         1
        ],
        [
         "Bohemian Rhapsody - Remastered 2011",
         1
        ],
        [
         "Efecto",
         1
        ],
        [
         "Last Night",
         1
        ],
        [
         "2055",
         1
        ],
        [
         "Ginseng Strip 2002",
         1
        ],
        [
         "Maroon",
         1
        ],
        [
         "The Scientist",
         1
        ],
        [
         "Vigilante Shit",
         1
        ],
        [
         "Overdrive",
         1
        ],
        [
         "Watermelon Sugar",
         1
        ],
        [
         "ANTIFRAGILE",
         1
        ],
        [
         "you broke me first",
         1
        ],
        [
         "THE LONELIEST",
         1
        ],
        [
         "Caile",
         1
        ],
        [
         "Locked Out Of Heaven",
         1
        ],
        [
         "Why'd You Only Call Me When You're High?",
         1
        ],
        [
         "Players",
         1
        ],
        [
         "Normal",
         1
        ],
        [
         "Cupid ��� Twin Ver. (FIFTY FIFTY) ��� Spe",
         1
        ],
        [
         "Smoking on my Ex Pack",
         1
        ],
        [
         "CUFF IT",
         1
        ],
        [
         "Something in the Orange",
         1
        ],
        [
         "Love Again",
         1
        ],
        [
         "Polaroid Love",
         1
        ],
        [
         "Mount Everest",
         1
        ],
        [
         "O.O",
         1
        ],
        [
         "When You're Gone",
         1
        ],
        [
         "Forget Me",
         1
        ],
        [
         "golden hour",
         1
        ],
        [
         "Worst Day",
         1
        ]
       ],
       "datasetInfos": [],
       "dbfsResultPath": null,
       "isJsonSchema": true,
       "metadata": {
        "dataframeName": "_sqldf",
        "executionCount": 23
       },
       "overflow": false,
       "plotOptions": {
        "customPlotOptions": {},
        "displayType": "table",
        "pivotAggregation": null,
        "pivotColumns": null,
        "xColumns": null,
        "yColumns": null
       },
       "removedWidgets": [],
       "schema": [
        {
         "metadata": "{}",
         "name": "track_name",
         "type": "\"string\""
        },
        {
         "metadata": "{\"__autoGeneratedAlias\":\"true\"}",
         "name": "sum(artist_count)",
         "type": "\"long\""
        }
       ],
       "type": "table"
      }
     },
     "output_type": "display_data"
    }
   ],
   "source": [
    "%sql select track_name,sum(artist_count) from track_names\n",
    "group by 1\n",
    "order by 2 desc\n"
   ]
  },
  {
   "cell_type": "code",
   "execution_count": 0,
   "metadata": {
    "application/vnd.databricks.v1+cell": {
     "cellMetadata": {
      "byteLimit": 2048000,
      "implicitDf": true,
      "rowLimit": 10000
     },
     "inputWidgets": {},
     "nuid": "6c39cf9a-1f7b-4caa-97e4-c19388e9586d",
     "showTitle": false,
     "title": ""
    }
   },
   "outputs": [
    {
     "output_type": "display_data",
     "data": {
      "text/html": [
       "<style scoped>\n",
       "  .table-result-container {\n",
       "    max-height: 300px;\n",
       "    overflow: auto;\n",
       "  }\n",
       "  table, th, td {\n",
       "    border: 1px solid black;\n",
       "    border-collapse: collapse;\n",
       "  }\n",
       "  th, td {\n",
       "    padding: 5px;\n",
       "  }\n",
       "  th {\n",
       "    text-align: left;\n",
       "  }\n",
       "</style><div class='table-result-container'><table class='table-result'><thead style='background-color: white'><tr><th>track_name</th><th>in_spotify_charts</th><th>sum(artist_count)</th></tr></thead><tbody><tr><td>Los del Espacio</td><td>31</td><td>8</td></tr><tr><td>Se Le Ve</td><td>0</td><td>8</td></tr><tr><td>Cay�� La Noche (feat. Cruz Cafun��, Abhir Hathi, Bejo, EL IMA)</td><td>1</td><td>7</td></tr><tr><td>We Don't Talk About Bruno</td><td>0</td><td>7</td></tr><tr><td>Nobody Like U - From \"Turning Red\"</td><td>0</td><td>6</td></tr><tr><td>Jhoome Jo Pathaan</td><td>4</td><td>6</td></tr><tr><td>Besharam Rang (From \"Pathaan\")</td><td>4</td><td>6</td></tr><tr><td>Angel Pt 1 (feat. Jimin of BTS, JVKE & Muni Long)</td><td>14</td><td>5</td></tr><tr><td>ULTRA SOLO REMIX</td><td>0</td><td>5</td></tr><tr><td>Link Up (Metro Boomin & Don Toliver, Wizkid feat. BEAM & Toian) - Spider-Verse Remix (Spider-Man: Across the Spider-Verse )</td><td>0</td><td>5</td></tr><tr><td>Tere Vaaste (From \"Zara Hatke Zara Bachke\")</td><td>8</td><td>5</td></tr><tr><td>Marisola - Remix</td><td>16</td><td>5</td></tr><tr><td>Annihilate (Spider-Man: Across the Spider-Verse) (Metro Boomin & Swae Lee, Lil Wayne, Offset)</td><td>4</td><td>4</td></tr><tr><td>sentaDONA (Remix) s2</td><td>0</td><td>4</td></tr><tr><td>Happy Xmas (War Is Over)</td><td>0</td><td>4</td></tr><tr><td>Enemy (with JID) - from the series Arcane League of Legends</td><td>7</td><td>4</td></tr><tr><td>Novo Balan�</td><td>7</td><td>4</td></tr><tr><td>BABY OTAKU</td><td>0</td><td>4</td></tr><tr><td>La Llevo Al Cielo (Ft. ��engo F</td><td>3</td><td>4</td></tr><tr><td>Cash In Cash Out</td><td>0</td><td>4</td></tr><tr><td>Entre Nosotros (Remix) [con Nicki Nicole]</td><td>3</td><td>4</td></tr><tr><td>Stay With Me (with Justin Timberlake, Halsey, & Pharrell)</td><td>0</td><td>4</td></tr><tr><td>Tubar��o Te</td><td>0</td><td>4</td></tr><tr><td>Friday (feat. Mufasa & Hypeman) - Dopamine Re-Edit</td><td>0</td><td>4</td></tr><tr><td>Calling (Spider-Man: Across the Spider-Verse) (Metro Boomin & Swae Lee, NAV, feat. A Boogie Wit da Hoodie)</td><td>16</td><td>4</td></tr><tr><td>POLARIS - Remix</td><td>33</td><td>4</td></tr><tr><td>OUT OUT (feat. Charli XCX & Saweetie)</td><td>0</td><td>4</td></tr><tr><td>Mu��</td><td>6</td><td>3</td></tr><tr><td>S��</td><td>0</td><td>3</td></tr><tr><td>The Family Madrigal</td><td>0</td><td>3</td></tr><tr><td>Love Nwantiti - Remix</td><td>0</td><td>3</td></tr><tr><td>Lo Siento BB:/ (with Bad Bunny & Julieta Venegas)</td><td>26</td><td>3</td></tr><tr><td>White Christmas</td><td>0</td><td>3</td></tr><tr><td>Rumble</td><td>0</td><td>3</td></tr><tr><td>Thunder</td><td>10</td><td>3</td></tr><tr><td>California Love - Original Version (Explicit)</td><td>0</td><td>3</td></tr><tr><td>WAIT FOR U (feat. Drake & Tems)</td><td>14</td><td>3</td></tr><tr><td>Volando - Remix</td><td>19</td><td>3</td></tr><tr><td>See You Again</td><td>64</td><td>3</td></tr><tr><td>Trance (with Travis Scott & Young Thug)</td><td>46</td><td>3</td></tr><tr><td>Bamba (feat. Aitch & BIA)</td><td>7</td><td>3</td></tr><tr><td>Baile no Morro</td><td>2</td><td>3</td></tr><tr><td>En La De Ella</td><td>0</td><td>3</td></tr><tr><td>Too Many Nights (feat. Don Toliver & with Future)</td><td>58</td><td>3</td></tr><tr><td>Ai Preto</td><td>4</td><td>3</td></tr><tr><td>Knife Talk (with 21 Savage ft. Project Pat)</td><td>0</td><td>3</td></tr><tr><td>Me Arrepent�</td><td>2</td><td>3</td></tr><tr><td>Excuses</td><td>4</td><td>3</td></tr><tr><td>Crazy What Love Can Do</td><td>0</td><td>3</td></tr><tr><td>Barbie World (with Aqua) [From Barbie The Album]</td><td>80</td><td>3</td></tr><tr><td>Fingers Crossed</td><td>0</td><td>3</td></tr><tr><td>Un Finde | CROSSOVER #2</td><td>14</td><td>3</td></tr><tr><td>Let It Snow! Let It Snow! Let It Snow!</td><td>0</td><td>3</td></tr><tr><td>MERCHO</td><td>20</td><td>3</td></tr><tr><td>Si Quieren Frontear</td><td>0</td><td>3</td></tr><tr><td>Get Lucky - Radio Edit</td><td>0</td><td>3</td></tr><tr><td>Pantysito</td><td>0</td><td>3</td></tr><tr><td>City of Gods</td><td>0</td><td>3</td></tr><tr><td>Am I Dreaming (Metro Boomin & A$AP Rocky, Roisee)</td><td>16</td><td>3</td></tr><tr><td>Mejor Que Yo</td><td>1</td><td>3</td></tr><tr><td>Popular (with Playboi Carti & Madonna) - The Idol Vol. 1 (Music from the HBO Original Series)</td><td>87</td><td>3</td></tr><tr><td>Hot Shit (feat. Ye & Lil Durk)</td><td>0</td><td>3</td></tr><tr><td>Malvad��</td><td>1</td><td>3</td></tr><tr><td>Peaches (feat. Daniel Caesar & Giveon)</td><td>0</td><td>3</td></tr><tr><td>Way 2 Sexy (with Future & Young Thug)</td><td>0</td><td>3</td></tr><tr><td>Niagara Falls (Foot or 2) [with Travis Scott & 21 Savage]</td><td>0</td><td>3</td></tr><tr><td>Superhero (Heroes & Villains) [with Future & Chris Brown]</td><td>16</td><td>3</td></tr><tr><td>VAGABUNDO</td><td>34</td><td>3</td></tr><tr><td>Here We Go��� Again (feat. Tyler, the Cr</td><td>0</td><td>3</td></tr><tr><td>Pipoco</td><td>4</td><td>3</td></tr><tr><td>Smokin Out The Window</td><td>0</td><td>3</td></tr><tr><td>STAYING ALIVE (feat. Drake & Lil Baby)</td><td>0</td><td>3</td></tr><tr><td>QUEMA</td><td>31</td><td>3</td></tr><tr><td>Mas Rica Que Ayer</td><td>34</td><td>3</td></tr><tr><td>One Dance</td><td>24</td><td>3</td></tr><tr><td>Left and Right (Feat. Jung Kook of BTS)</td><td>39</td><td>3</td></tr><tr><td>LOKERA</td><td>30</td><td>3</td></tr><tr><td>Medallo</td><td>2</td><td>3</td></tr><tr><td>Evoque Prata</td><td>0</td><td>3</td></tr><tr><td>Enemy - from the series Arcane League of Legends</td><td>0</td><td>3</td></tr><tr><td>Cold Heart - PNAU Remix</td><td>52</td><td>3</td></tr><tr><td>Better Days (NEIKED x Mae Muller x Polo G)</td><td>0</td><td>3</td></tr><tr><td>LADY GAGA</td><td>26</td><td>3</td></tr><tr><td>All The Way Live (Spider-Man: Across the Spider-Verse) (Metro Boomin & Future, Lil Uzi Vert)</td><td>0</td><td>3</td></tr><tr><td>Vampiro</td><td>4</td><td>3</td></tr><tr><td>Casei Com a Putaria</td><td>4</td><td>3</td></tr><tr><td>Leave The Door Open</td><td>0</td><td>3</td></tr><tr><td>Private Landing (feat. Justin Bieber & Future)</td><td>0</td><td>3</td></tr><tr><td>Dreamers [Music from the FIFA World Cup Qatar 2022 Official Soundtrack]</td><td>20</td><td>3</td></tr><tr><td>La Loto</td><td>0</td><td>3</td></tr><tr><td>I'm Not Here To Make Friends</td><td>0</td><td>3</td></tr><tr><td>AMG</td><td>19</td><td>3</td></tr><tr><td>Meet Me At Our Spot</td><td>0</td><td>3</td></tr><tr><td>El Cielo</td><td>38</td><td>3</td></tr><tr><td>Die Hard</td><td>0</td><td>3</td></tr><tr><td>Watch This - ARIZONATEARS Pluggnb Remix</td><td>10</td><td>3</td></tr><tr><td>Creepin'</td><td>88</td><td>3</td></tr><tr><td>Nost��l</td><td>2</td><td>3</td></tr><tr><td>Pussy & Millions (feat. Travis Scott)</td><td>0</td><td>3</td></tr><tr><td>Can't Hold Us (feat. Ray Dalton)</td><td>52</td><td>3</td></tr><tr><td>Agudo M��gi</td><td>0</td><td>3</td></tr><tr><td>Kesariya (From \"Brahmastra\")</td><td>6</td><td>3</td></tr><tr><td>Sad Girlz Luv Money Remix (feat. Kali Uchis)</td><td>0</td><td>3</td></tr><tr><td>Savior</td><td>0</td><td>3</td></tr><tr><td>It's Beginning to Look a Lot Like Christmas (with Mitchell Ayres & His Orchestra)</td><td>0</td><td>3</td></tr><tr><td>Don't You Worry</td><td>0</td><td>3</td></tr><tr><td>AM Remix</td><td>0</td><td>3</td></tr><tr><td>Potion (with Dua Lipa & Young Thug)</td><td>0</td><td>3</td></tr><tr><td>Bad Decisions (with BTS & Snoop Dogg)</td><td>0</td><td>3</td></tr><tr><td>pushin P (feat. Young Thug)</td><td>0</td><td>3</td></tr><tr><td>Baby Don't Hurt Me</td><td>66</td><td>3</td></tr><tr><td>Phir Aur Kya Chahiye (From \"Zara Hatke Zara Bachke\")</td><td>6</td><td>3</td></tr><tr><td>Purple Hearts</td><td>0</td><td>3</td></tr><tr><td>You Make It Feel Like Christmas (feat. Blake Shelton)</td><td>0</td><td>2</td></tr><tr><td>Fair Trade (with Travis Scott)</td><td>6</td><td>2</td></tr><tr><td>Mr. Morale</td><td>0</td><td>2</td></tr><tr><td>Igualito a Mi Ap�</td><td>6</td><td>2</td></tr><tr><td>Ferrari</td><td>28</td><td>2</td></tr><tr><td>Money Trees</td><td>32</td><td>2</td></tr><tr><td>Tom's Diner</td><td>0</td><td>2</td></tr><tr><td>Major Distribution</td><td>0</td><td>2</td></tr><tr><td>Man Made A Bar (feat. Eric Church)</td><td>0</td><td>2</td></tr><tr><td>Obsessed</td><td>6</td><td>2</td></tr><tr><td>Princess Diana (with Nicki Minaj)</td><td>4</td><td>2</td></tr><tr><td>Qu�� M��</td><td>0</td><td>2</td></tr><tr><td>All My Life (feat. J. Cole)</td><td>23</td><td>2</td></tr><tr><td>on the street (with J. Cole)</td><td>2</td><td>2</td></tr><tr><td>Nos Comemos (feat. Ozuna)</td><td>0</td><td>2</td></tr><tr><td>Las Morras</td><td>8</td><td>2</td></tr><tr><td>Where Did You Go?</td><td>0</td><td>2</td></tr><tr><td>All For Us - from the HBO Original Series Euphoria</td><td>0</td><td>2</td></tr><tr><td>Peso Pluma: Bzrp Music Sessions, Vol. 55</td><td>40</td><td>2</td></tr><tr><td>VIBE (feat. Jimin of BTS)</td><td>2</td><td>2</td></tr><tr><td>Residente: Bzrp Music Sessions, Vol. 49</td><td>0</td><td>2</td></tr><tr><td>Silent Hill</td><td>0</td><td>2</td></tr><tr><td>Nosso Quadro</td><td>9</td><td>2</td></tr><tr><td>CAIRO</td><td>26</td><td>2</td></tr><tr><td>Problem�</td><td>0</td><td>2</td></tr><tr><td>Double Fantasy (with Future)</td><td>0</td><td>2</td></tr><tr><td>Do We Have A Problem?</td><td>0</td><td>2</td></tr><tr><td>Escapism.</td><td>25</td><td>2</td></tr><tr><td>UNFORGIVEN (feat. Nile Rodgers)</td><td>13</td><td>2</td></tr><tr><td>Me Porto Bonito</td><td>43</td><td>2</td></tr><tr><td>Moth To A Flame (with The Weeknd)</td><td>17</td><td>2</td></tr><tr><td>I'm Good (Blue)</td><td>80</td><td>2</td></tr><tr><td>STAY (with Justin Bieber)</td><td>36</td><td>2</td></tr><tr><td>Self Love (Spider-Man: Across the Spider-Verse) (Metro Boomin & Coi Leray)</td><td>5</td><td>2</td></tr><tr><td>Thinking with My Dick</td><td>0</td><td>2</td></tr><tr><td>Cart��o B</td><td>4</td><td>2</td></tr><tr><td>Sunroof</td><td>17</td><td>2</td></tr><tr><td>AMERICA HAS A PROBLEM (feat. Kendrick Lamar)</td><td>0</td><td>2</td></tr><tr><td>Still D.R.E.</td><td>0</td><td>2</td></tr><tr><td>That That (prod. & feat. SUGA of BTS)</td><td>0</td><td>2</td></tr><tr><td>Snow On The Beach (feat. Lana Del Rey)</td><td>0</td><td>2</td></tr><tr><td>Hold Me Closer</td><td>0</td><td>2</td></tr><tr><td>Lilith (feat. SUGA of BTS) (Diablo IV Anthem)</td><td>6</td><td>2</td></tr><tr><td>I Like You (A Happier Song) (with Doja Cat)</td><td>14</td><td>2</td></tr><tr><td>Levitating (feat. DaBaby)</td><td>8</td><td>2</td></tr><tr><td>PUNTO 40</td><td>12</td><td>2</td></tr><tr><td>Do It To It</td><td>0</td><td>2</td></tr><tr><td>Down Under (feat. Colin Hay)</td><td>2</td><td>2</td></tr><tr><td>Di Que Si</td><td>10</td><td>2</td></tr><tr><td>Bam Bam (feat. Ed Sheeran)</td><td>4</td><td>2</td></tr><tr><td>I Heard You're Married (feat. Lil Wayne)</td><td>0</td><td>2</td></tr><tr><td>BABY HELLO</td><td>35</td><td>2</td></tr><tr><td>Freaky Deaky</td><td>0</td><td>2</td></tr><tr><td>X SI VOLVEMOS</td><td>33</td><td>2</td></tr><tr><td>Brividi</td><td>0</td><td>2</td></tr><tr><td>Rosa Pastel</td><td>4</td><td>2</td></tr><tr><td>Bar</td><td>4</td><td>2</td></tr><tr><td>25k jacket (feat. Lil Baby)</td><td>0</td><td>2</td></tr><tr><td>On Time (with John Legend)</td><td>0</td><td>2</td></tr><tr><td>TULUM</td><td>34</td><td>2</td></tr><tr><td>Coco Chanel</td><td>38</td><td>2</td></tr><tr><td>traitor</td><td>6</td><td>2</td></tr><tr><td>212</td><td>0</td><td>2</td></tr><tr><td>TUS L��GR</td><td>2</td><td>2</td></tr><tr><td>Sprinter</td><td>91</td><td>2</td></tr><tr><td>B.O.T.A. (Baddest Of Them All) - Edit</td><td>6</td><td>2</td></tr><tr><td>En Paris</td><td>5</td><td>2</td></tr><tr><td>I Know - PR1SVX Edit</td><td>0</td><td>2</td></tr><tr><td>Used (feat. Don Toliver)</td><td>0</td><td>2</td></tr><tr><td>SORRY NOT SORRY</td><td>0</td><td>2</td></tr><tr><td>Vai L�� Em Casa </td><td>0</td><td>2</td></tr><tr><td>Shallow</td><td>12</td><td>2</td></tr><tr><td>Peru</td><td>0</td><td>2</td></tr><tr><td>The Next Episode</td><td>0</td><td>2</td></tr><tr><td>Fin de Semana</td><td>14</td><td>2</td></tr><tr><td>Honest (feat. Don Toliver)</td><td>0</td><td>2</td></tr><tr><td>Pi��man De�</td><td>3</td><td>2</td></tr><tr><td>psychofreak (feat. WILLOW)</td><td>0</td><td>2</td></tr><tr><td>MOJABI GHOST</td><td>40</td><td>2</td></tr><tr><td>family ties (with Kendrick Lamar)</td><td>5</td><td>2</td></tr><tr><td>ULTRA SOLO</td><td>0</td><td>2</td></tr><tr><td>The Motto</td><td>6</td><td>2</td></tr><tr><td>When I���m Gone (with Katy </td><td>0</td><td>2</td></tr><tr><td>Until I Found You (with Em Beihold) - Em Beihold Version</td><td>30</td><td>2</td></tr><tr><td>Rauw Alejandro: Bzrp Music Sessions, Vol. 56</td><td>32</td><td>2</td></tr><tr><td>Shoong! (feat. LISA of BLACKPINK)</td><td>9</td><td>2</td></tr><tr><td>Bombonzinho - Ao Vivo</td><td>6</td><td>2</td></tr><tr><td>WORTH NOTHING</td><td>0</td><td>2</td></tr><tr><td>Novidade na ��</td><td>9</td><td>2</td></tr><tr><td>Stargirl Interlude</td><td>32</td><td>2</td></tr><tr><td>Bye Bye</td><td>0</td><td>2</td></tr><tr><td>Siempre Pendientes</td><td>5</td><td>2</td></tr><tr><td>Seven (feat. Latto) (Explicit Ver.)</td><td>147</td><td>2</td></tr><tr><td>MONTAGEM - FR PUNK</td><td>50</td><td>2</td></tr><tr><td>Jimmy Cooks (feat. 21 Savage)</td><td>27</td><td>2</td></tr><tr><td>One Right Now (with The Weeknd)</td><td>0</td><td>2</td></tr><tr><td>Andrea</td><td>0</td><td>2</td></tr><tr><td>Layla</td><td>3</td><td>2</td></tr><tr><td>Ella Baila Sola</td><td>50</td><td>2</td></tr><tr><td>Classy 101</td><td>40</td><td>2</td></tr><tr><td>Bebe Dame</td><td>22</td><td>2</td></tr><tr><td>Ghost in the Machine (feat. Phoebe Bridgers)</td><td>0</td><td>2</td></tr><tr><td>LAGUNAS</td><td>18</td><td>2</td></tr><tr><td>Danger (Spider) (Offset & JID)</td><td>0</td><td>2</td></tr><tr><td>Miss You</td><td>10</td><td>2</td></tr><tr><td>One Kiss (with Dua Lipa)</td><td>10</td><td>2</td></tr><tr><td>Gospel (with Eminem)</td><td>0</td><td>2</td></tr><tr><td>INDUSTRY BABY (feat. Jack Harlow)</td><td>0</td><td>2</td></tr><tr><td>I Really Want to Stay at Your House</td><td>1</td><td>2</td></tr><tr><td>Ojitos Lindos</td><td>38</td><td>2</td></tr><tr><td>Stan</td><td>0</td><td>2</td></tr><tr><td>Circo Loco</td><td>0</td><td>2</td></tr><tr><td>DAN��A</td><td>2</td><td>2</td></tr><tr><td>La Santa</td><td>20</td><td>2</td></tr><tr><td>Gol Bolinha, Gol Quadrado 2</td><td>8</td><td>2</td></tr><tr><td>Don't Be Shy</td><td>0</td><td>2</td></tr><tr><td>Danza Kuduro</td><td>37</td><td>2</td></tr><tr><td>JGL</td><td>9</td><td>2</td></tr><tr><td>Shakira: Bzrp Music Sessions, Vol. 53</td><td>44</td><td>2</td></tr><tr><td>X ��LTIMA</td><td>1</td><td>2</td></tr><tr><td>Callaita</td><td>15</td><td>2</td></tr><tr><td>My Universe</td><td>13</td><td>2</td></tr><tr><td>Mother I Sober (feat. Beth Gibbons of Portishead)</td><td>0</td><td>2</td></tr><tr><td>lovely - Bonus Track</td><td>30</td><td>2</td></tr><tr><td>Merry Christmas</td><td>0</td><td>2</td></tr><tr><td>Se��o</td><td>2</td><td>2</td></tr><tr><td>Somebody That I Used To Know</td><td>0</td><td>2</td></tr><tr><td>On BS</td><td>0</td><td>2</td></tr><tr><td>T��</td><td>15</td><td>2</td></tr><tr><td>LUNA</td><td>11</td><td>2</td></tr><tr><td>Area Codes</td><td>13</td><td>2</td></tr><tr><td>Hummingbird (Metro Boomin & James Blake)</td><td>1</td><td>2</td></tr><tr><td>Gangsta's Paradise</td><td>17</td><td>2</td></tr><tr><td>Open Arms (feat. Travis Scott)</td><td>4</td><td>2</td></tr><tr><td>Raindrops (Insane) [with Travis Scott]</td><td>0</td><td>2</td></tr><tr><td>Bussin</td><td>0</td><td>2</td></tr><tr><td>Desesperados</td><td>34</td><td>2</td></tr><tr><td>You Right</td><td>0</td><td>2</td></tr><tr><td>Sigue</td><td>0</td><td>2</td></tr><tr><td>Hey Mor</td><td>38</td><td>2</td></tr><tr><td>Monoton�</td><td>15</td><td>2</td></tr><tr><td>Quevedo: Bzrp Music Sessions, Vol. 52</td><td>45</td><td>2</td></tr><tr><td>Ley Seca</td><td>0</td><td>2</td></tr><tr><td>The Joker And The Queen (feat. Taylor Swift)</td><td>0</td><td>2</td></tr><tr><td>La Corriente</td><td>8</td><td>2</td></tr><tr><td>Mi��n</td><td>16</td><td>2</td></tr><tr><td>El Azul</td><td>25</td><td>2</td></tr><tr><td>Arc��ngel: Bzrp Music Sessions, Vol</td><td>3</td><td>2</td></tr><tr><td>Volv�</td><td>10</td><td>2</td></tr><tr><td>Mood (feat. Iann Dior)</td><td>0</td><td>2</td></tr><tr><td>Something Just Like This</td><td>21</td><td>2</td></tr><tr><td>La Bebe - Remix</td><td>44</td><td>2</td></tr><tr><td>BESO</td><td>50</td><td>2</td></tr><tr><td>Privileged Rappers</td><td>0</td><td>2</td></tr><tr><td>Boy With Luv (feat. Halsey)</td><td>0</td><td>2</td></tr><tr><td>69</td><td>22</td><td>2</td></tr><tr><td>I Was Never There</td><td>15</td><td>2</td></tr><tr><td>Lost in the Fire</td><td>2</td><td>2</td></tr><tr><td>With you</td><td>2</td><td>2</td></tr><tr><td>Payphone</td><td>4</td><td>2</td></tr><tr><td>Unholy (feat. Kim Petras)</td><td>42</td><td>2</td></tr><tr><td>El Merengue</td><td>44</td><td>2</td></tr><tr><td>Rich Flex</td><td>18</td><td>2</td></tr><tr><td>Sunflower - Spider-Man: Into the Spider-Verse</td><td>78</td><td>2</td></tr><tr><td>PRC</td><td>26</td><td>2</td></tr><tr><td>Mami Chula</td><td>4</td><td>2</td></tr><tr><td>What Else Can I Do?</td><td>0</td><td>2</td></tr><tr><td>Sin Se��</td><td>2</td><td>2</td></tr><tr><td>We Found Love</td><td>21</td><td>2</td></tr><tr><td>Chanel</td><td>10</td><td>2</td></tr><tr><td>Ni��a Bo</td><td>34</td><td>2</td></tr><tr><td>Where Are You Now</td><td>44</td><td>2</td></tr><tr><td>Te Felicito</td><td>9</td><td>2</td></tr><tr><td>Leave Before You Love Me (with Jonas Brothers)</td><td>4</td><td>2</td></tr><tr><td>Escapism. - Sped Up</td><td>0</td><td>2</td></tr><tr><td>Numb</td><td>2</td><td>2</td></tr><tr><td>El Rescate</td><td>4</td><td>2</td></tr><tr><td>Villano Antillano: Bzrp Music Sessions, Vol. 51</td><td>0</td><td>2</td></tr><tr><td>Boy's a liar Pt. 2</td><td>41</td><td>2</td></tr><tr><td>Broke Boys</td><td>0</td><td>2</td></tr><tr><td>LA INOCENTE</td><td>37</td><td>2</td></tr><tr><td>Sweetest Pie</td><td>0</td><td>2</td></tr><tr><td>Shorty Party</td><td>12</td><td>2</td></tr><tr><td>Belly Dancer</td><td>13</td><td>2</td></tr><tr><td>DOGTOOTH</td><td>0</td><td>2</td></tr><tr><td>Sem Alian��a no </td><td>4</td><td>2</td></tr><tr><td>Father Time (feat. Sampha)</td><td>0</td><td>2</td></tr><tr><td>XQ Te Pones As�</td><td>0</td><td>2</td></tr><tr><td>Fr��gil (feat. Grupo Front</td><td>34</td><td>2</td></tr><tr><td>Contection</td><td>0</td><td>2</td></tr><tr><td>La Jumpa</td><td>34</td><td>2</td></tr><tr><td>Dijeron Que No La Iba Lograr</td><td>6</td><td>2</td></tr><tr><td>Snow On The Beach (feat. More Lana Del Rey)</td><td>2</td><td>2</td></tr><tr><td>Eu Gosto Assim - Ao Vivo</td><td>4</td><td>2</td></tr><tr><td>Apna Bana Le (From \"Bhediya\")</td><td>0</td><td>2</td></tr><tr><td>People Pt.2 (feat. IU)</td><td>4</td><td>2</td></tr><tr><td>LA CANCI�</td><td>31</td><td>2</td></tr><tr><td>GAT��</td><td>13</td><td>2</td></tr><tr><td>Rara Vez</td><td>38</td><td>2</td></tr><tr><td>NEW MAGIC WAND</td><td>0</td><td>2</td></tr><tr><td>Closer</td><td>0</td><td>2</td></tr><tr><td>Spin Bout U</td><td>2</td><td>2</td></tr><tr><td>PLAYA DEL INGL�</td><td>15</td><td>2</td></tr><tr><td>IDGAF (with blackbear)</td><td>0</td><td>2</td></tr><tr><td>A Veces (feat. Feid)</td><td>0</td><td>2</td></tr><tr><td>Calm Down (with Selena Gomez)</td><td>77</td><td>2</td></tr><tr><td>TQG</td><td>49</td><td>2</td></tr><tr><td>thought i was playing</td><td>0</td><td>2</td></tr><tr><td>Take My Breath</td><td>0</td><td>2</td></tr><tr><td>LA FAMA (with The Weeknd)</td><td>3</td><td>2</td></tr><tr><td>No Lie</td><td>0</td><td>2</td></tr><tr><td>Ch y la Pizza</td><td>10</td><td>2</td></tr><tr><td>Tormenta (feat. Bad Bunny)</td><td>0</td><td>2</td></tr><tr><td>Tarot</td><td>20</td><td>2</td></tr><tr><td>Kiss Me More (feat. SZA)</td><td>0</td><td>2</td></tr><tr><td>Don't ever say love me (feat. RM of BTS)</td><td>0</td><td>2</td></tr><tr><td>Besos Moja2</td><td>13</td><td>2</td></tr><tr><td>MAMIII</td><td>28</td><td>2</td></tr><tr><td>Die Young (feat. 347aidan)</td><td>0</td><td>2</td></tr><tr><td>I Tried to Tell Y'all</td><td>0</td><td>2</td></tr><tr><td>Qu�� Ago</td><td>15</td><td>2</td></tr><tr><td>Pasoori</td><td>6</td><td>2</td></tr><tr><td>Tiago PZK: Bzrp Music Sessions, Vol. 48</td><td>12</td><td>2</td></tr><tr><td>Stand By Me (feat. Morgan Wallen)</td><td>5</td><td>2</td></tr><tr><td>Seu Brilho Sumiu - Ao Vivo</td><td>5</td><td>2</td></tr><tr><td>Mon Amour - Remix</td><td>2</td><td>2</td></tr><tr><td>PERO T�</td><td>11</td><td>2</td></tr><tr><td>Esque��a-Me Se For C</td><td>0</td><td>2</td></tr><tr><td>Mal Feito - Ao Vivo</td><td>2</td><td>2</td></tr><tr><td>Con La Brisa</td><td>0</td><td>2</td></tr><tr><td>True Love</td><td>0</td><td>2</td></tr><tr><td>un x100to</td><td>40</td><td>2</td></tr><tr><td>Superman</td><td>14</td><td>2</td></tr><tr><td>Save Your Tears (with Ariana Grande) (Remix)</td><td>5</td><td>2</td></tr><tr><td>We Cry Together</td><td>0</td><td>2</td></tr><tr><td>10:35</td><td>26</td><td>2</td></tr><tr><td>Cooped Up (with Roddy Ricch)</td><td>0</td><td>2</td></tr><tr><td>Abcdario</td><td>5</td><td>2</td></tr><tr><td>Otro Atardecer</td><td>7</td><td>2</td></tr><tr><td>Yandel 150</td><td>38</td><td>2</td></tr><tr><td>'Till I Collapse</td><td>0</td><td>2</td></tr><tr><td>Forgot About Dre</td><td>0</td><td>2</td></tr><tr><td>Die For You - Remix</td><td>47</td><td>2</td></tr><tr><td>Party</td><td>4</td><td>2</td></tr><tr><td>Paulo Londra: Bzrp Music Sessions, Vol. 23</td><td>0</td><td>2</td></tr><tr><td>Karma (feat. Ice Spice)</td><td>0</td><td>2</td></tr><tr><td>Miracle (with Ellie Goulding)</td><td>48</td><td>2</td></tr><tr><td>Antidepresan</td><td>2</td><td>2</td></tr><tr><td>Salimo de Noche</td><td>0</td><td>2</td></tr><tr><td>Conex��es de M��fia (feat. Rich </td><td>4</td><td>2</td></tr><tr><td>Gato de Noche</td><td>30</td><td>2</td></tr><tr><td>Que Vuelvas</td><td>26</td><td>2</td></tr><tr><td>Starboy</td><td>79</td><td>2</td></tr><tr><td>Dakiti</td><td>21</td><td>2</td></tr><tr><td>Lucid Dreams</td><td>0</td><td>1</td></tr><tr><td>After LIKE</td><td>12</td><td>1</td></tr><tr><td>Starlight</td><td>3</td><td>1</td></tr><tr><td>Sweet Child O' Mine</td><td>1</td><td>1</td></tr><tr><td>Murder In My Mind</td><td>20</td><td>1</td></tr><tr><td>���98 Braves</td><td>0</td><td>1</td></tr><tr><td>Grapejuice</td><td>0</td><td>1</td></tr><tr><td>RAPSTAR</td><td>0</td><td>1</td></tr><tr><td>MONTERO (Call Me By Your Name)</td><td>0</td><td>1</td></tr><tr><td>When I Was Your Man</td><td>11</td><td>1</td></tr><tr><td>Ojos Marrones</td><td>11</td><td>1</td></tr><tr><td>REMIX EXCLUSIVO</td><td>9</td><td>1</td></tr><tr><td>Christmas (Baby Please Come Home)</td><td>0</td><td>1</td></tr><tr><td>Cinema</td><td>0</td><td>1</td></tr><tr><td>Daydreaming</td><td>1</td><td>1</td></tr><tr><td>Take Two</td><td>47</td><td>1</td></tr><tr><td>Every Summertime</td><td>2</td><td>1</td></tr><tr><td>Mount Everest</td><td>0</td><td>1</td></tr><tr><td>Levitating</td><td>0</td><td>1</td></tr><tr><td>Wait a Minute!</td><td>0</td><td>1</td></tr><tr><td>Little Freak</td><td>0</td><td>1</td></tr><tr><td>Nxde</td><td>6</td><td>1</td></tr><tr><td>Heat Waves</td><td>63</td><td>1</td></tr><tr><td>Tattoo</td><td>59</td><td>1</td></tr><tr><td>Falling</td><td>0</td><td>1</td></tr><tr><td>MANIAC</td><td>0</td><td>1</td></tr><tr><td>Si Te La Encuentras Por Ah�</td><td>4</td><td>1</td></tr><tr><td>My Mind & Me</td><td>0</td><td>1</td></tr><tr><td>How Do I Say Goodbye</td><td>15</td><td>1</td></tr><tr><td>Adore You</td><td>1</td><td>1</td></tr><tr><td>ZOOM</td><td>0</td><td>1</td></tr><tr><td>A Tale By Quincy</td><td>0</td><td>1</td></tr><tr><td>Notion</td><td>0</td><td>1</td></tr><tr><td>Makeba</td><td>53</td><td>1</td></tr><tr><td>What It Is (Solo Version)</td><td>25</td><td>1</td></tr><tr><td>METAMORPHOSIS</td><td>24</td><td>1</td></tr><tr><td>Set Me Free Pt.2</td><td>13</td><td>1</td></tr><tr><td>Daddy Issues</td><td>4</td><td>1</td></tr><tr><td>Dance Monkey</td><td>0</td><td>1</td></tr><tr><td>Blank Space</td><td>53</td><td>1</td></tr><tr><td>Angels Like You</td><td>19</td><td>1</td></tr><tr><td>Just The Way You Are</td><td>13</td><td>1</td></tr><tr><td>Dynamite</td><td>5</td><td>1</td></tr><tr><td>Chance</td><td>0</td><td>1</td></tr><tr><td>California Breeze</td><td>0</td><td>1</td></tr><tr><td>Just Wanna Rock</td><td>13</td><td>1</td></tr><tr><td>Sugar Rush Ride</td><td>0</td><td>1</td></tr><tr><td>Style</td><td>42</td><td>1</td></tr><tr><td>Glimpse of Us</td><td>6</td><td>1</td></tr><tr><td>Butter</td><td>6</td><td>1</td></tr><tr><td>Sobrio</td><td>10</td><td>1</td></tr><tr><td>When I R.I.P.</td><td>0</td><td>1</td></tr><tr><td>Feliz Cumplea��os Fe</td><td>38</td><td>1</td></tr><tr><td>PROVENZA</td><td>34</td><td>1</td></tr><tr><td>N95</td><td>0</td><td>1</td></tr><tr><td>For Youth</td><td>0</td><td>1</td></tr><tr><td>Oi Balde - Ao Vivo</td><td>2</td><td>1</td></tr><tr><td>Mistletoe</td><td>0</td><td>1</td></tr><tr><td>Maroon</td><td>0</td><td>1</td></tr><tr><td>Bound 2</td><td>7</td><td>1</td></tr><tr><td>Like Crazy</td><td>68</td><td>1</td></tr><tr><td>Space Song</td><td>4</td><td>1</td></tr><tr><td>Why'd You Only Call Me When You're High?</td><td>29</td><td>1</td></tr><tr><td>The Color Violet</td><td>32</td><td>1</td></tr><tr><td>Anti-Hero</td><td>56</td><td>1</td></tr><tr><td>HAPPY</td><td>0</td><td>1</td></tr><tr><td>Mujeriego</td><td>0</td><td>1</td></tr><tr><td>Fim de Semana no Rio</td><td>2</td><td>1</td></tr><tr><td>Worldwide Steppers</td><td>0</td><td>1</td></tr><tr><td>Matilda</td><td>3</td><td>1</td></tr><tr><td>POP!</td><td>0</td><td>1</td></tr><tr><td>Super Shy</td><td>55</td><td>1</td></tr><tr><td>Everybody Wants To Rule The World</td><td>25</td><td>1</td></tr><tr><td>Wonderful Christmastime - Edited Version / Remastered 2011</td><td>0</td><td>1</td></tr><tr><td>Permission to Dance</td><td>2</td><td>1</td></tr><tr><td>Ghost</td><td>24</td><td>1</td></tr><tr><td>United In Grief</td><td>0</td><td>1</td></tr><tr><td>Gone Girl</td><td>0</td><td>1</td></tr><tr><td>Mi Bello Angel</td><td>8</td><td>1</td></tr><tr><td>Gasolina</td><td>18</td><td>1</td></tr><tr><td>Run Rudolph Run - Single Version</td><td>0</td><td>1</td></tr><tr><td>you broke me first</td><td>0</td><td>1</td></tr><tr><td>KU LO SA - A COLORS SHOW</td><td>8</td><td>1</td></tr><tr><td>Chemical</td><td>39</td><td>1</td></tr><tr><td>All Of The Girls You Loved Before</td><td>6</td><td>1</td></tr><tr><td>deja vu</td><td>4</td><td>1</td></tr><tr><td>Love Grows (Where My Rosemary Goes)</td><td>0</td><td>1</td></tr><tr><td>Daylight</td><td>0</td><td>1</td></tr><tr><td>STAR WALKIN' (League of Legends Worlds Anthem)</td><td>0</td><td>1</td></tr><tr><td>Tacones Rojos</td><td>9</td><td>1</td></tr><tr><td>Sweater Weather</td><td>61</td><td>1</td></tr><tr><td>WHERE SHE GOES</td><td>50</td><td>1</td></tr><tr><td>Mine (Taylor's Version)</td><td>15</td><td>1</td></tr><tr><td>OMG</td><td>27</td><td>1</td></tr><tr><td>LET GO</td><td>20</td><td>1</td></tr><tr><td>Heather</td><td>7</td><td>1</td></tr><tr><td>Count Me Out</td><td>0</td><td>1</td></tr><tr><td>cardigan</td><td>29</td><td>1</td></tr><tr><td>Would've, Could've, Should've</td><td>0</td><td>1</td></tr><tr><td>Cupid - Twin Ver.</td><td>77</td><td>1</td></tr><tr><td>Calm Down</td><td>10</td><td>1</td></tr><tr><td>PUFFIN ON ZOOTIEZ</td><td>0</td><td>1</td></tr><tr><td>L���</td><td>0</td><td>1</td></tr><tr><td>The Nights</td><td>8</td><td>1</td></tr><tr><td>Still Life</td><td>0</td><td>1</td></tr><tr><td>CUFF IT</td><td>10</td><td>1</td></tr><tr><td>Wake Me Up - Radio Edit</td><td>34</td><td>1</td></tr><tr><td>Dance The Night (From Barbie The Album)</td><td>101</td><td>1</td></tr><tr><td>Demasiadas Mujeres</td><td>0</td><td>1</td></tr><tr><td>Snooze</td><td>25</td><td>1</td></tr><tr><td>Moscow Mule</td><td>33</td><td>1</td></tr><tr><td>Beggin</td><td>0</td><td>1</td></tr><tr><td>Alien Blues</td><td>0</td><td>1</td></tr><tr><td>Rich - Interlude</td><td>0</td><td>1</td></tr><tr><td>Typa Girl</td><td>10</td><td>1</td></tr><tr><td>Radio</td><td>46</td><td>1</td></tr><tr><td>Shut Down</td><td>17</td><td>1</td></tr><tr><td>she's all i wanna be</td><td>0</td><td>1</td></tr><tr><td>Bored</td><td>0</td><td>1</td></tr><tr><td>Es un Secreto</td><td>36</td><td>1</td></tr><tr><td>Malas Decisiones</td><td>2</td><td>1</td></tr><tr><td>After Hours</td><td>6</td><td>1</td></tr><tr><td>Born With A Beer In My Hand</td><td>0</td><td>1</td></tr><tr><td>The Rumbling (TV Size)</td><td>0</td><td>1</td></tr><tr><td>BREAK MY SOUL</td><td>0</td><td>1</td></tr><tr><td>Caile</td><td>2</td><td>1</td></tr><tr><td>Question...?</td><td>0</td><td>1</td></tr><tr><td>Do I Wanna Know?</td><td>26</td><td>1</td></tr><tr><td>DARARI</td><td>0</td><td>1</td></tr><tr><td>Locked Out Of Heaven</td><td>9</td><td>1</td></tr><tr><td>Lovers Rock</td><td>13</td><td>1</td></tr><tr><td>Softcore</td><td>12</td><td>1</td></tr><tr><td>DANCE CRIP</td><td>0</td><td>1</td></tr><tr><td>Thousand Miles</td><td>0</td><td>1</td></tr><tr><td>295</td><td>4</td><td>1</td></tr><tr><td>2 Be Loved (Am I Ready)</td><td>6</td><td>1</td></tr><tr><td>El Gordo Trae El Mando</td><td>21</td><td>1</td></tr><tr><td>La Bebe</td><td>17</td><td>1</td></tr><tr><td>All of Me</td><td>0</td><td>1</td></tr><tr><td>Yo No Soy Celoso</td><td>0</td><td>1</td></tr><tr><td>Take On Me</td><td>17</td><td>1</td></tr><tr><td>Curtains</td><td>0</td><td>1</td></tr><tr><td>Shut up My Moms Calling - (Sped Up)</td><td>7</td><td>1</td></tr><tr><td>Dawn FM</td><td>0</td><td>1</td></tr><tr><td>Ferxxo 100</td><td>30</td><td>1</td></tr><tr><td>Don���t Bl</td><td>23</td><td>1</td></tr><tr><td>In The End</td><td>6</td><td>1</td></tr><tr><td>Super Freaky Girl</td><td>0</td><td>1</td></tr><tr><td>The Christmas Song (Merry Christmas To You) - Remastered 1999</td><td>0</td><td>1</td></tr><tr><td>Something In The Way - Remastered 2021</td><td>0</td><td>1</td></tr><tr><td>I Wanna Be Yours</td><td>110</td><td>1</td></tr><tr><td>Somewhere Only We Know</td><td>16</td><td>1</td></tr><tr><td>About Damn Time</td><td>2</td><td>1</td></tr><tr><td>Seek & Destroy</td><td>0</td><td>1</td></tr><tr><td>Life Goes On</td><td>0</td><td>1</td></tr><tr><td>Aguacero</td><td>0</td><td>1</td></tr><tr><td>fukumean</td><td>83</td><td>1</td></tr><tr><td>Shake It Off</td><td>13</td><td>1</td></tr><tr><td>Bad Habit</td><td>12</td><td>1</td></tr><tr><td>About Damn Time</td><td>0</td><td>1</td></tr><tr><td>Bones</td><td>44</td><td>1</td></tr><tr><td>Save Your Tears</td><td>13</td><td>1</td></tr><tr><td>Talk that Talk</td><td>0</td><td>1</td></tr><tr><td>Celestial</td><td>0</td><td>1</td></tr><tr><td>Haegeum</td><td>12</td><td>1</td></tr><tr><td>Maan Meri Jaan</td><td>6</td><td>1</td></tr><tr><td>My Only Wish (This Year)</td><td>0</td><td>1</td></tr><tr><td>Lover</td><td>23</td><td>1</td></tr><tr><td>Feliz Navidad</td><td>0</td><td>1</td></tr><tr><td>Holly Jolly Christmas</td><td>0</td><td>1</td></tr><tr><td>Nail Tech</td><td>0</td><td>1</td></tr><tr><td>Without Me</td><td>43</td><td>1</td></tr><tr><td>golden hour</td><td>36</td><td>1</td></tr><tr><td>Less Than Zero</td><td>0</td><td>1</td></tr><tr><td>Blessed-Cursed</td><td>0</td><td>1</td></tr><tr><td>Love Language</td><td>0</td><td>1</td></tr><tr><td>Say Yes To Heaven</td><td>46</td><td>1</td></tr><tr><td>TRUSTFALL</td><td>16</td><td>1</td></tr><tr><td>Lost</td><td>11</td><td>1</td></tr><tr><td>Still Don't Know My Name</td><td>0</td><td>1</td></tr><tr><td>Fast Car</td><td>12</td><td>1</td></tr><tr><td>Hey, Mickey!</td><td>0</td><td>1</td></tr><tr><td>Snowman</td><td>0</td><td>1</td></tr><tr><td>Beautiful Girl</td><td>4</td><td>1</td></tr><tr><td>It's the Most Wonderful Time of the Year</td><td>0</td><td>1</td></tr><tr><td>Forever</td><td>0</td><td>1</td></tr><tr><td>Chale</td><td>11</td><td>1</td></tr><tr><td>Hope</td><td>0</td><td>1</td></tr><tr><td>Back To December (Taylor's Version)</td><td>17</td><td>1</td></tr><tr><td>Kahani Suno 2.0</td><td>6</td><td>1</td></tr><tr><td>LOVE DIVE</td><td>8</td><td>1</td></tr><tr><td>ALIEN SUPERSTAR</td><td>0</td><td>1</td></tr><tr><td>Rolling in the Deep</td><td>6</td><td>1</td></tr><tr><td>Light Switch</td><td>0</td><td>1</td></tr><tr><td>Christmas Tree</td><td>9</td><td>1</td></tr><tr><td>Yet To Come</td><td>0</td><td>1</td></tr><tr><td>Pass The Dutchie</td><td>0</td><td>1</td></tr><tr><td>I Can See You (Taylor���s Version) (From The </td><td>38</td><td>1</td></tr><tr><td>I Ain't Worried</td><td>76</td><td>1</td></tr><tr><td>Heaven</td><td>2</td><td>1</td></tr><tr><td>Yonaguni</td><td>28</td><td>1</td></tr><tr><td>Someone You Loved</td><td>53</td><td>1</td></tr><tr><td>Set Fire to the Rain</td><td>43</td><td>1</td></tr><tr><td>Cheques</td><td>8</td><td>1</td></tr><tr><td>FLOWER</td><td>18</td><td>1</td></tr><tr><td>ceilings</td><td>9</td><td>1</td></tr><tr><td>I'm Tired - From \"Euphoria\" An Original HBO Series</td><td>0</td><td>1</td></tr><tr><td>In My Head</td><td>0</td><td>1</td></tr><tr><td>Hold My Hand</td><td>0</td><td>1</td></tr><tr><td>Moonlight</td><td>42</td><td>1</td></tr><tr><td>Dua Lipa</td><td>0</td><td>1</td></tr><tr><td>I Wrote The Book</td><td>0</td><td>1</td></tr><tr><td>Driving Home for Christmas - 2019 Remaster</td><td>0</td><td>1</td></tr><tr><td>Until I Found You</td><td>4</td><td>1</td></tr><tr><td>Jingle Bell Rock</td><td>0</td><td>1</td></tr><tr><td>Vigilante Shit</td><td>0</td><td>1</td></tr><tr><td>Pink + White</td><td>30</td><td>1</td></tr><tr><td>Freaks</td><td>3</td><td>1</td></tr><tr><td>Karma</td><td>23</td><td>1</td></tr><tr><td>The Night We Met</td><td>35</td><td>1</td></tr><tr><td>After Dark</td><td>14</td><td>1</td></tr><tr><td>Blind</td><td>0</td><td>1</td></tr><tr><td>Search & Rescue</td><td>6</td><td>1</td></tr><tr><td>Nobody Gets Me</td><td>6</td><td>1</td></tr><tr><td>���abcdefu</td><td>0</td><td>1</td></tr><tr><td>Sky</td><td>3</td><td>1</td></tr><tr><td>Fuera del mercado</td><td>21</td><td>1</td></tr><tr><td>RUMBAT�</td><td>0</td><td>1</td></tr><tr><td>SloMo</td><td>0</td><td>1</td></tr><tr><td>En El Radio Un Cochinero</td><td>0</td><td>1</td></tr><tr><td>GIVENCHY</td><td>4</td><td>1</td></tr><tr><td>Jordan</td><td>2</td><td>1</td></tr><tr><td>That's Hilarious</td><td>2</td><td>1</td></tr><tr><td>Last Last</td><td>12</td><td>1</td></tr><tr><td>Happier Than Ever - Edit</td><td>0</td><td>1</td></tr><tr><td>Bohemian Rhapsody - Remastered 2011</td><td>3</td><td>1</td></tr><tr><td>Photograph</td><td>3</td><td>1</td></tr><tr><td>Static</td><td>0</td><td>1</td></tr><tr><td>Blinding Lights</td><td>69</td><td>1</td></tr><tr><td>Ditto</td><td>22</td><td>1</td></tr><tr><td>VOID</td><td>0</td><td>1</td></tr><tr><td>LALA</td><td>48</td><td>1</td></tr><tr><td>Tak Segampang Itu</td><td>6</td><td>1</td></tr><tr><td>Every Breath You Take - Remastered 2003</td><td>19</td><td>1</td></tr><tr><td>Have You Ever Seen The Rain?</td><td>14</td><td>1</td></tr><tr><td>Daylight</td><td>98</td><td>1</td></tr><tr><td>Jingle Bells - Remastered 1999</td><td>0</td><td>1</td></tr><tr><td>Gasoline</td><td>0</td><td>1</td></tr><tr><td>drivers license</td><td>3</td><td>1</td></tr><tr><td>we fell in love in october</td><td>0</td><td>1</td></tr><tr><td>TQM</td><td>28</td><td>1</td></tr><tr><td>Doja</td><td>44</td><td>1</td></tr><tr><td>KICK BACK</td><td>4</td><td>1</td></tr><tr><td>Vegas (From the Original Motion Picture Soundtrack ELVIS)</td><td>0</td><td>1</td></tr><tr><td>BackOutsideBoyz</td><td>0</td><td>1</td></tr><tr><td>this is what falling in love feels like</td><td>0</td><td>1</td></tr><tr><td>Attention</td><td>12</td><td>1</td></tr><tr><td>Yo Voy (feat. Daddy Yankee)</td><td>2</td><td>1</td></tr><tr><td>ANTIFRAGILE</td><td>12</td><td>1</td></tr><tr><td>Massive</td><td>0</td><td>1</td></tr><tr><td>THE SHADE</td><td>6</td><td>1</td></tr><tr><td>Need To Know</td><td>0</td><td>1</td></tr><tr><td>Mon��y so</td><td>0</td><td>1</td></tr><tr><td>Boyfriends</td><td>0</td><td>1</td></tr><tr><td>Boy's a liar</td><td>0</td><td>1</td></tr><tr><td>Memories</td><td>2</td><td>1</td></tr><tr><td>Dos Mil 16</td><td>3</td><td>1</td></tr><tr><td>Un Coco</td><td>28</td><td>1</td></tr><tr><td>Auntie Diaries</td><td>0</td><td>1</td></tr><tr><td>Cupid</td><td>10</td><td>1</td></tr><tr><td>Another Love</td><td>83</td><td>1</td></tr><tr><td>������������</td><td>16</td><td>1</td></tr><tr><td>Talking To The Moon</td><td>2</td><td>1</td></tr><tr><td>Hati-Hati di Jalan</td><td>2</td><td>1</td></tr><tr><td>Miss You</td><td>0</td><td>1</td></tr><tr><td>Acr��s</td><td>29</td><td>1</td></tr><tr><td>Call Out My Name</td><td>6</td><td>1</td></tr><tr><td>Sex, Drugs, Etc.</td><td>16</td><td>1</td></tr><tr><td>2055</td><td>0</td><td>1</td></tr><tr><td>Poland</td><td>0</td><td>1</td></tr><tr><td>Creep</td><td>7</td><td>1</td></tr><tr><td>Numb</td><td>5</td><td>1</td></tr><tr><td>Good Days</td><td>2</td><td>1</td></tr><tr><td>Afraid To Feel</td><td>5</td><td>1</td></tr><tr><td>MIENTRAS ME CURO DEL CORA</td><td>35</td><td>1</td></tr><tr><td>A Tu Merced</td><td>11</td><td>1</td></tr><tr><td>THATS WHAT I WANT</td><td>0</td><td>1</td></tr><tr><td>Golden</td><td>1</td><td>1</td></tr><tr><td>Believer</td><td>23</td><td>1</td></tr><tr><td>Shape of You</td><td>10</td><td>1</td></tr><tr><td>Efecto</td><td>33</td><td>1</td></tr><tr><td>Cupid ��� Twin Ver. (FIFTY FIFTY) ��� Spe</td><td>2</td><td>1</td></tr><tr><td>Pink Venom</td><td>16</td><td>1</td></tr><tr><td>Hits Different</td><td>0</td><td>1</td></tr><tr><td>Do They Know It's Christmas? - 1984 Version</td><td>0</td><td>1</td></tr><tr><td>Numb Little Bug</td><td>0</td><td>1</td></tr><tr><td>Made You Look</td><td>6</td><td>1</td></tr><tr><td>Revenge</td><td>11</td><td>1</td></tr><tr><td>Surface Pressure</td><td>0</td><td>1</td></tr><tr><td>Selfish</td><td>0</td><td>1</td></tr><tr><td>AMARGURA</td><td>39</td><td>1</td></tr><tr><td>A Holly Jolly Christmas - Single Version</td><td>0</td><td>1</td></tr><tr><td>Die For You</td><td>59</td><td>1</td></tr><tr><td>love nwantiti (ah ah ah)</td><td>2</td><td>1</td></tr><tr><td>Born Singer</td><td>0</td><td>1</td></tr><tr><td>Forget Me</td><td>4</td><td>1</td></tr><tr><td>Yellow</td><td>43</td><td>1</td></tr><tr><td>Shut up My Moms Calling</td><td>14</td><td>1</td></tr><tr><td>BILLIE EILISH.</td><td>0</td><td>1</td></tr><tr><td>DESPECH�</td><td>33</td><td>1</td></tr><tr><td>Conceited</td><td>0</td><td>1</td></tr><tr><td>Bejeweled</td><td>0</td><td>1</td></tr><tr><td>Malvada</td><td>0</td><td>1</td></tr><tr><td>SPIT IN MY FACE!</td><td>14</td><td>1</td></tr><tr><td>Sacrifice</td><td>0</td><td>1</td></tr><tr><td>Plan A</td><td>0</td><td>1</td></tr><tr><td>If We Ever Broke Up</td><td>4</td><td>1</td></tr><tr><td>The Feels</td><td>0</td><td>1</td></tr><tr><td>You Belong With Me (Taylor���s Ve</td><td>12</td><td>1</td></tr><tr><td>Heart To Heart</td><td>0</td><td>1</td></tr><tr><td>Night Changes</td><td>18</td><td>1</td></tr><tr><td>Mirror</td><td>0</td><td>1</td></tr><tr><td>Me Fui de Vacaciones</td><td>0</td><td>1</td></tr><tr><td>Let Me Down Slowly</td><td>19</td><td>1</td></tr><tr><td>Evergreen (You Didn���t Deserve Me A</td><td>0</td><td>1</td></tr><tr><td>TO THE MOON</td><td>0</td><td>1</td></tr><tr><td>San Lucas</td><td>1</td><td>1</td></tr><tr><td>People</td><td>56</td><td>1</td></tr><tr><td>Special</td><td>0</td><td>1</td></tr><tr><td>Before You Go</td><td>24</td><td>1</td></tr><tr><td>HUMBLE.</td><td>1</td><td>1</td></tr><tr><td>Shivers</td><td>30</td><td>1</td></tr><tr><td>All Too Well (10 Minute Version) (Taylor's Version) (From The Vault)</td><td>5</td><td>1</td></tr><tr><td>Peaches (from The Super Mario Bros. Movie)</td><td>0</td><td>1</td></tr><tr><td>Todo De Ti</td><td>8</td><td>1</td></tr><tr><td>Late Night Talking</td><td>8</td><td>1</td></tr><tr><td>Ginseng Strip 2002</td><td>0</td><td>1</td></tr><tr><td>Something in the Orange</td><td>12</td><td>1</td></tr><tr><td>I Love You So</td><td>7</td><td>1</td></tr><tr><td>MONEY</td><td>13</td><td>1</td></tr><tr><td>Happier Than Ever</td><td>0</td><td>1</td></tr><tr><td>10 Things I Hate About You</td><td>0</td><td>1</td></tr><tr><td>How Do I Make You Love Me?</td><td>0</td><td>1</td></tr><tr><td>Dos Oruguitas</td><td>0</td><td>1</td></tr><tr><td>Antes de Perderte</td><td>8</td><td>1</td></tr><tr><td>Primera Cita</td><td>27</td><td>1</td></tr><tr><td>Hype Boy</td><td>17</td><td>1</td></tr><tr><td>I WANNA BE YOUR SLAVE</td><td>0</td><td>1</td></tr><tr><td>Players</td><td>6</td><td>1</td></tr><tr><td>Woman</td><td>0</td><td>1</td></tr><tr><td>Despu��s de la P</td><td>0</td><td>1</td></tr><tr><td>Still With You</td><td>39</td><td>1</td></tr><tr><td>Lose Yourself - Soundtrack Version</td><td>21</td><td>1</td></tr><tr><td>Is There Someone Else?</td><td>6</td><td>1</td></tr><tr><td>The Heart Part 5</td><td>0</td><td>1</td></tr><tr><td>Worst Day</td><td>0</td><td>1</td></tr><tr><td>Envolver</td><td>2</td><td>1</td></tr><tr><td>Mary On A Cross</td><td>2</td><td>1</td></tr><tr><td>Overdrive</td><td>36</td><td>1</td></tr><tr><td>positions</td><td>0</td><td>1</td></tr><tr><td>First Class</td><td>0</td><td>1</td></tr><tr><td>The Scientist</td><td>6</td><td>1</td></tr><tr><td>Atlantis</td><td>6</td><td>1</td></tr><tr><td>Sticky</td><td>0</td><td>1</td></tr><tr><td>Talk</td><td>0</td><td>1</td></tr><tr><td>Too Late</td><td>0</td><td>1</td></tr><tr><td>Ya No Somos Ni Seremos</td><td>16</td><td>1</td></tr><tr><td>Formula</td><td>7</td><td>1</td></tr><tr><td>CORAZ��N VA</td><td>20</td><td>1</td></tr><tr><td>Erro Gostoso - Ao Vivo</td><td>5</td><td>1</td></tr><tr><td>Mockingbird</td><td>61</td><td>1</td></tr><tr><td>Lift Me Up - From Black Panther: Wakanda Forever - Music From and Inspired By</td><td>0</td><td>1</td></tr><tr><td>You're On Your Own, Kid</td><td>2</td><td>1</td></tr><tr><td>O.O</td><td>0</td><td>1</td></tr><tr><td>Ain't Shit</td><td>0</td><td>1</td></tr><tr><td>Mr. Brightside</td><td>15</td><td>1</td></tr><tr><td>Labyrinth</td><td>0</td><td>1</td></tr><tr><td>Devil Don���</td><td>0</td><td>1</td></tr><tr><td>The Business</td><td>0</td><td>1</td></tr><tr><td>Nonsense</td><td>27</td><td>1</td></tr><tr><td>Thought You Should Know</td><td>4</td><td>1</td></tr><tr><td>Limbo</td><td>0</td><td>1</td></tr><tr><td>Cruel Summer</td><td>100</td><td>1</td></tr><tr><td>Eyes Closed</td><td>30</td><td>1</td></tr><tr><td>Bloody Mary</td><td>0</td><td>1</td></tr><tr><td>El Apag�</td><td>0</td><td>1</td></tr><tr><td>Super Gremlin</td><td>0</td><td>1</td></tr><tr><td>Rich Spirit</td><td>0</td><td>1</td></tr><tr><td>Vista Al Mar</td><td>34</td><td>1</td></tr><tr><td>���������������������</td><td>14</td><td>1</td></tr><tr><td>Come Back Home - From \"Purple Hearts\"</td><td>0</td><td>1</td></tr><tr><td>What Was I Made For? [From The Motion Picture \"Barbie\"]</td><td>104</td><td>1</td></tr><tr><td>Low</td><td>0</td><td>1</td></tr><tr><td>Love Again</td><td>0</td><td>1</td></tr><tr><td>Good Looking</td><td>0</td><td>1</td></tr><tr><td>One Thing At A Time</td><td>4</td><td>1</td></tr><tr><td>Una Noche en Medell�</td><td>32</td><td>1</td></tr><tr><td>Music For a Sushi Restaurant</td><td>1</td><td>1</td></tr><tr><td>Queencard</td><td>33</td><td>1</td></tr><tr><td>I'm Not The Only One</td><td>3</td><td>1</td></tr><tr><td>SPIT IN MY FACE!</td><td>0</td><td>1</td></tr><tr><td>Summertime Sadness</td><td>52</td><td>1</td></tr><tr><td>S-Class</td><td>19</td><td>1</td></tr><tr><td>Oh My God</td><td>0</td><td>1</td></tr><tr><td>Polaroid Love</td><td>0</td><td>1</td></tr><tr><td>Apocalypse</td><td>17</td><td>1</td></tr><tr><td>As It Was</td><td>130</td><td>1</td></tr><tr><td>Here With Me</td><td>23</td><td>1</td></tr><tr><td>Circles</td><td>16</td><td>1</td></tr><tr><td>SNAP</td><td>18</td><td>1</td></tr><tr><td>Super</td><td>12</td><td>1</td></tr><tr><td>Zona De Perigo</td><td>4</td><td>1</td></tr><tr><td>Last Christmas</td><td>0</td><td>1</td></tr><tr><td>It's Beginning To Look A Lot Like Christmas</td><td>0</td><td>1</td></tr><tr><td>Don���t Break My</td><td>0</td><td>1</td></tr><tr><td>Easy On Me</td><td>20</td><td>1</td></tr><tr><td>There's Nothing Holdin' Me Back</td><td>0</td><td>1</td></tr><tr><td>Love Yourself</td><td>5</td><td>1</td></tr><tr><td>Keep Driving</td><td>1</td><td>1</td></tr><tr><td>Infinity</td><td>0</td><td>1</td></tr><tr><td>Un Ratito</td><td>6</td><td>1</td></tr><tr><td>Punto G</td><td>35</td><td>1</td></tr><tr><td>Right On</td><td>0</td><td>1</td></tr><tr><td>Kill Bill</td><td>77</td><td>1</td></tr><tr><td>Perfect</td><td>13</td><td>1</td></tr><tr><td>Those Eyes</td><td>14</td><td>1</td></tr><tr><td>Shirt</td><td>0</td><td>1</td></tr><tr><td>C��</td><td>3</td><td>1</td></tr><tr><td>You Proof</td><td>9</td><td>1</td></tr><tr><td>Underneath the Tree</td><td>0</td><td>1</td></tr><tr><td>Car's Outside</td><td>10</td><td>1</td></tr><tr><td>Normal</td><td>36</td><td>1</td></tr><tr><td>Slut Me Out</td><td>4</td><td>1</td></tr><tr><td>Thinkin��� B</td><td>6</td><td>1</td></tr><tr><td>Far</td><td>0</td><td>1</td></tr><tr><td>Best Friends</td><td>0</td><td>1</td></tr><tr><td>ELEVEN</td><td>1</td><td>1</td></tr><tr><td>This Love (Taylor���s Ve</td><td>0</td><td>1</td></tr><tr><td>In The Stars</td><td>8</td><td>1</td></tr><tr><td>Crown</td><td>0</td><td>1</td></tr><tr><td>Swim</td><td>0</td><td>1</td></tr><tr><td>Love Of My Life</td><td>0</td><td>1</td></tr><tr><td>I Hate U</td><td>0</td><td>1</td></tr><tr><td>Savior - Interlude</td><td>0</td><td>1</td></tr><tr><td>TV</td><td>2</td><td>1</td></tr><tr><td>Santa Tell Me</td><td>0</td><td>1</td></tr><tr><td>Agosto</td><td>0</td><td>1</td></tr><tr><td>I AM</td><td>15</td><td>1</td></tr><tr><td>Arcade</td><td>0</td><td>1</td></tr><tr><td>Streets</td><td>0</td><td>1</td></tr><tr><td>jealousy, jealousy</td><td>0</td><td>1</td></tr><tr><td>SLOW DANCING IN THE DARK</td><td>0</td><td>1</td></tr><tr><td>New Jeans</td><td>35</td><td>1</td></tr><tr><td>Praise God</td><td>0</td><td>1</td></tr><tr><td>Pope Is a Rockstar</td><td>0</td><td>1</td></tr><tr><td>Soy El Unico</td><td>0</td><td>1</td></tr><tr><td>THE LONELIEST</td><td>5</td><td>1</td></tr><tr><td>La Bachata</td><td>45</td><td>1</td></tr><tr><td>Ain���t Tha</td><td>4</td><td>1</td></tr><tr><td>Pepas</td><td>17</td><td>1</td></tr><tr><td>Boyfriend</td><td>0</td><td>1</td></tr><tr><td>Better Than Revenge (Taylor's Version)</td><td>11</td><td>1</td></tr><tr><td>The Hills</td><td>4</td><td>1</td></tr><tr><td>SOS</td><td>0</td><td>1</td></tr><tr><td>Last Night</td><td>19</td><td>1</td></tr><tr><td>Dark Red</td><td>7</td><td>1</td></tr><tr><td>Neverita</td><td>30</td><td>1</td></tr><tr><td>Enchanted (Taylor's Version)</td><td>24</td><td>1</td></tr><tr><td>Take Me To Church</td><td>31</td><td>1</td></tr><tr><td>Cupido</td><td>24</td><td>1</td></tr><tr><td>Never Felt So Alone</td><td>3</td><td>1</td></tr><tr><td>Deck The Hall - Remastered 1999</td><td>0</td><td>1</td></tr><tr><td>Smells Like Teen Spirit - Remastered 2021</td><td>9</td><td>1</td></tr><tr><td>august</td><td>22</td><td>1</td></tr><tr><td>505</td><td>25</td><td>1</td></tr><tr><td>Starry Eyes</td><td>0</td><td>1</td></tr><tr><td>Miserable Man</td><td>0</td><td>1</td></tr><tr><td>The Great War</td><td>0</td><td>1</td></tr><tr><td>S91</td><td>41</td><td>1</td></tr><tr><td>Out of Time</td><td>0</td><td>1</td></tr><tr><td>Satellite</td><td>5</td><td>1</td></tr><tr><td>Sweet Nothing</td><td>0</td><td>1</td></tr><tr><td>Bite Me</td><td>69</td><td>1</td></tr><tr><td>SNAP</td><td>0</td><td>1</td></tr><tr><td>Counting Stars</td><td>43</td><td>1</td></tr><tr><td>Reminder</td><td>17</td><td>1</td></tr><tr><td>c��mo dormi</td><td>35</td><td>1</td></tr><tr><td>Demons</td><td>13</td><td>1</td></tr><tr><td>Unstoppable</td><td>13</td><td>1</td></tr><tr><td>Un Verano Sin Ti</td><td>1</td><td>1</td></tr><tr><td>MORE</td><td>0</td><td>1</td></tr><tr><td>Heartless</td><td>34</td><td>1</td></tr><tr><td>MIDDLE OF THE NIGHT</td><td>8</td><td>1</td></tr><tr><td>Gatita</td><td>0</td><td>1</td></tr><tr><td>Prohibidox</td><td>12</td><td>1</td></tr><tr><td>Die For You</td><td>0</td><td>1</td></tr><tr><td>Astronaut In The Ocean</td><td>0</td><td>1</td></tr><tr><td>Tak Ingin Usai</td><td>4</td><td>1</td></tr><tr><td>Wild Flower (with youjeen)</td><td>2</td><td>1</td></tr><tr><td>Enchanted</td><td>16</td><td>1</td></tr><tr><td>Don't Start Now</td><td>0</td><td>1</td></tr><tr><td>happier</td><td>4</td><td>1</td></tr><tr><td>Columbia</td><td>43</td><td>1</td></tr><tr><td>I AM WOMAN</td><td>0</td><td>1</td></tr><tr><td>(It Goes Like) Nanana - Edit</td><td>59</td><td>1</td></tr><tr><td>Under The Influence</td><td>26</td><td>1</td></tr><tr><td>Titi Me Pregunt�</td><td>42</td><td>1</td></tr><tr><td>Say You Won't Let Go</td><td>16</td><td>1</td></tr><tr><td>Stay Alive (Prod. SUGA of BTS)</td><td>5</td><td>1</td></tr><tr><td>Betty (Get Money)</td><td>0</td><td>1</td></tr><tr><td>Everything I Love</td><td>0</td><td>1</td></tr><tr><td>WANDA</td><td>22</td><td>1</td></tr><tr><td>Smoking on my Ex Pack</td><td>0</td><td>1</td></tr><tr><td>Toxic</td><td>0</td><td>1</td></tr><tr><td>Run BTS</td><td>0</td><td>1</td></tr><tr><td>Alone</td><td>2</td><td>1</td></tr><tr><td>Angel Baby</td><td>9</td><td>1</td></tr><tr><td>Running Up That Hill (A Deal With God)</td><td>0</td><td>1</td></tr><tr><td>Stefania (Kalush Orchestra)</td><td>0</td><td>1</td></tr><tr><td>SPACE MAN</td><td>0</td><td>1</td></tr><tr><td>Watermelon Sugar</td><td>34</td><td>1</td></tr><tr><td>F2F</td><td>0</td><td>1</td></tr><tr><td>Get Into It (Yuh)</td><td>0</td><td>1</td></tr><tr><td>vampire</td><td>113</td><td>1</td></tr><tr><td>House Of Memories</td><td>0</td><td>1</td></tr><tr><td>Me and Your Mama</td><td>0</td><td>1</td></tr><tr><td>The Astronaut</td><td>9</td><td>1</td></tr><tr><td>The Real Slim Shady</td><td>27</td><td>1</td></tr><tr><td>Sial</td><td>4</td><td>1</td></tr><tr><td>Iris</td><td>9</td><td>1</td></tr><tr><td>Master of Puppets (Remastered)</td><td>0</td><td>1</td></tr><tr><td>CHORRITO PA LAS ANIMAS</td><td>36</td><td>1</td></tr><tr><td>Lavender Haze</td><td>8</td><td>1</td></tr><tr><td>Ens����ame </td><td>3</td><td>1</td></tr><tr><td>Like Crazy (English Version)</td><td>19</td><td>1</td></tr><tr><td>Rockin' Around The Christmas Tree</td><td>0</td><td>1</td></tr><tr><td>Thinking Out Loud</td><td>0</td><td>1</td></tr><tr><td>FEARLESS</td><td>0</td><td>1</td></tr><tr><td>good 4 u</td><td>6</td><td>1</td></tr><tr><td>Acapulco</td><td>0</td><td>1</td></tr><tr><td>Romantic Homicide</td><td>23</td><td>1</td></tr><tr><td>Midnight Rain</td><td>4</td><td>1</td></tr><tr><td>Lovezinho</td><td>0</td><td>1</td></tr><tr><td>Sleigh Ride</td><td>0</td><td>1</td></tr><tr><td>Cool for the Summer</td><td>0</td><td>1</td></tr><tr><td>SUPERMODEL</td><td>0</td><td>1</td></tr><tr><td>Bye</td><td>14</td><td>1</td></tr><tr><td>It'll Be Okay</td><td>0</td><td>1</td></tr><tr><td>Sparks</td><td>4</td><td>1</td></tr><tr><td>Viva La Vida</td><td>62</td><td>1</td></tr><tr><td>Por las Noches</td><td>24</td><td>1</td></tr><tr><td>Komang</td><td>4</td><td>1</td></tr><tr><td>Hrs and Hrs</td><td>0</td><td>1</td></tr><tr><td>die first</td><td>0</td><td>1</td></tr><tr><td>Bigger Than The Whole Sky</td><td>0</td><td>1</td></tr><tr><td>No Role Modelz</td><td>36</td><td>1</td></tr><tr><td>Every Angel is Terrifying</td><td>0</td><td>1</td></tr><tr><td>Cigarettes</td><td>0</td><td>1</td></tr><tr><td>Rush</td><td>78</td><td>1</td></tr><tr><td>LLYLM</td><td>0</td><td>1</td></tr><tr><td>Merry Christmas Everyone</td><td>0</td><td>1</td></tr><tr><td>Flowers</td><td>0</td><td>1</td></tr><tr><td>Le�</td><td>4</td><td>1</td></tr><tr><td>Notice Me</td><td>0</td><td>1</td></tr><tr><td>Phantom Regret by Jim</td><td>0</td><td>1</td></tr><tr><td>HEARTBREAK ANNIVERSARY</td><td>4</td><td>1</td></tr><tr><td>So Good</td><td>0</td><td>1</td></tr><tr><td>No Se Va</td><td>18</td><td>1</td></tr><tr><td>In Da Club</td><td>7</td><td>1</td></tr><tr><td>La Zona</td><td>0</td><td>1</td></tr><tr><td>Sure Thing</td><td>19</td><td>1</td></tr><tr><td>Red Ruby Da Sleeze</td><td>0</td><td>1</td></tr><tr><td>When You're Gone</td><td>0</td><td>1</td></tr><tr><td>Only Love Can Hurt Like This</td><td>0</td><td>1</td></tr><tr><td>Lady Mi Amor</td><td>0</td><td>1</td></tr><tr><td>SABOR FRESA</td><td>26</td><td>1</td></tr><tr><td>Riptide</td><td>55</td><td>1</td></tr><tr><td>Dream On</td><td>0</td><td>1</td></tr><tr><td>Bad Habits</td><td>8</td><td>1</td></tr><tr><td>favorite crime</td><td>0</td><td>1</td></tr><tr><td>Flowers</td><td>115</td><td>1</td></tr><tr><td>Dandelions</td><td>21</td><td>1</td></tr><tr><td>All I Want for Christmas Is You</td><td>0</td><td>1</td></tr><tr><td>Mastermind</td><td>0</td><td>1</td></tr></tbody></table></div>"
      ]
     },
     "metadata": {
      "application/vnd.databricks.v1+output": {
       "addedWidgets": {},
       "aggData": [],
       "aggError": "",
       "aggOverflow": false,
       "aggSchema": [],
       "aggSeriesLimitReached": false,
       "aggType": "",
       "arguments": {},
       "columnCustomDisplayInfos": {},
       "data": [
        [
         "Los del Espacio",
         31,
         8
        ],
        [
         "Se Le Ve",
         0,
         8
        ],
        [
         "Cay�� La Noche (feat. Cruz Cafun��, Abhir Hathi, Bejo, EL IMA)",
         1,
         7
        ],
        [
         "We Don't Talk About Bruno",
         0,
         7
        ],
        [
         "Nobody Like U - From \"Turning Red\"",
         0,
         6
        ],
        [
         "Jhoome Jo Pathaan",
         4,
         6
        ],
        [
         "Besharam Rang (From \"Pathaan\")",
         4,
         6
        ],
        [
         "Angel Pt 1 (feat. Jimin of BTS, JVKE & Muni Long)",
         14,
         5
        ],
        [
         "ULTRA SOLO REMIX",
         0,
         5
        ],
        [
         "Link Up (Metro Boomin & Don Toliver, Wizkid feat. BEAM & Toian) - Spider-Verse Remix (Spider-Man: Across the Spider-Verse )",
         0,
         5
        ],
        [
         "Tere Vaaste (From \"Zara Hatke Zara Bachke\")",
         8,
         5
        ],
        [
         "Marisola - Remix",
         16,
         5
        ],
        [
         "Annihilate (Spider-Man: Across the Spider-Verse) (Metro Boomin & Swae Lee, Lil Wayne, Offset)",
         4,
         4
        ],
        [
         "sentaDONA (Remix) s2",
         0,
         4
        ],
        [
         "Happy Xmas (War Is Over)",
         0,
         4
        ],
        [
         "Enemy (with JID) - from the series Arcane League of Legends",
         7,
         4
        ],
        [
         "Novo Balan�",
         7,
         4
        ],
        [
         "BABY OTAKU",
         0,
         4
        ],
        [
         "La Llevo Al Cielo (Ft. ��engo F",
         3,
         4
        ],
        [
         "Cash In Cash Out",
         0,
         4
        ],
        [
         "Entre Nosotros (Remix) [con Nicki Nicole]",
         3,
         4
        ],
        [
         "Stay With Me (with Justin Timberlake, Halsey, & Pharrell)",
         0,
         4
        ],
        [
         "Tubar��o Te",
         0,
         4
        ],
        [
         "Friday (feat. Mufasa & Hypeman) - Dopamine Re-Edit",
         0,
         4
        ],
        [
         "Calling (Spider-Man: Across the Spider-Verse) (Metro Boomin & Swae Lee, NAV, feat. A Boogie Wit da Hoodie)",
         16,
         4
        ],
        [
         "POLARIS - Remix",
         33,
         4
        ],
        [
         "OUT OUT (feat. Charli XCX & Saweetie)",
         0,
         4
        ],
        [
         "Mu��",
         6,
         3
        ],
        [
         "S��",
         0,
         3
        ],
        [
         "The Family Madrigal",
         0,
         3
        ],
        [
         "Love Nwantiti - Remix",
         0,
         3
        ],
        [
         "Lo Siento BB:/ (with Bad Bunny & Julieta Venegas)",
         26,
         3
        ],
        [
         "White Christmas",
         0,
         3
        ],
        [
         "Rumble",
         0,
         3
        ],
        [
         "Thunder",
         10,
         3
        ],
        [
         "California Love - Original Version (Explicit)",
         0,
         3
        ],
        [
         "WAIT FOR U (feat. Drake & Tems)",
         14,
         3
        ],
        [
         "Volando - Remix",
         19,
         3
        ],
        [
         "See You Again",
         64,
         3
        ],
        [
         "Trance (with Travis Scott & Young Thug)",
         46,
         3
        ],
        [
         "Bamba (feat. Aitch & BIA)",
         7,
         3
        ],
        [
         "Baile no Morro",
         2,
         3
        ],
        [
         "En La De Ella",
         0,
         3
        ],
        [
         "Too Many Nights (feat. Don Toliver & with Future)",
         58,
         3
        ],
        [
         "Ai Preto",
         4,
         3
        ],
        [
         "Knife Talk (with 21 Savage ft. Project Pat)",
         0,
         3
        ],
        [
         "Me Arrepent�",
         2,
         3
        ],
        [
         "Excuses",
         4,
         3
        ],
        [
         "Crazy What Love Can Do",
         0,
         3
        ],
        [
         "Barbie World (with Aqua) [From Barbie The Album]",
         80,
         3
        ],
        [
         "Fingers Crossed",
         0,
         3
        ],
        [
         "Un Finde | CROSSOVER #2",
         14,
         3
        ],
        [
         "Let It Snow! Let It Snow! Let It Snow!",
         0,
         3
        ],
        [
         "MERCHO",
         20,
         3
        ],
        [
         "Si Quieren Frontear",
         0,
         3
        ],
        [
         "Get Lucky - Radio Edit",
         0,
         3
        ],
        [
         "Pantysito",
         0,
         3
        ],
        [
         "City of Gods",
         0,
         3
        ],
        [
         "Am I Dreaming (Metro Boomin & A$AP Rocky, Roisee)",
         16,
         3
        ],
        [
         "Mejor Que Yo",
         1,
         3
        ],
        [
         "Popular (with Playboi Carti & Madonna) - The Idol Vol. 1 (Music from the HBO Original Series)",
         87,
         3
        ],
        [
         "Hot Shit (feat. Ye & Lil Durk)",
         0,
         3
        ],
        [
         "Malvad��",
         1,
         3
        ],
        [
         "Peaches (feat. Daniel Caesar & Giveon)",
         0,
         3
        ],
        [
         "Way 2 Sexy (with Future & Young Thug)",
         0,
         3
        ],
        [
         "Niagara Falls (Foot or 2) [with Travis Scott & 21 Savage]",
         0,
         3
        ],
        [
         "Superhero (Heroes & Villains) [with Future & Chris Brown]",
         16,
         3
        ],
        [
         "VAGABUNDO",
         34,
         3
        ],
        [
         "Here We Go��� Again (feat. Tyler, the Cr",
         0,
         3
        ],
        [
         "Pipoco",
         4,
         3
        ],
        [
         "Smokin Out The Window",
         0,
         3
        ],
        [
         "STAYING ALIVE (feat. Drake & Lil Baby)",
         0,
         3
        ],
        [
         "QUEMA",
         31,
         3
        ],
        [
         "Mas Rica Que Ayer",
         34,
         3
        ],
        [
         "One Dance",
         24,
         3
        ],
        [
         "Left and Right (Feat. Jung Kook of BTS)",
         39,
         3
        ],
        [
         "LOKERA",
         30,
         3
        ],
        [
         "Medallo",
         2,
         3
        ],
        [
         "Evoque Prata",
         0,
         3
        ],
        [
         "Enemy - from the series Arcane League of Legends",
         0,
         3
        ],
        [
         "Cold Heart - PNAU Remix",
         52,
         3
        ],
        [
         "Better Days (NEIKED x Mae Muller x Polo G)",
         0,
         3
        ],
        [
         "LADY GAGA",
         26,
         3
        ],
        [
         "All The Way Live (Spider-Man: Across the Spider-Verse) (Metro Boomin & Future, Lil Uzi Vert)",
         0,
         3
        ],
        [
         "Vampiro",
         4,
         3
        ],
        [
         "Casei Com a Putaria",
         4,
         3
        ],
        [
         "Leave The Door Open",
         0,
         3
        ],
        [
         "Private Landing (feat. Justin Bieber & Future)",
         0,
         3
        ],
        [
         "Dreamers [Music from the FIFA World Cup Qatar 2022 Official Soundtrack]",
         20,
         3
        ],
        [
         "La Loto",
         0,
         3
        ],
        [
         "I'm Not Here To Make Friends",
         0,
         3
        ],
        [
         "AMG",
         19,
         3
        ],
        [
         "Meet Me At Our Spot",
         0,
         3
        ],
        [
         "El Cielo",
         38,
         3
        ],
        [
         "Die Hard",
         0,
         3
        ],
        [
         "Watch This - ARIZONATEARS Pluggnb Remix",
         10,
         3
        ],
        [
         "Creepin'",
         88,
         3
        ],
        [
         "Nost��l",
         2,
         3
        ],
        [
         "Pussy & Millions (feat. Travis Scott)",
         0,
         3
        ],
        [
         "Can't Hold Us (feat. Ray Dalton)",
         52,
         3
        ],
        [
         "Agudo M��gi",
         0,
         3
        ],
        [
         "Kesariya (From \"Brahmastra\")",
         6,
         3
        ],
        [
         "Sad Girlz Luv Money Remix (feat. Kali Uchis)",
         0,
         3
        ],
        [
         "Savior",
         0,
         3
        ],
        [
         "It's Beginning to Look a Lot Like Christmas (with Mitchell Ayres & His Orchestra)",
         0,
         3
        ],
        [
         "Don't You Worry",
         0,
         3
        ],
        [
         "AM Remix",
         0,
         3
        ],
        [
         "Potion (with Dua Lipa & Young Thug)",
         0,
         3
        ],
        [
         "Bad Decisions (with BTS & Snoop Dogg)",
         0,
         3
        ],
        [
         "pushin P (feat. Young Thug)",
         0,
         3
        ],
        [
         "Baby Don't Hurt Me",
         66,
         3
        ],
        [
         "Phir Aur Kya Chahiye (From \"Zara Hatke Zara Bachke\")",
         6,
         3
        ],
        [
         "Purple Hearts",
         0,
         3
        ],
        [
         "You Make It Feel Like Christmas (feat. Blake Shelton)",
         0,
         2
        ],
        [
         "Fair Trade (with Travis Scott)",
         6,
         2
        ],
        [
         "Mr. Morale",
         0,
         2
        ],
        [
         "Igualito a Mi Ap�",
         6,
         2
        ],
        [
         "Ferrari",
         28,
         2
        ],
        [
         "Money Trees",
         32,
         2
        ],
        [
         "Tom's Diner",
         0,
         2
        ],
        [
         "Major Distribution",
         0,
         2
        ],
        [
         "Man Made A Bar (feat. Eric Church)",
         0,
         2
        ],
        [
         "Obsessed",
         6,
         2
        ],
        [
         "Princess Diana (with Nicki Minaj)",
         4,
         2
        ],
        [
         "Qu�� M��",
         0,
         2
        ],
        [
         "All My Life (feat. J. Cole)",
         23,
         2
        ],
        [
         "on the street (with J. Cole)",
         2,
         2
        ],
        [
         "Nos Comemos (feat. Ozuna)",
         0,
         2
        ],
        [
         "Las Morras",
         8,
         2
        ],
        [
         "Where Did You Go?",
         0,
         2
        ],
        [
         "All For Us - from the HBO Original Series Euphoria",
         0,
         2
        ],
        [
         "Peso Pluma: Bzrp Music Sessions, Vol. 55",
         40,
         2
        ],
        [
         "VIBE (feat. Jimin of BTS)",
         2,
         2
        ],
        [
         "Residente: Bzrp Music Sessions, Vol. 49",
         0,
         2
        ],
        [
         "Silent Hill",
         0,
         2
        ],
        [
         "Nosso Quadro",
         9,
         2
        ],
        [
         "CAIRO",
         26,
         2
        ],
        [
         "Problem�",
         0,
         2
        ],
        [
         "Double Fantasy (with Future)",
         0,
         2
        ],
        [
         "Do We Have A Problem?",
         0,
         2
        ],
        [
         "Escapism.",
         25,
         2
        ],
        [
         "UNFORGIVEN (feat. Nile Rodgers)",
         13,
         2
        ],
        [
         "Me Porto Bonito",
         43,
         2
        ],
        [
         "Moth To A Flame (with The Weeknd)",
         17,
         2
        ],
        [
         "I'm Good (Blue)",
         80,
         2
        ],
        [
         "STAY (with Justin Bieber)",
         36,
         2
        ],
        [
         "Self Love (Spider-Man: Across the Spider-Verse) (Metro Boomin & Coi Leray)",
         5,
         2
        ],
        [
         "Thinking with My Dick",
         0,
         2
        ],
        [
         "Cart��o B",
         4,
         2
        ],
        [
         "Sunroof",
         17,
         2
        ],
        [
         "AMERICA HAS A PROBLEM (feat. Kendrick Lamar)",
         0,
         2
        ],
        [
         "Still D.R.E.",
         0,
         2
        ],
        [
         "That That (prod. & feat. SUGA of BTS)",
         0,
         2
        ],
        [
         "Snow On The Beach (feat. Lana Del Rey)",
         0,
         2
        ],
        [
         "Hold Me Closer",
         0,
         2
        ],
        [
         "Lilith (feat. SUGA of BTS) (Diablo IV Anthem)",
         6,
         2
        ],
        [
         "I Like You (A Happier Song) (with Doja Cat)",
         14,
         2
        ],
        [
         "Levitating (feat. DaBaby)",
         8,
         2
        ],
        [
         "PUNTO 40",
         12,
         2
        ],
        [
         "Do It To It",
         0,
         2
        ],
        [
         "Down Under (feat. Colin Hay)",
         2,
         2
        ],
        [
         "Di Que Si",
         10,
         2
        ],
        [
         "Bam Bam (feat. Ed Sheeran)",
         4,
         2
        ],
        [
         "I Heard You're Married (feat. Lil Wayne)",
         0,
         2
        ],
        [
         "BABY HELLO",
         35,
         2
        ],
        [
         "Freaky Deaky",
         0,
         2
        ],
        [
         "X SI VOLVEMOS",
         33,
         2
        ],
        [
         "Brividi",
         0,
         2
        ],
        [
         "Rosa Pastel",
         4,
         2
        ],
        [
         "Bar",
         4,
         2
        ],
        [
         "25k jacket (feat. Lil Baby)",
         0,
         2
        ],
        [
         "On Time (with John Legend)",
         0,
         2
        ],
        [
         "TULUM",
         34,
         2
        ],
        [
         "Coco Chanel",
         38,
         2
        ],
        [
         "traitor",
         6,
         2
        ],
        [
         "212",
         0,
         2
        ],
        [
         "TUS L��GR",
         2,
         2
        ],
        [
         "Sprinter",
         91,
         2
        ],
        [
         "B.O.T.A. (Baddest Of Them All) - Edit",
         6,
         2
        ],
        [
         "En Paris",
         5,
         2
        ],
        [
         "I Know - PR1SVX Edit",
         0,
         2
        ],
        [
         "Used (feat. Don Toliver)",
         0,
         2
        ],
        [
         "SORRY NOT SORRY",
         0,
         2
        ],
        [
         "Vai L�� Em Casa ",
         0,
         2
        ],
        [
         "Shallow",
         12,
         2
        ],
        [
         "Peru",
         0,
         2
        ],
        [
         "The Next Episode",
         0,
         2
        ],
        [
         "Fin de Semana",
         14,
         2
        ],
        [
         "Honest (feat. Don Toliver)",
         0,
         2
        ],
        [
         "Pi��man De�",
         3,
         2
        ],
        [
         "psychofreak (feat. WILLOW)",
         0,
         2
        ],
        [
         "MOJABI GHOST",
         40,
         2
        ],
        [
         "family ties (with Kendrick Lamar)",
         5,
         2
        ],
        [
         "ULTRA SOLO",
         0,
         2
        ],
        [
         "The Motto",
         6,
         2
        ],
        [
         "When I���m Gone (with Katy ",
         0,
         2
        ],
        [
         "Until I Found You (with Em Beihold) - Em Beihold Version",
         30,
         2
        ],
        [
         "Rauw Alejandro: Bzrp Music Sessions, Vol. 56",
         32,
         2
        ],
        [
         "Shoong! (feat. LISA of BLACKPINK)",
         9,
         2
        ],
        [
         "Bombonzinho - Ao Vivo",
         6,
         2
        ],
        [
         "WORTH NOTHING",
         0,
         2
        ],
        [
         "Novidade na ��",
         9,
         2
        ],
        [
         "Stargirl Interlude",
         32,
         2
        ],
        [
         "Bye Bye",
         0,
         2
        ],
        [
         "Siempre Pendientes",
         5,
         2
        ],
        [
         "Seven (feat. Latto) (Explicit Ver.)",
         147,
         2
        ],
        [
         "MONTAGEM - FR PUNK",
         50,
         2
        ],
        [
         "Jimmy Cooks (feat. 21 Savage)",
         27,
         2
        ],
        [
         "One Right Now (with The Weeknd)",
         0,
         2
        ],
        [
         "Andrea",
         0,
         2
        ],
        [
         "Layla",
         3,
         2
        ],
        [
         "Ella Baila Sola",
         50,
         2
        ],
        [
         "Classy 101",
         40,
         2
        ],
        [
         "Bebe Dame",
         22,
         2
        ],
        [
         "Ghost in the Machine (feat. Phoebe Bridgers)",
         0,
         2
        ],
        [
         "LAGUNAS",
         18,
         2
        ],
        [
         "Danger (Spider) (Offset & JID)",
         0,
         2
        ],
        [
         "Miss You",
         10,
         2
        ],
        [
         "One Kiss (with Dua Lipa)",
         10,
         2
        ],
        [
         "Gospel (with Eminem)",
         0,
         2
        ],
        [
         "INDUSTRY BABY (feat. Jack Harlow)",
         0,
         2
        ],
        [
         "I Really Want to Stay at Your House",
         1,
         2
        ],
        [
         "Ojitos Lindos",
         38,
         2
        ],
        [
         "Stan",
         0,
         2
        ],
        [
         "Circo Loco",
         0,
         2
        ],
        [
         "DAN��A",
         2,
         2
        ],
        [
         "La Santa",
         20,
         2
        ],
        [
         "Gol Bolinha, Gol Quadrado 2",
         8,
         2
        ],
        [
         "Don't Be Shy",
         0,
         2
        ],
        [
         "Danza Kuduro",
         37,
         2
        ],
        [
         "JGL",
         9,
         2
        ],
        [
         "Shakira: Bzrp Music Sessions, Vol. 53",
         44,
         2
        ],
        [
         "X ��LTIMA",
         1,
         2
        ],
        [
         "Callaita",
         15,
         2
        ],
        [
         "My Universe",
         13,
         2
        ],
        [
         "Mother I Sober (feat. Beth Gibbons of Portishead)",
         0,
         2
        ],
        [
         "lovely - Bonus Track",
         30,
         2
        ],
        [
         "Merry Christmas",
         0,
         2
        ],
        [
         "Se��o",
         2,
         2
        ],
        [
         "Somebody That I Used To Know",
         0,
         2
        ],
        [
         "On BS",
         0,
         2
        ],
        [
         "T��",
         15,
         2
        ],
        [
         "LUNA",
         11,
         2
        ],
        [
         "Area Codes",
         13,
         2
        ],
        [
         "Hummingbird (Metro Boomin & James Blake)",
         1,
         2
        ],
        [
         "Gangsta's Paradise",
         17,
         2
        ],
        [
         "Open Arms (feat. Travis Scott)",
         4,
         2
        ],
        [
         "Raindrops (Insane) [with Travis Scott]",
         0,
         2
        ],
        [
         "Bussin",
         0,
         2
        ],
        [
         "Desesperados",
         34,
         2
        ],
        [
         "You Right",
         0,
         2
        ],
        [
         "Sigue",
         0,
         2
        ],
        [
         "Hey Mor",
         38,
         2
        ],
        [
         "Monoton�",
         15,
         2
        ],
        [
         "Quevedo: Bzrp Music Sessions, Vol. 52",
         45,
         2
        ],
        [
         "Ley Seca",
         0,
         2
        ],
        [
         "The Joker And The Queen (feat. Taylor Swift)",
         0,
         2
        ],
        [
         "La Corriente",
         8,
         2
        ],
        [
         "Mi��n",
         16,
         2
        ],
        [
         "El Azul",
         25,
         2
        ],
        [
         "Arc��ngel: Bzrp Music Sessions, Vol",
         3,
         2
        ],
        [
         "Volv�",
         10,
         2
        ],
        [
         "Mood (feat. Iann Dior)",
         0,
         2
        ],
        [
         "Something Just Like This",
         21,
         2
        ],
        [
         "La Bebe - Remix",
         44,
         2
        ],
        [
         "BESO",
         50,
         2
        ],
        [
         "Privileged Rappers",
         0,
         2
        ],
        [
         "Boy With Luv (feat. Halsey)",
         0,
         2
        ],
        [
         "69",
         22,
         2
        ],
        [
         "I Was Never There",
         15,
         2
        ],
        [
         "Lost in the Fire",
         2,
         2
        ],
        [
         "With you",
         2,
         2
        ],
        [
         "Payphone",
         4,
         2
        ],
        [
         "Unholy (feat. Kim Petras)",
         42,
         2
        ],
        [
         "El Merengue",
         44,
         2
        ],
        [
         "Rich Flex",
         18,
         2
        ],
        [
         "Sunflower - Spider-Man: Into the Spider-Verse",
         78,
         2
        ],
        [
         "PRC",
         26,
         2
        ],
        [
         "Mami Chula",
         4,
         2
        ],
        [
         "What Else Can I Do?",
         0,
         2
        ],
        [
         "Sin Se��",
         2,
         2
        ],
        [
         "We Found Love",
         21,
         2
        ],
        [
         "Chanel",
         10,
         2
        ],
        [
         "Ni��a Bo",
         34,
         2
        ],
        [
         "Where Are You Now",
         44,
         2
        ],
        [
         "Te Felicito",
         9,
         2
        ],
        [
         "Leave Before You Love Me (with Jonas Brothers)",
         4,
         2
        ],
        [
         "Escapism. - Sped Up",
         0,
         2
        ],
        [
         "Numb",
         2,
         2
        ],
        [
         "El Rescate",
         4,
         2
        ],
        [
         "Villano Antillano: Bzrp Music Sessions, Vol. 51",
         0,
         2
        ],
        [
         "Boy's a liar Pt. 2",
         41,
         2
        ],
        [
         "Broke Boys",
         0,
         2
        ],
        [
         "LA INOCENTE",
         37,
         2
        ],
        [
         "Sweetest Pie",
         0,
         2
        ],
        [
         "Shorty Party",
         12,
         2
        ],
        [
         "Belly Dancer",
         13,
         2
        ],
        [
         "DOGTOOTH",
         0,
         2
        ],
        [
         "Sem Alian��a no ",
         4,
         2
        ],
        [
         "Father Time (feat. Sampha)",
         0,
         2
        ],
        [
         "XQ Te Pones As�",
         0,
         2
        ],
        [
         "Fr��gil (feat. Grupo Front",
         34,
         2
        ],
        [
         "Contection",
         0,
         2
        ],
        [
         "La Jumpa",
         34,
         2
        ],
        [
         "Dijeron Que No La Iba Lograr",
         6,
         2
        ],
        [
         "Snow On The Beach (feat. More Lana Del Rey)",
         2,
         2
        ],
        [
         "Eu Gosto Assim - Ao Vivo",
         4,
         2
        ],
        [
         "Apna Bana Le (From \"Bhediya\")",
         0,
         2
        ],
        [
         "People Pt.2 (feat. IU)",
         4,
         2
        ],
        [
         "LA CANCI�",
         31,
         2
        ],
        [
         "GAT��",
         13,
         2
        ],
        [
         "Rara Vez",
         38,
         2
        ],
        [
         "NEW MAGIC WAND",
         0,
         2
        ],
        [
         "Closer",
         0,
         2
        ],
        [
         "Spin Bout U",
         2,
         2
        ],
        [
         "PLAYA DEL INGL�",
         15,
         2
        ],
        [
         "IDGAF (with blackbear)",
         0,
         2
        ],
        [
         "A Veces (feat. Feid)",
         0,
         2
        ],
        [
         "Calm Down (with Selena Gomez)",
         77,
         2
        ],
        [
         "TQG",
         49,
         2
        ],
        [
         "thought i was playing",
         0,
         2
        ],
        [
         "Take My Breath",
         0,
         2
        ],
        [
         "LA FAMA (with The Weeknd)",
         3,
         2
        ],
        [
         "No Lie",
         0,
         2
        ],
        [
         "Ch y la Pizza",
         10,
         2
        ],
        [
         "Tormenta (feat. Bad Bunny)",
         0,
         2
        ],
        [
         "Tarot",
         20,
         2
        ],
        [
         "Kiss Me More (feat. SZA)",
         0,
         2
        ],
        [
         "Don't ever say love me (feat. RM of BTS)",
         0,
         2
        ],
        [
         "Besos Moja2",
         13,
         2
        ],
        [
         "MAMIII",
         28,
         2
        ],
        [
         "Die Young (feat. 347aidan)",
         0,
         2
        ],
        [
         "I Tried to Tell Y'all",
         0,
         2
        ],
        [
         "Qu�� Ago",
         15,
         2
        ],
        [
         "Pasoori",
         6,
         2
        ],
        [
         "Tiago PZK: Bzrp Music Sessions, Vol. 48",
         12,
         2
        ],
        [
         "Stand By Me (feat. Morgan Wallen)",
         5,
         2
        ],
        [
         "Seu Brilho Sumiu - Ao Vivo",
         5,
         2
        ],
        [
         "Mon Amour - Remix",
         2,
         2
        ],
        [
         "PERO T�",
         11,
         2
        ],
        [
         "Esque��a-Me Se For C",
         0,
         2
        ],
        [
         "Mal Feito - Ao Vivo",
         2,
         2
        ],
        [
         "Con La Brisa",
         0,
         2
        ],
        [
         "True Love",
         0,
         2
        ],
        [
         "un x100to",
         40,
         2
        ],
        [
         "Superman",
         14,
         2
        ],
        [
         "Save Your Tears (with Ariana Grande) (Remix)",
         5,
         2
        ],
        [
         "We Cry Together",
         0,
         2
        ],
        [
         "10:35",
         26,
         2
        ],
        [
         "Cooped Up (with Roddy Ricch)",
         0,
         2
        ],
        [
         "Abcdario",
         5,
         2
        ],
        [
         "Otro Atardecer",
         7,
         2
        ],
        [
         "Yandel 150",
         38,
         2
        ],
        [
         "'Till I Collapse",
         0,
         2
        ],
        [
         "Forgot About Dre",
         0,
         2
        ],
        [
         "Die For You - Remix",
         47,
         2
        ],
        [
         "Party",
         4,
         2
        ],
        [
         "Paulo Londra: Bzrp Music Sessions, Vol. 23",
         0,
         2
        ],
        [
         "Karma (feat. Ice Spice)",
         0,
         2
        ],
        [
         "Miracle (with Ellie Goulding)",
         48,
         2
        ],
        [
         "Antidepresan",
         2,
         2
        ],
        [
         "Salimo de Noche",
         0,
         2
        ],
        [
         "Conex��es de M��fia (feat. Rich ",
         4,
         2
        ],
        [
         "Gato de Noche",
         30,
         2
        ],
        [
         "Que Vuelvas",
         26,
         2
        ],
        [
         "Starboy",
         79,
         2
        ],
        [
         "Dakiti",
         21,
         2
        ],
        [
         "Lucid Dreams",
         0,
         1
        ],
        [
         "After LIKE",
         12,
         1
        ],
        [
         "Starlight",
         3,
         1
        ],
        [
         "Sweet Child O' Mine",
         1,
         1
        ],
        [
         "Murder In My Mind",
         20,
         1
        ],
        [
         "���98 Braves",
         0,
         1
        ],
        [
         "Grapejuice",
         0,
         1
        ],
        [
         "RAPSTAR",
         0,
         1
        ],
        [
         "MONTERO (Call Me By Your Name)",
         0,
         1
        ],
        [
         "When I Was Your Man",
         11,
         1
        ],
        [
         "Ojos Marrones",
         11,
         1
        ],
        [
         "REMIX EXCLUSIVO",
         9,
         1
        ],
        [
         "Christmas (Baby Please Come Home)",
         0,
         1
        ],
        [
         "Cinema",
         0,
         1
        ],
        [
         "Daydreaming",
         1,
         1
        ],
        [
         "Take Two",
         47,
         1
        ],
        [
         "Every Summertime",
         2,
         1
        ],
        [
         "Mount Everest",
         0,
         1
        ],
        [
         "Levitating",
         0,
         1
        ],
        [
         "Wait a Minute!",
         0,
         1
        ],
        [
         "Little Freak",
         0,
         1
        ],
        [
         "Nxde",
         6,
         1
        ],
        [
         "Heat Waves",
         63,
         1
        ],
        [
         "Tattoo",
         59,
         1
        ],
        [
         "Falling",
         0,
         1
        ],
        [
         "MANIAC",
         0,
         1
        ],
        [
         "Si Te La Encuentras Por Ah�",
         4,
         1
        ],
        [
         "My Mind & Me",
         0,
         1
        ],
        [
         "How Do I Say Goodbye",
         15,
         1
        ],
        [
         "Adore You",
         1,
         1
        ],
        [
         "ZOOM",
         0,
         1
        ],
        [
         "A Tale By Quincy",
         0,
         1
        ],
        [
         "Notion",
         0,
         1
        ],
        [
         "Makeba",
         53,
         1
        ],
        [
         "What It Is (Solo Version)",
         25,
         1
        ],
        [
         "METAMORPHOSIS",
         24,
         1
        ],
        [
         "Set Me Free Pt.2",
         13,
         1
        ],
        [
         "Daddy Issues",
         4,
         1
        ],
        [
         "Dance Monkey",
         0,
         1
        ],
        [
         "Blank Space",
         53,
         1
        ],
        [
         "Angels Like You",
         19,
         1
        ],
        [
         "Just The Way You Are",
         13,
         1
        ],
        [
         "Dynamite",
         5,
         1
        ],
        [
         "Chance",
         0,
         1
        ],
        [
         "California Breeze",
         0,
         1
        ],
        [
         "Just Wanna Rock",
         13,
         1
        ],
        [
         "Sugar Rush Ride",
         0,
         1
        ],
        [
         "Style",
         42,
         1
        ],
        [
         "Glimpse of Us",
         6,
         1
        ],
        [
         "Butter",
         6,
         1
        ],
        [
         "Sobrio",
         10,
         1
        ],
        [
         "When I R.I.P.",
         0,
         1
        ],
        [
         "Feliz Cumplea��os Fe",
         38,
         1
        ],
        [
         "PROVENZA",
         34,
         1
        ],
        [
         "N95",
         0,
         1
        ],
        [
         "For Youth",
         0,
         1
        ],
        [
         "Oi Balde - Ao Vivo",
         2,
         1
        ],
        [
         "Mistletoe",
         0,
         1
        ],
        [
         "Maroon",
         0,
         1
        ],
        [
         "Bound 2",
         7,
         1
        ],
        [
         "Like Crazy",
         68,
         1
        ],
        [
         "Space Song",
         4,
         1
        ],
        [
         "Why'd You Only Call Me When You're High?",
         29,
         1
        ],
        [
         "The Color Violet",
         32,
         1
        ],
        [
         "Anti-Hero",
         56,
         1
        ],
        [
         "HAPPY",
         0,
         1
        ],
        [
         "Mujeriego",
         0,
         1
        ],
        [
         "Fim de Semana no Rio",
         2,
         1
        ],
        [
         "Worldwide Steppers",
         0,
         1
        ],
        [
         "Matilda",
         3,
         1
        ],
        [
         "POP!",
         0,
         1
        ],
        [
         "Super Shy",
         55,
         1
        ],
        [
         "Everybody Wants To Rule The World",
         25,
         1
        ],
        [
         "Wonderful Christmastime - Edited Version / Remastered 2011",
         0,
         1
        ],
        [
         "Permission to Dance",
         2,
         1
        ],
        [
         "Ghost",
         24,
         1
        ],
        [
         "United In Grief",
         0,
         1
        ],
        [
         "Gone Girl",
         0,
         1
        ],
        [
         "Mi Bello Angel",
         8,
         1
        ],
        [
         "Gasolina",
         18,
         1
        ],
        [
         "Run Rudolph Run - Single Version",
         0,
         1
        ],
        [
         "you broke me first",
         0,
         1
        ],
        [
         "KU LO SA - A COLORS SHOW",
         8,
         1
        ],
        [
         "Chemical",
         39,
         1
        ],
        [
         "All Of The Girls You Loved Before",
         6,
         1
        ],
        [
         "deja vu",
         4,
         1
        ],
        [
         "Love Grows (Where My Rosemary Goes)",
         0,
         1
        ],
        [
         "Daylight",
         0,
         1
        ],
        [
         "STAR WALKIN' (League of Legends Worlds Anthem)",
         0,
         1
        ],
        [
         "Tacones Rojos",
         9,
         1
        ],
        [
         "Sweater Weather",
         61,
         1
        ],
        [
         "WHERE SHE GOES",
         50,
         1
        ],
        [
         "Mine (Taylor's Version)",
         15,
         1
        ],
        [
         "OMG",
         27,
         1
        ],
        [
         "LET GO",
         20,
         1
        ],
        [
         "Heather",
         7,
         1
        ],
        [
         "Count Me Out",
         0,
         1
        ],
        [
         "cardigan",
         29,
         1
        ],
        [
         "Would've, Could've, Should've",
         0,
         1
        ],
        [
         "Cupid - Twin Ver.",
         77,
         1
        ],
        [
         "Calm Down",
         10,
         1
        ],
        [
         "PUFFIN ON ZOOTIEZ",
         0,
         1
        ],
        [
         "L���",
         0,
         1
        ],
        [
         "The Nights",
         8,
         1
        ],
        [
         "Still Life",
         0,
         1
        ],
        [
         "CUFF IT",
         10,
         1
        ],
        [
         "Wake Me Up - Radio Edit",
         34,
         1
        ],
        [
         "Dance The Night (From Barbie The Album)",
         101,
         1
        ],
        [
         "Demasiadas Mujeres",
         0,
         1
        ],
        [
         "Snooze",
         25,
         1
        ],
        [
         "Moscow Mule",
         33,
         1
        ],
        [
         "Beggin",
         0,
         1
        ],
        [
         "Alien Blues",
         0,
         1
        ],
        [
         "Rich - Interlude",
         0,
         1
        ],
        [
         "Typa Girl",
         10,
         1
        ],
        [
         "Radio",
         46,
         1
        ],
        [
         "Shut Down",
         17,
         1
        ],
        [
         "she's all i wanna be",
         0,
         1
        ],
        [
         "Bored",
         0,
         1
        ],
        [
         "Es un Secreto",
         36,
         1
        ],
        [
         "Malas Decisiones",
         2,
         1
        ],
        [
         "After Hours",
         6,
         1
        ],
        [
         "Born With A Beer In My Hand",
         0,
         1
        ],
        [
         "The Rumbling (TV Size)",
         0,
         1
        ],
        [
         "BREAK MY SOUL",
         0,
         1
        ],
        [
         "Caile",
         2,
         1
        ],
        [
         "Question...?",
         0,
         1
        ],
        [
         "Do I Wanna Know?",
         26,
         1
        ],
        [
         "DARARI",
         0,
         1
        ],
        [
         "Locked Out Of Heaven",
         9,
         1
        ],
        [
         "Lovers Rock",
         13,
         1
        ],
        [
         "Softcore",
         12,
         1
        ],
        [
         "DANCE CRIP",
         0,
         1
        ],
        [
         "Thousand Miles",
         0,
         1
        ],
        [
         "295",
         4,
         1
        ],
        [
         "2 Be Loved (Am I Ready)",
         6,
         1
        ],
        [
         "El Gordo Trae El Mando",
         21,
         1
        ],
        [
         "La Bebe",
         17,
         1
        ],
        [
         "All of Me",
         0,
         1
        ],
        [
         "Yo No Soy Celoso",
         0,
         1
        ],
        [
         "Take On Me",
         17,
         1
        ],
        [
         "Curtains",
         0,
         1
        ],
        [
         "Shut up My Moms Calling - (Sped Up)",
         7,
         1
        ],
        [
         "Dawn FM",
         0,
         1
        ],
        [
         "Ferxxo 100",
         30,
         1
        ],
        [
         "Don���t Bl",
         23,
         1
        ],
        [
         "In The End",
         6,
         1
        ],
        [
         "Super Freaky Girl",
         0,
         1
        ],
        [
         "The Christmas Song (Merry Christmas To You) - Remastered 1999",
         0,
         1
        ],
        [
         "Something In The Way - Remastered 2021",
         0,
         1
        ],
        [
         "I Wanna Be Yours",
         110,
         1
        ],
        [
         "Somewhere Only We Know",
         16,
         1
        ],
        [
         "About Damn Time",
         2,
         1
        ],
        [
         "Seek & Destroy",
         0,
         1
        ],
        [
         "Life Goes On",
         0,
         1
        ],
        [
         "Aguacero",
         0,
         1
        ],
        [
         "fukumean",
         83,
         1
        ],
        [
         "Shake It Off",
         13,
         1
        ],
        [
         "Bad Habit",
         12,
         1
        ],
        [
         "About Damn Time",
         0,
         1
        ],
        [
         "Bones",
         44,
         1
        ],
        [
         "Save Your Tears",
         13,
         1
        ],
        [
         "Talk that Talk",
         0,
         1
        ],
        [
         "Celestial",
         0,
         1
        ],
        [
         "Haegeum",
         12,
         1
        ],
        [
         "Maan Meri Jaan",
         6,
         1
        ],
        [
         "My Only Wish (This Year)",
         0,
         1
        ],
        [
         "Lover",
         23,
         1
        ],
        [
         "Feliz Navidad",
         0,
         1
        ],
        [
         "Holly Jolly Christmas",
         0,
         1
        ],
        [
         "Nail Tech",
         0,
         1
        ],
        [
         "Without Me",
         43,
         1
        ],
        [
         "golden hour",
         36,
         1
        ],
        [
         "Less Than Zero",
         0,
         1
        ],
        [
         "Blessed-Cursed",
         0,
         1
        ],
        [
         "Love Language",
         0,
         1
        ],
        [
         "Say Yes To Heaven",
         46,
         1
        ],
        [
         "TRUSTFALL",
         16,
         1
        ],
        [
         "Lost",
         11,
         1
        ],
        [
         "Still Don't Know My Name",
         0,
         1
        ],
        [
         "Fast Car",
         12,
         1
        ],
        [
         "Hey, Mickey!",
         0,
         1
        ],
        [
         "Snowman",
         0,
         1
        ],
        [
         "Beautiful Girl",
         4,
         1
        ],
        [
         "It's the Most Wonderful Time of the Year",
         0,
         1
        ],
        [
         "Forever",
         0,
         1
        ],
        [
         "Chale",
         11,
         1
        ],
        [
         "Hope",
         0,
         1
        ],
        [
         "Back To December (Taylor's Version)",
         17,
         1
        ],
        [
         "Kahani Suno 2.0",
         6,
         1
        ],
        [
         "LOVE DIVE",
         8,
         1
        ],
        [
         "ALIEN SUPERSTAR",
         0,
         1
        ],
        [
         "Rolling in the Deep",
         6,
         1
        ],
        [
         "Light Switch",
         0,
         1
        ],
        [
         "Christmas Tree",
         9,
         1
        ],
        [
         "Yet To Come",
         0,
         1
        ],
        [
         "Pass The Dutchie",
         0,
         1
        ],
        [
         "I Can See You (Taylor���s Version) (From The ",
         38,
         1
        ],
        [
         "I Ain't Worried",
         76,
         1
        ],
        [
         "Heaven",
         2,
         1
        ],
        [
         "Yonaguni",
         28,
         1
        ],
        [
         "Someone You Loved",
         53,
         1
        ],
        [
         "Set Fire to the Rain",
         43,
         1
        ],
        [
         "Cheques",
         8,
         1
        ],
        [
         "FLOWER",
         18,
         1
        ],
        [
         "ceilings",
         9,
         1
        ],
        [
         "I'm Tired - From \"Euphoria\" An Original HBO Series",
         0,
         1
        ],
        [
         "In My Head",
         0,
         1
        ],
        [
         "Hold My Hand",
         0,
         1
        ],
        [
         "Moonlight",
         42,
         1
        ],
        [
         "Dua Lipa",
         0,
         1
        ],
        [
         "I Wrote The Book",
         0,
         1
        ],
        [
         "Driving Home for Christmas - 2019 Remaster",
         0,
         1
        ],
        [
         "Until I Found You",
         4,
         1
        ],
        [
         "Jingle Bell Rock",
         0,
         1
        ],
        [
         "Vigilante Shit",
         0,
         1
        ],
        [
         "Pink + White",
         30,
         1
        ],
        [
         "Freaks",
         3,
         1
        ],
        [
         "Karma",
         23,
         1
        ],
        [
         "The Night We Met",
         35,
         1
        ],
        [
         "After Dark",
         14,
         1
        ],
        [
         "Blind",
         0,
         1
        ],
        [
         "Search & Rescue",
         6,
         1
        ],
        [
         "Nobody Gets Me",
         6,
         1
        ],
        [
         "���abcdefu",
         0,
         1
        ],
        [
         "Sky",
         3,
         1
        ],
        [
         "Fuera del mercado",
         21,
         1
        ],
        [
         "RUMBAT�",
         0,
         1
        ],
        [
         "SloMo",
         0,
         1
        ],
        [
         "En El Radio Un Cochinero",
         0,
         1
        ],
        [
         "GIVENCHY",
         4,
         1
        ],
        [
         "Jordan",
         2,
         1
        ],
        [
         "That's Hilarious",
         2,
         1
        ],
        [
         "Last Last",
         12,
         1
        ],
        [
         "Happier Than Ever - Edit",
         0,
         1
        ],
        [
         "Bohemian Rhapsody - Remastered 2011",
         3,
         1
        ],
        [
         "Photograph",
         3,
         1
        ],
        [
         "Static",
         0,
         1
        ],
        [
         "Blinding Lights",
         69,
         1
        ],
        [
         "Ditto",
         22,
         1
        ],
        [
         "VOID",
         0,
         1
        ],
        [
         "LALA",
         48,
         1
        ],
        [
         "Tak Segampang Itu",
         6,
         1
        ],
        [
         "Every Breath You Take - Remastered 2003",
         19,
         1
        ],
        [
         "Have You Ever Seen The Rain?",
         14,
         1
        ],
        [
         "Daylight",
         98,
         1
        ],
        [
         "Jingle Bells - Remastered 1999",
         0,
         1
        ],
        [
         "Gasoline",
         0,
         1
        ],
        [
         "drivers license",
         3,
         1
        ],
        [
         "we fell in love in october",
         0,
         1
        ],
        [
         "TQM",
         28,
         1
        ],
        [
         "Doja",
         44,
         1
        ],
        [
         "KICK BACK",
         4,
         1
        ],
        [
         "Vegas (From the Original Motion Picture Soundtrack ELVIS)",
         0,
         1
        ],
        [
         "BackOutsideBoyz",
         0,
         1
        ],
        [
         "this is what falling in love feels like",
         0,
         1
        ],
        [
         "Attention",
         12,
         1
        ],
        [
         "Yo Voy (feat. Daddy Yankee)",
         2,
         1
        ],
        [
         "ANTIFRAGILE",
         12,
         1
        ],
        [
         "Massive",
         0,
         1
        ],
        [
         "THE SHADE",
         6,
         1
        ],
        [
         "Need To Know",
         0,
         1
        ],
        [
         "Mon��y so",
         0,
         1
        ],
        [
         "Boyfriends",
         0,
         1
        ],
        [
         "Boy's a liar",
         0,
         1
        ],
        [
         "Memories",
         2,
         1
        ],
        [
         "Dos Mil 16",
         3,
         1
        ],
        [
         "Un Coco",
         28,
         1
        ],
        [
         "Auntie Diaries",
         0,
         1
        ],
        [
         "Cupid",
         10,
         1
        ],
        [
         "Another Love",
         83,
         1
        ],
        [
         "������������",
         16,
         1
        ],
        [
         "Talking To The Moon",
         2,
         1
        ],
        [
         "Hati-Hati di Jalan",
         2,
         1
        ],
        [
         "Miss You",
         0,
         1
        ],
        [
         "Acr��s",
         29,
         1
        ],
        [
         "Call Out My Name",
         6,
         1
        ],
        [
         "Sex, Drugs, Etc.",
         16,
         1
        ],
        [
         "2055",
         0,
         1
        ],
        [
         "Poland",
         0,
         1
        ],
        [
         "Creep",
         7,
         1
        ],
        [
         "Numb",
         5,
         1
        ],
        [
         "Good Days",
         2,
         1
        ],
        [
         "Afraid To Feel",
         5,
         1
        ],
        [
         "MIENTRAS ME CURO DEL CORA",
         35,
         1
        ],
        [
         "A Tu Merced",
         11,
         1
        ],
        [
         "THATS WHAT I WANT",
         0,
         1
        ],
        [
         "Golden",
         1,
         1
        ],
        [
         "Believer",
         23,
         1
        ],
        [
         "Shape of You",
         10,
         1
        ],
        [
         "Efecto",
         33,
         1
        ],
        [
         "Cupid ��� Twin Ver. (FIFTY FIFTY) ��� Spe",
         2,
         1
        ],
        [
         "Pink Venom",
         16,
         1
        ],
        [
         "Hits Different",
         0,
         1
        ],
        [
         "Do They Know It's Christmas? - 1984 Version",
         0,
         1
        ],
        [
         "Numb Little Bug",
         0,
         1
        ],
        [
         "Made You Look",
         6,
         1
        ],
        [
         "Revenge",
         11,
         1
        ],
        [
         "Surface Pressure",
         0,
         1
        ],
        [
         "Selfish",
         0,
         1
        ],
        [
         "AMARGURA",
         39,
         1
        ],
        [
         "A Holly Jolly Christmas - Single Version",
         0,
         1
        ],
        [
         "Die For You",
         59,
         1
        ],
        [
         "love nwantiti (ah ah ah)",
         2,
         1
        ],
        [
         "Born Singer",
         0,
         1
        ],
        [
         "Forget Me",
         4,
         1
        ],
        [
         "Yellow",
         43,
         1
        ],
        [
         "Shut up My Moms Calling",
         14,
         1
        ],
        [
         "BILLIE EILISH.",
         0,
         1
        ],
        [
         "DESPECH�",
         33,
         1
        ],
        [
         "Conceited",
         0,
         1
        ],
        [
         "Bejeweled",
         0,
         1
        ],
        [
         "Malvada",
         0,
         1
        ],
        [
         "SPIT IN MY FACE!",
         14,
         1
        ],
        [
         "Sacrifice",
         0,
         1
        ],
        [
         "Plan A",
         0,
         1
        ],
        [
         "If We Ever Broke Up",
         4,
         1
        ],
        [
         "The Feels",
         0,
         1
        ],
        [
         "You Belong With Me (Taylor���s Ve",
         12,
         1
        ],
        [
         "Heart To Heart",
         0,
         1
        ],
        [
         "Night Changes",
         18,
         1
        ],
        [
         "Mirror",
         0,
         1
        ],
        [
         "Me Fui de Vacaciones",
         0,
         1
        ],
        [
         "Let Me Down Slowly",
         19,
         1
        ],
        [
         "Evergreen (You Didn���t Deserve Me A",
         0,
         1
        ],
        [
         "TO THE MOON",
         0,
         1
        ],
        [
         "San Lucas",
         1,
         1
        ],
        [
         "People",
         56,
         1
        ],
        [
         "Special",
         0,
         1
        ],
        [
         "Before You Go",
         24,
         1
        ],
        [
         "HUMBLE.",
         1,
         1
        ],
        [
         "Shivers",
         30,
         1
        ],
        [
         "All Too Well (10 Minute Version) (Taylor's Version) (From The Vault)",
         5,
         1
        ],
        [
         "Peaches (from The Super Mario Bros. Movie)",
         0,
         1
        ],
        [
         "Todo De Ti",
         8,
         1
        ],
        [
         "Late Night Talking",
         8,
         1
        ],
        [
         "Ginseng Strip 2002",
         0,
         1
        ],
        [
         "Something in the Orange",
         12,
         1
        ],
        [
         "I Love You So",
         7,
         1
        ],
        [
         "MONEY",
         13,
         1
        ],
        [
         "Happier Than Ever",
         0,
         1
        ],
        [
         "10 Things I Hate About You",
         0,
         1
        ],
        [
         "How Do I Make You Love Me?",
         0,
         1
        ],
        [
         "Dos Oruguitas",
         0,
         1
        ],
        [
         "Antes de Perderte",
         8,
         1
        ],
        [
         "Primera Cita",
         27,
         1
        ],
        [
         "Hype Boy",
         17,
         1
        ],
        [
         "I WANNA BE YOUR SLAVE",
         0,
         1
        ],
        [
         "Players",
         6,
         1
        ],
        [
         "Woman",
         0,
         1
        ],
        [
         "Despu��s de la P",
         0,
         1
        ],
        [
         "Still With You",
         39,
         1
        ],
        [
         "Lose Yourself - Soundtrack Version",
         21,
         1
        ],
        [
         "Is There Someone Else?",
         6,
         1
        ],
        [
         "The Heart Part 5",
         0,
         1
        ],
        [
         "Worst Day",
         0,
         1
        ],
        [
         "Envolver",
         2,
         1
        ],
        [
         "Mary On A Cross",
         2,
         1
        ],
        [
         "Overdrive",
         36,
         1
        ],
        [
         "positions",
         0,
         1
        ],
        [
         "First Class",
         0,
         1
        ],
        [
         "The Scientist",
         6,
         1
        ],
        [
         "Atlantis",
         6,
         1
        ],
        [
         "Sticky",
         0,
         1
        ],
        [
         "Talk",
         0,
         1
        ],
        [
         "Too Late",
         0,
         1
        ],
        [
         "Ya No Somos Ni Seremos",
         16,
         1
        ],
        [
         "Formula",
         7,
         1
        ],
        [
         "CORAZ��N VA",
         20,
         1
        ],
        [
         "Erro Gostoso - Ao Vivo",
         5,
         1
        ],
        [
         "Mockingbird",
         61,
         1
        ],
        [
         "Lift Me Up - From Black Panther: Wakanda Forever - Music From and Inspired By",
         0,
         1
        ],
        [
         "You're On Your Own, Kid",
         2,
         1
        ],
        [
         "O.O",
         0,
         1
        ],
        [
         "Ain't Shit",
         0,
         1
        ],
        [
         "Mr. Brightside",
         15,
         1
        ],
        [
         "Labyrinth",
         0,
         1
        ],
        [
         "Devil Don���",
         0,
         1
        ],
        [
         "The Business",
         0,
         1
        ],
        [
         "Nonsense",
         27,
         1
        ],
        [
         "Thought You Should Know",
         4,
         1
        ],
        [
         "Limbo",
         0,
         1
        ],
        [
         "Cruel Summer",
         100,
         1
        ],
        [
         "Eyes Closed",
         30,
         1
        ],
        [
         "Bloody Mary",
         0,
         1
        ],
        [
         "El Apag�",
         0,
         1
        ],
        [
         "Super Gremlin",
         0,
         1
        ],
        [
         "Rich Spirit",
         0,
         1
        ],
        [
         "Vista Al Mar",
         34,
         1
        ],
        [
         "���������������������",
         14,
         1
        ],
        [
         "Come Back Home - From \"Purple Hearts\"",
         0,
         1
        ],
        [
         "What Was I Made For? [From The Motion Picture \"Barbie\"]",
         104,
         1
        ],
        [
         "Low",
         0,
         1
        ],
        [
         "Love Again",
         0,
         1
        ],
        [
         "Good Looking",
         0,
         1
        ],
        [
         "One Thing At A Time",
         4,
         1
        ],
        [
         "Una Noche en Medell�",
         32,
         1
        ],
        [
         "Music For a Sushi Restaurant",
         1,
         1
        ],
        [
         "Queencard",
         33,
         1
        ],
        [
         "I'm Not The Only One",
         3,
         1
        ],
        [
         "SPIT IN MY FACE!",
         0,
         1
        ],
        [
         "Summertime Sadness",
         52,
         1
        ],
        [
         "S-Class",
         19,
         1
        ],
        [
         "Oh My God",
         0,
         1
        ],
        [
         "Polaroid Love",
         0,
         1
        ],
        [
         "Apocalypse",
         17,
         1
        ],
        [
         "As It Was",
         130,
         1
        ],
        [
         "Here With Me",
         23,
         1
        ],
        [
         "Circles",
         16,
         1
        ],
        [
         "SNAP",
         18,
         1
        ],
        [
         "Super",
         12,
         1
        ],
        [
         "Zona De Perigo",
         4,
         1
        ],
        [
         "Last Christmas",
         0,
         1
        ],
        [
         "It's Beginning To Look A Lot Like Christmas",
         0,
         1
        ],
        [
         "Don���t Break My",
         0,
         1
        ],
        [
         "Easy On Me",
         20,
         1
        ],
        [
         "There's Nothing Holdin' Me Back",
         0,
         1
        ],
        [
         "Love Yourself",
         5,
         1
        ],
        [
         "Keep Driving",
         1,
         1
        ],
        [
         "Infinity",
         0,
         1
        ],
        [
         "Un Ratito",
         6,
         1
        ],
        [
         "Punto G",
         35,
         1
        ],
        [
         "Right On",
         0,
         1
        ],
        [
         "Kill Bill",
         77,
         1
        ],
        [
         "Perfect",
         13,
         1
        ],
        [
         "Those Eyes",
         14,
         1
        ],
        [
         "Shirt",
         0,
         1
        ],
        [
         "C��",
         3,
         1
        ],
        [
         "You Proof",
         9,
         1
        ],
        [
         "Underneath the Tree",
         0,
         1
        ],
        [
         "Car's Outside",
         10,
         1
        ],
        [
         "Normal",
         36,
         1
        ],
        [
         "Slut Me Out",
         4,
         1
        ],
        [
         "Thinkin��� B",
         6,
         1
        ],
        [
         "Far",
         0,
         1
        ],
        [
         "Best Friends",
         0,
         1
        ],
        [
         "ELEVEN",
         1,
         1
        ],
        [
         "This Love (Taylor���s Ve",
         0,
         1
        ],
        [
         "In The Stars",
         8,
         1
        ],
        [
         "Crown",
         0,
         1
        ],
        [
         "Swim",
         0,
         1
        ],
        [
         "Love Of My Life",
         0,
         1
        ],
        [
         "I Hate U",
         0,
         1
        ],
        [
         "Savior - Interlude",
         0,
         1
        ],
        [
         "TV",
         2,
         1
        ],
        [
         "Santa Tell Me",
         0,
         1
        ],
        [
         "Agosto",
         0,
         1
        ],
        [
         "I AM",
         15,
         1
        ],
        [
         "Arcade",
         0,
         1
        ],
        [
         "Streets",
         0,
         1
        ],
        [
         "jealousy, jealousy",
         0,
         1
        ],
        [
         "SLOW DANCING IN THE DARK",
         0,
         1
        ],
        [
         "New Jeans",
         35,
         1
        ],
        [
         "Praise God",
         0,
         1
        ],
        [
         "Pope Is a Rockstar",
         0,
         1
        ],
        [
         "Soy El Unico",
         0,
         1
        ],
        [
         "THE LONELIEST",
         5,
         1
        ],
        [
         "La Bachata",
         45,
         1
        ],
        [
         "Ain���t Tha",
         4,
         1
        ],
        [
         "Pepas",
         17,
         1
        ],
        [
         "Boyfriend",
         0,
         1
        ],
        [
         "Better Than Revenge (Taylor's Version)",
         11,
         1
        ],
        [
         "The Hills",
         4,
         1
        ],
        [
         "SOS",
         0,
         1
        ],
        [
         "Last Night",
         19,
         1
        ],
        [
         "Dark Red",
         7,
         1
        ],
        [
         "Neverita",
         30,
         1
        ],
        [
         "Enchanted (Taylor's Version)",
         24,
         1
        ],
        [
         "Take Me To Church",
         31,
         1
        ],
        [
         "Cupido",
         24,
         1
        ],
        [
         "Never Felt So Alone",
         3,
         1
        ],
        [
         "Deck The Hall - Remastered 1999",
         0,
         1
        ],
        [
         "Smells Like Teen Spirit - Remastered 2021",
         9,
         1
        ],
        [
         "august",
         22,
         1
        ],
        [
         "505",
         25,
         1
        ],
        [
         "Starry Eyes",
         0,
         1
        ],
        [
         "Miserable Man",
         0,
         1
        ],
        [
         "The Great War",
         0,
         1
        ],
        [
         "S91",
         41,
         1
        ],
        [
         "Out of Time",
         0,
         1
        ],
        [
         "Satellite",
         5,
         1
        ],
        [
         "Sweet Nothing",
         0,
         1
        ],
        [
         "Bite Me",
         69,
         1
        ],
        [
         "SNAP",
         0,
         1
        ],
        [
         "Counting Stars",
         43,
         1
        ],
        [
         "Reminder",
         17,
         1
        ],
        [
         "c��mo dormi",
         35,
         1
        ],
        [
         "Demons",
         13,
         1
        ],
        [
         "Unstoppable",
         13,
         1
        ],
        [
         "Un Verano Sin Ti",
         1,
         1
        ],
        [
         "MORE",
         0,
         1
        ],
        [
         "Heartless",
         34,
         1
        ],
        [
         "MIDDLE OF THE NIGHT",
         8,
         1
        ],
        [
         "Gatita",
         0,
         1
        ],
        [
         "Prohibidox",
         12,
         1
        ],
        [
         "Die For You",
         0,
         1
        ],
        [
         "Astronaut In The Ocean",
         0,
         1
        ],
        [
         "Tak Ingin Usai",
         4,
         1
        ],
        [
         "Wild Flower (with youjeen)",
         2,
         1
        ],
        [
         "Enchanted",
         16,
         1
        ],
        [
         "Don't Start Now",
         0,
         1
        ],
        [
         "happier",
         4,
         1
        ],
        [
         "Columbia",
         43,
         1
        ],
        [
         "I AM WOMAN",
         0,
         1
        ],
        [
         "(It Goes Like) Nanana - Edit",
         59,
         1
        ],
        [
         "Under The Influence",
         26,
         1
        ],
        [
         "Titi Me Pregunt�",
         42,
         1
        ],
        [
         "Say You Won't Let Go",
         16,
         1
        ],
        [
         "Stay Alive (Prod. SUGA of BTS)",
         5,
         1
        ],
        [
         "Betty (Get Money)",
         0,
         1
        ],
        [
         "Everything I Love",
         0,
         1
        ],
        [
         "WANDA",
         22,
         1
        ],
        [
         "Smoking on my Ex Pack",
         0,
         1
        ],
        [
         "Toxic",
         0,
         1
        ],
        [
         "Run BTS",
         0,
         1
        ],
        [
         "Alone",
         2,
         1
        ],
        [
         "Angel Baby",
         9,
         1
        ],
        [
         "Running Up That Hill (A Deal With God)",
         0,
         1
        ],
        [
         "Stefania (Kalush Orchestra)",
         0,
         1
        ],
        [
         "SPACE MAN",
         0,
         1
        ],
        [
         "Watermelon Sugar",
         34,
         1
        ],
        [
         "F2F",
         0,
         1
        ],
        [
         "Get Into It (Yuh)",
         0,
         1
        ],
        [
         "vampire",
         113,
         1
        ],
        [
         "House Of Memories",
         0,
         1
        ],
        [
         "Me and Your Mama",
         0,
         1
        ],
        [
         "The Astronaut",
         9,
         1
        ],
        [
         "The Real Slim Shady",
         27,
         1
        ],
        [
         "Sial",
         4,
         1
        ],
        [
         "Iris",
         9,
         1
        ],
        [
         "Master of Puppets (Remastered)",
         0,
         1
        ],
        [
         "CHORRITO PA LAS ANIMAS",
         36,
         1
        ],
        [
         "Lavender Haze",
         8,
         1
        ],
        [
         "Ens����ame ",
         3,
         1
        ],
        [
         "Like Crazy (English Version)",
         19,
         1
        ],
        [
         "Rockin' Around The Christmas Tree",
         0,
         1
        ],
        [
         "Thinking Out Loud",
         0,
         1
        ],
        [
         "FEARLESS",
         0,
         1
        ],
        [
         "good 4 u",
         6,
         1
        ],
        [
         "Acapulco",
         0,
         1
        ],
        [
         "Romantic Homicide",
         23,
         1
        ],
        [
         "Midnight Rain",
         4,
         1
        ],
        [
         "Lovezinho",
         0,
         1
        ],
        [
         "Sleigh Ride",
         0,
         1
        ],
        [
         "Cool for the Summer",
         0,
         1
        ],
        [
         "SUPERMODEL",
         0,
         1
        ],
        [
         "Bye",
         14,
         1
        ],
        [
         "It'll Be Okay",
         0,
         1
        ],
        [
         "Sparks",
         4,
         1
        ],
        [
         "Viva La Vida",
         62,
         1
        ],
        [
         "Por las Noches",
         24,
         1
        ],
        [
         "Komang",
         4,
         1
        ],
        [
         "Hrs and Hrs",
         0,
         1
        ],
        [
         "die first",
         0,
         1
        ],
        [
         "Bigger Than The Whole Sky",
         0,
         1
        ],
        [
         "No Role Modelz",
         36,
         1
        ],
        [
         "Every Angel is Terrifying",
         0,
         1
        ],
        [
         "Cigarettes",
         0,
         1
        ],
        [
         "Rush",
         78,
         1
        ],
        [
         "LLYLM",
         0,
         1
        ],
        [
         "Merry Christmas Everyone",
         0,
         1
        ],
        [
         "Flowers",
         0,
         1
        ],
        [
         "Le�",
         4,
         1
        ],
        [
         "Notice Me",
         0,
         1
        ],
        [
         "Phantom Regret by Jim",
         0,
         1
        ],
        [
         "HEARTBREAK ANNIVERSARY",
         4,
         1
        ],
        [
         "So Good",
         0,
         1
        ],
        [
         "No Se Va",
         18,
         1
        ],
        [
         "In Da Club",
         7,
         1
        ],
        [
         "La Zona",
         0,
         1
        ],
        [
         "Sure Thing",
         19,
         1
        ],
        [
         "Red Ruby Da Sleeze",
         0,
         1
        ],
        [
         "When You're Gone",
         0,
         1
        ],
        [
         "Only Love Can Hurt Like This",
         0,
         1
        ],
        [
         "Lady Mi Amor",
         0,
         1
        ],
        [
         "SABOR FRESA",
         26,
         1
        ],
        [
         "Riptide",
         55,
         1
        ],
        [
         "Dream On",
         0,
         1
        ],
        [
         "Bad Habits",
         8,
         1
        ],
        [
         "favorite crime",
         0,
         1
        ],
        [
         "Flowers",
         115,
         1
        ],
        [
         "Dandelions",
         21,
         1
        ],
        [
         "All I Want for Christmas Is You",
         0,
         1
        ],
        [
         "Mastermind",
         0,
         1
        ]
       ],
       "datasetInfos": [],
       "dbfsResultPath": null,
       "isJsonSchema": true,
       "metadata": {
        "dataframeName": "_sqldf",
        "executionCount": 24
       },
       "overflow": false,
       "plotOptions": {
        "customPlotOptions": {},
        "displayType": "table",
        "pivotAggregation": null,
        "pivotColumns": null,
        "xColumns": null,
        "yColumns": null
       },
       "removedWidgets": [],
       "schema": [
        {
         "metadata": "{}",
         "name": "track_name",
         "type": "\"string\""
        },
        {
         "metadata": "{}",
         "name": "in_spotify_charts",
         "type": "\"integer\""
        },
        {
         "metadata": "{\"__autoGeneratedAlias\":\"true\"}",
         "name": "sum(artist_count)",
         "type": "\"long\""
        }
       ],
       "type": "table"
      }
     },
     "output_type": "display_data"
    },
    {
     "output_type": "display_data",
     "data": {
      "text/plain": [
       "Databricks visualization. Run in Databricks to view."
      ]
     },
     "metadata": {
      "application/vnd.databricks.v1.subcommand+json": {
       "baseErrorDetails": null,
       "bindings": {},
       "collapsed": false,
       "command": "%sql WITH q AS (select track_name,in_spotify_charts,sum(artist_count) from track_names\ngroup by 1,2\norder by 3 desc) SELECT `track_name`,SUM(`in_spotify_charts`) `column_372bdd0862`,`sum(artist_count)` FROM q GROUP BY `sum(artist_count)`,`track_name`",
       "commandTitle": "Visualization 1",
       "commandType": "auto",
       "commandVersion": 0,
       "commentThread": [],
       "commentsVisible": false,
       "contentSha256Hex": null,
       "customPlotOptions": {
        "redashChart": [
         {
          "key": "type",
          "value": "CHART"
         },
         {
          "key": "options",
          "value": {
           "alignYAxesAtZero": true,
           "coefficient": 1,
           "columnConfigurationMap": {
            "series": {
             "column": "sum(artist_count)",
             "id": "column_372bdd0860"
            },
            "x": {
             "column": "track_name",
             "id": "column_372bdd0853"
            },
            "y": [
             {
              "column": "in_spotify_charts",
              "id": "column_372bdd0862",
              "transform": "SUM"
             }
            ]
           },
           "dateTimeFormat": "DD/MM/YYYY HH:mm",
           "direction": {
            "type": "counterclockwise"
           },
           "error_y": {
            "type": "data",
            "visible": true
           },
           "globalSeriesType": "pie",
           "isAggregationOn": true,
           "legend": {
            "traceorder": "normal"
           },
           "missingValuesAsZero": true,
           "numberFormat": "0,0[.]00000",
           "percentFormat": "0[.]00%",
           "series": {
            "error_y": {
             "type": "data",
             "visible": true
            },
            "stacking": null
           },
           "seriesOptions": {
            "column_372bdd0859": {
             "type": "pie",
             "yAxis": 0
            },
            "column_372bdd0862": {
             "type": "pie",
             "yAxis": 0
            }
           },
           "showDataLabels": true,
           "sizemode": "diameter",
           "sortX": true,
           "sortY": true,
           "swappedAxes": false,
           "textFormat": "",
           "useAggregationsUi": true,
           "valuesOptions": {},
           "version": 2,
           "xAxis": {
            "labels": {
             "enabled": true
            },
            "type": "-"
           },
           "yAxis": [
            {
             "type": "-"
            },
            {
             "opposite": true,
             "type": "-"
            }
           ]
          }
         }
        ]
       },
       "datasetPreviewNameToCmdIdMap": {},
       "diffDeletes": [],
       "diffInserts": [],
       "displayType": "redashChart",
       "error": null,
       "errorDetails": null,
       "errorSummary": null,
       "errorTraceType": null,
       "finishTime": 0,
       "globalVars": {},
       "guid": "",
       "height": "auto",
       "hideCommandCode": false,
       "hideCommandResult": false,
       "iPythonMetadata": null,
       "inputWidgets": {},
       "isLockedInExamMode": false,
       "latestUser": "a user",
       "latestUserId": null,
       "listResultMetadata": null,
       "metadata": {},
       "nuid": "5910a53f-e9db-4188-ac03-53e19d59bbe5",
       "origId": 0,
       "parentHierarchy": [],
       "pivotAggregation": null,
       "pivotColumns": null,
       "position": 13.0,
       "resultDbfsErrorMessage": null,
       "resultDbfsStatus": "INLINED_IN_TREE",
       "results": null,
       "showCommandTitle": false,
       "startTime": 0,
       "state": "input",
       "streamStates": {},
       "subcommandOptions": {
        "queryPlan": {
         "groups": [
          {
           "column": "track_name",
           "type": "column"
          },
          {
           "column": "sum(artist_count)",
           "type": "column"
          }
         ],
         "selects": [
          {
           "column": "track_name",
           "type": "column"
          },
          {
           "alias": "column_372bdd0862",
           "args": [
            {
             "column": "in_spotify_charts",
             "type": "column"
            }
           ],
           "function": "SUM",
           "type": "function"
          },
          {
           "column": "sum(artist_count)",
           "type": "column"
          }
         ]
        }
       },
       "submitTime": 0,
       "subtype": "tableResultSubCmd.visualization",
       "tableResultIndex": 0,
       "useConsistentColors": false,
       "version": "CommandV1",
       "width": "auto",
       "workflows": [],
       "xColumns": null,
       "yColumns": null
      }
     },
     "output_type": "display_data"
    }
   ],
   "source": [
    "%sql select track_name,in_spotify_charts,sum(artist_count) from track_names\n",
    "group by 1,2\n",
    "order by 3 desc"
   ]
  },
  {
   "cell_type": "code",
   "execution_count": 0,
   "metadata": {
    "application/vnd.databricks.v1+cell": {
     "cellMetadata": {},
     "inputWidgets": {},
     "nuid": "4a07776c-e7a3-49bf-82c6-d37b385d0bb2",
     "showTitle": false,
     "title": ""
    }
   },
   "outputs": [],
   "source": []
  }
 ],
 "metadata": {
  "application/vnd.databricks.v1+notebook": {
   "dashboards": [],
   "language": "python",
   "notebookMetadata": {
    "mostRecentlyExecutedCommandWithImplicitDF": {
     "commandId": 965002500863772,
     "dataframes": [
      "_sqldf"
     ]
    },
    "pythonIndentUnit": 4
   },
   "notebookName": "Spotify",
   "widgets": {}
  }
 },
 "nbformat": 4,
 "nbformat_minor": 0
}
